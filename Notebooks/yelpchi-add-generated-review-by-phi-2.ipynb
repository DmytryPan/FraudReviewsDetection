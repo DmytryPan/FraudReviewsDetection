{
 "cells": [
  {
   "cell_type": "code",
   "execution_count": 1,
   "id": "440ac330",
   "metadata": {
    "_cell_guid": "b1076dfc-b9ad-4769-8c92-a6c4dae69d19",
    "_uuid": "8f2839f25d086af736a60e9eeb907d3b93b6e0e5",
    "execution": {
     "iopub.execute_input": "2025-04-14T16:35:35.893910Z",
     "iopub.status.busy": "2025-04-14T16:35:35.893486Z",
     "iopub.status.idle": "2025-04-14T16:35:36.921384Z",
     "shell.execute_reply": "2025-04-14T16:35:36.919652Z"
    },
    "papermill": {
     "duration": 1.036094,
     "end_time": "2025-04-14T16:35:36.923608",
     "exception": false,
     "start_time": "2025-04-14T16:35:35.887514",
     "status": "completed"
    },
    "tags": []
   },
   "outputs": [
    {
     "name": "stdout",
     "output_type": "stream",
     "text": [
      "/kaggle/input/yelp-chi-merged/yelp_CHI.csv\n",
      "/kaggle/input/reviews-by-phi2/reviews_by_phi_2_v_2.txt\n",
      "/kaggle/input/reviews-by-phi2/reviews_by_phi_2_v_1.txt\n",
      "/kaggle/input/reviews-by-phi2/reviews_by_phi_2_v_3.txt\n"
     ]
    }
   ],
   "source": [
    "# This Python 3 environment comes with many helpful analytics libraries installed\n",
    "# It is defined by the kaggle/python Docker image: https://github.com/kaggle/docker-python\n",
    "# For example, here's several helpful packages to load\n",
    "\n",
    "import numpy as np # linear algebra\n",
    "import pandas as pd # data processing, CSV file I/O (e.g. pd.read_csv)\n",
    "\n",
    "# Input data files are available in the read-only \"../input/\" directory\n",
    "# For example, running this (by clicking run or pressing Shift+Enter) will list all files under the input directory\n",
    "\n",
    "import os\n",
    "for dirname, _, filenames in os.walk('/kaggle/input'):\n",
    "    for filename in filenames:\n",
    "        print(os.path.join(dirname, filename))\n",
    "\n",
    "# You can write up to 20GB to the current directory (/kaggle/working/) that gets preserved as output when you create a version using \"Save & Run All\" \n",
    "# You can also write temporary files to /kaggle/temp/, but they won't be saved outside of the current session"
   ]
  },
  {
   "cell_type": "code",
   "execution_count": 2,
   "id": "6feca42b",
   "metadata": {
    "execution": {
     "iopub.execute_input": "2025-04-14T16:35:36.936982Z",
     "iopub.status.busy": "2025-04-14T16:35:36.936442Z",
     "iopub.status.idle": "2025-04-14T16:35:40.388575Z",
     "shell.execute_reply": "2025-04-14T16:35:40.387254Z"
    },
    "papermill": {
     "duration": 3.459934,
     "end_time": "2025-04-14T16:35:40.390642",
     "exception": false,
     "start_time": "2025-04-14T16:35:36.930708",
     "status": "completed"
    },
    "tags": []
   },
   "outputs": [
    {
     "name": "stdout",
     "output_type": "stream",
     "text": [
      "[nltk_data] Downloading package wordnet to /usr/share/nltk_data...\n",
      "[nltk_data]   Package wordnet is already up-to-date!\n",
      "[nltk_data] Downloading package omw-1.4 to /usr/share/nltk_data...\n",
      "[nltk_data] Downloading package punkt to /usr/share/nltk_data...\n",
      "[nltk_data]   Package punkt is already up-to-date!\n",
      "[nltk_data] Downloading package stopwords to /usr/share/nltk_data...\n",
      "[nltk_data]   Unzipping corpora/stopwords.zip.\n",
      "Archive:  /usr/share/nltk_data/corpora/wordnet.zip\r\n",
      "   creating: /usr/share/nltk_data/corpora/wordnet/\r\n",
      "  inflating: /usr/share/nltk_data/corpora/wordnet/lexnames  \r\n",
      "  inflating: /usr/share/nltk_data/corpora/wordnet/data.verb  \r\n",
      "  inflating: /usr/share/nltk_data/corpora/wordnet/index.adv  \r\n",
      "  inflating: /usr/share/nltk_data/corpora/wordnet/adv.exc  \r\n",
      "  inflating: /usr/share/nltk_data/corpora/wordnet/index.verb  \r\n",
      "  inflating: /usr/share/nltk_data/corpora/wordnet/cntlist.rev  \r\n",
      "  inflating: /usr/share/nltk_data/corpora/wordnet/data.adj  \r\n",
      "  inflating: /usr/share/nltk_data/corpora/wordnet/index.adj  \r\n",
      "  inflating: /usr/share/nltk_data/corpora/wordnet/LICENSE  \r\n",
      "  inflating: /usr/share/nltk_data/corpora/wordnet/citation.bib  \r\n",
      "  inflating: /usr/share/nltk_data/corpora/wordnet/noun.exc  \r\n",
      "  inflating: /usr/share/nltk_data/corpora/wordnet/verb.exc  \r\n",
      "  inflating: /usr/share/nltk_data/corpora/wordnet/README  \r\n",
      "  inflating: /usr/share/nltk_data/corpora/wordnet/index.sense  \r\n",
      "  inflating: /usr/share/nltk_data/corpora/wordnet/data.noun  \r\n",
      "  inflating: /usr/share/nltk_data/corpora/wordnet/data.adv  \r\n",
      "  inflating: /usr/share/nltk_data/corpora/wordnet/index.noun  \r\n",
      "  inflating: /usr/share/nltk_data/corpora/wordnet/adj.exc  \r\n"
     ]
    }
   ],
   "source": [
    "import pandas as pd\n",
    "import numpy as np\n",
    "import nltk\n",
    "nltk.download('wordnet')\n",
    "nltk.download('omw-1.4')\n",
    "nltk.download('punkt')\n",
    "nltk.download('stopwords')\n",
    "\n",
    "from nltk.corpus import stopwords\n",
    "from nltk.tokenize import word_tokenize\n",
    "\n",
    "\n",
    "!unzip /usr/share/nltk_data/corpora/wordnet.zip -d /usr/share/nltk_data/corpora/"
   ]
  },
  {
   "cell_type": "code",
   "execution_count": 3,
   "id": "3e14e3d3",
   "metadata": {
    "execution": {
     "iopub.execute_input": "2025-04-14T16:35:40.403698Z",
     "iopub.status.busy": "2025-04-14T16:35:40.402949Z",
     "iopub.status.idle": "2025-04-14T16:35:47.073737Z",
     "shell.execute_reply": "2025-04-14T16:35:47.072411Z"
    },
    "papermill": {
     "duration": 6.678613,
     "end_time": "2025-04-14T16:35:47.075716",
     "exception": false,
     "start_time": "2025-04-14T16:35:40.397103",
     "status": "completed"
    },
    "tags": []
   },
   "outputs": [
    {
     "name": "stdout",
     "output_type": "stream",
     "text": [
      "Collecting contractions\r\n",
      "  Downloading contractions-0.1.73-py2.py3-none-any.whl.metadata (1.2 kB)\r\n",
      "Collecting textsearch>=0.0.21 (from contractions)\r\n",
      "  Downloading textsearch-0.0.24-py2.py3-none-any.whl.metadata (1.2 kB)\r\n",
      "Collecting anyascii (from textsearch>=0.0.21->contractions)\r\n",
      "  Downloading anyascii-0.3.2-py3-none-any.whl.metadata (1.5 kB)\r\n",
      "Collecting pyahocorasick (from textsearch>=0.0.21->contractions)\r\n",
      "  Downloading pyahocorasick-2.1.0-cp310-cp310-manylinux_2_5_x86_64.manylinux1_x86_64.manylinux_2_12_x86_64.manylinux2010_x86_64.whl.metadata (13 kB)\r\n",
      "Downloading contractions-0.1.73-py2.py3-none-any.whl (8.7 kB)\r\n",
      "Downloading textsearch-0.0.24-py2.py3-none-any.whl (7.6 kB)\r\n",
      "Downloading anyascii-0.3.2-py3-none-any.whl (289 kB)\r\n",
      "\u001b[2K   \u001b[90m━━━━━━━━━━━━━━━━━━━━━━━━━━━━━━━━━━━━━━━━\u001b[0m \u001b[32m289.9/289.9 kB\u001b[0m \u001b[31m9.8 MB/s\u001b[0m eta \u001b[36m0:00:00\u001b[0m\r\n",
      "\u001b[?25hDownloading pyahocorasick-2.1.0-cp310-cp310-manylinux_2_5_x86_64.manylinux1_x86_64.manylinux_2_12_x86_64.manylinux2010_x86_64.whl (110 kB)\r\n",
      "\u001b[2K   \u001b[90m━━━━━━━━━━━━━━━━━━━━━━━━━━━━━━━━━━━━━━━━\u001b[0m \u001b[32m110.7/110.7 kB\u001b[0m \u001b[31m6.2 MB/s\u001b[0m eta \u001b[36m0:00:00\u001b[0m\r\n",
      "\u001b[?25hInstalling collected packages: pyahocorasick, anyascii, textsearch, contractions\r\n",
      "Successfully installed anyascii-0.3.2 contractions-0.1.73 pyahocorasick-2.1.0 textsearch-0.0.24\r\n"
     ]
    },
    {
     "data": {
      "text/plain": [
       "'example wifes test'"
      ]
     },
     "execution_count": 3,
     "metadata": {},
     "output_type": "execute_result"
    }
   ],
   "source": [
    "! pip install contractions\n",
    "import re\n",
    "import contractions\n",
    "\n",
    "stop_words = set(stopwords.words('english'))\n",
    "def preprocess_review(text):\n",
    "    text = contractions.fix(text)\n",
    "    text = text.lower()\n",
    "    text = re.sub(r\"[^a-zA-Z'\\s]\", '', text)\n",
    "    words = word_tokenize(text)\n",
    "    words = [word for word in words if word not in stop_words]\n",
    "    return ' '.join(words)\n",
    "\n",
    "text = \"1. This is an example for wifes test 145 13 we're don't\"\n",
    "preprocess_review(text)"
   ]
  },
  {
   "cell_type": "code",
   "execution_count": 4,
   "id": "60509bfb",
   "metadata": {
    "execution": {
     "iopub.execute_input": "2025-04-14T16:35:47.088477Z",
     "iopub.status.busy": "2025-04-14T16:35:47.088127Z",
     "iopub.status.idle": "2025-04-14T16:35:47.095863Z",
     "shell.execute_reply": "2025-04-14T16:35:47.094879Z"
    },
    "papermill": {
     "duration": 0.015986,
     "end_time": "2025-04-14T16:35:47.097530",
     "exception": false,
     "start_time": "2025-04-14T16:35:47.081544",
     "status": "completed"
    },
    "tags": []
   },
   "outputs": [
    {
     "data": {
      "text/plain": [
       "['/kaggle/input/reviews-by-phi2/reviews_by_phi_2_v_2.txt',\n",
       " '/kaggle/input/reviews-by-phi2/reviews_by_phi_2_v_1.txt',\n",
       " '/kaggle/input/reviews-by-phi2/reviews_by_phi_2_v_3.txt']"
      ]
     },
     "execution_count": 4,
     "metadata": {},
     "output_type": "execute_result"
    }
   ],
   "source": [
    "import os\n",
    "\n",
    "path = '/kaggle/input/reviews-by-phi2'\n",
    "fnames = os.listdir(path)\n",
    "fpaths = [os.path.join(path, fname) for fname in fnames]\n",
    "fpaths"
   ]
  },
  {
   "cell_type": "code",
   "execution_count": 5,
   "id": "ff40ec76",
   "metadata": {
    "execution": {
     "iopub.execute_input": "2025-04-14T16:35:47.110624Z",
     "iopub.status.busy": "2025-04-14T16:35:47.110271Z",
     "iopub.status.idle": "2025-04-14T16:35:47.301166Z",
     "shell.execute_reply": "2025-04-14T16:35:47.299904Z"
    },
    "papermill": {
     "duration": 0.199481,
     "end_time": "2025-04-14T16:35:47.303155",
     "exception": false,
     "start_time": "2025-04-14T16:35:47.103674",
     "status": "completed"
    },
    "tags": []
   },
   "outputs": [
    {
     "name": "stdout",
     "output_type": "stream",
     "text": [
      "12811\n",
      "26165\n",
      "34569\n"
     ]
    }
   ],
   "source": [
    "lst_reviews = []\n",
    "\n",
    "for fp in fpaths:\n",
    "    with open(fp, 'r', encoding='utf-8') as file:\n",
    "        reviews = file.readlines()\n",
    "        lst_reviews = lst_reviews + reviews\n",
    "        print(len(lst_reviews))"
   ]
  },
  {
   "cell_type": "code",
   "execution_count": 6,
   "id": "59639fae",
   "metadata": {
    "execution": {
     "iopub.execute_input": "2025-04-14T16:35:47.316046Z",
     "iopub.status.busy": "2025-04-14T16:35:47.315583Z",
     "iopub.status.idle": "2025-04-14T16:35:48.773517Z",
     "shell.execute_reply": "2025-04-14T16:35:48.772401Z"
    },
    "papermill": {
     "duration": 1.466158,
     "end_time": "2025-04-14T16:35:48.775217",
     "exception": false,
     "start_time": "2025-04-14T16:35:47.309059",
     "status": "completed"
    },
    "tags": []
   },
   "outputs": [
    {
     "data": {
      "text/html": [
       "<div>\n",
       "<style scoped>\n",
       "    .dataframe tbody tr th:only-of-type {\n",
       "        vertical-align: middle;\n",
       "    }\n",
       "\n",
       "    .dataframe tbody tr th {\n",
       "        vertical-align: top;\n",
       "    }\n",
       "\n",
       "    .dataframe thead th {\n",
       "        text-align: right;\n",
       "    }\n",
       "</style>\n",
       "<table border=\"1\" class=\"dataframe\">\n",
       "  <thead>\n",
       "    <tr style=\"text-align: right;\">\n",
       "      <th></th>\n",
       "      <th>label</th>\n",
       "      <th>review</th>\n",
       "    </tr>\n",
       "  </thead>\n",
       "  <tbody>\n",
       "    <tr>\n",
       "      <th>0</th>\n",
       "      <td>1</td>\n",
       "      <td>Unlike Next, which we'd eaten at the previous ...</td>\n",
       "    </tr>\n",
       "    <tr>\n",
       "      <th>1</th>\n",
       "      <td>1</td>\n",
       "      <td>Probably one of the best meals I've had ever. ...</td>\n",
       "    </tr>\n",
       "    <tr>\n",
       "      <th>2</th>\n",
       "      <td>1</td>\n",
       "      <td>Service was impeccable. Experience and present...</td>\n",
       "    </tr>\n",
       "    <tr>\n",
       "      <th>3</th>\n",
       "      <td>1</td>\n",
       "      <td>The problem with places like this, given the e...</td>\n",
       "    </tr>\n",
       "    <tr>\n",
       "      <th>4</th>\n",
       "      <td>1</td>\n",
       "      <td>I have no idea how to write my review - dining...</td>\n",
       "    </tr>\n",
       "    <tr>\n",
       "      <th>...</th>\n",
       "      <td>...</td>\n",
       "      <td>...</td>\n",
       "    </tr>\n",
       "    <tr>\n",
       "      <th>61533</th>\n",
       "      <td>1</td>\n",
       "      <td>I've passed this place a bunch of times on my ...</td>\n",
       "    </tr>\n",
       "    <tr>\n",
       "      <th>61534</th>\n",
       "      <td>1</td>\n",
       "      <td>Rubino's is not really setup as a retail opera...</td>\n",
       "    </tr>\n",
       "    <tr>\n",
       "      <th>61535</th>\n",
       "      <td>1</td>\n",
       "      <td>This place is amazing. The food is great and y...</td>\n",
       "    </tr>\n",
       "    <tr>\n",
       "      <th>61536</th>\n",
       "      <td>1</td>\n",
       "      <td>OK went back the next day as I was driving by ...</td>\n",
       "    </tr>\n",
       "    <tr>\n",
       "      <th>61537</th>\n",
       "      <td>1</td>\n",
       "      <td>Delicious, rather authentic Mexican food, must...</td>\n",
       "    </tr>\n",
       "  </tbody>\n",
       "</table>\n",
       "<p>61538 rows × 2 columns</p>\n",
       "</div>"
      ],
      "text/plain": [
       "       label                                             review\n",
       "0          1  Unlike Next, which we'd eaten at the previous ...\n",
       "1          1  Probably one of the best meals I've had ever. ...\n",
       "2          1  Service was impeccable. Experience and present...\n",
       "3          1  The problem with places like this, given the e...\n",
       "4          1  I have no idea how to write my review - dining...\n",
       "...      ...                                                ...\n",
       "61533      1  I've passed this place a bunch of times on my ...\n",
       "61534      1  Rubino's is not really setup as a retail opera...\n",
       "61535      1  This place is amazing. The food is great and y...\n",
       "61536      1  OK went back the next day as I was driving by ...\n",
       "61537      1  Delicious, rather authentic Mexican food, must...\n",
       "\n",
       "[61538 rows x 2 columns]"
      ]
     },
     "execution_count": 6,
     "metadata": {},
     "output_type": "execute_result"
    }
   ],
   "source": [
    "df = pd.read_csv('/kaggle/input/yelp-chi-merged/yelp_CHI.csv')[['label', 'review']]\n",
    "df"
   ]
  },
  {
   "cell_type": "code",
   "execution_count": 7,
   "id": "d8359eed",
   "metadata": {
    "execution": {
     "iopub.execute_input": "2025-04-14T16:35:48.788372Z",
     "iopub.status.busy": "2025-04-14T16:35:48.788003Z",
     "iopub.status.idle": "2025-04-14T16:35:48.802510Z",
     "shell.execute_reply": "2025-04-14T16:35:48.801408Z"
    },
    "papermill": {
     "duration": 0.022938,
     "end_time": "2025-04-14T16:35:48.804267",
     "exception": false,
     "start_time": "2025-04-14T16:35:48.781329",
     "status": "completed"
    },
    "tags": []
   },
   "outputs": [
    {
     "data": {
      "text/plain": [
       "label\n",
       " 1    53397\n",
       "-1     8141\n",
       "Name: count, dtype: int64"
      ]
     },
     "execution_count": 7,
     "metadata": {},
     "output_type": "execute_result"
    }
   ],
   "source": [
    "df['label'].value_counts()"
   ]
  },
  {
   "cell_type": "code",
   "execution_count": 8,
   "id": "0bcb45b9",
   "metadata": {
    "execution": {
     "iopub.execute_input": "2025-04-14T16:35:48.817795Z",
     "iopub.status.busy": "2025-04-14T16:35:48.817364Z",
     "iopub.status.idle": "2025-04-14T16:35:48.829576Z",
     "shell.execute_reply": "2025-04-14T16:35:48.828328Z"
    },
    "papermill": {
     "duration": 0.021146,
     "end_time": "2025-04-14T16:35:48.831499",
     "exception": false,
     "start_time": "2025-04-14T16:35:48.810353",
     "status": "completed"
    },
    "tags": []
   },
   "outputs": [],
   "source": [
    "df_generated_reviews = pd.DataFrame(lst_reviews)\n",
    "df_generated_reviews.columns = ['review']\n",
    "df_generated_reviews['label'] = -1"
   ]
  },
  {
   "cell_type": "code",
   "execution_count": 9,
   "id": "5f416bf7",
   "metadata": {
    "execution": {
     "iopub.execute_input": "2025-04-14T16:35:48.844411Z",
     "iopub.status.busy": "2025-04-14T16:35:48.844054Z",
     "iopub.status.idle": "2025-04-14T16:35:48.857549Z",
     "shell.execute_reply": "2025-04-14T16:35:48.856512Z"
    },
    "papermill": {
     "duration": 0.021849,
     "end_time": "2025-04-14T16:35:48.859267",
     "exception": false,
     "start_time": "2025-04-14T16:35:48.837418",
     "status": "completed"
    },
    "tags": []
   },
   "outputs": [
    {
     "data": {
      "text/html": [
       "<div>\n",
       "<style scoped>\n",
       "    .dataframe tbody tr th:only-of-type {\n",
       "        vertical-align: middle;\n",
       "    }\n",
       "\n",
       "    .dataframe tbody tr th {\n",
       "        vertical-align: top;\n",
       "    }\n",
       "\n",
       "    .dataframe thead th {\n",
       "        text-align: right;\n",
       "    }\n",
       "</style>\n",
       "<table border=\"1\" class=\"dataframe\">\n",
       "  <thead>\n",
       "    <tr style=\"text-align: right;\">\n",
       "      <th></th>\n",
       "      <th>label</th>\n",
       "      <th>review</th>\n",
       "    </tr>\n",
       "  </thead>\n",
       "  <tbody>\n",
       "    <tr>\n",
       "      <th>0</th>\n",
       "      <td>1</td>\n",
       "      <td>Unlike Next, which we'd eaten at the previous ...</td>\n",
       "    </tr>\n",
       "    <tr>\n",
       "      <th>1</th>\n",
       "      <td>1</td>\n",
       "      <td>Probably one of the best meals I've had ever. ...</td>\n",
       "    </tr>\n",
       "    <tr>\n",
       "      <th>2</th>\n",
       "      <td>1</td>\n",
       "      <td>Service was impeccable. Experience and present...</td>\n",
       "    </tr>\n",
       "    <tr>\n",
       "      <th>3</th>\n",
       "      <td>1</td>\n",
       "      <td>The problem with places like this, given the e...</td>\n",
       "    </tr>\n",
       "    <tr>\n",
       "      <th>4</th>\n",
       "      <td>1</td>\n",
       "      <td>I have no idea how to write my review - dining...</td>\n",
       "    </tr>\n",
       "    <tr>\n",
       "      <th>...</th>\n",
       "      <td>...</td>\n",
       "      <td>...</td>\n",
       "    </tr>\n",
       "    <tr>\n",
       "      <th>34564</th>\n",
       "      <td>-1</td>\n",
       "      <td>1. \"I had lunch at this new restaurant in my ...</td>\n",
       "    </tr>\n",
       "    <tr>\n",
       "      <th>34565</th>\n",
       "      <td>-1</td>\n",
       "      <td>2. \"This restaurant is perfect for a quick lun...</td>\n",
       "    </tr>\n",
       "    <tr>\n",
       "      <th>34566</th>\n",
       "      <td>-1</td>\n",
       "      <td>3. \"I ordered delivery from this restaurant an...</td>\n",
       "    </tr>\n",
       "    <tr>\n",
       "      <th>34567</th>\n",
       "      <td>-1</td>\n",
       "      <td>4. \"I had lunch at this new restaurant in my o...</td>\n",
       "    </tr>\n",
       "    <tr>\n",
       "      <th>34568</th>\n",
       "      <td>-1</td>\n",
       "      <td>5. \"This restaurant is a great place to grab a...</td>\n",
       "    </tr>\n",
       "  </tbody>\n",
       "</table>\n",
       "<p>96107 rows × 2 columns</p>\n",
       "</div>"
      ],
      "text/plain": [
       "       label                                             review\n",
       "0          1  Unlike Next, which we'd eaten at the previous ...\n",
       "1          1  Probably one of the best meals I've had ever. ...\n",
       "2          1  Service was impeccable. Experience and present...\n",
       "3          1  The problem with places like this, given the e...\n",
       "4          1  I have no idea how to write my review - dining...\n",
       "...      ...                                                ...\n",
       "34564     -1   1. \"I had lunch at this new restaurant in my ...\n",
       "34565     -1  2. \"This restaurant is perfect for a quick lun...\n",
       "34566     -1  3. \"I ordered delivery from this restaurant an...\n",
       "34567     -1  4. \"I had lunch at this new restaurant in my o...\n",
       "34568     -1  5. \"This restaurant is a great place to grab a...\n",
       "\n",
       "[96107 rows x 2 columns]"
      ]
     },
     "execution_count": 9,
     "metadata": {},
     "output_type": "execute_result"
    }
   ],
   "source": [
    "df = pd.concat([df, df_generated_reviews], axis=0)\n",
    "df"
   ]
  },
  {
   "cell_type": "code",
   "execution_count": 10,
   "id": "2d2b3f3b",
   "metadata": {
    "execution": {
     "iopub.execute_input": "2025-04-14T16:35:48.872902Z",
     "iopub.status.busy": "2025-04-14T16:35:48.872485Z",
     "iopub.status.idle": "2025-04-14T16:35:48.880741Z",
     "shell.execute_reply": "2025-04-14T16:35:48.879503Z"
    },
    "papermill": {
     "duration": 0.0186,
     "end_time": "2025-04-14T16:35:48.884080",
     "exception": false,
     "start_time": "2025-04-14T16:35:48.865480",
     "status": "completed"
    },
    "tags": []
   },
   "outputs": [
    {
     "data": {
      "text/plain": [
       "label\n",
       " 1    53397\n",
       "-1    42710\n",
       "Name: count, dtype: int64"
      ]
     },
     "execution_count": 10,
     "metadata": {},
     "output_type": "execute_result"
    }
   ],
   "source": [
    "df['label'].value_counts()"
   ]
  },
  {
   "cell_type": "code",
   "execution_count": 11,
   "id": "fc086126",
   "metadata": {
    "execution": {
     "iopub.execute_input": "2025-04-14T16:35:48.900061Z",
     "iopub.status.busy": "2025-04-14T16:35:48.899061Z",
     "iopub.status.idle": "2025-04-14T16:36:38.767321Z",
     "shell.execute_reply": "2025-04-14T16:36:38.766273Z"
    },
    "papermill": {
     "duration": 49.87856,
     "end_time": "2025-04-14T16:36:38.769408",
     "exception": false,
     "start_time": "2025-04-14T16:35:48.890848",
     "status": "completed"
    },
    "tags": []
   },
   "outputs": [],
   "source": [
    "df.loc[:, 'review'] = df['review'].apply(preprocess_review)"
   ]
  },
  {
   "cell_type": "code",
   "execution_count": 12,
   "id": "1ae6fb94",
   "metadata": {
    "execution": {
     "iopub.execute_input": "2025-04-14T16:36:38.783449Z",
     "iopub.status.busy": "2025-04-14T16:36:38.783110Z",
     "iopub.status.idle": "2025-04-14T16:36:38.834045Z",
     "shell.execute_reply": "2025-04-14T16:36:38.833016Z"
    },
    "papermill": {
     "duration": 0.059917,
     "end_time": "2025-04-14T16:36:38.835842",
     "exception": false,
     "start_time": "2025-04-14T16:36:38.775925",
     "status": "completed"
    },
    "tags": []
   },
   "outputs": [
    {
     "data": {
      "text/plain": [
       "2178"
      ]
     },
     "execution_count": 12,
     "metadata": {},
     "output_type": "execute_result"
    }
   ],
   "source": [
    "df['review'].duplicated().sum()"
   ]
  },
  {
   "cell_type": "code",
   "execution_count": 13,
   "id": "492e88e5",
   "metadata": {
    "execution": {
     "iopub.execute_input": "2025-04-14T16:36:38.849652Z",
     "iopub.status.busy": "2025-04-14T16:36:38.849253Z",
     "iopub.status.idle": "2025-04-14T16:36:39.098209Z",
     "shell.execute_reply": "2025-04-14T16:36:39.096977Z"
    },
    "papermill": {
     "duration": 0.258033,
     "end_time": "2025-04-14T16:36:39.100170",
     "exception": false,
     "start_time": "2025-04-14T16:36:38.842137",
     "status": "completed"
    },
    "tags": []
   },
   "outputs": [
    {
     "data": {
      "text/plain": [
       "0"
      ]
     },
     "execution_count": 13,
     "metadata": {},
     "output_type": "execute_result"
    }
   ],
   "source": [
    "df = df.drop_duplicates()\n",
    "df.duplicated().sum()"
   ]
  },
  {
   "cell_type": "code",
   "execution_count": 14,
   "id": "c0e0fa7d",
   "metadata": {
    "execution": {
     "iopub.execute_input": "2025-04-14T16:36:39.114915Z",
     "iopub.status.busy": "2025-04-14T16:36:39.114509Z",
     "iopub.status.idle": "2025-04-14T16:36:39.122622Z",
     "shell.execute_reply": "2025-04-14T16:36:39.121607Z"
    },
    "papermill": {
     "duration": 0.017546,
     "end_time": "2025-04-14T16:36:39.124652",
     "exception": false,
     "start_time": "2025-04-14T16:36:39.107106",
     "status": "completed"
    },
    "tags": []
   },
   "outputs": [
    {
     "data": {
      "text/plain": [
       "label\n",
       " 1    53367\n",
       "-1    40587\n",
       "Name: count, dtype: int64"
      ]
     },
     "execution_count": 14,
     "metadata": {},
     "output_type": "execute_result"
    }
   ],
   "source": [
    "df['label'].value_counts()"
   ]
  },
  {
   "cell_type": "code",
   "execution_count": 15,
   "id": "18e30910",
   "metadata": {
    "execution": {
     "iopub.execute_input": "2025-04-14T16:36:39.139936Z",
     "iopub.status.busy": "2025-04-14T16:36:39.139553Z",
     "iopub.status.idle": "2025-04-14T16:36:39.152562Z",
     "shell.execute_reply": "2025-04-14T16:36:39.151433Z"
    },
    "papermill": {
     "duration": 0.022521,
     "end_time": "2025-04-14T16:36:39.154572",
     "exception": false,
     "start_time": "2025-04-14T16:36:39.132051",
     "status": "completed"
    },
    "tags": []
   },
   "outputs": [
    {
     "name": "stderr",
     "output_type": "stream",
     "text": [
      "<ipython-input-15-52d9f656d55d>:1: SettingWithCopyWarning: \n",
      "A value is trying to be set on a copy of a slice from a DataFrame.\n",
      "Try using .loc[row_indexer,col_indexer] = value instead\n",
      "\n",
      "See the caveats in the documentation: https://pandas.pydata.org/pandas-docs/stable/user_guide/indexing.html#returning-a-view-versus-a-copy\n",
      "  df['label'] = df['label'].replace(-1, 0)\n"
     ]
    },
    {
     "data": {
      "text/html": [
       "<div>\n",
       "<style scoped>\n",
       "    .dataframe tbody tr th:only-of-type {\n",
       "        vertical-align: middle;\n",
       "    }\n",
       "\n",
       "    .dataframe tbody tr th {\n",
       "        vertical-align: top;\n",
       "    }\n",
       "\n",
       "    .dataframe thead th {\n",
       "        text-align: right;\n",
       "    }\n",
       "</style>\n",
       "<table border=\"1\" class=\"dataframe\">\n",
       "  <thead>\n",
       "    <tr style=\"text-align: right;\">\n",
       "      <th></th>\n",
       "      <th>label</th>\n",
       "      <th>review</th>\n",
       "    </tr>\n",
       "  </thead>\n",
       "  <tbody>\n",
       "    <tr>\n",
       "      <th>0</th>\n",
       "      <td>1</td>\n",
       "      <td>unlike next would eaten previous night dish co...</td>\n",
       "    </tr>\n",
       "    <tr>\n",
       "      <th>1</th>\n",
       "      <td>1</td>\n",
       "      <td>probably one best meals ever performance food ...</td>\n",
       "    </tr>\n",
       "    <tr>\n",
       "      <th>2</th>\n",
       "      <td>1</td>\n",
       "      <td>service impeccable experience presentation coo...</td>\n",
       "    </tr>\n",
       "    <tr>\n",
       "      <th>3</th>\n",
       "      <td>1</td>\n",
       "      <td>problem places like given exhorbitant cost med...</td>\n",
       "    </tr>\n",
       "    <tr>\n",
       "      <th>4</th>\n",
       "      <td>1</td>\n",
       "      <td>idea write review dining alinea brings whole d...</td>\n",
       "    </tr>\n",
       "    <tr>\n",
       "      <th>...</th>\n",
       "      <td>...</td>\n",
       "      <td>...</td>\n",
       "    </tr>\n",
       "    <tr>\n",
       "      <th>34564</th>\n",
       "      <td>0</td>\n",
       "      <td>lunch new restaurant old neighborhood great pr...</td>\n",
       "    </tr>\n",
       "    <tr>\n",
       "      <th>34565</th>\n",
       "      <td>0</td>\n",
       "      <td>restaurant perfect quick lunch dinner food rea...</td>\n",
       "    </tr>\n",
       "    <tr>\n",
       "      <th>34566</th>\n",
       "      <td>0</td>\n",
       "      <td>ordered delivery restaurant great experience f...</td>\n",
       "    </tr>\n",
       "    <tr>\n",
       "      <th>34567</th>\n",
       "      <td>0</td>\n",
       "      <td>lunch new restaurant old neighborhood great ex...</td>\n",
       "    </tr>\n",
       "    <tr>\n",
       "      <th>34568</th>\n",
       "      <td>0</td>\n",
       "      <td>restaurant great place grab quick bite eat foo...</td>\n",
       "    </tr>\n",
       "  </tbody>\n",
       "</table>\n",
       "<p>93954 rows × 2 columns</p>\n",
       "</div>"
      ],
      "text/plain": [
       "       label                                             review\n",
       "0          1  unlike next would eaten previous night dish co...\n",
       "1          1  probably one best meals ever performance food ...\n",
       "2          1  service impeccable experience presentation coo...\n",
       "3          1  problem places like given exhorbitant cost med...\n",
       "4          1  idea write review dining alinea brings whole d...\n",
       "...      ...                                                ...\n",
       "34564      0  lunch new restaurant old neighborhood great pr...\n",
       "34565      0  restaurant perfect quick lunch dinner food rea...\n",
       "34566      0  ordered delivery restaurant great experience f...\n",
       "34567      0  lunch new restaurant old neighborhood great ex...\n",
       "34568      0  restaurant great place grab quick bite eat foo...\n",
       "\n",
       "[93954 rows x 2 columns]"
      ]
     },
     "execution_count": 15,
     "metadata": {},
     "output_type": "execute_result"
    }
   ],
   "source": [
    "df['label'] = df['label'].replace(-1, 0)\n",
    "df"
   ]
  },
  {
   "cell_type": "code",
   "execution_count": 16,
   "id": "0c1cbe93",
   "metadata": {
    "execution": {
     "iopub.execute_input": "2025-04-14T16:36:39.171169Z",
     "iopub.status.busy": "2025-04-14T16:36:39.170635Z",
     "iopub.status.idle": "2025-04-14T16:36:39.193231Z",
     "shell.execute_reply": "2025-04-14T16:36:39.191566Z"
    },
    "papermill": {
     "duration": 0.033541,
     "end_time": "2025-04-14T16:36:39.195803",
     "exception": false,
     "start_time": "2025-04-14T16:36:39.162262",
     "status": "completed"
    },
    "tags": []
   },
   "outputs": [],
   "source": [
    "df = df.sample(frac=1).reset_index(drop=True)"
   ]
  },
  {
   "cell_type": "code",
   "execution_count": 17,
   "id": "ffb8fa40",
   "metadata": {
    "execution": {
     "iopub.execute_input": "2025-04-14T16:36:39.212406Z",
     "iopub.status.busy": "2025-04-14T16:36:39.212044Z",
     "iopub.status.idle": "2025-04-14T16:36:39.222925Z",
     "shell.execute_reply": "2025-04-14T16:36:39.221740Z"
    },
    "papermill": {
     "duration": 0.021188,
     "end_time": "2025-04-14T16:36:39.224742",
     "exception": false,
     "start_time": "2025-04-14T16:36:39.203554",
     "status": "completed"
    },
    "tags": []
   },
   "outputs": [
    {
     "data": {
      "text/html": [
       "<div>\n",
       "<style scoped>\n",
       "    .dataframe tbody tr th:only-of-type {\n",
       "        vertical-align: middle;\n",
       "    }\n",
       "\n",
       "    .dataframe tbody tr th {\n",
       "        vertical-align: top;\n",
       "    }\n",
       "\n",
       "    .dataframe thead th {\n",
       "        text-align: right;\n",
       "    }\n",
       "</style>\n",
       "<table border=\"1\" class=\"dataframe\">\n",
       "  <thead>\n",
       "    <tr style=\"text-align: right;\">\n",
       "      <th></th>\n",
       "      <th>label</th>\n",
       "      <th>review</th>\n",
       "    </tr>\n",
       "  </thead>\n",
       "  <tbody>\n",
       "    <tr>\n",
       "      <th>0</th>\n",
       "      <td>1</td>\n",
       "      <td>dear calo thank always consistent really nice ...</td>\n",
       "    </tr>\n",
       "    <tr>\n",
       "      <th>1</th>\n",
       "      <td>1</td>\n",
       "      <td>get wrong everything good tasty feel like put ...</td>\n",
       "    </tr>\n",
       "    <tr>\n",
       "      <th>2</th>\n",
       "      <td>1</td>\n",
       "      <td>lovely place great atmosphere wonderful staff ...</td>\n",
       "    </tr>\n",
       "    <tr>\n",
       "      <th>3</th>\n",
       "      <td>0</td>\n",
       "      <td>sushi night highly recommend new place downtow...</td>\n",
       "    </tr>\n",
       "    <tr>\n",
       "      <th>4</th>\n",
       "      <td>0</td>\n",
       "      <td>highly recommend italian restaurant pasta dish...</td>\n",
       "    </tr>\n",
       "    <tr>\n",
       "      <th>...</th>\n",
       "      <td>...</td>\n",
       "      <td>...</td>\n",
       "    </tr>\n",
       "    <tr>\n",
       "      <th>93949</th>\n",
       "      <td>1</td>\n",
       "      <td>place awesome first love coffee want great cup...</td>\n",
       "    </tr>\n",
       "    <tr>\n",
       "      <th>93950</th>\n",
       "      <td>1</td>\n",
       "      <td>boom boom boom let us go back room eat night m...</td>\n",
       "    </tr>\n",
       "    <tr>\n",
       "      <th>93951</th>\n",
       "      <td>1</td>\n",
       "      <td>repeating everyone else saidit amazing went th...</td>\n",
       "    </tr>\n",
       "    <tr>\n",
       "      <th>93952</th>\n",
       "      <td>1</td>\n",
       "      <td>review good pork sandwich lots flavor deliciou...</td>\n",
       "    </tr>\n",
       "    <tr>\n",
       "      <th>93953</th>\n",
       "      <td>1</td>\n",
       "      <td>place great food decent prices great getaway s...</td>\n",
       "    </tr>\n",
       "  </tbody>\n",
       "</table>\n",
       "<p>93954 rows × 2 columns</p>\n",
       "</div>"
      ],
      "text/plain": [
       "       label                                             review\n",
       "0          1  dear calo thank always consistent really nice ...\n",
       "1          1  get wrong everything good tasty feel like put ...\n",
       "2          1  lovely place great atmosphere wonderful staff ...\n",
       "3          0  sushi night highly recommend new place downtow...\n",
       "4          0  highly recommend italian restaurant pasta dish...\n",
       "...      ...                                                ...\n",
       "93949      1  place awesome first love coffee want great cup...\n",
       "93950      1  boom boom boom let us go back room eat night m...\n",
       "93951      1  repeating everyone else saidit amazing went th...\n",
       "93952      1  review good pork sandwich lots flavor deliciou...\n",
       "93953      1  place great food decent prices great getaway s...\n",
       "\n",
       "[93954 rows x 2 columns]"
      ]
     },
     "execution_count": 17,
     "metadata": {},
     "output_type": "execute_result"
    }
   ],
   "source": [
    "df"
   ]
  },
  {
   "cell_type": "code",
   "execution_count": 18,
   "id": "f66d1d47",
   "metadata": {
    "execution": {
     "iopub.execute_input": "2025-04-14T16:36:39.239984Z",
     "iopub.status.busy": "2025-04-14T16:36:39.239616Z",
     "iopub.status.idle": "2025-04-14T16:36:40.054229Z",
     "shell.execute_reply": "2025-04-14T16:36:40.053116Z"
    },
    "papermill": {
     "duration": 0.824606,
     "end_time": "2025-04-14T16:36:40.056434",
     "exception": false,
     "start_time": "2025-04-14T16:36:39.231828",
     "status": "completed"
    },
    "tags": []
   },
   "outputs": [],
   "source": [
    "df.to_csv('yelp_chi_with_generated_reviews.csv', index=False)"
   ]
  }
 ],
 "metadata": {
  "kaggle": {
   "accelerator": "none",
   "dataSources": [
    {
     "datasetId": 7143645,
     "sourceId": 11404792,
     "sourceType": "datasetVersion"
    },
    {
     "datasetId": 7104493,
     "sourceId": 11353180,
     "sourceType": "datasetVersion"
    }
   ],
   "dockerImageVersionId": 30919,
   "isGpuEnabled": false,
   "isInternetEnabled": true,
   "language": "python",
   "sourceType": "notebook"
  },
  "kernelspec": {
   "display_name": "Python 3",
   "language": "python",
   "name": "python3"
  },
  "language_info": {
   "codemirror_mode": {
    "name": "ipython",
    "version": 3
   },
   "file_extension": ".py",
   "mimetype": "text/x-python",
   "name": "python",
   "nbconvert_exporter": "python",
   "pygments_lexer": "ipython3",
   "version": "3.10.12"
  },
  "papermill": {
   "default_parameters": {},
   "duration": 68.60965,
   "end_time": "2025-04-14T16:36:40.884114",
   "environment_variables": {},
   "exception": null,
   "input_path": "__notebook__.ipynb",
   "output_path": "__notebook__.ipynb",
   "parameters": {},
   "start_time": "2025-04-14T16:35:32.274464",
   "version": "2.6.0"
  }
 },
 "nbformat": 4,
 "nbformat_minor": 5
}
