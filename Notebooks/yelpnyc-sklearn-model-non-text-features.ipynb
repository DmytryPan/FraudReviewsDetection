{
 "cells": [
  {
   "cell_type": "code",
   "execution_count": 1,
   "id": "d9b40e80",
   "metadata": {
    "_cell_guid": "b1076dfc-b9ad-4769-8c92-a6c4dae69d19",
    "_uuid": "8f2839f25d086af736a60e9eeb907d3b93b6e0e5",
    "execution": {
     "iopub.execute_input": "2025-04-14T20:48:24.574743Z",
     "iopub.status.busy": "2025-04-14T20:48:24.574463Z",
     "iopub.status.idle": "2025-04-14T20:48:26.189673Z",
     "shell.execute_reply": "2025-04-14T20:48:26.188719Z"
    },
    "papermill": {
     "duration": 1.624963,
     "end_time": "2025-04-14T20:48:26.191107",
     "exception": false,
     "start_time": "2025-04-14T20:48:24.566144",
     "status": "completed"
    },
    "tags": []
   },
   "outputs": [
    {
     "name": "stdout",
     "output_type": "stream",
     "text": [
      "/kaggle/input/kmeans-balanced-dataset/yelp_nyc_X_tf_idf_balanced.csv\n",
      "/kaggle/input/kmeans-balanced-dataset/Наивный Байес_confusion_matrix.png\n",
      "/kaggle/input/kmeans-balanced-dataset/Метод ближайших соседей_confusion_matrix.png\n",
      "/kaggle/input/kmeans-balanced-dataset/Случайный лес_confusion_matrix.png\n",
      "/kaggle/input/kmeans-balanced-dataset/Логистическая регрессия_confusion_matrix.png\n",
      "/kaggle/input/kmeans-balanced-dataset/Мини-пакетный метод стохастического градиентного спуска_confusion_matrix.png\n",
      "/kaggle/input/kmeans-balanced-dataset/yelp_nyc_y_labels_balanced.csv\n",
      "/kaggle/input/kmeans-balanced-dataset/Машина опорных векторов_confusion_matrix.png\n",
      "/kaggle/input/kmeans-balanced-dataset/yelp_nyc_kmeans_balancing.csv\n",
      "/kaggle/input/kmeans-balanced-dataset/LogisticRegression с подбором параметров_confusion_matrix.png\n",
      "/kaggle/input/kmeans-balanced-dataset/Voting-классификатор_confusion_matrix.png\n",
      "/kaggle/input/kmeans-balanced-dataset/RandomForest_confusion_matrix.png\n",
      "/kaggle/input/yelp-nyc-with-pos-tagging/yelp_NYC_with_pos_features.csv\n"
     ]
    }
   ],
   "source": [
    "# This Python 3 environment comes with many helpful analytics libraries installed\n",
    "# It is defined by the kaggle/python Docker image: https://github.com/kaggle/docker-python\n",
    "# For example, here's several helpful packages to load\n",
    "\n",
    "import numpy as np # linear algebra\n",
    "import pandas as pd # data processing, CSV file I/O (e.g. pd.read_csv)\n",
    "\n",
    "# Input data files are available in the read-only \"../input/\" directory\n",
    "# For example, running this (by clicking run or pressing Shift+Enter) will list all files under the input directory\n",
    "\n",
    "import os\n",
    "for dirname, _, filenames in os.walk('/kaggle/input'):\n",
    "    for filename in filenames:\n",
    "        print(os.path.join(dirname, filename))\n",
    "\n",
    "# You can write up to 20GB to the current directory (/kaggle/working/) that gets preserved as output when you create a version using \"Save & Run All\" \n",
    "# You can also write temporary files to /kaggle/temp/, but they won't be saved outside of the current session"
   ]
  },
  {
   "cell_type": "code",
   "execution_count": 2,
   "id": "19beb03f",
   "metadata": {
    "execution": {
     "iopub.execute_input": "2025-04-14T20:48:26.206642Z",
     "iopub.status.busy": "2025-04-14T20:48:26.205810Z",
     "iopub.status.idle": "2025-04-14T20:48:26.209627Z",
     "shell.execute_reply": "2025-04-14T20:48:26.208937Z"
    },
    "papermill": {
     "duration": 0.012979,
     "end_time": "2025-04-14T20:48:26.210863",
     "exception": false,
     "start_time": "2025-04-14T20:48:26.197884",
     "status": "completed"
    },
    "tags": []
   },
   "outputs": [],
   "source": [
    "import numpy as np\n",
    "import pandas as pd"
   ]
  },
  {
   "cell_type": "code",
   "execution_count": 3,
   "id": "56abb309",
   "metadata": {
    "execution": {
     "iopub.execute_input": "2025-04-14T20:48:26.224081Z",
     "iopub.status.busy": "2025-04-14T20:48:26.223815Z",
     "iopub.status.idle": "2025-04-14T20:48:27.614679Z",
     "shell.execute_reply": "2025-04-14T20:48:27.613899Z"
    },
    "papermill": {
     "duration": 1.398879,
     "end_time": "2025-04-14T20:48:27.615885",
     "exception": false,
     "start_time": "2025-04-14T20:48:26.217006",
     "status": "completed"
    },
    "tags": []
   },
   "outputs": [
    {
     "data": {
      "text/html": [
       "<div>\n",
       "<style scoped>\n",
       "    .dataframe tbody tr th:only-of-type {\n",
       "        vertical-align: middle;\n",
       "    }\n",
       "\n",
       "    .dataframe tbody tr th {\n",
       "        vertical-align: top;\n",
       "    }\n",
       "\n",
       "    .dataframe thead th {\n",
       "        text-align: right;\n",
       "    }\n",
       "</style>\n",
       "<table border=\"1\" class=\"dataframe\">\n",
       "  <thead>\n",
       "    <tr style=\"text-align: right;\">\n",
       "      <th></th>\n",
       "      <th>Unnamed: 0.1</th>\n",
       "      <th>Unnamed: 0</th>\n",
       "      <th>user_id</th>\n",
       "      <th>prod_id</th>\n",
       "      <th>review</th>\n",
       "      <th>rating</th>\n",
       "      <th>label</th>\n",
       "      <th>prod_name</th>\n",
       "      <th>date</th>\n",
       "      <th>avg_prod_rating</th>\n",
       "      <th>avg_user_rating</th>\n",
       "      <th>review_len</th>\n",
       "      <th>cnt_reviews</th>\n",
       "      <th>neg</th>\n",
       "      <th>neu</th>\n",
       "      <th>pos</th>\n",
       "      <th>compound</th>\n",
       "      <th>cap_words</th>\n",
       "      <th>digit_words</th>\n",
       "    </tr>\n",
       "  </thead>\n",
       "  <tbody>\n",
       "    <tr>\n",
       "      <th>0</th>\n",
       "      <td>39569</td>\n",
       "      <td>39569</td>\n",
       "      <td>31003</td>\n",
       "      <td>95</td>\n",
       "      <td>First of all, the wait is super long so be pre...</td>\n",
       "      <td>3.0</td>\n",
       "      <td>1</td>\n",
       "      <td>Ippudo Westside</td>\n",
       "      <td>2014-11-20</td>\n",
       "      <td>4.03</td>\n",
       "      <td>3.50</td>\n",
       "      <td>401</td>\n",
       "      <td>2</td>\n",
       "      <td>0.023</td>\n",
       "      <td>0.625</td>\n",
       "      <td>0.352</td>\n",
       "      <td>0.9834</td>\n",
       "      <td>0</td>\n",
       "      <td>0</td>\n",
       "    </tr>\n",
       "    <tr>\n",
       "      <th>1</th>\n",
       "      <td>202817</td>\n",
       "      <td>202817</td>\n",
       "      <td>15455</td>\n",
       "      <td>542</td>\n",
       "      <td>Great pizza.</td>\n",
       "      <td>4.0</td>\n",
       "      <td>1</td>\n",
       "      <td>Lombardi’s Pizza</td>\n",
       "      <td>2012-07-06</td>\n",
       "      <td>3.94</td>\n",
       "      <td>3.74</td>\n",
       "      <td>12</td>\n",
       "      <td>19</td>\n",
       "      <td>0.000</td>\n",
       "      <td>0.196</td>\n",
       "      <td>0.804</td>\n",
       "      <td>0.6249</td>\n",
       "      <td>0</td>\n",
       "      <td>0</td>\n",
       "    </tr>\n",
       "    <tr>\n",
       "      <th>2</th>\n",
       "      <td>167376</td>\n",
       "      <td>167376</td>\n",
       "      <td>94480</td>\n",
       "      <td>465</td>\n",
       "      <td>5 starts for the food as its probably the best...</td>\n",
       "      <td>5.0</td>\n",
       "      <td>1</td>\n",
       "      <td>Grimaldi’s</td>\n",
       "      <td>2010-04-17</td>\n",
       "      <td>3.75</td>\n",
       "      <td>4.50</td>\n",
       "      <td>230</td>\n",
       "      <td>2</td>\n",
       "      <td>0.058</td>\n",
       "      <td>0.805</td>\n",
       "      <td>0.137</td>\n",
       "      <td>0.6071</td>\n",
       "      <td>1</td>\n",
       "      <td>1</td>\n",
       "    </tr>\n",
       "    <tr>\n",
       "      <th>3</th>\n",
       "      <td>349777</td>\n",
       "      <td>349777</td>\n",
       "      <td>52587</td>\n",
       "      <td>247</td>\n",
       "      <td>The first time I went here, I went with 8 frie...</td>\n",
       "      <td>5.0</td>\n",
       "      <td>1</td>\n",
       "      <td>Ippudo NY</td>\n",
       "      <td>2012-08-01</td>\n",
       "      <td>4.07</td>\n",
       "      <td>4.20</td>\n",
       "      <td>1741</td>\n",
       "      <td>5</td>\n",
       "      <td>0.055</td>\n",
       "      <td>0.798</td>\n",
       "      <td>0.147</td>\n",
       "      <td>0.9832</td>\n",
       "      <td>7</td>\n",
       "      <td>3</td>\n",
       "    </tr>\n",
       "    <tr>\n",
       "      <th>4</th>\n",
       "      <td>84713</td>\n",
       "      <td>84713</td>\n",
       "      <td>56708</td>\n",
       "      <td>243</td>\n",
       "      <td>It's no secret that Roberta's is overpriced gi...</td>\n",
       "      <td>4.0</td>\n",
       "      <td>1</td>\n",
       "      <td>Roberta’s</td>\n",
       "      <td>2013-12-16</td>\n",
       "      <td>3.91</td>\n",
       "      <td>4.00</td>\n",
       "      <td>539</td>\n",
       "      <td>1</td>\n",
       "      <td>0.104</td>\n",
       "      <td>0.750</td>\n",
       "      <td>0.146</td>\n",
       "      <td>0.7569</td>\n",
       "      <td>0</td>\n",
       "      <td>0</td>\n",
       "    </tr>\n",
       "    <tr>\n",
       "      <th>...</th>\n",
       "      <td>...</td>\n",
       "      <td>...</td>\n",
       "      <td>...</td>\n",
       "      <td>...</td>\n",
       "      <td>...</td>\n",
       "      <td>...</td>\n",
       "      <td>...</td>\n",
       "      <td>...</td>\n",
       "      <td>...</td>\n",
       "      <td>...</td>\n",
       "      <td>...</td>\n",
       "      <td>...</td>\n",
       "      <td>...</td>\n",
       "      <td>...</td>\n",
       "      <td>...</td>\n",
       "      <td>...</td>\n",
       "      <td>...</td>\n",
       "      <td>...</td>\n",
       "      <td>...</td>\n",
       "    </tr>\n",
       "    <tr>\n",
       "      <th>72150</th>\n",
       "      <td>358478</td>\n",
       "      <td>358478</td>\n",
       "      <td>161046</td>\n",
       "      <td>921</td>\n",
       "      <td>Bijan is the best bar I have been to in Brookl...</td>\n",
       "      <td>5.0</td>\n",
       "      <td>-1</td>\n",
       "      <td>Bijan’s</td>\n",
       "      <td>2011-12-01</td>\n",
       "      <td>4.17</td>\n",
       "      <td>5.00</td>\n",
       "      <td>244</td>\n",
       "      <td>1</td>\n",
       "      <td>0.055</td>\n",
       "      <td>0.797</td>\n",
       "      <td>0.148</td>\n",
       "      <td>0.6352</td>\n",
       "      <td>0</td>\n",
       "      <td>0</td>\n",
       "    </tr>\n",
       "    <tr>\n",
       "      <th>72151</th>\n",
       "      <td>358479</td>\n",
       "      <td>358479</td>\n",
       "      <td>161047</td>\n",
       "      <td>921</td>\n",
       "      <td>Great local lounge spot! After work and regula...</td>\n",
       "      <td>5.0</td>\n",
       "      <td>-1</td>\n",
       "      <td>Bijan’s</td>\n",
       "      <td>2011-11-15</td>\n",
       "      <td>4.17</td>\n",
       "      <td>5.00</td>\n",
       "      <td>169</td>\n",
       "      <td>1</td>\n",
       "      <td>0.000</td>\n",
       "      <td>0.546</td>\n",
       "      <td>0.454</td>\n",
       "      <td>0.9600</td>\n",
       "      <td>0</td>\n",
       "      <td>0</td>\n",
       "    </tr>\n",
       "    <tr>\n",
       "      <th>72152</th>\n",
       "      <td>358639</td>\n",
       "      <td>358639</td>\n",
       "      <td>161111</td>\n",
       "      <td>349</td>\n",
       "      <td>First and last time we try this place.  Pizza ...</td>\n",
       "      <td>1.0</td>\n",
       "      <td>-1</td>\n",
       "      <td>Emily</td>\n",
       "      <td>2014-03-25</td>\n",
       "      <td>4.19</td>\n",
       "      <td>1.00</td>\n",
       "      <td>866</td>\n",
       "      <td>1</td>\n",
       "      <td>0.079</td>\n",
       "      <td>0.822</td>\n",
       "      <td>0.099</td>\n",
       "      <td>0.4848</td>\n",
       "      <td>6</td>\n",
       "      <td>0</td>\n",
       "    </tr>\n",
       "    <tr>\n",
       "      <th>72153</th>\n",
       "      <td>358640</td>\n",
       "      <td>358640</td>\n",
       "      <td>161112</td>\n",
       "      <td>349</td>\n",
       "      <td>The staff was incredibly nice, the lemonade ta...</td>\n",
       "      <td>3.0</td>\n",
       "      <td>-1</td>\n",
       "      <td>Emily</td>\n",
       "      <td>2014-04-09</td>\n",
       "      <td>4.19</td>\n",
       "      <td>3.00</td>\n",
       "      <td>398</td>\n",
       "      <td>1</td>\n",
       "      <td>0.000</td>\n",
       "      <td>0.834</td>\n",
       "      <td>0.166</td>\n",
       "      <td>0.8460</td>\n",
       "      <td>1</td>\n",
       "      <td>0</td>\n",
       "    </tr>\n",
       "    <tr>\n",
       "      <th>72154</th>\n",
       "      <td>358641</td>\n",
       "      <td>358641</td>\n",
       "      <td>74347</td>\n",
       "      <td>349</td>\n",
       "      <td>Emily's inspired me to start a yelp account!  ...</td>\n",
       "      <td>5.0</td>\n",
       "      <td>-1</td>\n",
       "      <td>Emily</td>\n",
       "      <td>2014-12-05</td>\n",
       "      <td>4.19</td>\n",
       "      <td>4.50</td>\n",
       "      <td>279</td>\n",
       "      <td>2</td>\n",
       "      <td>0.043</td>\n",
       "      <td>0.586</td>\n",
       "      <td>0.371</td>\n",
       "      <td>0.9733</td>\n",
       "      <td>0</td>\n",
       "      <td>1</td>\n",
       "    </tr>\n",
       "  </tbody>\n",
       "</table>\n",
       "<p>72155 rows × 19 columns</p>\n",
       "</div>"
      ],
      "text/plain": [
       "       Unnamed: 0.1  Unnamed: 0  user_id  prod_id  \\\n",
       "0             39569       39569    31003       95   \n",
       "1            202817      202817    15455      542   \n",
       "2            167376      167376    94480      465   \n",
       "3            349777      349777    52587      247   \n",
       "4             84713       84713    56708      243   \n",
       "...             ...         ...      ...      ...   \n",
       "72150        358478      358478   161046      921   \n",
       "72151        358479      358479   161047      921   \n",
       "72152        358639      358639   161111      349   \n",
       "72153        358640      358640   161112      349   \n",
       "72154        358641      358641    74347      349   \n",
       "\n",
       "                                                  review  rating  label  \\\n",
       "0      First of all, the wait is super long so be pre...     3.0      1   \n",
       "1                                           Great pizza.     4.0      1   \n",
       "2      5 starts for the food as its probably the best...     5.0      1   \n",
       "3      The first time I went here, I went with 8 frie...     5.0      1   \n",
       "4      It's no secret that Roberta's is overpriced gi...     4.0      1   \n",
       "...                                                  ...     ...    ...   \n",
       "72150  Bijan is the best bar I have been to in Brookl...     5.0     -1   \n",
       "72151  Great local lounge spot! After work and regula...     5.0     -1   \n",
       "72152  First and last time we try this place.  Pizza ...     1.0     -1   \n",
       "72153  The staff was incredibly nice, the lemonade ta...     3.0     -1   \n",
       "72154  Emily's inspired me to start a yelp account!  ...     5.0     -1   \n",
       "\n",
       "              prod_name        date  avg_prod_rating  avg_user_rating  \\\n",
       "0       Ippudo Westside  2014-11-20             4.03             3.50   \n",
       "1      Lombardi’s Pizza  2012-07-06             3.94             3.74   \n",
       "2            Grimaldi’s  2010-04-17             3.75             4.50   \n",
       "3             Ippudo NY  2012-08-01             4.07             4.20   \n",
       "4             Roberta’s  2013-12-16             3.91             4.00   \n",
       "...                 ...         ...              ...              ...   \n",
       "72150           Bijan’s  2011-12-01             4.17             5.00   \n",
       "72151           Bijan’s  2011-11-15             4.17             5.00   \n",
       "72152             Emily  2014-03-25             4.19             1.00   \n",
       "72153             Emily  2014-04-09             4.19             3.00   \n",
       "72154             Emily  2014-12-05             4.19             4.50   \n",
       "\n",
       "       review_len  cnt_reviews    neg    neu    pos  compound  cap_words  \\\n",
       "0             401            2  0.023  0.625  0.352    0.9834          0   \n",
       "1              12           19  0.000  0.196  0.804    0.6249          0   \n",
       "2             230            2  0.058  0.805  0.137    0.6071          1   \n",
       "3            1741            5  0.055  0.798  0.147    0.9832          7   \n",
       "4             539            1  0.104  0.750  0.146    0.7569          0   \n",
       "...           ...          ...    ...    ...    ...       ...        ...   \n",
       "72150         244            1  0.055  0.797  0.148    0.6352          0   \n",
       "72151         169            1  0.000  0.546  0.454    0.9600          0   \n",
       "72152         866            1  0.079  0.822  0.099    0.4848          6   \n",
       "72153         398            1  0.000  0.834  0.166    0.8460          1   \n",
       "72154         279            2  0.043  0.586  0.371    0.9733          0   \n",
       "\n",
       "       digit_words  \n",
       "0                0  \n",
       "1                0  \n",
       "2                1  \n",
       "3                3  \n",
       "4                0  \n",
       "...            ...  \n",
       "72150            0  \n",
       "72151            0  \n",
       "72152            0  \n",
       "72153            0  \n",
       "72154            1  \n",
       "\n",
       "[72155 rows x 19 columns]"
      ]
     },
     "execution_count": 3,
     "metadata": {},
     "output_type": "execute_result"
    }
   ],
   "source": [
    "df = pd.read_csv('/kaggle/input/kmeans-balanced-dataset/yelp_nyc_kmeans_balancing.csv')\n",
    "df"
   ]
  },
  {
   "cell_type": "code",
   "execution_count": 4,
   "id": "5bdc8c72",
   "metadata": {
    "execution": {
     "iopub.execute_input": "2025-04-14T20:48:27.630602Z",
     "iopub.status.busy": "2025-04-14T20:48:27.629913Z",
     "iopub.status.idle": "2025-04-14T20:48:27.636549Z",
     "shell.execute_reply": "2025-04-14T20:48:27.635833Z"
    },
    "papermill": {
     "duration": 0.015169,
     "end_time": "2025-04-14T20:48:27.637730",
     "exception": false,
     "start_time": "2025-04-14T20:48:27.622561",
     "status": "completed"
    },
    "tags": []
   },
   "outputs": [
    {
     "data": {
      "text/plain": [
       "array([ 39569, 202817, 167376, ..., 358639, 358640, 358641])"
      ]
     },
     "execution_count": 4,
     "metadata": {},
     "output_type": "execute_result"
    }
   ],
   "source": [
    "indices = np.array(df['Unnamed: 0'])\n",
    "indices"
   ]
  },
  {
   "cell_type": "code",
   "execution_count": 5,
   "id": "f6f54dd6",
   "metadata": {
    "execution": {
     "iopub.execute_input": "2025-04-14T20:48:27.652217Z",
     "iopub.status.busy": "2025-04-14T20:48:27.651704Z",
     "iopub.status.idle": "2025-04-14T20:48:36.375770Z",
     "shell.execute_reply": "2025-04-14T20:48:36.374978Z"
    },
    "papermill": {
     "duration": 8.732822,
     "end_time": "2025-04-14T20:48:36.377167",
     "exception": false,
     "start_time": "2025-04-14T20:48:27.644345",
     "status": "completed"
    },
    "tags": []
   },
   "outputs": [
    {
     "data": {
      "text/html": [
       "<div>\n",
       "<style scoped>\n",
       "    .dataframe tbody tr th:only-of-type {\n",
       "        vertical-align: middle;\n",
       "    }\n",
       "\n",
       "    .dataframe tbody tr th {\n",
       "        vertical-align: top;\n",
       "    }\n",
       "\n",
       "    .dataframe thead th {\n",
       "        text-align: right;\n",
       "    }\n",
       "</style>\n",
       "<table border=\"1\" class=\"dataframe\">\n",
       "  <thead>\n",
       "    <tr style=\"text-align: right;\">\n",
       "      <th></th>\n",
       "      <th>Unnamed: 0</th>\n",
       "      <th>user_id</th>\n",
       "      <th>prod_id</th>\n",
       "      <th>review</th>\n",
       "      <th>rating</th>\n",
       "      <th>label</th>\n",
       "      <th>prod_name</th>\n",
       "      <th>date</th>\n",
       "      <th>avg_prod_rating</th>\n",
       "      <th>avg_user_rating</th>\n",
       "      <th>...</th>\n",
       "      <th>RBR</th>\n",
       "      <th>JJS</th>\n",
       "      <th>UH</th>\n",
       "      <th>NNPS</th>\n",
       "      <th>PDT</th>\n",
       "      <th>RBS</th>\n",
       "      <th>FW</th>\n",
       "      <th>LS</th>\n",
       "      <th>SYM</th>\n",
       "      <th>WP$</th>\n",
       "    </tr>\n",
       "  </thead>\n",
       "  <tbody>\n",
       "    <tr>\n",
       "      <th>0</th>\n",
       "      <td>0</td>\n",
       "      <td>1133</td>\n",
       "      <td>1</td>\n",
       "      <td>My wife and I took my parents there for lunch ...</td>\n",
       "      <td>1.0</td>\n",
       "      <td>-1</td>\n",
       "      <td>Peppino’s</td>\n",
       "      <td>2013-12-21</td>\n",
       "      <td>4.33</td>\n",
       "      <td>1.00</td>\n",
       "      <td>...</td>\n",
       "      <td>0.0</td>\n",
       "      <td>0.0</td>\n",
       "      <td>0.0</td>\n",
       "      <td>0.0</td>\n",
       "      <td>0.0</td>\n",
       "      <td>0.0</td>\n",
       "      <td>0.0</td>\n",
       "      <td>0.0</td>\n",
       "      <td>0.0</td>\n",
       "      <td>0.0</td>\n",
       "    </tr>\n",
       "    <tr>\n",
       "      <th>1</th>\n",
       "      <td>1</td>\n",
       "      <td>1134</td>\n",
       "      <td>1</td>\n",
       "      <td>Got a margarita pizza. First off let me say ve...</td>\n",
       "      <td>1.0</td>\n",
       "      <td>-1</td>\n",
       "      <td>Peppino’s</td>\n",
       "      <td>2013-11-25</td>\n",
       "      <td>4.33</td>\n",
       "      <td>1.00</td>\n",
       "      <td>...</td>\n",
       "      <td>0.0</td>\n",
       "      <td>0.0</td>\n",
       "      <td>0.0</td>\n",
       "      <td>0.0</td>\n",
       "      <td>0.0</td>\n",
       "      <td>0.0</td>\n",
       "      <td>0.0</td>\n",
       "      <td>0.0</td>\n",
       "      <td>0.0</td>\n",
       "      <td>0.0</td>\n",
       "    </tr>\n",
       "    <tr>\n",
       "      <th>2</th>\n",
       "      <td>2</td>\n",
       "      <td>1135</td>\n",
       "      <td>1</td>\n",
       "      <td>The food is average pizzeria and not cheap.  A...</td>\n",
       "      <td>2.0</td>\n",
       "      <td>-1</td>\n",
       "      <td>Peppino’s</td>\n",
       "      <td>2014-07-24</td>\n",
       "      <td>4.33</td>\n",
       "      <td>3.25</td>\n",
       "      <td>...</td>\n",
       "      <td>0.0</td>\n",
       "      <td>0.0</td>\n",
       "      <td>0.0</td>\n",
       "      <td>0.0</td>\n",
       "      <td>0.0</td>\n",
       "      <td>0.0</td>\n",
       "      <td>0.0</td>\n",
       "      <td>0.0</td>\n",
       "      <td>0.0</td>\n",
       "      <td>0.0</td>\n",
       "    </tr>\n",
       "    <tr>\n",
       "      <th>3</th>\n",
       "      <td>3</td>\n",
       "      <td>1136</td>\n",
       "      <td>1</td>\n",
       "      <td>I can not fathom why people would give this re...</td>\n",
       "      <td>2.0</td>\n",
       "      <td>-1</td>\n",
       "      <td>Peppino’s</td>\n",
       "      <td>2014-03-05</td>\n",
       "      <td>4.33</td>\n",
       "      <td>2.00</td>\n",
       "      <td>...</td>\n",
       "      <td>0.0</td>\n",
       "      <td>0.0</td>\n",
       "      <td>0.0</td>\n",
       "      <td>0.0</td>\n",
       "      <td>0.0</td>\n",
       "      <td>0.0</td>\n",
       "      <td>0.0</td>\n",
       "      <td>0.0</td>\n",
       "      <td>0.0</td>\n",
       "      <td>0.0</td>\n",
       "    </tr>\n",
       "    <tr>\n",
       "      <th>4</th>\n",
       "      <td>4</td>\n",
       "      <td>1137</td>\n",
       "      <td>1</td>\n",
       "      <td>Went here during the time it was busy and i go...</td>\n",
       "      <td>3.0</td>\n",
       "      <td>-1</td>\n",
       "      <td>Peppino’s</td>\n",
       "      <td>2014-11-21</td>\n",
       "      <td>4.33</td>\n",
       "      <td>3.00</td>\n",
       "      <td>...</td>\n",
       "      <td>0.0</td>\n",
       "      <td>0.0</td>\n",
       "      <td>0.0</td>\n",
       "      <td>0.0</td>\n",
       "      <td>0.0</td>\n",
       "      <td>0.0</td>\n",
       "      <td>0.0</td>\n",
       "      <td>0.0</td>\n",
       "      <td>0.0</td>\n",
       "      <td>0.0</td>\n",
       "    </tr>\n",
       "    <tr>\n",
       "      <th>...</th>\n",
       "      <td>...</td>\n",
       "      <td>...</td>\n",
       "      <td>...</td>\n",
       "      <td>...</td>\n",
       "      <td>...</td>\n",
       "      <td>...</td>\n",
       "      <td>...</td>\n",
       "      <td>...</td>\n",
       "      <td>...</td>\n",
       "      <td>...</td>\n",
       "      <td>...</td>\n",
       "      <td>...</td>\n",
       "      <td>...</td>\n",
       "      <td>...</td>\n",
       "      <td>...</td>\n",
       "      <td>...</td>\n",
       "      <td>...</td>\n",
       "      <td>...</td>\n",
       "      <td>...</td>\n",
       "      <td>...</td>\n",
       "      <td>...</td>\n",
       "    </tr>\n",
       "    <tr>\n",
       "      <th>358742</th>\n",
       "      <td>358742</td>\n",
       "      <td>161146</td>\n",
       "      <td>349</td>\n",
       "      <td>I'm very spoiled with Pizza. Really, I have tr...</td>\n",
       "      <td>5.0</td>\n",
       "      <td>1</td>\n",
       "      <td>Emily</td>\n",
       "      <td>2014-02-06</td>\n",
       "      <td>4.19</td>\n",
       "      <td>5.00</td>\n",
       "      <td>...</td>\n",
       "      <td>0.0</td>\n",
       "      <td>1.0</td>\n",
       "      <td>1.0</td>\n",
       "      <td>0.0</td>\n",
       "      <td>0.0</td>\n",
       "      <td>0.0</td>\n",
       "      <td>1.0</td>\n",
       "      <td>0.0</td>\n",
       "      <td>0.0</td>\n",
       "      <td>0.0</td>\n",
       "    </tr>\n",
       "    <tr>\n",
       "      <th>358743</th>\n",
       "      <td>358743</td>\n",
       "      <td>116424</td>\n",
       "      <td>349</td>\n",
       "      <td>Can't say enough good things about this place....</td>\n",
       "      <td>5.0</td>\n",
       "      <td>1</td>\n",
       "      <td>Emily</td>\n",
       "      <td>2014-01-31</td>\n",
       "      <td>4.19</td>\n",
       "      <td>5.00</td>\n",
       "      <td>...</td>\n",
       "      <td>0.0</td>\n",
       "      <td>0.0</td>\n",
       "      <td>0.0</td>\n",
       "      <td>1.0</td>\n",
       "      <td>0.0</td>\n",
       "      <td>0.0</td>\n",
       "      <td>1.0</td>\n",
       "      <td>0.0</td>\n",
       "      <td>0.0</td>\n",
       "      <td>0.0</td>\n",
       "    </tr>\n",
       "    <tr>\n",
       "      <th>358744</th>\n",
       "      <td>358744</td>\n",
       "      <td>161147</td>\n",
       "      <td>349</td>\n",
       "      <td>Had a great dinner here- fantastic pizza, the ...</td>\n",
       "      <td>5.0</td>\n",
       "      <td>1</td>\n",
       "      <td>Emily</td>\n",
       "      <td>2014-01-30</td>\n",
       "      <td>4.19</td>\n",
       "      <td>5.00</td>\n",
       "      <td>...</td>\n",
       "      <td>0.0</td>\n",
       "      <td>0.0</td>\n",
       "      <td>0.0</td>\n",
       "      <td>0.0</td>\n",
       "      <td>0.0</td>\n",
       "      <td>0.0</td>\n",
       "      <td>0.0</td>\n",
       "      <td>0.0</td>\n",
       "      <td>0.0</td>\n",
       "      <td>0.0</td>\n",
       "    </tr>\n",
       "    <tr>\n",
       "      <th>358745</th>\n",
       "      <td>358745</td>\n",
       "      <td>97930</td>\n",
       "      <td>349</td>\n",
       "      <td>Great foods and great drinks, they have even p...</td>\n",
       "      <td>5.0</td>\n",
       "      <td>1</td>\n",
       "      <td>Emily</td>\n",
       "      <td>2014-01-25</td>\n",
       "      <td>4.19</td>\n",
       "      <td>5.00</td>\n",
       "      <td>...</td>\n",
       "      <td>0.0</td>\n",
       "      <td>0.0</td>\n",
       "      <td>0.0</td>\n",
       "      <td>0.0</td>\n",
       "      <td>0.0</td>\n",
       "      <td>0.0</td>\n",
       "      <td>0.0</td>\n",
       "      <td>0.0</td>\n",
       "      <td>0.0</td>\n",
       "      <td>0.0</td>\n",
       "    </tr>\n",
       "    <tr>\n",
       "      <th>358746</th>\n",
       "      <td>358746</td>\n",
       "      <td>5260</td>\n",
       "      <td>349</td>\n",
       "      <td>Pizza Loves Emily and I love Emily's pizza. Th...</td>\n",
       "      <td>5.0</td>\n",
       "      <td>1</td>\n",
       "      <td>Emily</td>\n",
       "      <td>2014-01-25</td>\n",
       "      <td>4.19</td>\n",
       "      <td>4.39</td>\n",
       "      <td>...</td>\n",
       "      <td>1.0</td>\n",
       "      <td>2.0</td>\n",
       "      <td>0.0</td>\n",
       "      <td>0.0</td>\n",
       "      <td>0.0</td>\n",
       "      <td>0.0</td>\n",
       "      <td>0.0</td>\n",
       "      <td>0.0</td>\n",
       "      <td>0.0</td>\n",
       "      <td>0.0</td>\n",
       "    </tr>\n",
       "  </tbody>\n",
       "</table>\n",
       "<p>358747 rows × 55 columns</p>\n",
       "</div>"
      ],
      "text/plain": [
       "        Unnamed: 0  user_id  prod_id  \\\n",
       "0                0     1133        1   \n",
       "1                1     1134        1   \n",
       "2                2     1135        1   \n",
       "3                3     1136        1   \n",
       "4                4     1137        1   \n",
       "...            ...      ...      ...   \n",
       "358742      358742   161146      349   \n",
       "358743      358743   116424      349   \n",
       "358744      358744   161147      349   \n",
       "358745      358745    97930      349   \n",
       "358746      358746     5260      349   \n",
       "\n",
       "                                                   review  rating  label  \\\n",
       "0       My wife and I took my parents there for lunch ...     1.0     -1   \n",
       "1       Got a margarita pizza. First off let me say ve...     1.0     -1   \n",
       "2       The food is average pizzeria and not cheap.  A...     2.0     -1   \n",
       "3       I can not fathom why people would give this re...     2.0     -1   \n",
       "4       Went here during the time it was busy and i go...     3.0     -1   \n",
       "...                                                   ...     ...    ...   \n",
       "358742  I'm very spoiled with Pizza. Really, I have tr...     5.0      1   \n",
       "358743  Can't say enough good things about this place....     5.0      1   \n",
       "358744  Had a great dinner here- fantastic pizza, the ...     5.0      1   \n",
       "358745  Great foods and great drinks, they have even p...     5.0      1   \n",
       "358746  Pizza Loves Emily and I love Emily's pizza. Th...     5.0      1   \n",
       "\n",
       "        prod_name        date  avg_prod_rating  avg_user_rating  ...  RBR  \\\n",
       "0       Peppino’s  2013-12-21             4.33             1.00  ...  0.0   \n",
       "1       Peppino’s  2013-11-25             4.33             1.00  ...  0.0   \n",
       "2       Peppino’s  2014-07-24             4.33             3.25  ...  0.0   \n",
       "3       Peppino’s  2014-03-05             4.33             2.00  ...  0.0   \n",
       "4       Peppino’s  2014-11-21             4.33             3.00  ...  0.0   \n",
       "...           ...         ...              ...              ...  ...  ...   \n",
       "358742      Emily  2014-02-06             4.19             5.00  ...  0.0   \n",
       "358743      Emily  2014-01-31             4.19             5.00  ...  0.0   \n",
       "358744      Emily  2014-01-30             4.19             5.00  ...  0.0   \n",
       "358745      Emily  2014-01-25             4.19             5.00  ...  0.0   \n",
       "358746      Emily  2014-01-25             4.19             4.39  ...  1.0   \n",
       "\n",
       "        JJS   UH  NNPS  PDT  RBS   FW   LS  SYM  WP$  \n",
       "0       0.0  0.0   0.0  0.0  0.0  0.0  0.0  0.0  0.0  \n",
       "1       0.0  0.0   0.0  0.0  0.0  0.0  0.0  0.0  0.0  \n",
       "2       0.0  0.0   0.0  0.0  0.0  0.0  0.0  0.0  0.0  \n",
       "3       0.0  0.0   0.0  0.0  0.0  0.0  0.0  0.0  0.0  \n",
       "4       0.0  0.0   0.0  0.0  0.0  0.0  0.0  0.0  0.0  \n",
       "...     ...  ...   ...  ...  ...  ...  ...  ...  ...  \n",
       "358742  1.0  1.0   0.0  0.0  0.0  1.0  0.0  0.0  0.0  \n",
       "358743  0.0  0.0   1.0  0.0  0.0  1.0  0.0  0.0  0.0  \n",
       "358744  0.0  0.0   0.0  0.0  0.0  0.0  0.0  0.0  0.0  \n",
       "358745  0.0  0.0   0.0  0.0  0.0  0.0  0.0  0.0  0.0  \n",
       "358746  2.0  0.0   0.0  0.0  0.0  0.0  0.0  0.0  0.0  \n",
       "\n",
       "[358747 rows x 55 columns]"
      ]
     },
     "execution_count": 5,
     "metadata": {},
     "output_type": "execute_result"
    }
   ],
   "source": [
    "df_pos_tag = pd.read_csv('/kaggle/input/yelp-nyc-with-pos-tagging/yelp_NYC_with_pos_features.csv')\n",
    "df_pos_tag"
   ]
  },
  {
   "cell_type": "code",
   "execution_count": 6,
   "id": "fef85334",
   "metadata": {
    "execution": {
     "iopub.execute_input": "2025-04-14T20:48:36.393015Z",
     "iopub.status.busy": "2025-04-14T20:48:36.392185Z",
     "iopub.status.idle": "2025-04-14T20:48:36.431254Z",
     "shell.execute_reply": "2025-04-14T20:48:36.430458Z"
    },
    "papermill": {
     "duration": 0.048343,
     "end_time": "2025-04-14T20:48:36.432830",
     "exception": false,
     "start_time": "2025-04-14T20:48:36.384487",
     "status": "completed"
    },
    "tags": []
   },
   "outputs": [],
   "source": [
    "df_pos_tag = df_pos_tag.loc[indices]"
   ]
  },
  {
   "cell_type": "code",
   "execution_count": 7,
   "id": "4bc4b834",
   "metadata": {
    "execution": {
     "iopub.execute_input": "2025-04-14T20:48:36.448218Z",
     "iopub.status.busy": "2025-04-14T20:48:36.447548Z",
     "iopub.status.idle": "2025-04-14T20:48:36.502242Z",
     "shell.execute_reply": "2025-04-14T20:48:36.501492Z"
    },
    "papermill": {
     "duration": 0.063631,
     "end_time": "2025-04-14T20:48:36.503676",
     "exception": false,
     "start_time": "2025-04-14T20:48:36.440045",
     "status": "completed"
    },
    "tags": []
   },
   "outputs": [
    {
     "data": {
      "text/html": [
       "<div>\n",
       "<style scoped>\n",
       "    .dataframe tbody tr th:only-of-type {\n",
       "        vertical-align: middle;\n",
       "    }\n",
       "\n",
       "    .dataframe tbody tr th {\n",
       "        vertical-align: top;\n",
       "    }\n",
       "\n",
       "    .dataframe thead th {\n",
       "        text-align: right;\n",
       "    }\n",
       "</style>\n",
       "<table border=\"1\" class=\"dataframe\">\n",
       "  <thead>\n",
       "    <tr style=\"text-align: right;\">\n",
       "      <th></th>\n",
       "      <th>Unnamed: 0</th>\n",
       "      <th>user_id</th>\n",
       "      <th>prod_id</th>\n",
       "      <th>review</th>\n",
       "      <th>rating</th>\n",
       "      <th>label</th>\n",
       "      <th>prod_name</th>\n",
       "      <th>date</th>\n",
       "      <th>avg_prod_rating</th>\n",
       "      <th>avg_user_rating</th>\n",
       "      <th>...</th>\n",
       "      <th>RBR</th>\n",
       "      <th>JJS</th>\n",
       "      <th>UH</th>\n",
       "      <th>NNPS</th>\n",
       "      <th>PDT</th>\n",
       "      <th>RBS</th>\n",
       "      <th>FW</th>\n",
       "      <th>LS</th>\n",
       "      <th>SYM</th>\n",
       "      <th>WP$</th>\n",
       "    </tr>\n",
       "  </thead>\n",
       "  <tbody>\n",
       "    <tr>\n",
       "      <th>39569</th>\n",
       "      <td>39569</td>\n",
       "      <td>31003</td>\n",
       "      <td>95</td>\n",
       "      <td>First of all, the wait is super long so be pre...</td>\n",
       "      <td>3.0</td>\n",
       "      <td>1</td>\n",
       "      <td>Ippudo Westside</td>\n",
       "      <td>2014-11-20</td>\n",
       "      <td>4.03</td>\n",
       "      <td>3.50</td>\n",
       "      <td>...</td>\n",
       "      <td>0.0</td>\n",
       "      <td>0.0</td>\n",
       "      <td>0.0</td>\n",
       "      <td>0.0</td>\n",
       "      <td>0.0</td>\n",
       "      <td>0.0</td>\n",
       "      <td>0.0</td>\n",
       "      <td>0.0</td>\n",
       "      <td>0.0</td>\n",
       "      <td>0.0</td>\n",
       "    </tr>\n",
       "    <tr>\n",
       "      <th>202817</th>\n",
       "      <td>202817</td>\n",
       "      <td>15455</td>\n",
       "      <td>542</td>\n",
       "      <td>Great pizza.</td>\n",
       "      <td>4.0</td>\n",
       "      <td>1</td>\n",
       "      <td>Lombardi’s Pizza</td>\n",
       "      <td>2012-07-06</td>\n",
       "      <td>3.94</td>\n",
       "      <td>3.74</td>\n",
       "      <td>...</td>\n",
       "      <td>0.0</td>\n",
       "      <td>0.0</td>\n",
       "      <td>0.0</td>\n",
       "      <td>0.0</td>\n",
       "      <td>0.0</td>\n",
       "      <td>0.0</td>\n",
       "      <td>0.0</td>\n",
       "      <td>0.0</td>\n",
       "      <td>0.0</td>\n",
       "      <td>0.0</td>\n",
       "    </tr>\n",
       "    <tr>\n",
       "      <th>167376</th>\n",
       "      <td>167376</td>\n",
       "      <td>94480</td>\n",
       "      <td>465</td>\n",
       "      <td>5 starts for the food as its probably the best...</td>\n",
       "      <td>5.0</td>\n",
       "      <td>1</td>\n",
       "      <td>Grimaldi’s</td>\n",
       "      <td>2010-04-17</td>\n",
       "      <td>3.75</td>\n",
       "      <td>4.50</td>\n",
       "      <td>...</td>\n",
       "      <td>0.0</td>\n",
       "      <td>1.0</td>\n",
       "      <td>0.0</td>\n",
       "      <td>0.0</td>\n",
       "      <td>0.0</td>\n",
       "      <td>0.0</td>\n",
       "      <td>0.0</td>\n",
       "      <td>0.0</td>\n",
       "      <td>0.0</td>\n",
       "      <td>0.0</td>\n",
       "    </tr>\n",
       "    <tr>\n",
       "      <th>349777</th>\n",
       "      <td>349777</td>\n",
       "      <td>52587</td>\n",
       "      <td>247</td>\n",
       "      <td>The first time I went here, I went with 8 frie...</td>\n",
       "      <td>5.0</td>\n",
       "      <td>1</td>\n",
       "      <td>Ippudo NY</td>\n",
       "      <td>2012-08-01</td>\n",
       "      <td>4.07</td>\n",
       "      <td>4.20</td>\n",
       "      <td>...</td>\n",
       "      <td>0.0</td>\n",
       "      <td>0.0</td>\n",
       "      <td>0.0</td>\n",
       "      <td>0.0</td>\n",
       "      <td>0.0</td>\n",
       "      <td>0.0</td>\n",
       "      <td>1.0</td>\n",
       "      <td>0.0</td>\n",
       "      <td>0.0</td>\n",
       "      <td>0.0</td>\n",
       "    </tr>\n",
       "    <tr>\n",
       "      <th>84713</th>\n",
       "      <td>84713</td>\n",
       "      <td>56708</td>\n",
       "      <td>243</td>\n",
       "      <td>It's no secret that Roberta's is overpriced gi...</td>\n",
       "      <td>4.0</td>\n",
       "      <td>1</td>\n",
       "      <td>Roberta’s</td>\n",
       "      <td>2013-12-16</td>\n",
       "      <td>3.91</td>\n",
       "      <td>4.00</td>\n",
       "      <td>...</td>\n",
       "      <td>0.0</td>\n",
       "      <td>1.0</td>\n",
       "      <td>0.0</td>\n",
       "      <td>0.0</td>\n",
       "      <td>0.0</td>\n",
       "      <td>0.0</td>\n",
       "      <td>0.0</td>\n",
       "      <td>0.0</td>\n",
       "      <td>0.0</td>\n",
       "      <td>0.0</td>\n",
       "    </tr>\n",
       "    <tr>\n",
       "      <th>...</th>\n",
       "      <td>...</td>\n",
       "      <td>...</td>\n",
       "      <td>...</td>\n",
       "      <td>...</td>\n",
       "      <td>...</td>\n",
       "      <td>...</td>\n",
       "      <td>...</td>\n",
       "      <td>...</td>\n",
       "      <td>...</td>\n",
       "      <td>...</td>\n",
       "      <td>...</td>\n",
       "      <td>...</td>\n",
       "      <td>...</td>\n",
       "      <td>...</td>\n",
       "      <td>...</td>\n",
       "      <td>...</td>\n",
       "      <td>...</td>\n",
       "      <td>...</td>\n",
       "      <td>...</td>\n",
       "      <td>...</td>\n",
       "      <td>...</td>\n",
       "    </tr>\n",
       "    <tr>\n",
       "      <th>358478</th>\n",
       "      <td>358478</td>\n",
       "      <td>161046</td>\n",
       "      <td>921</td>\n",
       "      <td>Bijan is the best bar I have been to in Brookl...</td>\n",
       "      <td>5.0</td>\n",
       "      <td>-1</td>\n",
       "      <td>Bijan’s</td>\n",
       "      <td>2011-12-01</td>\n",
       "      <td>4.17</td>\n",
       "      <td>5.00</td>\n",
       "      <td>...</td>\n",
       "      <td>0.0</td>\n",
       "      <td>1.0</td>\n",
       "      <td>0.0</td>\n",
       "      <td>0.0</td>\n",
       "      <td>0.0</td>\n",
       "      <td>1.0</td>\n",
       "      <td>0.0</td>\n",
       "      <td>0.0</td>\n",
       "      <td>0.0</td>\n",
       "      <td>0.0</td>\n",
       "    </tr>\n",
       "    <tr>\n",
       "      <th>358479</th>\n",
       "      <td>358479</td>\n",
       "      <td>161047</td>\n",
       "      <td>921</td>\n",
       "      <td>Great local lounge spot! After work and regula...</td>\n",
       "      <td>5.0</td>\n",
       "      <td>-1</td>\n",
       "      <td>Bijan’s</td>\n",
       "      <td>2011-11-15</td>\n",
       "      <td>4.17</td>\n",
       "      <td>5.00</td>\n",
       "      <td>...</td>\n",
       "      <td>0.0</td>\n",
       "      <td>0.0</td>\n",
       "      <td>0.0</td>\n",
       "      <td>0.0</td>\n",
       "      <td>0.0</td>\n",
       "      <td>0.0</td>\n",
       "      <td>0.0</td>\n",
       "      <td>0.0</td>\n",
       "      <td>0.0</td>\n",
       "      <td>0.0</td>\n",
       "    </tr>\n",
       "    <tr>\n",
       "      <th>358639</th>\n",
       "      <td>358639</td>\n",
       "      <td>161111</td>\n",
       "      <td>349</td>\n",
       "      <td>First and last time we try this place.  Pizza ...</td>\n",
       "      <td>1.0</td>\n",
       "      <td>-1</td>\n",
       "      <td>Emily</td>\n",
       "      <td>2014-03-25</td>\n",
       "      <td>4.19</td>\n",
       "      <td>1.00</td>\n",
       "      <td>...</td>\n",
       "      <td>0.0</td>\n",
       "      <td>0.0</td>\n",
       "      <td>0.0</td>\n",
       "      <td>0.0</td>\n",
       "      <td>0.0</td>\n",
       "      <td>0.0</td>\n",
       "      <td>0.0</td>\n",
       "      <td>0.0</td>\n",
       "      <td>0.0</td>\n",
       "      <td>0.0</td>\n",
       "    </tr>\n",
       "    <tr>\n",
       "      <th>358640</th>\n",
       "      <td>358640</td>\n",
       "      <td>161112</td>\n",
       "      <td>349</td>\n",
       "      <td>The staff was incredibly nice, the lemonade ta...</td>\n",
       "      <td>3.0</td>\n",
       "      <td>-1</td>\n",
       "      <td>Emily</td>\n",
       "      <td>2014-04-09</td>\n",
       "      <td>4.19</td>\n",
       "      <td>3.00</td>\n",
       "      <td>...</td>\n",
       "      <td>0.0</td>\n",
       "      <td>0.0</td>\n",
       "      <td>0.0</td>\n",
       "      <td>0.0</td>\n",
       "      <td>0.0</td>\n",
       "      <td>0.0</td>\n",
       "      <td>0.0</td>\n",
       "      <td>0.0</td>\n",
       "      <td>0.0</td>\n",
       "      <td>0.0</td>\n",
       "    </tr>\n",
       "    <tr>\n",
       "      <th>358641</th>\n",
       "      <td>358641</td>\n",
       "      <td>74347</td>\n",
       "      <td>349</td>\n",
       "      <td>Emily's inspired me to start a yelp account!  ...</td>\n",
       "      <td>5.0</td>\n",
       "      <td>-1</td>\n",
       "      <td>Emily</td>\n",
       "      <td>2014-12-05</td>\n",
       "      <td>4.19</td>\n",
       "      <td>4.50</td>\n",
       "      <td>...</td>\n",
       "      <td>0.0</td>\n",
       "      <td>0.0</td>\n",
       "      <td>0.0</td>\n",
       "      <td>0.0</td>\n",
       "      <td>0.0</td>\n",
       "      <td>0.0</td>\n",
       "      <td>0.0</td>\n",
       "      <td>0.0</td>\n",
       "      <td>0.0</td>\n",
       "      <td>0.0</td>\n",
       "    </tr>\n",
       "  </tbody>\n",
       "</table>\n",
       "<p>72155 rows × 55 columns</p>\n",
       "</div>"
      ],
      "text/plain": [
       "        Unnamed: 0  user_id  prod_id  \\\n",
       "39569        39569    31003       95   \n",
       "202817      202817    15455      542   \n",
       "167376      167376    94480      465   \n",
       "349777      349777    52587      247   \n",
       "84713        84713    56708      243   \n",
       "...            ...      ...      ...   \n",
       "358478      358478   161046      921   \n",
       "358479      358479   161047      921   \n",
       "358639      358639   161111      349   \n",
       "358640      358640   161112      349   \n",
       "358641      358641    74347      349   \n",
       "\n",
       "                                                   review  rating  label  \\\n",
       "39569   First of all, the wait is super long so be pre...     3.0      1   \n",
       "202817                                       Great pizza.     4.0      1   \n",
       "167376  5 starts for the food as its probably the best...     5.0      1   \n",
       "349777  The first time I went here, I went with 8 frie...     5.0      1   \n",
       "84713   It's no secret that Roberta's is overpriced gi...     4.0      1   \n",
       "...                                                   ...     ...    ...   \n",
       "358478  Bijan is the best bar I have been to in Brookl...     5.0     -1   \n",
       "358479  Great local lounge spot! After work and regula...     5.0     -1   \n",
       "358639  First and last time we try this place.  Pizza ...     1.0     -1   \n",
       "358640  The staff was incredibly nice, the lemonade ta...     3.0     -1   \n",
       "358641  Emily's inspired me to start a yelp account!  ...     5.0     -1   \n",
       "\n",
       "               prod_name        date  avg_prod_rating  avg_user_rating  ...  \\\n",
       "39569    Ippudo Westside  2014-11-20             4.03             3.50  ...   \n",
       "202817  Lombardi’s Pizza  2012-07-06             3.94             3.74  ...   \n",
       "167376        Grimaldi’s  2010-04-17             3.75             4.50  ...   \n",
       "349777         Ippudo NY  2012-08-01             4.07             4.20  ...   \n",
       "84713          Roberta’s  2013-12-16             3.91             4.00  ...   \n",
       "...                  ...         ...              ...              ...  ...   \n",
       "358478           Bijan’s  2011-12-01             4.17             5.00  ...   \n",
       "358479           Bijan’s  2011-11-15             4.17             5.00  ...   \n",
       "358639             Emily  2014-03-25             4.19             1.00  ...   \n",
       "358640             Emily  2014-04-09             4.19             3.00  ...   \n",
       "358641             Emily  2014-12-05             4.19             4.50  ...   \n",
       "\n",
       "        RBR  JJS   UH  NNPS  PDT  RBS   FW   LS  SYM  WP$  \n",
       "39569   0.0  0.0  0.0   0.0  0.0  0.0  0.0  0.0  0.0  0.0  \n",
       "202817  0.0  0.0  0.0   0.0  0.0  0.0  0.0  0.0  0.0  0.0  \n",
       "167376  0.0  1.0  0.0   0.0  0.0  0.0  0.0  0.0  0.0  0.0  \n",
       "349777  0.0  0.0  0.0   0.0  0.0  0.0  1.0  0.0  0.0  0.0  \n",
       "84713   0.0  1.0  0.0   0.0  0.0  0.0  0.0  0.0  0.0  0.0  \n",
       "...     ...  ...  ...   ...  ...  ...  ...  ...  ...  ...  \n",
       "358478  0.0  1.0  0.0   0.0  0.0  1.0  0.0  0.0  0.0  0.0  \n",
       "358479  0.0  0.0  0.0   0.0  0.0  0.0  0.0  0.0  0.0  0.0  \n",
       "358639  0.0  0.0  0.0   0.0  0.0  0.0  0.0  0.0  0.0  0.0  \n",
       "358640  0.0  0.0  0.0   0.0  0.0  0.0  0.0  0.0  0.0  0.0  \n",
       "358641  0.0  0.0  0.0   0.0  0.0  0.0  0.0  0.0  0.0  0.0  \n",
       "\n",
       "[72155 rows x 55 columns]"
      ]
     },
     "execution_count": 7,
     "metadata": {},
     "output_type": "execute_result"
    }
   ],
   "source": [
    "df_pos_tag"
   ]
  },
  {
   "cell_type": "code",
   "execution_count": 8,
   "id": "b1fa8c32",
   "metadata": {
    "execution": {
     "iopub.execute_input": "2025-04-14T20:48:36.519627Z",
     "iopub.status.busy": "2025-04-14T20:48:36.519339Z",
     "iopub.status.idle": "2025-04-14T20:48:36.524581Z",
     "shell.execute_reply": "2025-04-14T20:48:36.523860Z"
    },
    "papermill": {
     "duration": 0.01466,
     "end_time": "2025-04-14T20:48:36.525823",
     "exception": false,
     "start_time": "2025-04-14T20:48:36.511163",
     "status": "completed"
    },
    "tags": []
   },
   "outputs": [
    {
     "data": {
      "text/plain": [
       "Index(['Unnamed: 0', 'user_id', 'prod_id', 'review', 'rating', 'label',\n",
       "       'prod_name', 'date', 'avg_prod_rating', 'avg_user_rating', 'review_len',\n",
       "       'cnt_reviews', 'neg', 'neu', 'pos', 'compound', 'cap_words',\n",
       "       'digit_words', 'noun_count', 'PRP$', 'NN', 'CC', 'PRP', 'VBD', 'NNS',\n",
       "       'EX', 'IN', 'VBN', 'DT', 'VBG', 'RB', 'CD', 'JJ', 'WP', 'TO', 'VB',\n",
       "       'RP', 'VBP', 'MD', 'NNP', 'VBZ', 'WDT', 'WRB', 'JJR', 'POS', 'RBR',\n",
       "       'JJS', 'UH', 'NNPS', 'PDT', 'RBS', 'FW', 'LS', 'SYM', 'WP$'],\n",
       "      dtype='object')"
      ]
     },
     "execution_count": 8,
     "metadata": {},
     "output_type": "execute_result"
    }
   ],
   "source": [
    "df_pos_tag.columns"
   ]
  },
  {
   "cell_type": "code",
   "execution_count": 9,
   "id": "60df0db8",
   "metadata": {
    "execution": {
     "iopub.execute_input": "2025-04-14T20:48:36.542115Z",
     "iopub.status.busy": "2025-04-14T20:48:36.541451Z",
     "iopub.status.idle": "2025-04-14T20:48:36.545763Z",
     "shell.execute_reply": "2025-04-14T20:48:36.545175Z"
    },
    "papermill": {
     "duration": 0.013709,
     "end_time": "2025-04-14T20:48:36.546979",
     "exception": false,
     "start_time": "2025-04-14T20:48:36.533270",
     "status": "completed"
    },
    "tags": []
   },
   "outputs": [],
   "source": [
    "features = ['rating', 'avg_prod_rating', 'avg_user_rating', \n",
    "            'review_len', 'cnt_reviews', 'neg', 'pos', 'neu',\n",
    "            'cap_words', 'digit_words', 'noun_count', 'PRP$', 'NN', 'CC', 'PRP', 'VBD', 'NNS',\n",
    "       'EX', 'IN', 'VBN', 'DT', 'VBG', 'RB', 'CD', 'JJ', 'WP', 'TO', 'VB',\n",
    "       'RP', 'VBP', 'MD', 'NNP', 'VBZ', 'WDT', 'WRB', 'JJR', 'POS', 'RBR',\n",
    "       'JJS', 'UH', 'NNPS', 'PDT', 'RBS', 'FW', 'LS', 'SYM', 'WP$']            "
   ]
  },
  {
   "cell_type": "code",
   "execution_count": 10,
   "id": "b618d7ca",
   "metadata": {
    "execution": {
     "iopub.execute_input": "2025-04-14T20:48:36.562719Z",
     "iopub.status.busy": "2025-04-14T20:48:36.562437Z",
     "iopub.status.idle": "2025-04-14T20:48:36.602443Z",
     "shell.execute_reply": "2025-04-14T20:48:36.601567Z"
    },
    "papermill": {
     "duration": 0.049566,
     "end_time": "2025-04-14T20:48:36.603869",
     "exception": false,
     "start_time": "2025-04-14T20:48:36.554303",
     "status": "completed"
    },
    "tags": []
   },
   "outputs": [
    {
     "data": {
      "text/html": [
       "<div>\n",
       "<style scoped>\n",
       "    .dataframe tbody tr th:only-of-type {\n",
       "        vertical-align: middle;\n",
       "    }\n",
       "\n",
       "    .dataframe tbody tr th {\n",
       "        vertical-align: top;\n",
       "    }\n",
       "\n",
       "    .dataframe thead th {\n",
       "        text-align: right;\n",
       "    }\n",
       "</style>\n",
       "<table border=\"1\" class=\"dataframe\">\n",
       "  <thead>\n",
       "    <tr style=\"text-align: right;\">\n",
       "      <th></th>\n",
       "      <th>rating</th>\n",
       "      <th>avg_prod_rating</th>\n",
       "      <th>avg_user_rating</th>\n",
       "      <th>review_len</th>\n",
       "      <th>cnt_reviews</th>\n",
       "      <th>neg</th>\n",
       "      <th>pos</th>\n",
       "      <th>neu</th>\n",
       "      <th>cap_words</th>\n",
       "      <th>digit_words</th>\n",
       "      <th>...</th>\n",
       "      <th>RBR</th>\n",
       "      <th>JJS</th>\n",
       "      <th>UH</th>\n",
       "      <th>NNPS</th>\n",
       "      <th>PDT</th>\n",
       "      <th>RBS</th>\n",
       "      <th>FW</th>\n",
       "      <th>LS</th>\n",
       "      <th>SYM</th>\n",
       "      <th>WP$</th>\n",
       "    </tr>\n",
       "  </thead>\n",
       "  <tbody>\n",
       "    <tr>\n",
       "      <th>39569</th>\n",
       "      <td>3.0</td>\n",
       "      <td>4.03</td>\n",
       "      <td>3.50</td>\n",
       "      <td>401</td>\n",
       "      <td>2</td>\n",
       "      <td>0.023</td>\n",
       "      <td>0.352</td>\n",
       "      <td>0.625</td>\n",
       "      <td>0</td>\n",
       "      <td>0</td>\n",
       "      <td>...</td>\n",
       "      <td>0.0</td>\n",
       "      <td>0.0</td>\n",
       "      <td>0.0</td>\n",
       "      <td>0.0</td>\n",
       "      <td>0.0</td>\n",
       "      <td>0.0</td>\n",
       "      <td>0.0</td>\n",
       "      <td>0.0</td>\n",
       "      <td>0.0</td>\n",
       "      <td>0.0</td>\n",
       "    </tr>\n",
       "    <tr>\n",
       "      <th>202817</th>\n",
       "      <td>4.0</td>\n",
       "      <td>3.94</td>\n",
       "      <td>3.74</td>\n",
       "      <td>12</td>\n",
       "      <td>19</td>\n",
       "      <td>0.000</td>\n",
       "      <td>0.804</td>\n",
       "      <td>0.196</td>\n",
       "      <td>0</td>\n",
       "      <td>0</td>\n",
       "      <td>...</td>\n",
       "      <td>0.0</td>\n",
       "      <td>0.0</td>\n",
       "      <td>0.0</td>\n",
       "      <td>0.0</td>\n",
       "      <td>0.0</td>\n",
       "      <td>0.0</td>\n",
       "      <td>0.0</td>\n",
       "      <td>0.0</td>\n",
       "      <td>0.0</td>\n",
       "      <td>0.0</td>\n",
       "    </tr>\n",
       "    <tr>\n",
       "      <th>167376</th>\n",
       "      <td>5.0</td>\n",
       "      <td>3.75</td>\n",
       "      <td>4.50</td>\n",
       "      <td>230</td>\n",
       "      <td>2</td>\n",
       "      <td>0.058</td>\n",
       "      <td>0.137</td>\n",
       "      <td>0.805</td>\n",
       "      <td>1</td>\n",
       "      <td>1</td>\n",
       "      <td>...</td>\n",
       "      <td>0.0</td>\n",
       "      <td>1.0</td>\n",
       "      <td>0.0</td>\n",
       "      <td>0.0</td>\n",
       "      <td>0.0</td>\n",
       "      <td>0.0</td>\n",
       "      <td>0.0</td>\n",
       "      <td>0.0</td>\n",
       "      <td>0.0</td>\n",
       "      <td>0.0</td>\n",
       "    </tr>\n",
       "    <tr>\n",
       "      <th>349777</th>\n",
       "      <td>5.0</td>\n",
       "      <td>4.07</td>\n",
       "      <td>4.20</td>\n",
       "      <td>1741</td>\n",
       "      <td>5</td>\n",
       "      <td>0.055</td>\n",
       "      <td>0.147</td>\n",
       "      <td>0.798</td>\n",
       "      <td>7</td>\n",
       "      <td>3</td>\n",
       "      <td>...</td>\n",
       "      <td>0.0</td>\n",
       "      <td>0.0</td>\n",
       "      <td>0.0</td>\n",
       "      <td>0.0</td>\n",
       "      <td>0.0</td>\n",
       "      <td>0.0</td>\n",
       "      <td>1.0</td>\n",
       "      <td>0.0</td>\n",
       "      <td>0.0</td>\n",
       "      <td>0.0</td>\n",
       "    </tr>\n",
       "    <tr>\n",
       "      <th>84713</th>\n",
       "      <td>4.0</td>\n",
       "      <td>3.91</td>\n",
       "      <td>4.00</td>\n",
       "      <td>539</td>\n",
       "      <td>1</td>\n",
       "      <td>0.104</td>\n",
       "      <td>0.146</td>\n",
       "      <td>0.750</td>\n",
       "      <td>0</td>\n",
       "      <td>0</td>\n",
       "      <td>...</td>\n",
       "      <td>0.0</td>\n",
       "      <td>1.0</td>\n",
       "      <td>0.0</td>\n",
       "      <td>0.0</td>\n",
       "      <td>0.0</td>\n",
       "      <td>0.0</td>\n",
       "      <td>0.0</td>\n",
       "      <td>0.0</td>\n",
       "      <td>0.0</td>\n",
       "      <td>0.0</td>\n",
       "    </tr>\n",
       "    <tr>\n",
       "      <th>...</th>\n",
       "      <td>...</td>\n",
       "      <td>...</td>\n",
       "      <td>...</td>\n",
       "      <td>...</td>\n",
       "      <td>...</td>\n",
       "      <td>...</td>\n",
       "      <td>...</td>\n",
       "      <td>...</td>\n",
       "      <td>...</td>\n",
       "      <td>...</td>\n",
       "      <td>...</td>\n",
       "      <td>...</td>\n",
       "      <td>...</td>\n",
       "      <td>...</td>\n",
       "      <td>...</td>\n",
       "      <td>...</td>\n",
       "      <td>...</td>\n",
       "      <td>...</td>\n",
       "      <td>...</td>\n",
       "      <td>...</td>\n",
       "      <td>...</td>\n",
       "    </tr>\n",
       "    <tr>\n",
       "      <th>358478</th>\n",
       "      <td>5.0</td>\n",
       "      <td>4.17</td>\n",
       "      <td>5.00</td>\n",
       "      <td>244</td>\n",
       "      <td>1</td>\n",
       "      <td>0.055</td>\n",
       "      <td>0.148</td>\n",
       "      <td>0.797</td>\n",
       "      <td>0</td>\n",
       "      <td>0</td>\n",
       "      <td>...</td>\n",
       "      <td>0.0</td>\n",
       "      <td>1.0</td>\n",
       "      <td>0.0</td>\n",
       "      <td>0.0</td>\n",
       "      <td>0.0</td>\n",
       "      <td>1.0</td>\n",
       "      <td>0.0</td>\n",
       "      <td>0.0</td>\n",
       "      <td>0.0</td>\n",
       "      <td>0.0</td>\n",
       "    </tr>\n",
       "    <tr>\n",
       "      <th>358479</th>\n",
       "      <td>5.0</td>\n",
       "      <td>4.17</td>\n",
       "      <td>5.00</td>\n",
       "      <td>169</td>\n",
       "      <td>1</td>\n",
       "      <td>0.000</td>\n",
       "      <td>0.454</td>\n",
       "      <td>0.546</td>\n",
       "      <td>0</td>\n",
       "      <td>0</td>\n",
       "      <td>...</td>\n",
       "      <td>0.0</td>\n",
       "      <td>0.0</td>\n",
       "      <td>0.0</td>\n",
       "      <td>0.0</td>\n",
       "      <td>0.0</td>\n",
       "      <td>0.0</td>\n",
       "      <td>0.0</td>\n",
       "      <td>0.0</td>\n",
       "      <td>0.0</td>\n",
       "      <td>0.0</td>\n",
       "    </tr>\n",
       "    <tr>\n",
       "      <th>358639</th>\n",
       "      <td>1.0</td>\n",
       "      <td>4.19</td>\n",
       "      <td>1.00</td>\n",
       "      <td>866</td>\n",
       "      <td>1</td>\n",
       "      <td>0.079</td>\n",
       "      <td>0.099</td>\n",
       "      <td>0.822</td>\n",
       "      <td>6</td>\n",
       "      <td>0</td>\n",
       "      <td>...</td>\n",
       "      <td>0.0</td>\n",
       "      <td>0.0</td>\n",
       "      <td>0.0</td>\n",
       "      <td>0.0</td>\n",
       "      <td>0.0</td>\n",
       "      <td>0.0</td>\n",
       "      <td>0.0</td>\n",
       "      <td>0.0</td>\n",
       "      <td>0.0</td>\n",
       "      <td>0.0</td>\n",
       "    </tr>\n",
       "    <tr>\n",
       "      <th>358640</th>\n",
       "      <td>3.0</td>\n",
       "      <td>4.19</td>\n",
       "      <td>3.00</td>\n",
       "      <td>398</td>\n",
       "      <td>1</td>\n",
       "      <td>0.000</td>\n",
       "      <td>0.166</td>\n",
       "      <td>0.834</td>\n",
       "      <td>1</td>\n",
       "      <td>0</td>\n",
       "      <td>...</td>\n",
       "      <td>0.0</td>\n",
       "      <td>0.0</td>\n",
       "      <td>0.0</td>\n",
       "      <td>0.0</td>\n",
       "      <td>0.0</td>\n",
       "      <td>0.0</td>\n",
       "      <td>0.0</td>\n",
       "      <td>0.0</td>\n",
       "      <td>0.0</td>\n",
       "      <td>0.0</td>\n",
       "    </tr>\n",
       "    <tr>\n",
       "      <th>358641</th>\n",
       "      <td>5.0</td>\n",
       "      <td>4.19</td>\n",
       "      <td>4.50</td>\n",
       "      <td>279</td>\n",
       "      <td>2</td>\n",
       "      <td>0.043</td>\n",
       "      <td>0.371</td>\n",
       "      <td>0.586</td>\n",
       "      <td>0</td>\n",
       "      <td>1</td>\n",
       "      <td>...</td>\n",
       "      <td>0.0</td>\n",
       "      <td>0.0</td>\n",
       "      <td>0.0</td>\n",
       "      <td>0.0</td>\n",
       "      <td>0.0</td>\n",
       "      <td>0.0</td>\n",
       "      <td>0.0</td>\n",
       "      <td>0.0</td>\n",
       "      <td>0.0</td>\n",
       "      <td>0.0</td>\n",
       "    </tr>\n",
       "  </tbody>\n",
       "</table>\n",
       "<p>72155 rows × 47 columns</p>\n",
       "</div>"
      ],
      "text/plain": [
       "        rating  avg_prod_rating  avg_user_rating  review_len  cnt_reviews  \\\n",
       "39569      3.0             4.03             3.50         401            2   \n",
       "202817     4.0             3.94             3.74          12           19   \n",
       "167376     5.0             3.75             4.50         230            2   \n",
       "349777     5.0             4.07             4.20        1741            5   \n",
       "84713      4.0             3.91             4.00         539            1   \n",
       "...        ...              ...              ...         ...          ...   \n",
       "358478     5.0             4.17             5.00         244            1   \n",
       "358479     5.0             4.17             5.00         169            1   \n",
       "358639     1.0             4.19             1.00         866            1   \n",
       "358640     3.0             4.19             3.00         398            1   \n",
       "358641     5.0             4.19             4.50         279            2   \n",
       "\n",
       "          neg    pos    neu  cap_words  digit_words  ...  RBR  JJS   UH  NNPS  \\\n",
       "39569   0.023  0.352  0.625          0            0  ...  0.0  0.0  0.0   0.0   \n",
       "202817  0.000  0.804  0.196          0            0  ...  0.0  0.0  0.0   0.0   \n",
       "167376  0.058  0.137  0.805          1            1  ...  0.0  1.0  0.0   0.0   \n",
       "349777  0.055  0.147  0.798          7            3  ...  0.0  0.0  0.0   0.0   \n",
       "84713   0.104  0.146  0.750          0            0  ...  0.0  1.0  0.0   0.0   \n",
       "...       ...    ...    ...        ...          ...  ...  ...  ...  ...   ...   \n",
       "358478  0.055  0.148  0.797          0            0  ...  0.0  1.0  0.0   0.0   \n",
       "358479  0.000  0.454  0.546          0            0  ...  0.0  0.0  0.0   0.0   \n",
       "358639  0.079  0.099  0.822          6            0  ...  0.0  0.0  0.0   0.0   \n",
       "358640  0.000  0.166  0.834          1            0  ...  0.0  0.0  0.0   0.0   \n",
       "358641  0.043  0.371  0.586          0            1  ...  0.0  0.0  0.0   0.0   \n",
       "\n",
       "        PDT  RBS   FW   LS  SYM  WP$  \n",
       "39569   0.0  0.0  0.0  0.0  0.0  0.0  \n",
       "202817  0.0  0.0  0.0  0.0  0.0  0.0  \n",
       "167376  0.0  0.0  0.0  0.0  0.0  0.0  \n",
       "349777  0.0  0.0  1.0  0.0  0.0  0.0  \n",
       "84713   0.0  0.0  0.0  0.0  0.0  0.0  \n",
       "...     ...  ...  ...  ...  ...  ...  \n",
       "358478  0.0  1.0  0.0  0.0  0.0  0.0  \n",
       "358479  0.0  0.0  0.0  0.0  0.0  0.0  \n",
       "358639  0.0  0.0  0.0  0.0  0.0  0.0  \n",
       "358640  0.0  0.0  0.0  0.0  0.0  0.0  \n",
       "358641  0.0  0.0  0.0  0.0  0.0  0.0  \n",
       "\n",
       "[72155 rows x 47 columns]"
      ]
     },
     "execution_count": 10,
     "metadata": {},
     "output_type": "execute_result"
    }
   ],
   "source": [
    "X, Y = df_pos_tag[features],  df_pos_tag['label']\n",
    "X"
   ]
  },
  {
   "cell_type": "code",
   "execution_count": 11,
   "id": "7d200148",
   "metadata": {
    "execution": {
     "iopub.execute_input": "2025-04-14T20:48:36.621101Z",
     "iopub.status.busy": "2025-04-14T20:48:36.620396Z",
     "iopub.status.idle": "2025-04-14T20:48:37.916066Z",
     "shell.execute_reply": "2025-04-14T20:48:37.915191Z"
    },
    "papermill": {
     "duration": 1.306039,
     "end_time": "2025-04-14T20:48:37.917844",
     "exception": false,
     "start_time": "2025-04-14T20:48:36.611805",
     "status": "completed"
    },
    "tags": []
   },
   "outputs": [],
   "source": [
    "from sklearn.preprocessing import StandardScaler\n",
    "\n",
    "scaler = StandardScaler()\n",
    "\n",
    "X_scaled = scaler.fit_transform(X)"
   ]
  },
  {
   "cell_type": "code",
   "execution_count": null,
   "id": "687285f6",
   "metadata": {
    "papermill": {
     "duration": 0.014049,
     "end_time": "2025-04-14T20:48:37.946404",
     "exception": false,
     "start_time": "2025-04-14T20:48:37.932355",
     "status": "completed"
    },
    "tags": []
   },
   "outputs": [],
   "source": []
  },
  {
   "cell_type": "code",
   "execution_count": 12,
   "id": "71e465a8",
   "metadata": {
    "execution": {
     "iopub.execute_input": "2025-04-14T20:48:37.970713Z",
     "iopub.status.busy": "2025-04-14T20:48:37.970052Z",
     "iopub.status.idle": "2025-04-14T20:48:38.121102Z",
     "shell.execute_reply": "2025-04-14T20:48:38.120084Z"
    },
    "papermill": {
     "duration": 0.161952,
     "end_time": "2025-04-14T20:48:38.122543",
     "exception": false,
     "start_time": "2025-04-14T20:48:37.960591",
     "status": "completed"
    },
    "tags": []
   },
   "outputs": [
    {
     "name": "stdout",
     "output_type": "stream",
     "text": [
      "(57724, 47) (14431, 47) (57724,) (14431,)\n"
     ]
    }
   ],
   "source": [
    "from sklearn.model_selection import train_test_split\n",
    "\n",
    "X_train, X_test, y_train, y_test = train_test_split(X_scaled, Y, test_size=0.2, random_state=42)\n",
    "print(X_train.shape, X_test.shape, y_train.shape, y_test.shape)"
   ]
  },
  {
   "cell_type": "code",
   "execution_count": 13,
   "id": "e215fe67",
   "metadata": {
    "execution": {
     "iopub.execute_input": "2025-04-14T20:48:38.139825Z",
     "iopub.status.busy": "2025-04-14T20:48:38.139532Z",
     "iopub.status.idle": "2025-04-14T20:48:39.317650Z",
     "shell.execute_reply": "2025-04-14T20:48:39.316873Z"
    },
    "papermill": {
     "duration": 1.188991,
     "end_time": "2025-04-14T20:48:39.319475",
     "exception": false,
     "start_time": "2025-04-14T20:48:38.130484",
     "status": "completed"
    },
    "tags": []
   },
   "outputs": [
    {
     "data": {
      "text/html": [
       "<style>#sk-container-id-1 {color: black;background-color: white;}#sk-container-id-1 pre{padding: 0;}#sk-container-id-1 div.sk-toggleable {background-color: white;}#sk-container-id-1 label.sk-toggleable__label {cursor: pointer;display: block;width: 100%;margin-bottom: 0;padding: 0.3em;box-sizing: border-box;text-align: center;}#sk-container-id-1 label.sk-toggleable__label-arrow:before {content: \"▸\";float: left;margin-right: 0.25em;color: #696969;}#sk-container-id-1 label.sk-toggleable__label-arrow:hover:before {color: black;}#sk-container-id-1 div.sk-estimator:hover label.sk-toggleable__label-arrow:before {color: black;}#sk-container-id-1 div.sk-toggleable__content {max-height: 0;max-width: 0;overflow: hidden;text-align: left;background-color: #f0f8ff;}#sk-container-id-1 div.sk-toggleable__content pre {margin: 0.2em;color: black;border-radius: 0.25em;background-color: #f0f8ff;}#sk-container-id-1 input.sk-toggleable__control:checked~div.sk-toggleable__content {max-height: 200px;max-width: 100%;overflow: auto;}#sk-container-id-1 input.sk-toggleable__control:checked~label.sk-toggleable__label-arrow:before {content: \"▾\";}#sk-container-id-1 div.sk-estimator input.sk-toggleable__control:checked~label.sk-toggleable__label {background-color: #d4ebff;}#sk-container-id-1 div.sk-label input.sk-toggleable__control:checked~label.sk-toggleable__label {background-color: #d4ebff;}#sk-container-id-1 input.sk-hidden--visually {border: 0;clip: rect(1px 1px 1px 1px);clip: rect(1px, 1px, 1px, 1px);height: 1px;margin: -1px;overflow: hidden;padding: 0;position: absolute;width: 1px;}#sk-container-id-1 div.sk-estimator {font-family: monospace;background-color: #f0f8ff;border: 1px dotted black;border-radius: 0.25em;box-sizing: border-box;margin-bottom: 0.5em;}#sk-container-id-1 div.sk-estimator:hover {background-color: #d4ebff;}#sk-container-id-1 div.sk-parallel-item::after {content: \"\";width: 100%;border-bottom: 1px solid gray;flex-grow: 1;}#sk-container-id-1 div.sk-label:hover label.sk-toggleable__label {background-color: #d4ebff;}#sk-container-id-1 div.sk-serial::before {content: \"\";position: absolute;border-left: 1px solid gray;box-sizing: border-box;top: 0;bottom: 0;left: 50%;z-index: 0;}#sk-container-id-1 div.sk-serial {display: flex;flex-direction: column;align-items: center;background-color: white;padding-right: 0.2em;padding-left: 0.2em;position: relative;}#sk-container-id-1 div.sk-item {position: relative;z-index: 1;}#sk-container-id-1 div.sk-parallel {display: flex;align-items: stretch;justify-content: center;background-color: white;position: relative;}#sk-container-id-1 div.sk-item::before, #sk-container-id-1 div.sk-parallel-item::before {content: \"\";position: absolute;border-left: 1px solid gray;box-sizing: border-box;top: 0;bottom: 0;left: 50%;z-index: -1;}#sk-container-id-1 div.sk-parallel-item {display: flex;flex-direction: column;z-index: 1;position: relative;background-color: white;}#sk-container-id-1 div.sk-parallel-item:first-child::after {align-self: flex-end;width: 50%;}#sk-container-id-1 div.sk-parallel-item:last-child::after {align-self: flex-start;width: 50%;}#sk-container-id-1 div.sk-parallel-item:only-child::after {width: 0;}#sk-container-id-1 div.sk-dashed-wrapped {border: 1px dashed gray;margin: 0 0.4em 0.5em 0.4em;box-sizing: border-box;padding-bottom: 0.4em;background-color: white;}#sk-container-id-1 div.sk-label label {font-family: monospace;font-weight: bold;display: inline-block;line-height: 1.2em;}#sk-container-id-1 div.sk-label-container {text-align: center;}#sk-container-id-1 div.sk-container {/* jupyter's `normalize.less` sets `[hidden] { display: none; }` but bootstrap.min.css set `[hidden] { display: none !important; }` so we also need the `!important` here to be able to override the default hidden behavior on the sphinx rendered scikit-learn.org. See: https://github.com/scikit-learn/scikit-learn/issues/21755 */display: inline-block !important;position: relative;}#sk-container-id-1 div.sk-text-repr-fallback {display: none;}</style><div id=\"sk-container-id-1\" class=\"sk-top-container\"><div class=\"sk-text-repr-fallback\"><pre>LogisticRegression(random_state=42)</pre><b>In a Jupyter environment, please rerun this cell to show the HTML representation or trust the notebook. <br />On GitHub, the HTML representation is unable to render, please try loading this page with nbviewer.org.</b></div><div class=\"sk-container\" hidden><div class=\"sk-item\"><div class=\"sk-estimator sk-toggleable\"><input class=\"sk-toggleable__control sk-hidden--visually\" id=\"sk-estimator-id-1\" type=\"checkbox\" checked><label for=\"sk-estimator-id-1\" class=\"sk-toggleable__label sk-toggleable__label-arrow\">LogisticRegression</label><div class=\"sk-toggleable__content\"><pre>LogisticRegression(random_state=42)</pre></div></div></div></div></div>"
      ],
      "text/plain": [
       "LogisticRegression(random_state=42)"
      ]
     },
     "execution_count": 13,
     "metadata": {},
     "output_type": "execute_result"
    }
   ],
   "source": [
    "from sklearn.linear_model import LogisticRegression\n",
    "\n",
    "lr = LogisticRegression(random_state=42)\n",
    "lr.fit(X_train, y_train)"
   ]
  },
  {
   "cell_type": "code",
   "execution_count": 14,
   "id": "63f3f943",
   "metadata": {
    "execution": {
     "iopub.execute_input": "2025-04-14T20:48:39.361117Z",
     "iopub.status.busy": "2025-04-14T20:48:39.360392Z",
     "iopub.status.idle": "2025-04-14T20:48:39.370507Z",
     "shell.execute_reply": "2025-04-14T20:48:39.369782Z"
    },
    "papermill": {
     "duration": 0.030451,
     "end_time": "2025-04-14T20:48:39.372044",
     "exception": false,
     "start_time": "2025-04-14T20:48:39.341593",
     "status": "completed"
    },
    "tags": []
   },
   "outputs": [],
   "source": [
    "y_pred = lr.predict(X_test)"
   ]
  },
  {
   "cell_type": "code",
   "execution_count": 15,
   "id": "be68a2bd",
   "metadata": {
    "execution": {
     "iopub.execute_input": "2025-04-14T20:48:39.404662Z",
     "iopub.status.busy": "2025-04-14T20:48:39.400901Z",
     "iopub.status.idle": "2025-04-14T20:48:39.946212Z",
     "shell.execute_reply": "2025-04-14T20:48:39.945462Z"
    },
    "papermill": {
     "duration": 0.561583,
     "end_time": "2025-04-14T20:48:39.947647",
     "exception": false,
     "start_time": "2025-04-14T20:48:39.386064",
     "status": "completed"
    },
    "tags": []
   },
   "outputs": [],
   "source": [
    "from sklearn.metrics import accuracy_score, precision_score, recall_score, f1_score, roc_auc_score, classification_report, confusion_matrix\n",
    "import matplotlib.pyplot as plt\n",
    "import seaborn as sns\n",
    "\n",
    "def show_metrics(y_true, y_pred, title):\n",
    "    print(f'''\n",
    "                {title}\n",
    "==========================================\n",
    " auc: {roc_auc_score(y_true, y_pred)}             \n",
    "==========================================\n",
    " report:                                \n",
    "{classification_report(y_true, y_pred)}\n",
    "==========================================    ''') \n",
    "\n",
    "\n",
    "def show_confusion_matrix(y_true, y_pred, title_string):\n",
    "    conf = confusion_matrix(y_true, y_pred)\n",
    "    plt.figure(figsize=(8,8))\n",
    "    plt.title(title_string)\n",
    "    sns.heatmap(conf, fmt='d', annot=True)\n",
    "    plt.savefig(title_string+'_confusion_matrix.png')\n",
    "    plt.show()\n",
    "\n",
    "def compute_metrics(y_true, y_pred):\n",
    "    print(\"AUC:\", roc_auc_score(y_true, y_pred))  \n",
    "    print(\"Accuracy:\", accuracy_score(y_true, y_pred))  \n",
    "    print(\"Precision:\", precision_score(y_true, y_pred))  \n",
    "    print(\"Recall:\", recall_score(y_true, y_pred))  \n",
    "    print(\"F1-score:\", f1_score(y_true, y_pred))  \n",
    "        "
   ]
  },
  {
   "cell_type": "code",
   "execution_count": 16,
   "id": "5a223bcf",
   "metadata": {
    "execution": {
     "iopub.execute_input": "2025-04-14T20:48:39.965406Z",
     "iopub.status.busy": "2025-04-14T20:48:39.964693Z",
     "iopub.status.idle": "2025-04-14T20:48:40.382130Z",
     "shell.execute_reply": "2025-04-14T20:48:40.380948Z"
    },
    "papermill": {
     "duration": 0.427792,
     "end_time": "2025-04-14T20:48:40.383684",
     "exception": false,
     "start_time": "2025-04-14T20:48:39.955892",
     "status": "completed"
    },
    "tags": []
   },
   "outputs": [
    {
     "name": "stdout",
     "output_type": "stream",
     "text": [
      "\n",
      "                Логистическая регрессия\n",
      "==========================================\n",
      " auc: 0.7028430376034027             \n",
      "==========================================\n",
      " report:                                \n",
      "              precision    recall  f1-score   support\n",
      "\n",
      "          -1       0.68      0.81      0.74      7368\n",
      "           1       0.75      0.60      0.67      7063\n",
      "\n",
      "    accuracy                           0.71     14431\n",
      "   macro avg       0.71      0.70      0.70     14431\n",
      "weighted avg       0.71      0.71      0.70     14431\n",
      "\n",
      "==========================================    \n"
     ]
    },
    {
     "data": {
      "image/png": "[encoded data removed]",
      "text/plain": [
       "<Figure size 800x800 with 2 Axes>"
      ]
     },
     "metadata": {},
     "output_type": "display_data"
    },
    {
     "name": "stdout",
     "output_type": "stream",
     "text": [
      "AUC: 0.7028430376034027\n",
      "Accuracy: 0.7050100478137343\n",
      "Precision: 0.7472682410997532\n",
      "Recall: 0.6003114823729293\n",
      "F1-score: 0.6657768705346627\n"
     ]
    }
   ],
   "source": [
    "show_metrics(y_test, y_pred, 'Логистическая регрессия')\n",
    "show_confusion_matrix(y_test, y_pred, 'Логистическая регрессия на извлеченных из текста признаках')\n",
    "compute_metrics(y_test, y_pred)\n"
   ]
  },
  {
   "cell_type": "code",
   "execution_count": 17,
   "id": "76036aa2",
   "metadata": {
    "execution": {
     "iopub.execute_input": "2025-04-14T20:48:40.403483Z",
     "iopub.status.busy": "2025-04-14T20:48:40.402698Z",
     "iopub.status.idle": "2025-04-14T20:48:41.794185Z",
     "shell.execute_reply": "2025-04-14T20:48:41.793365Z"
    },
    "papermill": {
     "duration": 1.402535,
     "end_time": "2025-04-14T20:48:41.795417",
     "exception": false,
     "start_time": "2025-04-14T20:48:40.392882",
     "status": "completed"
    },
    "tags": []
   },
   "outputs": [
    {
     "data": {
      "text/html": [
       "<style>#sk-container-id-2 {color: black;background-color: white;}#sk-container-id-2 pre{padding: 0;}#sk-container-id-2 div.sk-toggleable {background-color: white;}#sk-container-id-2 label.sk-toggleable__label {cursor: pointer;display: block;width: 100%;margin-bottom: 0;padding: 0.3em;box-sizing: border-box;text-align: center;}#sk-container-id-2 label.sk-toggleable__label-arrow:before {content: \"▸\";float: left;margin-right: 0.25em;color: #696969;}#sk-container-id-2 label.sk-toggleable__label-arrow:hover:before {color: black;}#sk-container-id-2 div.sk-estimator:hover label.sk-toggleable__label-arrow:before {color: black;}#sk-container-id-2 div.sk-toggleable__content {max-height: 0;max-width: 0;overflow: hidden;text-align: left;background-color: #f0f8ff;}#sk-container-id-2 div.sk-toggleable__content pre {margin: 0.2em;color: black;border-radius: 0.25em;background-color: #f0f8ff;}#sk-container-id-2 input.sk-toggleable__control:checked~div.sk-toggleable__content {max-height: 200px;max-width: 100%;overflow: auto;}#sk-container-id-2 input.sk-toggleable__control:checked~label.sk-toggleable__label-arrow:before {content: \"▾\";}#sk-container-id-2 div.sk-estimator input.sk-toggleable__control:checked~label.sk-toggleable__label {background-color: #d4ebff;}#sk-container-id-2 div.sk-label input.sk-toggleable__control:checked~label.sk-toggleable__label {background-color: #d4ebff;}#sk-container-id-2 input.sk-hidden--visually {border: 0;clip: rect(1px 1px 1px 1px);clip: rect(1px, 1px, 1px, 1px);height: 1px;margin: -1px;overflow: hidden;padding: 0;position: absolute;width: 1px;}#sk-container-id-2 div.sk-estimator {font-family: monospace;background-color: #f0f8ff;border: 1px dotted black;border-radius: 0.25em;box-sizing: border-box;margin-bottom: 0.5em;}#sk-container-id-2 div.sk-estimator:hover {background-color: #d4ebff;}#sk-container-id-2 div.sk-parallel-item::after {content: \"\";width: 100%;border-bottom: 1px solid gray;flex-grow: 1;}#sk-container-id-2 div.sk-label:hover label.sk-toggleable__label {background-color: #d4ebff;}#sk-container-id-2 div.sk-serial::before {content: \"\";position: absolute;border-left: 1px solid gray;box-sizing: border-box;top: 0;bottom: 0;left: 50%;z-index: 0;}#sk-container-id-2 div.sk-serial {display: flex;flex-direction: column;align-items: center;background-color: white;padding-right: 0.2em;padding-left: 0.2em;position: relative;}#sk-container-id-2 div.sk-item {position: relative;z-index: 1;}#sk-container-id-2 div.sk-parallel {display: flex;align-items: stretch;justify-content: center;background-color: white;position: relative;}#sk-container-id-2 div.sk-item::before, #sk-container-id-2 div.sk-parallel-item::before {content: \"\";position: absolute;border-left: 1px solid gray;box-sizing: border-box;top: 0;bottom: 0;left: 50%;z-index: -1;}#sk-container-id-2 div.sk-parallel-item {display: flex;flex-direction: column;z-index: 1;position: relative;background-color: white;}#sk-container-id-2 div.sk-parallel-item:first-child::after {align-self: flex-end;width: 50%;}#sk-container-id-2 div.sk-parallel-item:last-child::after {align-self: flex-start;width: 50%;}#sk-container-id-2 div.sk-parallel-item:only-child::after {width: 0;}#sk-container-id-2 div.sk-dashed-wrapped {border: 1px dashed gray;margin: 0 0.4em 0.5em 0.4em;box-sizing: border-box;padding-bottom: 0.4em;background-color: white;}#sk-container-id-2 div.sk-label label {font-family: monospace;font-weight: bold;display: inline-block;line-height: 1.2em;}#sk-container-id-2 div.sk-label-container {text-align: center;}#sk-container-id-2 div.sk-container {/* jupyter's `normalize.less` sets `[hidden] { display: none; }` but bootstrap.min.css set `[hidden] { display: none !important; }` so we also need the `!important` here to be able to override the default hidden behavior on the sphinx rendered scikit-learn.org. See: https://github.com/scikit-learn/scikit-learn/issues/21755 */display: inline-block !important;position: relative;}#sk-container-id-2 div.sk-text-repr-fallback {display: none;}</style><div id=\"sk-container-id-2\" class=\"sk-top-container\"><div class=\"sk-text-repr-fallback\"><pre>DecisionTreeClassifier(random_state=42)</pre><b>In a Jupyter environment, please rerun this cell to show the HTML representation or trust the notebook. <br />On GitHub, the HTML representation is unable to render, please try loading this page with nbviewer.org.</b></div><div class=\"sk-container\" hidden><div class=\"sk-item\"><div class=\"sk-estimator sk-toggleable\"><input class=\"sk-toggleable__control sk-hidden--visually\" id=\"sk-estimator-id-2\" type=\"checkbox\" checked><label for=\"sk-estimator-id-2\" class=\"sk-toggleable__label sk-toggleable__label-arrow\">DecisionTreeClassifier</label><div class=\"sk-toggleable__content\"><pre>DecisionTreeClassifier(random_state=42)</pre></div></div></div></div></div>"
      ],
      "text/plain": [
       "DecisionTreeClassifier(random_state=42)"
      ]
     },
     "execution_count": 17,
     "metadata": {},
     "output_type": "execute_result"
    }
   ],
   "source": [
    "from sklearn.tree import DecisionTreeClassifier\n",
    "dt = DecisionTreeClassifier(random_state=42)\n",
    "dt.fit(X_train, y_train)"
   ]
  },
  {
   "cell_type": "code",
   "execution_count": 18,
   "id": "cfc3b630",
   "metadata": {
    "execution": {
     "iopub.execute_input": "2025-04-14T20:48:41.814705Z",
     "iopub.status.busy": "2025-04-14T20:48:41.814430Z",
     "iopub.status.idle": "2025-04-14T20:48:41.822575Z",
     "shell.execute_reply": "2025-04-14T20:48:41.821953Z"
    },
    "papermill": {
     "duration": 0.019361,
     "end_time": "2025-04-14T20:48:41.823886",
     "exception": false,
     "start_time": "2025-04-14T20:48:41.804525",
     "status": "completed"
    },
    "tags": []
   },
   "outputs": [],
   "source": [
    "y_pred = dt.predict(X_test)"
   ]
  },
  {
   "cell_type": "code",
   "execution_count": 19,
   "id": "d1aebec7",
   "metadata": {
    "execution": {
     "iopub.execute_input": "2025-04-14T20:48:41.903112Z",
     "iopub.status.busy": "2025-04-14T20:48:41.902519Z",
     "iopub.status.idle": "2025-04-14T20:48:42.227248Z",
     "shell.execute_reply": "2025-04-14T20:48:42.226250Z"
    },
    "papermill": {
     "duration": 0.396169,
     "end_time": "2025-04-14T20:48:42.228808",
     "exception": false,
     "start_time": "2025-04-14T20:48:41.832639",
     "status": "completed"
    },
    "tags": []
   },
   "outputs": [
    {
     "name": "stdout",
     "output_type": "stream",
     "text": [
      "\n",
      "                Дерево решений\n",
      "==========================================\n",
      " auc: 0.6905741148032836             \n",
      "==========================================\n",
      " report:                                \n",
      "              precision    recall  f1-score   support\n",
      "\n",
      "          -1       0.70      0.69      0.70      7368\n",
      "           1       0.68      0.69      0.69      7063\n",
      "\n",
      "    accuracy                           0.69     14431\n",
      "   macro avg       0.69      0.69      0.69     14431\n",
      "weighted avg       0.69      0.69      0.69     14431\n",
      "\n",
      "==========================================    \n"
     ]
    },
    {
     "data": {
      "image/png": "[encoded data removed]",
      "text/plain": [
       "<Figure size 800x800 with 2 Axes>"
      ]
     },
     "metadata": {},
     "output_type": "display_data"
    },
    {
     "name": "stdout",
     "output_type": "stream",
     "text": [
      "AUC: 0.6905741148032836\n",
      "Accuracy: 0.6905966322500173\n",
      "Precision: 0.6818818258190983\n",
      "Recall: 0.6895087073481524\n",
      "F1-score: 0.6856740584301302\n"
     ]
    }
   ],
   "source": [
    "show_metrics(y_test, y_pred, 'Дерево решений')\n",
    "show_confusion_matrix(y_test, y_pred, 'Дерево решений на извлеченных из текста признаках')\n",
    "compute_metrics(y_test, y_pred)"
   ]
  },
  {
   "cell_type": "code",
   "execution_count": 20,
   "id": "9ebc457f",
   "metadata": {
    "execution": {
     "iopub.execute_input": "2025-04-14T20:48:42.249206Z",
     "iopub.status.busy": "2025-04-14T20:48:42.248934Z",
     "iopub.status.idle": "2025-04-14T20:48:55.692648Z",
     "shell.execute_reply": "2025-04-14T20:48:55.691758Z"
    },
    "papermill": {
     "duration": 13.455696,
     "end_time": "2025-04-14T20:48:55.694069",
     "exception": false,
     "start_time": "2025-04-14T20:48:42.238373",
     "status": "completed"
    },
    "tags": []
   },
   "outputs": [
    {
     "data": {
      "text/html": [
       "<style>#sk-container-id-3 {color: black;background-color: white;}#sk-container-id-3 pre{padding: 0;}#sk-container-id-3 div.sk-toggleable {background-color: white;}#sk-container-id-3 label.sk-toggleable__label {cursor: pointer;display: block;width: 100%;margin-bottom: 0;padding: 0.3em;box-sizing: border-box;text-align: center;}#sk-container-id-3 label.sk-toggleable__label-arrow:before {content: \"▸\";float: left;margin-right: 0.25em;color: #696969;}#sk-container-id-3 label.sk-toggleable__label-arrow:hover:before {color: black;}#sk-container-id-3 div.sk-estimator:hover label.sk-toggleable__label-arrow:before {color: black;}#sk-container-id-3 div.sk-toggleable__content {max-height: 0;max-width: 0;overflow: hidden;text-align: left;background-color: #f0f8ff;}#sk-container-id-3 div.sk-toggleable__content pre {margin: 0.2em;color: black;border-radius: 0.25em;background-color: #f0f8ff;}#sk-container-id-3 input.sk-toggleable__control:checked~div.sk-toggleable__content {max-height: 200px;max-width: 100%;overflow: auto;}#sk-container-id-3 input.sk-toggleable__control:checked~label.sk-toggleable__label-arrow:before {content: \"▾\";}#sk-container-id-3 div.sk-estimator input.sk-toggleable__control:checked~label.sk-toggleable__label {background-color: #d4ebff;}#sk-container-id-3 div.sk-label input.sk-toggleable__control:checked~label.sk-toggleable__label {background-color: #d4ebff;}#sk-container-id-3 input.sk-hidden--visually {border: 0;clip: rect(1px 1px 1px 1px);clip: rect(1px, 1px, 1px, 1px);height: 1px;margin: -1px;overflow: hidden;padding: 0;position: absolute;width: 1px;}#sk-container-id-3 div.sk-estimator {font-family: monospace;background-color: #f0f8ff;border: 1px dotted black;border-radius: 0.25em;box-sizing: border-box;margin-bottom: 0.5em;}#sk-container-id-3 div.sk-estimator:hover {background-color: #d4ebff;}#sk-container-id-3 div.sk-parallel-item::after {content: \"\";width: 100%;border-bottom: 1px solid gray;flex-grow: 1;}#sk-container-id-3 div.sk-label:hover label.sk-toggleable__label {background-color: #d4ebff;}#sk-container-id-3 div.sk-serial::before {content: \"\";position: absolute;border-left: 1px solid gray;box-sizing: border-box;top: 0;bottom: 0;left: 50%;z-index: 0;}#sk-container-id-3 div.sk-serial {display: flex;flex-direction: column;align-items: center;background-color: white;padding-right: 0.2em;padding-left: 0.2em;position: relative;}#sk-container-id-3 div.sk-item {position: relative;z-index: 1;}#sk-container-id-3 div.sk-parallel {display: flex;align-items: stretch;justify-content: center;background-color: white;position: relative;}#sk-container-id-3 div.sk-item::before, #sk-container-id-3 div.sk-parallel-item::before {content: \"\";position: absolute;border-left: 1px solid gray;box-sizing: border-box;top: 0;bottom: 0;left: 50%;z-index: -1;}#sk-container-id-3 div.sk-parallel-item {display: flex;flex-direction: column;z-index: 1;position: relative;background-color: white;}#sk-container-id-3 div.sk-parallel-item:first-child::after {align-self: flex-end;width: 50%;}#sk-container-id-3 div.sk-parallel-item:last-child::after {align-self: flex-start;width: 50%;}#sk-container-id-3 div.sk-parallel-item:only-child::after {width: 0;}#sk-container-id-3 div.sk-dashed-wrapped {border: 1px dashed gray;margin: 0 0.4em 0.5em 0.4em;box-sizing: border-box;padding-bottom: 0.4em;background-color: white;}#sk-container-id-3 div.sk-label label {font-family: monospace;font-weight: bold;display: inline-block;line-height: 1.2em;}#sk-container-id-3 div.sk-label-container {text-align: center;}#sk-container-id-3 div.sk-container {/* jupyter's `normalize.less` sets `[hidden] { display: none; }` but bootstrap.min.css set `[hidden] { display: none !important; }` so we also need the `!important` here to be able to override the default hidden behavior on the sphinx rendered scikit-learn.org. See: https://github.com/scikit-learn/scikit-learn/issues/21755 */display: inline-block !important;position: relative;}#sk-container-id-3 div.sk-text-repr-fallback {display: none;}</style><div id=\"sk-container-id-3\" class=\"sk-top-container\"><div class=\"sk-text-repr-fallback\"><pre>RandomForestClassifier()</pre><b>In a Jupyter environment, please rerun this cell to show the HTML representation or trust the notebook. <br />On GitHub, the HTML representation is unable to render, please try loading this page with nbviewer.org.</b></div><div class=\"sk-container\" hidden><div class=\"sk-item\"><div class=\"sk-estimator sk-toggleable\"><input class=\"sk-toggleable__control sk-hidden--visually\" id=\"sk-estimator-id-3\" type=\"checkbox\" checked><label for=\"sk-estimator-id-3\" class=\"sk-toggleable__label sk-toggleable__label-arrow\">RandomForestClassifier</label><div class=\"sk-toggleable__content\"><pre>RandomForestClassifier()</pre></div></div></div></div></div>"
      ],
      "text/plain": [
       "RandomForestClassifier()"
      ]
     },
     "execution_count": 20,
     "metadata": {},
     "output_type": "execute_result"
    }
   ],
   "source": [
    "from sklearn.ensemble import RandomForestClassifier\n",
    "\n",
    "rf = RandomForestClassifier()\n",
    "rf.fit(X_train, y_train)"
   ]
  },
  {
   "cell_type": "code",
   "execution_count": 21,
   "id": "bcbdddc5",
   "metadata": {
    "execution": {
     "iopub.execute_input": "2025-04-14T20:48:55.715561Z",
     "iopub.status.busy": "2025-04-14T20:48:55.714739Z",
     "iopub.status.idle": "2025-04-14T20:48:56.117500Z",
     "shell.execute_reply": "2025-04-14T20:48:56.116734Z"
    },
    "papermill": {
     "duration": 0.414985,
     "end_time": "2025-04-14T20:48:56.119095",
     "exception": false,
     "start_time": "2025-04-14T20:48:55.704110",
     "status": "completed"
    },
    "tags": []
   },
   "outputs": [],
   "source": [
    "y_pred = rf.predict(X_test)"
   ]
  },
  {
   "cell_type": "code",
   "execution_count": 22,
   "id": "94981e94",
   "metadata": {
    "execution": {
     "iopub.execute_input": "2025-04-14T20:48:56.139443Z",
     "iopub.status.busy": "2025-04-14T20:48:56.139125Z",
     "iopub.status.idle": "2025-04-14T20:48:56.454939Z",
     "shell.execute_reply": "2025-04-14T20:48:56.454008Z"
    },
    "papermill": {
     "duration": 0.327562,
     "end_time": "2025-04-14T20:48:56.456363",
     "exception": false,
     "start_time": "2025-04-14T20:48:56.128801",
     "status": "completed"
    },
    "tags": []
   },
   "outputs": [
    {
     "name": "stdout",
     "output_type": "stream",
     "text": [
      "\n",
      "                Случайный лес\n",
      "==========================================\n",
      " auc: 0.753709229775206             \n",
      "==========================================\n",
      " report:                                \n",
      "              precision    recall  f1-score   support\n",
      "\n",
      "          -1       0.73      0.82      0.77      7368\n",
      "           1       0.79      0.68      0.73      7063\n",
      "\n",
      "    accuracy                           0.76     14431\n",
      "   macro avg       0.76      0.75      0.75     14431\n",
      "weighted avg       0.76      0.76      0.75     14431\n",
      "\n",
      "==========================================    \n"
     ]
    },
    {
     "data": {
      "image/png": "[encoded data removed]",
      "text/plain": [
       "<Figure size 800x800 with 2 Axes>"
      ]
     },
     "metadata": {},
     "output_type": "display_data"
    },
    {
     "name": "stdout",
     "output_type": "stream",
     "text": [
      "AUC: 0.753709229775206\n",
      "Accuracy: 0.7551798212182108\n",
      "Precision: 0.7877404629931529\n",
      "Recall: 0.6841285572702818\n",
      "F1-score: 0.73228764113056\n"
     ]
    }
   ],
   "source": [
    "show_metrics(y_test, y_pred, 'Случайный лес')\n",
    "show_confusion_matrix(y_test, y_pred, 'Случайный лес на извлеченных из текста признаках')\n",
    "compute_metrics(y_test, y_pred)"
   ]
  },
  {
   "cell_type": "code",
   "execution_count": 23,
   "id": "c7acabb6",
   "metadata": {
    "execution": {
     "iopub.execute_input": "2025-04-14T20:48:56.477518Z",
     "iopub.status.busy": "2025-04-14T20:48:56.477209Z",
     "iopub.status.idle": "2025-04-14T20:48:57.316414Z",
     "shell.execute_reply": "2025-04-14T20:48:57.315547Z"
    },
    "papermill": {
     "duration": 0.85127,
     "end_time": "2025-04-14T20:48:57.317811",
     "exception": false,
     "start_time": "2025-04-14T20:48:56.466541",
     "status": "completed"
    },
    "tags": []
   },
   "outputs": [
    {
     "data": {
      "text/html": [
       "<style>#sk-container-id-4 {color: black;background-color: white;}#sk-container-id-4 pre{padding: 0;}#sk-container-id-4 div.sk-toggleable {background-color: white;}#sk-container-id-4 label.sk-toggleable__label {cursor: pointer;display: block;width: 100%;margin-bottom: 0;padding: 0.3em;box-sizing: border-box;text-align: center;}#sk-container-id-4 label.sk-toggleable__label-arrow:before {content: \"▸\";float: left;margin-right: 0.25em;color: #696969;}#sk-container-id-4 label.sk-toggleable__label-arrow:hover:before {color: black;}#sk-container-id-4 div.sk-estimator:hover label.sk-toggleable__label-arrow:before {color: black;}#sk-container-id-4 div.sk-toggleable__content {max-height: 0;max-width: 0;overflow: hidden;text-align: left;background-color: #f0f8ff;}#sk-container-id-4 div.sk-toggleable__content pre {margin: 0.2em;color: black;border-radius: 0.25em;background-color: #f0f8ff;}#sk-container-id-4 input.sk-toggleable__control:checked~div.sk-toggleable__content {max-height: 200px;max-width: 100%;overflow: auto;}#sk-container-id-4 input.sk-toggleable__control:checked~label.sk-toggleable__label-arrow:before {content: \"▾\";}#sk-container-id-4 div.sk-estimator input.sk-toggleable__control:checked~label.sk-toggleable__label {background-color: #d4ebff;}#sk-container-id-4 div.sk-label input.sk-toggleable__control:checked~label.sk-toggleable__label {background-color: #d4ebff;}#sk-container-id-4 input.sk-hidden--visually {border: 0;clip: rect(1px 1px 1px 1px);clip: rect(1px, 1px, 1px, 1px);height: 1px;margin: -1px;overflow: hidden;padding: 0;position: absolute;width: 1px;}#sk-container-id-4 div.sk-estimator {font-family: monospace;background-color: #f0f8ff;border: 1px dotted black;border-radius: 0.25em;box-sizing: border-box;margin-bottom: 0.5em;}#sk-container-id-4 div.sk-estimator:hover {background-color: #d4ebff;}#sk-container-id-4 div.sk-parallel-item::after {content: \"\";width: 100%;border-bottom: 1px solid gray;flex-grow: 1;}#sk-container-id-4 div.sk-label:hover label.sk-toggleable__label {background-color: #d4ebff;}#sk-container-id-4 div.sk-serial::before {content: \"\";position: absolute;border-left: 1px solid gray;box-sizing: border-box;top: 0;bottom: 0;left: 50%;z-index: 0;}#sk-container-id-4 div.sk-serial {display: flex;flex-direction: column;align-items: center;background-color: white;padding-right: 0.2em;padding-left: 0.2em;position: relative;}#sk-container-id-4 div.sk-item {position: relative;z-index: 1;}#sk-container-id-4 div.sk-parallel {display: flex;align-items: stretch;justify-content: center;background-color: white;position: relative;}#sk-container-id-4 div.sk-item::before, #sk-container-id-4 div.sk-parallel-item::before {content: \"\";position: absolute;border-left: 1px solid gray;box-sizing: border-box;top: 0;bottom: 0;left: 50%;z-index: -1;}#sk-container-id-4 div.sk-parallel-item {display: flex;flex-direction: column;z-index: 1;position: relative;background-color: white;}#sk-container-id-4 div.sk-parallel-item:first-child::after {align-self: flex-end;width: 50%;}#sk-container-id-4 div.sk-parallel-item:last-child::after {align-self: flex-start;width: 50%;}#sk-container-id-4 div.sk-parallel-item:only-child::after {width: 0;}#sk-container-id-4 div.sk-dashed-wrapped {border: 1px dashed gray;margin: 0 0.4em 0.5em 0.4em;box-sizing: border-box;padding-bottom: 0.4em;background-color: white;}#sk-container-id-4 div.sk-label label {font-family: monospace;font-weight: bold;display: inline-block;line-height: 1.2em;}#sk-container-id-4 div.sk-label-container {text-align: center;}#sk-container-id-4 div.sk-container {/* jupyter's `normalize.less` sets `[hidden] { display: none; }` but bootstrap.min.css set `[hidden] { display: none !important; }` so we also need the `!important` here to be able to override the default hidden behavior on the sphinx rendered scikit-learn.org. See: https://github.com/scikit-learn/scikit-learn/issues/21755 */display: inline-block !important;position: relative;}#sk-container-id-4 div.sk-text-repr-fallback {display: none;}</style><div id=\"sk-container-id-4\" class=\"sk-top-container\"><div class=\"sk-text-repr-fallback\"><pre>SGDClassifier()</pre><b>In a Jupyter environment, please rerun this cell to show the HTML representation or trust the notebook. <br />On GitHub, the HTML representation is unable to render, please try loading this page with nbviewer.org.</b></div><div class=\"sk-container\" hidden><div class=\"sk-item\"><div class=\"sk-estimator sk-toggleable\"><input class=\"sk-toggleable__control sk-hidden--visually\" id=\"sk-estimator-id-4\" type=\"checkbox\" checked><label for=\"sk-estimator-id-4\" class=\"sk-toggleable__label sk-toggleable__label-arrow\">SGDClassifier</label><div class=\"sk-toggleable__content\"><pre>SGDClassifier()</pre></div></div></div></div></div>"
      ],
      "text/plain": [
       "SGDClassifier()"
      ]
     },
     "execution_count": 23,
     "metadata": {},
     "output_type": "execute_result"
    }
   ],
   "source": [
    "from sklearn.linear_model import SGDClassifier\n",
    "\n",
    "sgd = SGDClassifier()\n",
    "sgd.fit(X_train, y_train)"
   ]
  },
  {
   "cell_type": "code",
   "execution_count": 24,
   "id": "ebb686e5",
   "metadata": {
    "execution": {
     "iopub.execute_input": "2025-04-14T20:48:57.340010Z",
     "iopub.status.busy": "2025-04-14T20:48:57.339437Z",
     "iopub.status.idle": "2025-04-14T20:48:57.344357Z",
     "shell.execute_reply": "2025-04-14T20:48:57.343593Z"
    },
    "papermill": {
     "duration": 0.017589,
     "end_time": "2025-04-14T20:48:57.345855",
     "exception": false,
     "start_time": "2025-04-14T20:48:57.328266",
     "status": "completed"
    },
    "tags": []
   },
   "outputs": [],
   "source": [
    "y_pred = sgd.predict(X_test)"
   ]
  },
  {
   "cell_type": "code",
   "execution_count": 25,
   "id": "9bf84872",
   "metadata": {
    "execution": {
     "iopub.execute_input": "2025-04-14T20:48:57.369066Z",
     "iopub.status.busy": "2025-04-14T20:48:57.368551Z",
     "iopub.status.idle": "2025-04-14T20:48:57.686176Z",
     "shell.execute_reply": "2025-04-14T20:48:57.685024Z"
    },
    "papermill": {
     "duration": 0.330177,
     "end_time": "2025-04-14T20:48:57.687617",
     "exception": false,
     "start_time": "2025-04-14T20:48:57.357440",
     "status": "completed"
    },
    "tags": []
   },
   "outputs": [
    {
     "name": "stdout",
     "output_type": "stream",
     "text": [
      "\n",
      "                Градиентный спуск\n",
      "==========================================\n",
      " auc: 0.700530199893221             \n",
      "==========================================\n",
      " report:                                \n",
      "              precision    recall  f1-score   support\n",
      "\n",
      "          -1       0.67      0.82      0.74      7368\n",
      "           1       0.76      0.58      0.66      7063\n",
      "\n",
      "    accuracy                           0.70     14431\n",
      "   macro avg       0.71      0.70      0.70     14431\n",
      "weighted avg       0.71      0.70      0.70     14431\n",
      "\n",
      "==========================================    \n"
     ]
    },
    {
     "data": {
      "image/png": "[encoded data removed]",
      "text/plain": [
       "<Figure size 800x800 with 2 Axes>"
      ]
     },
     "metadata": {},
     "output_type": "display_data"
    },
    {
     "name": "stdout",
     "output_type": "stream",
     "text": [
      "AUC: 0.700530199893221\n",
      "Accuracy: 0.7031390756011364\n",
      "Precision: 0.758607854085241\n",
      "Recall: 0.5770918873000142\n",
      "F1-score: 0.6555162431650049\n"
     ]
    }
   ],
   "source": [
    "show_metrics(y_test, y_pred, 'Градиентный спуск')\n",
    "show_confusion_matrix(y_test, y_pred, 'Градиентный спуск на извлеченных из текста признаках')\n",
    "compute_metrics(y_test, y_pred)"
   ]
  },
  {
   "cell_type": "code",
   "execution_count": 26,
   "id": "982862df",
   "metadata": {
    "execution": {
     "iopub.execute_input": "2025-04-14T20:48:57.710981Z",
     "iopub.status.busy": "2025-04-14T20:48:57.710418Z",
     "iopub.status.idle": "2025-04-14T20:48:57.777533Z",
     "shell.execute_reply": "2025-04-14T20:48:57.776579Z"
    },
    "papermill": {
     "duration": 0.080122,
     "end_time": "2025-04-14T20:48:57.778928",
     "exception": false,
     "start_time": "2025-04-14T20:48:57.698806",
     "status": "completed"
    },
    "tags": []
   },
   "outputs": [
    {
     "data": {
      "text/html": [
       "<style>#sk-container-id-5 {color: black;background-color: white;}#sk-container-id-5 pre{padding: 0;}#sk-container-id-5 div.sk-toggleable {background-color: white;}#sk-container-id-5 label.sk-toggleable__label {cursor: pointer;display: block;width: 100%;margin-bottom: 0;padding: 0.3em;box-sizing: border-box;text-align: center;}#sk-container-id-5 label.sk-toggleable__label-arrow:before {content: \"▸\";float: left;margin-right: 0.25em;color: #696969;}#sk-container-id-5 label.sk-toggleable__label-arrow:hover:before {color: black;}#sk-container-id-5 div.sk-estimator:hover label.sk-toggleable__label-arrow:before {color: black;}#sk-container-id-5 div.sk-toggleable__content {max-height: 0;max-width: 0;overflow: hidden;text-align: left;background-color: #f0f8ff;}#sk-container-id-5 div.sk-toggleable__content pre {margin: 0.2em;color: black;border-radius: 0.25em;background-color: #f0f8ff;}#sk-container-id-5 input.sk-toggleable__control:checked~div.sk-toggleable__content {max-height: 200px;max-width: 100%;overflow: auto;}#sk-container-id-5 input.sk-toggleable__control:checked~label.sk-toggleable__label-arrow:before {content: \"▾\";}#sk-container-id-5 div.sk-estimator input.sk-toggleable__control:checked~label.sk-toggleable__label {background-color: #d4ebff;}#sk-container-id-5 div.sk-label input.sk-toggleable__control:checked~label.sk-toggleable__label {background-color: #d4ebff;}#sk-container-id-5 input.sk-hidden--visually {border: 0;clip: rect(1px 1px 1px 1px);clip: rect(1px, 1px, 1px, 1px);height: 1px;margin: -1px;overflow: hidden;padding: 0;position: absolute;width: 1px;}#sk-container-id-5 div.sk-estimator {font-family: monospace;background-color: #f0f8ff;border: 1px dotted black;border-radius: 0.25em;box-sizing: border-box;margin-bottom: 0.5em;}#sk-container-id-5 div.sk-estimator:hover {background-color: #d4ebff;}#sk-container-id-5 div.sk-parallel-item::after {content: \"\";width: 100%;border-bottom: 1px solid gray;flex-grow: 1;}#sk-container-id-5 div.sk-label:hover label.sk-toggleable__label {background-color: #d4ebff;}#sk-container-id-5 div.sk-serial::before {content: \"\";position: absolute;border-left: 1px solid gray;box-sizing: border-box;top: 0;bottom: 0;left: 50%;z-index: 0;}#sk-container-id-5 div.sk-serial {display: flex;flex-direction: column;align-items: center;background-color: white;padding-right: 0.2em;padding-left: 0.2em;position: relative;}#sk-container-id-5 div.sk-item {position: relative;z-index: 1;}#sk-container-id-5 div.sk-parallel {display: flex;align-items: stretch;justify-content: center;background-color: white;position: relative;}#sk-container-id-5 div.sk-item::before, #sk-container-id-5 div.sk-parallel-item::before {content: \"\";position: absolute;border-left: 1px solid gray;box-sizing: border-box;top: 0;bottom: 0;left: 50%;z-index: -1;}#sk-container-id-5 div.sk-parallel-item {display: flex;flex-direction: column;z-index: 1;position: relative;background-color: white;}#sk-container-id-5 div.sk-parallel-item:first-child::after {align-self: flex-end;width: 50%;}#sk-container-id-5 div.sk-parallel-item:last-child::after {align-self: flex-start;width: 50%;}#sk-container-id-5 div.sk-parallel-item:only-child::after {width: 0;}#sk-container-id-5 div.sk-dashed-wrapped {border: 1px dashed gray;margin: 0 0.4em 0.5em 0.4em;box-sizing: border-box;padding-bottom: 0.4em;background-color: white;}#sk-container-id-5 div.sk-label label {font-family: monospace;font-weight: bold;display: inline-block;line-height: 1.2em;}#sk-container-id-5 div.sk-label-container {text-align: center;}#sk-container-id-5 div.sk-container {/* jupyter's `normalize.less` sets `[hidden] { display: none; }` but bootstrap.min.css set `[hidden] { display: none !important; }` so we also need the `!important` here to be able to override the default hidden behavior on the sphinx rendered scikit-learn.org. See: https://github.com/scikit-learn/scikit-learn/issues/21755 */display: inline-block !important;position: relative;}#sk-container-id-5 div.sk-text-repr-fallback {display: none;}</style><div id=\"sk-container-id-5\" class=\"sk-top-container\"><div class=\"sk-text-repr-fallback\"><pre>GaussianNB()</pre><b>In a Jupyter environment, please rerun this cell to show the HTML representation or trust the notebook. <br />On GitHub, the HTML representation is unable to render, please try loading this page with nbviewer.org.</b></div><div class=\"sk-container\" hidden><div class=\"sk-item\"><div class=\"sk-estimator sk-toggleable\"><input class=\"sk-toggleable__control sk-hidden--visually\" id=\"sk-estimator-id-5\" type=\"checkbox\" checked><label for=\"sk-estimator-id-5\" class=\"sk-toggleable__label sk-toggleable__label-arrow\">GaussianNB</label><div class=\"sk-toggleable__content\"><pre>GaussianNB()</pre></div></div></div></div></div>"
      ],
      "text/plain": [
       "GaussianNB()"
      ]
     },
     "execution_count": 26,
     "metadata": {},
     "output_type": "execute_result"
    }
   ],
   "source": [
    "from sklearn.naive_bayes import GaussianNB\n",
    "\n",
    "bayes = GaussianNB()\n",
    "bayes.fit(X_train, y_train)\n"
   ]
  },
  {
   "cell_type": "code",
   "execution_count": 27,
   "id": "31ee8de9",
   "metadata": {
    "execution": {
     "iopub.execute_input": "2025-04-14T20:48:57.802823Z",
     "iopub.status.busy": "2025-04-14T20:48:57.802058Z",
     "iopub.status.idle": "2025-04-14T20:48:57.819113Z",
     "shell.execute_reply": "2025-04-14T20:48:57.818256Z"
    },
    "papermill": {
     "duration": 0.030603,
     "end_time": "2025-04-14T20:48:57.820792",
     "exception": false,
     "start_time": "2025-04-14T20:48:57.790189",
     "status": "completed"
    },
    "tags": []
   },
   "outputs": [],
   "source": [
    "y_pred = bayes.predict(X_test)"
   ]
  },
  {
   "cell_type": "code",
   "execution_count": 28,
   "id": "fe055bb1",
   "metadata": {
    "execution": {
     "iopub.execute_input": "2025-04-14T20:48:57.846010Z",
     "iopub.status.busy": "2025-04-14T20:48:57.845419Z",
     "iopub.status.idle": "2025-04-14T20:48:58.163605Z",
     "shell.execute_reply": "2025-04-14T20:48:58.162634Z"
    },
    "papermill": {
     "duration": 0.33232,
     "end_time": "2025-04-14T20:48:58.164999",
     "exception": false,
     "start_time": "2025-04-14T20:48:57.832679",
     "status": "completed"
    },
    "tags": []
   },
   "outputs": [
    {
     "name": "stdout",
     "output_type": "stream",
     "text": [
      "\n",
      "                Наивный Байес\n",
      "==========================================\n",
      " auc: 0.617437075164838             \n",
      "==========================================\n",
      " report:                                \n",
      "              precision    recall  f1-score   support\n",
      "\n",
      "          -1       0.59      0.83      0.69      7368\n",
      "           1       0.70      0.40      0.51      7063\n",
      "\n",
      "    accuracy                           0.62     14431\n",
      "   macro avg       0.64      0.62      0.60     14431\n",
      "weighted avg       0.64      0.62      0.60     14431\n",
      "\n",
      "==========================================    \n"
     ]
    },
    {
     "data": {
      "image/png": "[encoded data removed]",
      "text/plain": [
       "<Figure size 800x800 with 2 Axes>"
      ]
     },
     "metadata": {},
     "output_type": "display_data"
    },
    {
     "name": "stdout",
     "output_type": "stream",
     "text": [
      "AUC: 0.617437075164838\n",
      "Accuracy: 0.6219943177880951\n",
      "Precision: 0.6976401179941003\n",
      "Recall: 0.4018122610788617\n",
      "F1-score: 0.5099272302578385\n"
     ]
    }
   ],
   "source": [
    "show_metrics(y_test, y_pred, 'Наивный Байес')\n",
    "show_confusion_matrix(y_test, y_pred, 'Наивный Байес на извлеченных из текста признаках')\n",
    "compute_metrics(y_test, y_pred)"
   ]
  },
  {
   "cell_type": "code",
   "execution_count": 29,
   "id": "4d418ba0",
   "metadata": {
    "execution": {
     "iopub.execute_input": "2025-04-14T20:48:58.190729Z",
     "iopub.status.busy": "2025-04-14T20:48:58.190404Z",
     "iopub.status.idle": "2025-04-14T20:48:59.839063Z",
     "shell.execute_reply": "2025-04-14T20:48:59.838408Z"
    },
    "papermill": {
     "duration": 1.663098,
     "end_time": "2025-04-14T20:48:59.840381",
     "exception": false,
     "start_time": "2025-04-14T20:48:58.177283",
     "status": "completed"
    },
    "tags": []
   },
   "outputs": [
    {
     "data": {
      "text/html": [
       "<style>#sk-container-id-6 {color: black;background-color: white;}#sk-container-id-6 pre{padding: 0;}#sk-container-id-6 div.sk-toggleable {background-color: white;}#sk-container-id-6 label.sk-toggleable__label {cursor: pointer;display: block;width: 100%;margin-bottom: 0;padding: 0.3em;box-sizing: border-box;text-align: center;}#sk-container-id-6 label.sk-toggleable__label-arrow:before {content: \"▸\";float: left;margin-right: 0.25em;color: #696969;}#sk-container-id-6 label.sk-toggleable__label-arrow:hover:before {color: black;}#sk-container-id-6 div.sk-estimator:hover label.sk-toggleable__label-arrow:before {color: black;}#sk-container-id-6 div.sk-toggleable__content {max-height: 0;max-width: 0;overflow: hidden;text-align: left;background-color: #f0f8ff;}#sk-container-id-6 div.sk-toggleable__content pre {margin: 0.2em;color: black;border-radius: 0.25em;background-color: #f0f8ff;}#sk-container-id-6 input.sk-toggleable__control:checked~div.sk-toggleable__content {max-height: 200px;max-width: 100%;overflow: auto;}#sk-container-id-6 input.sk-toggleable__control:checked~label.sk-toggleable__label-arrow:before {content: \"▾\";}#sk-container-id-6 div.sk-estimator input.sk-toggleable__control:checked~label.sk-toggleable__label {background-color: #d4ebff;}#sk-container-id-6 div.sk-label input.sk-toggleable__control:checked~label.sk-toggleable__label {background-color: #d4ebff;}#sk-container-id-6 input.sk-hidden--visually {border: 0;clip: rect(1px 1px 1px 1px);clip: rect(1px, 1px, 1px, 1px);height: 1px;margin: -1px;overflow: hidden;padding: 0;position: absolute;width: 1px;}#sk-container-id-6 div.sk-estimator {font-family: monospace;background-color: #f0f8ff;border: 1px dotted black;border-radius: 0.25em;box-sizing: border-box;margin-bottom: 0.5em;}#sk-container-id-6 div.sk-estimator:hover {background-color: #d4ebff;}#sk-container-id-6 div.sk-parallel-item::after {content: \"\";width: 100%;border-bottom: 1px solid gray;flex-grow: 1;}#sk-container-id-6 div.sk-label:hover label.sk-toggleable__label {background-color: #d4ebff;}#sk-container-id-6 div.sk-serial::before {content: \"\";position: absolute;border-left: 1px solid gray;box-sizing: border-box;top: 0;bottom: 0;left: 50%;z-index: 0;}#sk-container-id-6 div.sk-serial {display: flex;flex-direction: column;align-items: center;background-color: white;padding-right: 0.2em;padding-left: 0.2em;position: relative;}#sk-container-id-6 div.sk-item {position: relative;z-index: 1;}#sk-container-id-6 div.sk-parallel {display: flex;align-items: stretch;justify-content: center;background-color: white;position: relative;}#sk-container-id-6 div.sk-item::before, #sk-container-id-6 div.sk-parallel-item::before {content: \"\";position: absolute;border-left: 1px solid gray;box-sizing: border-box;top: 0;bottom: 0;left: 50%;z-index: -1;}#sk-container-id-6 div.sk-parallel-item {display: flex;flex-direction: column;z-index: 1;position: relative;background-color: white;}#sk-container-id-6 div.sk-parallel-item:first-child::after {align-self: flex-end;width: 50%;}#sk-container-id-6 div.sk-parallel-item:last-child::after {align-self: flex-start;width: 50%;}#sk-container-id-6 div.sk-parallel-item:only-child::after {width: 0;}#sk-container-id-6 div.sk-dashed-wrapped {border: 1px dashed gray;margin: 0 0.4em 0.5em 0.4em;box-sizing: border-box;padding-bottom: 0.4em;background-color: white;}#sk-container-id-6 div.sk-label label {font-family: monospace;font-weight: bold;display: inline-block;line-height: 1.2em;}#sk-container-id-6 div.sk-label-container {text-align: center;}#sk-container-id-6 div.sk-container {/* jupyter's `normalize.less` sets `[hidden] { display: none; }` but bootstrap.min.css set `[hidden] { display: none !important; }` so we also need the `!important` here to be able to override the default hidden behavior on the sphinx rendered scikit-learn.org. See: https://github.com/scikit-learn/scikit-learn/issues/21755 */display: inline-block !important;position: relative;}#sk-container-id-6 div.sk-text-repr-fallback {display: none;}</style><div id=\"sk-container-id-6\" class=\"sk-top-container\"><div class=\"sk-text-repr-fallback\"><pre>HistGradientBoostingClassifier()</pre><b>In a Jupyter environment, please rerun this cell to show the HTML representation or trust the notebook. <br />On GitHub, the HTML representation is unable to render, please try loading this page with nbviewer.org.</b></div><div class=\"sk-container\" hidden><div class=\"sk-item\"><div class=\"sk-estimator sk-toggleable\"><input class=\"sk-toggleable__control sk-hidden--visually\" id=\"sk-estimator-id-6\" type=\"checkbox\" checked><label for=\"sk-estimator-id-6\" class=\"sk-toggleable__label sk-toggleable__label-arrow\">HistGradientBoostingClassifier</label><div class=\"sk-toggleable__content\"><pre>HistGradientBoostingClassifier()</pre></div></div></div></div></div>"
      ],
      "text/plain": [
       "HistGradientBoostingClassifier()"
      ]
     },
     "execution_count": 29,
     "metadata": {},
     "output_type": "execute_result"
    }
   ],
   "source": [
    "from sklearn.ensemble import HistGradientBoostingClassifier\n",
    "\n",
    "boosting = HistGradientBoostingClassifier()\n",
    "\n",
    "boosting.fit(X_train, y_train)"
   ]
  },
  {
   "cell_type": "code",
   "execution_count": 30,
   "id": "11c2129a",
   "metadata": {
    "execution": {
     "iopub.execute_input": "2025-04-14T20:48:59.866736Z",
     "iopub.status.busy": "2025-04-14T20:48:59.866417Z",
     "iopub.status.idle": "2025-04-14T20:48:59.929902Z",
     "shell.execute_reply": "2025-04-14T20:48:59.929236Z"
    },
    "papermill": {
     "duration": 0.079028,
     "end_time": "2025-04-14T20:48:59.931671",
     "exception": false,
     "start_time": "2025-04-14T20:48:59.852643",
     "status": "completed"
    },
    "tags": []
   },
   "outputs": [],
   "source": [
    "y_pred = boosting.predict(X_test)"
   ]
  },
  {
   "cell_type": "code",
   "execution_count": 31,
   "id": "b712248a",
   "metadata": {
    "execution": {
     "iopub.execute_input": "2025-04-14T20:48:59.957377Z",
     "iopub.status.busy": "2025-04-14T20:48:59.956962Z",
     "iopub.status.idle": "2025-04-14T20:49:00.274952Z",
     "shell.execute_reply": "2025-04-14T20:49:00.274025Z"
    },
    "papermill": {
     "duration": 0.332352,
     "end_time": "2025-04-14T20:49:00.276239",
     "exception": false,
     "start_time": "2025-04-14T20:48:59.943887",
     "status": "completed"
    },
    "tags": []
   },
   "outputs": [
    {
     "name": "stdout",
     "output_type": "stream",
     "text": [
      "\n",
      "                Градиентный бустинг\n",
      "==========================================\n",
      " auc: 0.7876479356798585             \n",
      "==========================================\n",
      " report:                                \n",
      "              precision    recall  f1-score   support\n",
      "\n",
      "          -1       0.77      0.84      0.80      7368\n",
      "           1       0.82      0.73      0.77      7063\n",
      "\n",
      "    accuracy                           0.79     14431\n",
      "   macro avg       0.79      0.79      0.79     14431\n",
      "weighted avg       0.79      0.79      0.79     14431\n",
      "\n",
      "==========================================    \n"
     ]
    },
    {
     "data": {
      "image/png": "[encoded data removed]",
      "text/plain": [
       "<Figure size 800x800 with 2 Axes>"
      ]
     },
     "metadata": {},
     "output_type": "display_data"
    },
    {
     "name": "stdout",
     "output_type": "stream",
     "text": [
      "AUC: 0.7876479356798585\n",
      "Accuracy: 0.7888573210449726\n",
      "Precision: 0.818629006664551\n",
      "Recall: 0.7304261645193261\n",
      "F1-score: 0.7720164609053498\n"
     ]
    }
   ],
   "source": [
    "show_metrics(y_test, y_pred, 'Градиентный бустинг')\n",
    "show_confusion_matrix(y_test, y_pred, 'Градиентный бустинг на извлеченных из текста признаках')\n",
    "compute_metrics(y_test, y_pred)"
   ]
  },
  {
   "cell_type": "code",
   "execution_count": 32,
   "id": "84d7d7ab",
   "metadata": {
    "execution": {
     "iopub.execute_input": "2025-04-14T20:49:00.303449Z",
     "iopub.status.busy": "2025-04-14T20:49:00.302698Z",
     "iopub.status.idle": "2025-04-14T20:49:13.844515Z",
     "shell.execute_reply": "2025-04-14T20:49:13.843495Z"
    },
    "papermill": {
     "duration": 13.556984,
     "end_time": "2025-04-14T20:49:13.846039",
     "exception": false,
     "start_time": "2025-04-14T20:49:00.289055",
     "status": "completed"
    },
    "tags": []
   },
   "outputs": [
    {
     "data": {
      "text/html": [
       "<style>#sk-container-id-7 {color: black;background-color: white;}#sk-container-id-7 pre{padding: 0;}#sk-container-id-7 div.sk-toggleable {background-color: white;}#sk-container-id-7 label.sk-toggleable__label {cursor: pointer;display: block;width: 100%;margin-bottom: 0;padding: 0.3em;box-sizing: border-box;text-align: center;}#sk-container-id-7 label.sk-toggleable__label-arrow:before {content: \"▸\";float: left;margin-right: 0.25em;color: #696969;}#sk-container-id-7 label.sk-toggleable__label-arrow:hover:before {color: black;}#sk-container-id-7 div.sk-estimator:hover label.sk-toggleable__label-arrow:before {color: black;}#sk-container-id-7 div.sk-toggleable__content {max-height: 0;max-width: 0;overflow: hidden;text-align: left;background-color: #f0f8ff;}#sk-container-id-7 div.sk-toggleable__content pre {margin: 0.2em;color: black;border-radius: 0.25em;background-color: #f0f8ff;}#sk-container-id-7 input.sk-toggleable__control:checked~div.sk-toggleable__content {max-height: 200px;max-width: 100%;overflow: auto;}#sk-container-id-7 input.sk-toggleable__control:checked~label.sk-toggleable__label-arrow:before {content: \"▾\";}#sk-container-id-7 div.sk-estimator input.sk-toggleable__control:checked~label.sk-toggleable__label {background-color: #d4ebff;}#sk-container-id-7 div.sk-label input.sk-toggleable__control:checked~label.sk-toggleable__label {background-color: #d4ebff;}#sk-container-id-7 input.sk-hidden--visually {border: 0;clip: rect(1px 1px 1px 1px);clip: rect(1px, 1px, 1px, 1px);height: 1px;margin: -1px;overflow: hidden;padding: 0;position: absolute;width: 1px;}#sk-container-id-7 div.sk-estimator {font-family: monospace;background-color: #f0f8ff;border: 1px dotted black;border-radius: 0.25em;box-sizing: border-box;margin-bottom: 0.5em;}#sk-container-id-7 div.sk-estimator:hover {background-color: #d4ebff;}#sk-container-id-7 div.sk-parallel-item::after {content: \"\";width: 100%;border-bottom: 1px solid gray;flex-grow: 1;}#sk-container-id-7 div.sk-label:hover label.sk-toggleable__label {background-color: #d4ebff;}#sk-container-id-7 div.sk-serial::before {content: \"\";position: absolute;border-left: 1px solid gray;box-sizing: border-box;top: 0;bottom: 0;left: 50%;z-index: 0;}#sk-container-id-7 div.sk-serial {display: flex;flex-direction: column;align-items: center;background-color: white;padding-right: 0.2em;padding-left: 0.2em;position: relative;}#sk-container-id-7 div.sk-item {position: relative;z-index: 1;}#sk-container-id-7 div.sk-parallel {display: flex;align-items: stretch;justify-content: center;background-color: white;position: relative;}#sk-container-id-7 div.sk-item::before, #sk-container-id-7 div.sk-parallel-item::before {content: \"\";position: absolute;border-left: 1px solid gray;box-sizing: border-box;top: 0;bottom: 0;left: 50%;z-index: -1;}#sk-container-id-7 div.sk-parallel-item {display: flex;flex-direction: column;z-index: 1;position: relative;background-color: white;}#sk-container-id-7 div.sk-parallel-item:first-child::after {align-self: flex-end;width: 50%;}#sk-container-id-7 div.sk-parallel-item:last-child::after {align-self: flex-start;width: 50%;}#sk-container-id-7 div.sk-parallel-item:only-child::after {width: 0;}#sk-container-id-7 div.sk-dashed-wrapped {border: 1px dashed gray;margin: 0 0.4em 0.5em 0.4em;box-sizing: border-box;padding-bottom: 0.4em;background-color: white;}#sk-container-id-7 div.sk-label label {font-family: monospace;font-weight: bold;display: inline-block;line-height: 1.2em;}#sk-container-id-7 div.sk-label-container {text-align: center;}#sk-container-id-7 div.sk-container {/* jupyter's `normalize.less` sets `[hidden] { display: none; }` but bootstrap.min.css set `[hidden] { display: none !important; }` so we also need the `!important` here to be able to override the default hidden behavior on the sphinx rendered scikit-learn.org. See: https://github.com/scikit-learn/scikit-learn/issues/21755 */display: inline-block !important;position: relative;}#sk-container-id-7 div.sk-text-repr-fallback {display: none;}</style><div id=\"sk-container-id-7\" class=\"sk-top-container\"><div class=\"sk-text-repr-fallback\"><pre>MLPClassifier(early_stopping=True, hidden_layer_sizes=(128, 64))</pre><b>In a Jupyter environment, please rerun this cell to show the HTML representation or trust the notebook. <br />On GitHub, the HTML representation is unable to render, please try loading this page with nbviewer.org.</b></div><div class=\"sk-container\" hidden><div class=\"sk-item\"><div class=\"sk-estimator sk-toggleable\"><input class=\"sk-toggleable__control sk-hidden--visually\" id=\"sk-estimator-id-7\" type=\"checkbox\" checked><label for=\"sk-estimator-id-7\" class=\"sk-toggleable__label sk-toggleable__label-arrow\">MLPClassifier</label><div class=\"sk-toggleable__content\"><pre>MLPClassifier(early_stopping=True, hidden_layer_sizes=(128, 64))</pre></div></div></div></div></div>"
      ],
      "text/plain": [
       "MLPClassifier(early_stopping=True, hidden_layer_sizes=(128, 64))"
      ]
     },
     "execution_count": 32,
     "metadata": {},
     "output_type": "execute_result"
    }
   ],
   "source": [
    "from sklearn.neural_network import MLPClassifier\n",
    "\n",
    "mlp = MLPClassifier(hidden_layer_sizes=(128,64), activation='relu', solver='adam', early_stopping=True)\n",
    "mlp.fit(X_train, y_train)"
   ]
  },
  {
   "cell_type": "code",
   "execution_count": 33,
   "id": "a6dd7f30",
   "metadata": {
    "execution": {
     "iopub.execute_input": "2025-04-14T20:49:13.873355Z",
     "iopub.status.busy": "2025-04-14T20:49:13.872598Z",
     "iopub.status.idle": "2025-04-14T20:49:13.908184Z",
     "shell.execute_reply": "2025-04-14T20:49:13.907359Z"
    },
    "papermill": {
     "duration": 0.050904,
     "end_time": "2025-04-14T20:49:13.910101",
     "exception": false,
     "start_time": "2025-04-14T20:49:13.859197",
     "status": "completed"
    },
    "tags": []
   },
   "outputs": [],
   "source": [
    "y_pred = mlp.predict(X_test)\n"
   ]
  },
  {
   "cell_type": "code",
   "execution_count": 34,
   "id": "028d7332",
   "metadata": {
    "execution": {
     "iopub.execute_input": "2025-04-14T20:49:13.937501Z",
     "iopub.status.busy": "2025-04-14T20:49:13.936743Z",
     "iopub.status.idle": "2025-04-14T20:49:14.242145Z",
     "shell.execute_reply": "2025-04-14T20:49:14.241114Z"
    },
    "papermill": {
     "duration": 0.320404,
     "end_time": "2025-04-14T20:49:14.243595",
     "exception": false,
     "start_time": "2025-04-14T20:49:13.923191",
     "status": "completed"
    },
    "tags": []
   },
   "outputs": [
    {
     "name": "stdout",
     "output_type": "stream",
     "text": [
      "\n",
      "                Нейронная сеть\n",
      "==========================================\n",
      " auc: 0.7462064219450109             \n",
      "==========================================\n",
      " report:                                \n",
      "              precision    recall  f1-score   support\n",
      "\n",
      "          -1       0.73      0.81      0.77      7368\n",
      "           1       0.78      0.68      0.73      7063\n",
      "\n",
      "    accuracy                           0.75     14431\n",
      "   macro avg       0.75      0.75      0.75     14431\n",
      "weighted avg       0.75      0.75      0.75     14431\n",
      "\n",
      "==========================================    \n"
     ]
    },
    {
     "data": {
      "image/png": "[encoded data removed]",
      "text/plain": [
       "<Figure size 800x800 with 2 Axes>"
      ]
     },
     "metadata": {},
     "output_type": "display_data"
    },
    {
     "name": "stdout",
     "output_type": "stream",
     "text": [
      "AUC: 0.7462064219450109\n",
      "Accuracy: 0.7475573418335527\n",
      "Precision: 0.7750080411707945\n",
      "Recall: 0.6822879796120629\n",
      "F1-score: 0.725698366086891\n"
     ]
    }
   ],
   "source": [
    "show_metrics(y_test, y_pred, 'Нейронная сеть')\n",
    "show_confusion_matrix(y_test, y_pred, 'Нейронная сеть на извлеченных из текста признаках')\n",
    "compute_metrics(y_test, y_pred)"
   ]
  },
  {
   "cell_type": "code",
   "execution_count": 35,
   "id": "7fba7abd",
   "metadata": {
    "execution": {
     "iopub.execute_input": "2025-04-14T20:49:14.273238Z",
     "iopub.status.busy": "2025-04-14T20:49:14.272645Z",
     "iopub.status.idle": "2025-04-14T20:49:19.630390Z",
     "shell.execute_reply": "2025-04-14T20:49:19.629569Z"
    },
    "papermill": {
     "duration": 5.374887,
     "end_time": "2025-04-14T20:49:19.631754",
     "exception": false,
     "start_time": "2025-04-14T20:49:14.256867",
     "status": "completed"
    },
    "tags": []
   },
   "outputs": [
    {
     "data": {
      "text/html": [
       "<style>#sk-container-id-8 {color: black;background-color: white;}#sk-container-id-8 pre{padding: 0;}#sk-container-id-8 div.sk-toggleable {background-color: white;}#sk-container-id-8 label.sk-toggleable__label {cursor: pointer;display: block;width: 100%;margin-bottom: 0;padding: 0.3em;box-sizing: border-box;text-align: center;}#sk-container-id-8 label.sk-toggleable__label-arrow:before {content: \"▸\";float: left;margin-right: 0.25em;color: #696969;}#sk-container-id-8 label.sk-toggleable__label-arrow:hover:before {color: black;}#sk-container-id-8 div.sk-estimator:hover label.sk-toggleable__label-arrow:before {color: black;}#sk-container-id-8 div.sk-toggleable__content {max-height: 0;max-width: 0;overflow: hidden;text-align: left;background-color: #f0f8ff;}#sk-container-id-8 div.sk-toggleable__content pre {margin: 0.2em;color: black;border-radius: 0.25em;background-color: #f0f8ff;}#sk-container-id-8 input.sk-toggleable__control:checked~div.sk-toggleable__content {max-height: 200px;max-width: 100%;overflow: auto;}#sk-container-id-8 input.sk-toggleable__control:checked~label.sk-toggleable__label-arrow:before {content: \"▾\";}#sk-container-id-8 div.sk-estimator input.sk-toggleable__control:checked~label.sk-toggleable__label {background-color: #d4ebff;}#sk-container-id-8 div.sk-label input.sk-toggleable__control:checked~label.sk-toggleable__label {background-color: #d4ebff;}#sk-container-id-8 input.sk-hidden--visually {border: 0;clip: rect(1px 1px 1px 1px);clip: rect(1px, 1px, 1px, 1px);height: 1px;margin: -1px;overflow: hidden;padding: 0;position: absolute;width: 1px;}#sk-container-id-8 div.sk-estimator {font-family: monospace;background-color: #f0f8ff;border: 1px dotted black;border-radius: 0.25em;box-sizing: border-box;margin-bottom: 0.5em;}#sk-container-id-8 div.sk-estimator:hover {background-color: #d4ebff;}#sk-container-id-8 div.sk-parallel-item::after {content: \"\";width: 100%;border-bottom: 1px solid gray;flex-grow: 1;}#sk-container-id-8 div.sk-label:hover label.sk-toggleable__label {background-color: #d4ebff;}#sk-container-id-8 div.sk-serial::before {content: \"\";position: absolute;border-left: 1px solid gray;box-sizing: border-box;top: 0;bottom: 0;left: 50%;z-index: 0;}#sk-container-id-8 div.sk-serial {display: flex;flex-direction: column;align-items: center;background-color: white;padding-right: 0.2em;padding-left: 0.2em;position: relative;}#sk-container-id-8 div.sk-item {position: relative;z-index: 1;}#sk-container-id-8 div.sk-parallel {display: flex;align-items: stretch;justify-content: center;background-color: white;position: relative;}#sk-container-id-8 div.sk-item::before, #sk-container-id-8 div.sk-parallel-item::before {content: \"\";position: absolute;border-left: 1px solid gray;box-sizing: border-box;top: 0;bottom: 0;left: 50%;z-index: -1;}#sk-container-id-8 div.sk-parallel-item {display: flex;flex-direction: column;z-index: 1;position: relative;background-color: white;}#sk-container-id-8 div.sk-parallel-item:first-child::after {align-self: flex-end;width: 50%;}#sk-container-id-8 div.sk-parallel-item:last-child::after {align-self: flex-start;width: 50%;}#sk-container-id-8 div.sk-parallel-item:only-child::after {width: 0;}#sk-container-id-8 div.sk-dashed-wrapped {border: 1px dashed gray;margin: 0 0.4em 0.5em 0.4em;box-sizing: border-box;padding-bottom: 0.4em;background-color: white;}#sk-container-id-8 div.sk-label label {font-family: monospace;font-weight: bold;display: inline-block;line-height: 1.2em;}#sk-container-id-8 div.sk-label-container {text-align: center;}#sk-container-id-8 div.sk-container {/* jupyter's `normalize.less` sets `[hidden] { display: none; }` but bootstrap.min.css set `[hidden] { display: none !important; }` so we also need the `!important` here to be able to override the default hidden behavior on the sphinx rendered scikit-learn.org. See: https://github.com/scikit-learn/scikit-learn/issues/21755 */display: inline-block !important;position: relative;}#sk-container-id-8 div.sk-text-repr-fallback {display: none;}</style><div id=\"sk-container-id-8\" class=\"sk-top-container\"><div class=\"sk-text-repr-fallback\"><pre>AdaBoostClassifier()</pre><b>In a Jupyter environment, please rerun this cell to show the HTML representation or trust the notebook. <br />On GitHub, the HTML representation is unable to render, please try loading this page with nbviewer.org.</b></div><div class=\"sk-container\" hidden><div class=\"sk-item\"><div class=\"sk-estimator sk-toggleable\"><input class=\"sk-toggleable__control sk-hidden--visually\" id=\"sk-estimator-id-8\" type=\"checkbox\" checked><label for=\"sk-estimator-id-8\" class=\"sk-toggleable__label sk-toggleable__label-arrow\">AdaBoostClassifier</label><div class=\"sk-toggleable__content\"><pre>AdaBoostClassifier()</pre></div></div></div></div></div>"
      ],
      "text/plain": [
       "AdaBoostClassifier()"
      ]
     },
     "execution_count": 35,
     "metadata": {},
     "output_type": "execute_result"
    }
   ],
   "source": [
    "from sklearn.ensemble import AdaBoostClassifier\n",
    "ada = AdaBoostClassifier()\n",
    "\n",
    "ada.fit(X_train, y_train)\n"
   ]
  },
  {
   "cell_type": "code",
   "execution_count": 36,
   "id": "c68b1282",
   "metadata": {
    "execution": {
     "iopub.execute_input": "2025-04-14T20:49:19.659576Z",
     "iopub.status.busy": "2025-04-14T20:49:19.658883Z",
     "iopub.status.idle": "2025-04-14T20:49:19.765474Z",
     "shell.execute_reply": "2025-04-14T20:49:19.764788Z"
    },
    "papermill": {
     "duration": 0.121903,
     "end_time": "2025-04-14T20:49:19.766952",
     "exception": false,
     "start_time": "2025-04-14T20:49:19.645049",
     "status": "completed"
    },
    "tags": []
   },
   "outputs": [],
   "source": [
    "y_pred = ada.predict(X_test)"
   ]
  },
  {
   "cell_type": "code",
   "execution_count": 37,
   "id": "21e3c77e",
   "metadata": {
    "execution": {
     "iopub.execute_input": "2025-04-14T20:49:19.795388Z",
     "iopub.status.busy": "2025-04-14T20:49:19.794754Z",
     "iopub.status.idle": "2025-04-14T20:49:20.129586Z",
     "shell.execute_reply": "2025-04-14T20:49:20.128787Z"
    },
    "papermill": {
     "duration": 0.35048,
     "end_time": "2025-04-14T20:49:20.130960",
     "exception": false,
     "start_time": "2025-04-14T20:49:19.780480",
     "status": "completed"
    },
    "tags": []
   },
   "outputs": [
    {
     "name": "stdout",
     "output_type": "stream",
     "text": [
      "\n",
      "                AdaBoost\n",
      "==========================================\n",
      " auc: 0.7529049378457231             \n",
      "==========================================\n",
      " report:                                \n",
      "              precision    recall  f1-score   support\n",
      "\n",
      "          -1       0.74      0.79      0.77      7368\n",
      "           1       0.76      0.72      0.74      7063\n",
      "\n",
      "    accuracy                           0.75     14431\n",
      "   macro avg       0.75      0.75      0.75     14431\n",
      "weighted avg       0.75      0.75      0.75     14431\n",
      "\n",
      "==========================================    \n"
     ]
    },
    {
     "data": {
      "image/png": "[encoded data removed]",
      "text/plain": [
       "<Figure size 800x800 with 2 Axes>"
      ]
     },
     "metadata": {},
     "output_type": "display_data"
    },
    {
     "name": "stdout",
     "output_type": "stream",
     "text": [
      "AUC: 0.7529049378457231\n",
      "Accuracy: 0.7536553253412792\n",
      "Precision: 0.764714760036221\n",
      "Recall: 0.7174005380150078\n",
      "F1-score: 0.7403024326101248\n"
     ]
    }
   ],
   "source": [
    "show_metrics(y_test, y_pred, 'AdaBoost')\n",
    "show_confusion_matrix(y_test, y_pred, 'AdaBoost на извлеченных из текста признаках')\n",
    "compute_metrics(y_test, y_pred)"
   ]
  },
  {
   "cell_type": "code",
   "execution_count": 38,
   "id": "a9aeb779",
   "metadata": {
    "execution": {
     "iopub.execute_input": "2025-04-14T20:49:20.161831Z",
     "iopub.status.busy": "2025-04-14T20:49:20.161210Z",
     "iopub.status.idle": "2025-04-14T20:54:50.515217Z",
     "shell.execute_reply": "2025-04-14T20:54:50.514299Z"
    },
    "papermill": {
     "duration": 330.385475,
     "end_time": "2025-04-14T20:54:50.531089",
     "exception": false,
     "start_time": "2025-04-14T20:49:20.145614",
     "status": "completed"
    },
    "tags": []
   },
   "outputs": [
    {
     "data": {
      "text/html": [
       "<style>#sk-container-id-9 {color: black;background-color: white;}#sk-container-id-9 pre{padding: 0;}#sk-container-id-9 div.sk-toggleable {background-color: white;}#sk-container-id-9 label.sk-toggleable__label {cursor: pointer;display: block;width: 100%;margin-bottom: 0;padding: 0.3em;box-sizing: border-box;text-align: center;}#sk-container-id-9 label.sk-toggleable__label-arrow:before {content: \"▸\";float: left;margin-right: 0.25em;color: #696969;}#sk-container-id-9 label.sk-toggleable__label-arrow:hover:before {color: black;}#sk-container-id-9 div.sk-estimator:hover label.sk-toggleable__label-arrow:before {color: black;}#sk-container-id-9 div.sk-toggleable__content {max-height: 0;max-width: 0;overflow: hidden;text-align: left;background-color: #f0f8ff;}#sk-container-id-9 div.sk-toggleable__content pre {margin: 0.2em;color: black;border-radius: 0.25em;background-color: #f0f8ff;}#sk-container-id-9 input.sk-toggleable__control:checked~div.sk-toggleable__content {max-height: 200px;max-width: 100%;overflow: auto;}#sk-container-id-9 input.sk-toggleable__control:checked~label.sk-toggleable__label-arrow:before {content: \"▾\";}#sk-container-id-9 div.sk-estimator input.sk-toggleable__control:checked~label.sk-toggleable__label {background-color: #d4ebff;}#sk-container-id-9 div.sk-label input.sk-toggleable__control:checked~label.sk-toggleable__label {background-color: #d4ebff;}#sk-container-id-9 input.sk-hidden--visually {border: 0;clip: rect(1px 1px 1px 1px);clip: rect(1px, 1px, 1px, 1px);height: 1px;margin: -1px;overflow: hidden;padding: 0;position: absolute;width: 1px;}#sk-container-id-9 div.sk-estimator {font-family: monospace;background-color: #f0f8ff;border: 1px dotted black;border-radius: 0.25em;box-sizing: border-box;margin-bottom: 0.5em;}#sk-container-id-9 div.sk-estimator:hover {background-color: #d4ebff;}#sk-container-id-9 div.sk-parallel-item::after {content: \"\";width: 100%;border-bottom: 1px solid gray;flex-grow: 1;}#sk-container-id-9 div.sk-label:hover label.sk-toggleable__label {background-color: #d4ebff;}#sk-container-id-9 div.sk-serial::before {content: \"\";position: absolute;border-left: 1px solid gray;box-sizing: border-box;top: 0;bottom: 0;left: 50%;z-index: 0;}#sk-container-id-9 div.sk-serial {display: flex;flex-direction: column;align-items: center;background-color: white;padding-right: 0.2em;padding-left: 0.2em;position: relative;}#sk-container-id-9 div.sk-item {position: relative;z-index: 1;}#sk-container-id-9 div.sk-parallel {display: flex;align-items: stretch;justify-content: center;background-color: white;position: relative;}#sk-container-id-9 div.sk-item::before, #sk-container-id-9 div.sk-parallel-item::before {content: \"\";position: absolute;border-left: 1px solid gray;box-sizing: border-box;top: 0;bottom: 0;left: 50%;z-index: -1;}#sk-container-id-9 div.sk-parallel-item {display: flex;flex-direction: column;z-index: 1;position: relative;background-color: white;}#sk-container-id-9 div.sk-parallel-item:first-child::after {align-self: flex-end;width: 50%;}#sk-container-id-9 div.sk-parallel-item:last-child::after {align-self: flex-start;width: 50%;}#sk-container-id-9 div.sk-parallel-item:only-child::after {width: 0;}#sk-container-id-9 div.sk-dashed-wrapped {border: 1px dashed gray;margin: 0 0.4em 0.5em 0.4em;box-sizing: border-box;padding-bottom: 0.4em;background-color: white;}#sk-container-id-9 div.sk-label label {font-family: monospace;font-weight: bold;display: inline-block;line-height: 1.2em;}#sk-container-id-9 div.sk-label-container {text-align: center;}#sk-container-id-9 div.sk-container {/* jupyter's `normalize.less` sets `[hidden] { display: none; }` but bootstrap.min.css set `[hidden] { display: none !important; }` so we also need the `!important` here to be able to override the default hidden behavior on the sphinx rendered scikit-learn.org. See: https://github.com/scikit-learn/scikit-learn/issues/21755 */display: inline-block !important;position: relative;}#sk-container-id-9 div.sk-text-repr-fallback {display: none;}</style><div id=\"sk-container-id-9\" class=\"sk-top-container\"><div class=\"sk-text-repr-fallback\"><pre>SVC()</pre><b>In a Jupyter environment, please rerun this cell to show the HTML representation or trust the notebook. <br />On GitHub, the HTML representation is unable to render, please try loading this page with nbviewer.org.</b></div><div class=\"sk-container\" hidden><div class=\"sk-item\"><div class=\"sk-estimator sk-toggleable\"><input class=\"sk-toggleable__control sk-hidden--visually\" id=\"sk-estimator-id-9\" type=\"checkbox\" checked><label for=\"sk-estimator-id-9\" class=\"sk-toggleable__label sk-toggleable__label-arrow\">SVC</label><div class=\"sk-toggleable__content\"><pre>SVC()</pre></div></div></div></div></div>"
      ],
      "text/plain": [
       "SVC()"
      ]
     },
     "execution_count": 38,
     "metadata": {},
     "output_type": "execute_result"
    }
   ],
   "source": [
    "from sklearn.svm import SVC\n",
    "\n",
    "svc = SVC()\n",
    "\n",
    "svc.fit(X_train, y_train)"
   ]
  },
  {
   "cell_type": "code",
   "execution_count": 39,
   "id": "587b9499",
   "metadata": {
    "execution": {
     "iopub.execute_input": "2025-04-14T20:54:50.561125Z",
     "iopub.status.busy": "2025-04-14T20:54:50.560824Z",
     "iopub.status.idle": "2025-04-14T20:55:36.743206Z",
     "shell.execute_reply": "2025-04-14T20:55:36.742364Z"
    },
    "papermill": {
     "duration": 46.199239,
     "end_time": "2025-04-14T20:55:36.744806",
     "exception": false,
     "start_time": "2025-04-14T20:54:50.545567",
     "status": "completed"
    },
    "tags": []
   },
   "outputs": [],
   "source": [
    "y_pred = svc.predict(X_test)"
   ]
  },
  {
   "cell_type": "code",
   "execution_count": 40,
   "id": "fa85e774",
   "metadata": {
    "execution": {
     "iopub.execute_input": "2025-04-14T20:55:36.775599Z",
     "iopub.status.busy": "2025-04-14T20:55:36.774896Z",
     "iopub.status.idle": "2025-04-14T20:55:37.087626Z",
     "shell.execute_reply": "2025-04-14T20:55:37.086722Z"
    },
    "papermill": {
     "duration": 0.329283,
     "end_time": "2025-04-14T20:55:37.089017",
     "exception": false,
     "start_time": "2025-04-14T20:55:36.759734",
     "status": "completed"
    },
    "tags": []
   },
   "outputs": [
    {
     "name": "stdout",
     "output_type": "stream",
     "text": [
      "\n",
      "                SVC\n",
      "==========================================\n",
      " auc: 0.7245670576414565             \n",
      "==========================================\n",
      " report:                                \n",
      "              precision    recall  f1-score   support\n",
      "\n",
      "          -1       0.70      0.83      0.76      7368\n",
      "           1       0.77      0.62      0.69      7063\n",
      "\n",
      "    accuracy                           0.73     14431\n",
      "   macro avg       0.73      0.72      0.72     14431\n",
      "weighted avg       0.73      0.73      0.72     14431\n",
      "\n",
      "==========================================    \n"
     ]
    },
    {
     "data": {
      "image/png": "[encoded data removed]",
      "text/plain": [
       "<Figure size 800x800 with 2 Axes>"
      ]
     },
     "metadata": {},
     "output_type": "display_data"
    },
    {
     "name": "stdout",
     "output_type": "stream",
     "text": [
      "AUC: 0.7245670576414565\n",
      "Accuracy: 0.7266994664264431\n",
      "Precision: 0.7740291688631172\n",
      "Recall: 0.6236726603426306\n",
      "F1-score: 0.6907636819821233\n"
     ]
    }
   ],
   "source": [
    "show_metrics(y_test, y_pred, 'SVC')\n",
    "show_confusion_matrix(y_test, y_pred, 'SVC на извлеченных из текста признаках')\n",
    "compute_metrics(y_test, y_pred)"
   ]
  }
 ],
 "metadata": {
  "kaggle": {
   "accelerator": "none",
   "dataSources": [
    {
     "datasetId": 6966093,
     "sourceId": 11163430,
     "sourceType": "datasetVersion"
    },
    {
     "datasetId": 6725967,
     "sourceId": 10831535,
     "sourceType": "datasetVersion"
    }
   ],
   "dockerImageVersionId": 31012,
   "isGpuEnabled": false,
   "isInternetEnabled": true,
   "language": "python",
   "sourceType": "notebook"
  },
  "kernelspec": {
   "display_name": "Python 3",
   "language": "python",
   "name": "python3"
  },
  "language_info": {
   "codemirror_mode": {
    "name": "ipython",
    "version": 3
   },
   "file_extension": ".py",
   "mimetype": "text/x-python",
   "name": "python",
   "nbconvert_exporter": "python",
   "pygments_lexer": "ipython3",
   "version": "3.11.11"
  },
  "papermill": {
   "default_parameters": {},
   "duration": 437.613715,
   "end_time": "2025-04-14T20:55:37.925478",
   "environment_variables": {},
   "exception": null,
   "input_path": "__notebook__.ipynb",
   "output_path": "__notebook__.ipynb",
   "parameters": {},
   "start_time": "2025-04-14T20:48:20.311763",
   "version": "2.6.0"
  }
 },
 "nbformat": 4,
 "nbformat_minor": 5
}
