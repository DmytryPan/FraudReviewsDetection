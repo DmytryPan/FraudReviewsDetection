{
 "cells": [
  {
   "cell_type": "code",
   "execution_count": 1,
   "id": "9876bb97",
   "metadata": {
    "_cell_guid": "b1076dfc-b9ad-4769-8c92-a6c4dae69d19",
    "_uuid": "8f2839f25d086af736a60e9eeb907d3b93b6e0e5",
    "execution": {
     "iopub.execute_input": "2025-05-14T11:38:09.043713Z",
     "iopub.status.busy": "2025-05-14T11:38:09.043518Z",
     "iopub.status.idle": "2025-05-14T11:38:10.478617Z",
     "shell.execute_reply": "2025-05-14T11:38:10.477835Z"
    },
    "papermill": {
     "duration": 1.448529,
     "end_time": "2025-05-14T11:38:10.479842",
     "exception": false,
     "start_time": "2025-05-14T11:38:09.031313",
     "status": "completed"
    },
    "tags": []
   },
   "outputs": [
    {
     "name": "stdout",
     "output_type": "stream",
     "text": [
      "/kaggle/input/yelp-chi-merged/yelp_CHI.csv\n"
     ]
    }
   ],
   "source": [
    "# This Python 3 environment comes with many helpful analytics libraries installed\n",
    "# It is defined by the kaggle/python Docker image: https://github.com/kaggle/docker-python\n",
    "# For example, here's several helpful packages to load\n",
    "\n",
    "import numpy as np # linear algebra\n",
    "import pandas as pd # data processing, CSV file I/O (e.g. pd.read_csv)\n",
    "\n",
    "# Input data files are available in the read-only \"../input/\" directory\n",
    "# For example, running this (by clicking run or pressing Shift+Enter) will list all files under the input directory\n",
    "\n",
    "import os\n",
    "for dirname, _, filenames in os.walk('/kaggle/input'):\n",
    "    for filename in filenames:\n",
    "        print(os.path.join(dirname, filename))\n",
    "\n",
    "# You can write up to 20GB to the current directory (/kaggle/working/) that gets preserved as output when you create a version using \"Save & Run All\" \n",
    "# You can also write temporary files to /kaggle/temp/, but they won't be saved outside of the current session"
   ]
  },
  {
   "cell_type": "markdown",
   "id": "9625b06e",
   "metadata": {
    "papermill": {
     "duration": 0.011095,
     "end_time": "2025-05-14T11:38:10.501981",
     "exception": false,
     "start_time": "2025-05-14T11:38:10.490886",
     "status": "completed"
    },
    "tags": []
   },
   "source": [
    "# Импорт библиотек"
   ]
  },
  {
   "cell_type": "code",
   "execution_count": 2,
   "id": "dbbabd19",
   "metadata": {
    "execution": {
     "iopub.execute_input": "2025-05-14T11:38:10.523113Z",
     "iopub.status.busy": "2025-05-14T11:38:10.522814Z",
     "iopub.status.idle": "2025-05-14T11:38:22.939882Z",
     "shell.execute_reply": "2025-05-14T11:38:22.938914Z"
    },
    "papermill": {
     "duration": 12.429202,
     "end_time": "2025-05-14T11:38:22.941269",
     "exception": false,
     "start_time": "2025-05-14T11:38:10.512067",
     "status": "completed"
    },
    "tags": []
   },
   "outputs": [
    {
     "name": "stderr",
     "output_type": "stream",
     "text": [
      "[nltk_data] Downloading package wordnet to /usr/share/nltk_data...\n",
      "[nltk_data]   Package wordnet is already up-to-date!\n",
      "[nltk_data] Downloading package omw-1.4 to /usr/share/nltk_data...\n",
      "[nltk_data] Downloading package punkt to /usr/share/nltk_data...\n",
      "[nltk_data]   Package punkt is already up-to-date!\n",
      "[nltk_data] Downloading package stopwords to /usr/share/nltk_data...\n",
      "[nltk_data]   Package stopwords is already up-to-date!\n"
     ]
    },
    {
     "name": "stdout",
     "output_type": "stream",
     "text": [
      "Archive:  /usr/share/nltk_data/corpora/wordnet.zip\r\n",
      "   creating: /usr/share/nltk_data/corpora/wordnet/\r\n",
      "  inflating: /usr/share/nltk_data/corpora/wordnet/lexnames  \r\n",
      "  inflating: /usr/share/nltk_data/corpora/wordnet/data.verb  \r\n",
      "  inflating: /usr/share/nltk_data/corpora/wordnet/index.adv  \r\n",
      "  inflating: /usr/share/nltk_data/corpora/wordnet/adv.exc  \r\n",
      "  inflating: /usr/share/nltk_data/corpora/wordnet/index.verb  \r\n",
      "  inflating: /usr/share/nltk_data/corpora/wordnet/cntlist.rev  \r\n",
      "  inflating: /usr/share/nltk_data/corpora/wordnet/data.adj  \r\n",
      "  inflating: /usr/share/nltk_data/corpora/wordnet/index.adj  \r\n",
      "  inflating: /usr/share/nltk_data/corpora/wordnet/LICENSE  \r\n",
      "  inflating: /usr/share/nltk_data/corpora/wordnet/citation.bib  \r\n",
      "  inflating: /usr/share/nltk_data/corpora/wordnet/noun.exc  \r\n",
      "  inflating: /usr/share/nltk_data/corpora/wordnet/verb.exc  \r\n",
      "  inflating: /usr/share/nltk_data/corpora/wordnet/README  \r\n",
      "  inflating: /usr/share/nltk_data/corpora/wordnet/index.sense  \r\n",
      "  inflating: /usr/share/nltk_data/corpora/wordnet/data.noun  \r\n",
      "  inflating: /usr/share/nltk_data/corpora/wordnet/data.adv  \r\n",
      "  inflating: /usr/share/nltk_data/corpora/wordnet/index.noun  \r\n",
      "  inflating: /usr/share/nltk_data/corpora/wordnet/adj.exc  \r\n"
     ]
    }
   ],
   "source": [
    "import pandas as pd\n",
    "import numpy as np\n",
    "import seaborn as sns\n",
    "import matplotlib.pyplot as plt\n",
    "import re\n",
    "import nltk\n",
    "nltk.download('wordnet')\n",
    "nltk.download('omw-1.4')\n",
    "nltk.download('punkt')\n",
    "nltk.download('stopwords')\n",
    "from nltk.corpus import stopwords\n",
    "from nltk.stem import WordNetLemmatizer\n",
    "from nltk.tokenize import word_tokenize\n",
    "from sklearn.feature_extraction.text import TfidfVectorizer\n",
    "from sklearn.pipeline import Pipeline\n",
    "from sklearn.linear_model import LogisticRegression\n",
    "from sklearn.model_selection import train_test_split\n",
    "from sklearn.metrics import classification_report\n",
    "from sklearn.utils import shuffle\n",
    "from sklearn.metrics import confusion_matrix, auc, roc_auc_score, classification_report\n",
    "# from imblearn.under_sampling import ClusterCentroids\n",
    "from sklearn.decomposition import PCA\n",
    "\n",
    "import scipy as sp\n",
    "\n",
    "import cupy\n",
    "import cuml\n",
    "import cudf\n",
    "\n",
    "!unzip /usr/share/nltk_data/corpora/wordnet.zip -d /usr/share/nltk_data/corpora/"
   ]
  },
  {
   "cell_type": "code",
   "execution_count": 3,
   "id": "0ccb21f9",
   "metadata": {
    "execution": {
     "iopub.execute_input": "2025-05-14T11:38:22.964363Z",
     "iopub.status.busy": "2025-05-14T11:38:22.963445Z",
     "iopub.status.idle": "2025-05-14T11:38:22.967924Z",
     "shell.execute_reply": "2025-05-14T11:38:22.967360Z"
    },
    "papermill": {
     "duration": 0.016908,
     "end_time": "2025-05-14T11:38:22.968901",
     "exception": false,
     "start_time": "2025-05-14T11:38:22.951993",
     "status": "completed"
    },
    "tags": []
   },
   "outputs": [],
   "source": [
    "plt.rcParams['font.size'] = 14\n",
    "plt.rcParams['font.family'] = 'Times New Roman'"
   ]
  },
  {
   "cell_type": "markdown",
   "id": "9963d1d3",
   "metadata": {
    "papermill": {
     "duration": 0.010099,
     "end_time": "2025-05-14T11:38:22.989201",
     "exception": false,
     "start_time": "2025-05-14T11:38:22.979102",
     "status": "completed"
    },
    "tags": []
   },
   "source": [
    "# Датасет"
   ]
  },
  {
   "cell_type": "code",
   "execution_count": 4,
   "id": "23c52874",
   "metadata": {
    "execution": {
     "iopub.execute_input": "2025-05-14T11:38:23.010385Z",
     "iopub.status.busy": "2025-05-14T11:38:23.010165Z",
     "iopub.status.idle": "2025-05-14T11:38:23.668894Z",
     "shell.execute_reply": "2025-05-14T11:38:23.668121Z"
    },
    "papermill": {
     "duration": 0.670626,
     "end_time": "2025-05-14T11:38:23.669998",
     "exception": false,
     "start_time": "2025-05-14T11:38:22.999372",
     "status": "completed"
    },
    "tags": []
   },
   "outputs": [
    {
     "data": {
      "text/html": [
       "<div>\n",
       "<style scoped>\n",
       "    .dataframe tbody tr th:only-of-type {\n",
       "        vertical-align: middle;\n",
       "    }\n",
       "\n",
       "    .dataframe tbody tr th {\n",
       "        vertical-align: top;\n",
       "    }\n",
       "\n",
       "    .dataframe thead th {\n",
       "        text-align: right;\n",
       "    }\n",
       "</style>\n",
       "<table border=\"1\" class=\"dataframe\">\n",
       "  <thead>\n",
       "    <tr style=\"text-align: right;\">\n",
       "      <th></th>\n",
       "      <th>Unnamed: 0</th>\n",
       "      <th>date</th>\n",
       "      <th>review_id</th>\n",
       "      <th>user_id</th>\n",
       "      <th>prod_id</th>\n",
       "      <th>label</th>\n",
       "      <th>useful</th>\n",
       "      <th>funny</th>\n",
       "      <th>cool</th>\n",
       "      <th>rating</th>\n",
       "      <th>review</th>\n",
       "    </tr>\n",
       "  </thead>\n",
       "  <tbody>\n",
       "    <tr>\n",
       "      <th>0</th>\n",
       "      <td>0</td>\n",
       "      <td>9/22/2012</td>\n",
       "      <td>0LpVTc3</td>\n",
       "      <td>TRKxLC3y-ZvP45e5iilMtw</td>\n",
       "      <td>pbEiXam9YJL3neCYHGwLUA</td>\n",
       "      <td>1</td>\n",
       "      <td>0</td>\n",
       "      <td>0</td>\n",
       "      <td>0</td>\n",
       "      <td>5</td>\n",
       "      <td>Unlike Next, which we'd eaten at the previous ...</td>\n",
       "    </tr>\n",
       "    <tr>\n",
       "      <th>1</th>\n",
       "      <td>1</td>\n",
       "      <td>9/19/2012</td>\n",
       "      <td>tljtLzf68Fkwf</td>\n",
       "      <td>0EMm8umAqXZzyhxNpL4M9g</td>\n",
       "      <td>pbEiXam9YJL3neCYHGwLUA</td>\n",
       "      <td>1</td>\n",
       "      <td>0</td>\n",
       "      <td>0</td>\n",
       "      <td>2</td>\n",
       "      <td>3</td>\n",
       "      <td>Probably one of the best meals I've had ever. ...</td>\n",
       "    </tr>\n",
       "    <tr>\n",
       "      <th>2</th>\n",
       "      <td>2</td>\n",
       "      <td>9/6/2012</td>\n",
       "      <td>iSN</td>\n",
       "      <td>DlwexC7z88ymAzu45skODw</td>\n",
       "      <td>pbEiXam9YJL3neCYHGwLUA</td>\n",
       "      <td>1</td>\n",
       "      <td>3</td>\n",
       "      <td>0</td>\n",
       "      <td>8</td>\n",
       "      <td>3</td>\n",
       "      <td>Service was impeccable. Experience and present...</td>\n",
       "    </tr>\n",
       "    <tr>\n",
       "      <th>3</th>\n",
       "      <td>3</td>\n",
       "      <td>9/9/2012</td>\n",
       "      <td>Jmwrh7</td>\n",
       "      <td>kW2dk1CWihmh3g7k9N2G8A</td>\n",
       "      <td>pbEiXam9YJL3neCYHGwLUA</td>\n",
       "      <td>1</td>\n",
       "      <td>0</td>\n",
       "      <td>2</td>\n",
       "      <td>1</td>\n",
       "      <td>5</td>\n",
       "      <td>The problem with places like this, given the e...</td>\n",
       "    </tr>\n",
       "    <tr>\n",
       "      <th>4</th>\n",
       "      <td>4</td>\n",
       "      <td>8/30/2012</td>\n",
       "      <td>lKlceLWoePzeuvFD3sj4mw</td>\n",
       "      <td>HxXEcMDDTJFUqVfhPF9M8Q</td>\n",
       "      <td>pbEiXam9YJL3neCYHGwLUA</td>\n",
       "      <td>1</td>\n",
       "      <td>1</td>\n",
       "      <td>1</td>\n",
       "      <td>3</td>\n",
       "      <td>5</td>\n",
       "      <td>I have no idea how to write my review - dining...</td>\n",
       "    </tr>\n",
       "    <tr>\n",
       "      <th>...</th>\n",
       "      <td>...</td>\n",
       "      <td>...</td>\n",
       "      <td>...</td>\n",
       "      <td>...</td>\n",
       "      <td>...</td>\n",
       "      <td>...</td>\n",
       "      <td>...</td>\n",
       "      <td>...</td>\n",
       "      <td>...</td>\n",
       "      <td>...</td>\n",
       "      <td>...</td>\n",
       "    </tr>\n",
       "    <tr>\n",
       "      <th>61533</th>\n",
       "      <td>61533</td>\n",
       "      <td>10/29/2008</td>\n",
       "      <td>-oWeNtZ2jdKS</td>\n",
       "      <td>CtHKKxsRoWl-9KuYPoG3RA</td>\n",
       "      <td>fHJRHfeLQl-MxUSdUkI9rg</td>\n",
       "      <td>1</td>\n",
       "      <td>0</td>\n",
       "      <td>0</td>\n",
       "      <td>0</td>\n",
       "      <td>5</td>\n",
       "      <td>I've passed this place a bunch of times on my ...</td>\n",
       "    </tr>\n",
       "    <tr>\n",
       "      <th>61534</th>\n",
       "      <td>61534</td>\n",
       "      <td>10/8/2011</td>\n",
       "      <td>BOxgSHru1VycS</td>\n",
       "      <td>kHIFPG3NLehDo-6uRUjWYA</td>\n",
       "      <td>_KI0Y2UO68kJuTFUKucaXQ</td>\n",
       "      <td>1</td>\n",
       "      <td>0</td>\n",
       "      <td>0</td>\n",
       "      <td>1</td>\n",
       "      <td>5</td>\n",
       "      <td>Rubino's is not really setup as a retail opera...</td>\n",
       "    </tr>\n",
       "    <tr>\n",
       "      <th>61535</th>\n",
       "      <td>61535</td>\n",
       "      <td>4/7/2012</td>\n",
       "      <td>I6pazvTPUqRtU</td>\n",
       "      <td>fUXNHG4x1AN9oPpBSpCtUw</td>\n",
       "      <td>_KI0Y2UO68kJuTFUKucaXQ</td>\n",
       "      <td>1</td>\n",
       "      <td>1</td>\n",
       "      <td>0</td>\n",
       "      <td>0</td>\n",
       "      <td>5</td>\n",
       "      <td>This place is amazing. The food is great and y...</td>\n",
       "    </tr>\n",
       "    <tr>\n",
       "      <th>61536</th>\n",
       "      <td>61536</td>\n",
       "      <td>6/5/2009</td>\n",
       "      <td>gu7FbL</td>\n",
       "      <td>QQCm2oqSnnz24Z-yHeMtxQ</td>\n",
       "      <td>_KI0Y2UO68kJuTFUKucaXQ</td>\n",
       "      <td>1</td>\n",
       "      <td>0</td>\n",
       "      <td>1</td>\n",
       "      <td>1</td>\n",
       "      <td>4</td>\n",
       "      <td>OK went back the next day as I was driving by ...</td>\n",
       "    </tr>\n",
       "    <tr>\n",
       "      <th>61537</th>\n",
       "      <td>61537</td>\n",
       "      <td>5/6/2012</td>\n",
       "      <td>hLwn6zw</td>\n",
       "      <td>OXRKydSyzC35n2fNUnbopg</td>\n",
       "      <td>XvP-kanjF6SpchosRk0N5g</td>\n",
       "      <td>1</td>\n",
       "      <td>0</td>\n",
       "      <td>0</td>\n",
       "      <td>0</td>\n",
       "      <td>5</td>\n",
       "      <td>Delicious, rather authentic Mexican food, must...</td>\n",
       "    </tr>\n",
       "  </tbody>\n",
       "</table>\n",
       "<p>61538 rows × 11 columns</p>\n",
       "</div>"
      ],
      "text/plain": [
       "       Unnamed: 0        date               review_id                 user_id  \\\n",
       "0               0   9/22/2012                 0LpVTc3  TRKxLC3y-ZvP45e5iilMtw   \n",
       "1               1   9/19/2012           tljtLzf68Fkwf  0EMm8umAqXZzyhxNpL4M9g   \n",
       "2               2    9/6/2012                     iSN  DlwexC7z88ymAzu45skODw   \n",
       "3               3    9/9/2012                  Jmwrh7  kW2dk1CWihmh3g7k9N2G8A   \n",
       "4               4   8/30/2012  lKlceLWoePzeuvFD3sj4mw  HxXEcMDDTJFUqVfhPF9M8Q   \n",
       "...           ...         ...                     ...                     ...   \n",
       "61533       61533  10/29/2008            -oWeNtZ2jdKS  CtHKKxsRoWl-9KuYPoG3RA   \n",
       "61534       61534   10/8/2011           BOxgSHru1VycS  kHIFPG3NLehDo-6uRUjWYA   \n",
       "61535       61535    4/7/2012           I6pazvTPUqRtU  fUXNHG4x1AN9oPpBSpCtUw   \n",
       "61536       61536    6/5/2009                  gu7FbL  QQCm2oqSnnz24Z-yHeMtxQ   \n",
       "61537       61537    5/6/2012                 hLwn6zw  OXRKydSyzC35n2fNUnbopg   \n",
       "\n",
       "                      prod_id  label  useful  funny  cool  rating  \\\n",
       "0      pbEiXam9YJL3neCYHGwLUA      1       0      0     0       5   \n",
       "1      pbEiXam9YJL3neCYHGwLUA      1       0      0     2       3   \n",
       "2      pbEiXam9YJL3neCYHGwLUA      1       3      0     8       3   \n",
       "3      pbEiXam9YJL3neCYHGwLUA      1       0      2     1       5   \n",
       "4      pbEiXam9YJL3neCYHGwLUA      1       1      1     3       5   \n",
       "...                       ...    ...     ...    ...   ...     ...   \n",
       "61533  fHJRHfeLQl-MxUSdUkI9rg      1       0      0     0       5   \n",
       "61534  _KI0Y2UO68kJuTFUKucaXQ      1       0      0     1       5   \n",
       "61535  _KI0Y2UO68kJuTFUKucaXQ      1       1      0     0       5   \n",
       "61536  _KI0Y2UO68kJuTFUKucaXQ      1       0      1     1       4   \n",
       "61537  XvP-kanjF6SpchosRk0N5g      1       0      0     0       5   \n",
       "\n",
       "                                                  review  \n",
       "0      Unlike Next, which we'd eaten at the previous ...  \n",
       "1      Probably one of the best meals I've had ever. ...  \n",
       "2      Service was impeccable. Experience and present...  \n",
       "3      The problem with places like this, given the e...  \n",
       "4      I have no idea how to write my review - dining...  \n",
       "...                                                  ...  \n",
       "61533  I've passed this place a bunch of times on my ...  \n",
       "61534  Rubino's is not really setup as a retail opera...  \n",
       "61535  This place is amazing. The food is great and y...  \n",
       "61536  OK went back the next day as I was driving by ...  \n",
       "61537  Delicious, rather authentic Mexican food, must...  \n",
       "\n",
       "[61538 rows x 11 columns]"
      ]
     },
     "execution_count": 4,
     "metadata": {},
     "output_type": "execute_result"
    }
   ],
   "source": [
    "df_origin = cudf.read_csv('/kaggle/input/yelp-chi-merged/yelp_CHI.csv')\n",
    "df_origin"
   ]
  },
  {
   "cell_type": "code",
   "execution_count": 5,
   "id": "802a90c0",
   "metadata": {
    "execution": {
     "iopub.execute_input": "2025-05-14T11:38:23.692692Z",
     "iopub.status.busy": "2025-05-14T11:38:23.692476Z",
     "iopub.status.idle": "2025-05-14T11:38:23.738852Z",
     "shell.execute_reply": "2025-05-14T11:38:23.738139Z"
    },
    "papermill": {
     "duration": 0.058783,
     "end_time": "2025-05-14T11:38:23.739954",
     "exception": false,
     "start_time": "2025-05-14T11:38:23.681171",
     "status": "completed"
    },
    "tags": []
   },
   "outputs": [
    {
     "data": {
      "text/html": [
       "<div>\n",
       "<style scoped>\n",
       "    .dataframe tbody tr th:only-of-type {\n",
       "        vertical-align: middle;\n",
       "    }\n",
       "\n",
       "    .dataframe tbody tr th {\n",
       "        vertical-align: top;\n",
       "    }\n",
       "\n",
       "    .dataframe thead th {\n",
       "        text-align: right;\n",
       "    }\n",
       "</style>\n",
       "<table border=\"1\" class=\"dataframe\">\n",
       "  <thead>\n",
       "    <tr style=\"text-align: right;\">\n",
       "      <th></th>\n",
       "      <th>Unnamed: 0</th>\n",
       "      <th>date</th>\n",
       "      <th>review_id</th>\n",
       "      <th>user_id</th>\n",
       "      <th>prod_id</th>\n",
       "      <th>label</th>\n",
       "      <th>useful</th>\n",
       "      <th>funny</th>\n",
       "      <th>cool</th>\n",
       "      <th>rating</th>\n",
       "      <th>review</th>\n",
       "    </tr>\n",
       "  </thead>\n",
       "  <tbody>\n",
       "    <tr>\n",
       "      <th>0</th>\n",
       "      <td>0</td>\n",
       "      <td>9/22/2012</td>\n",
       "      <td>0LpVTc3</td>\n",
       "      <td>TRKxLC3y-ZvP45e5iilMtw</td>\n",
       "      <td>pbEiXam9YJL3neCYHGwLUA</td>\n",
       "      <td>1</td>\n",
       "      <td>0</td>\n",
       "      <td>0</td>\n",
       "      <td>0</td>\n",
       "      <td>5</td>\n",
       "      <td>Unlike Next, which we'd eaten at the previous ...</td>\n",
       "    </tr>\n",
       "    <tr>\n",
       "      <th>1</th>\n",
       "      <td>1</td>\n",
       "      <td>9/19/2012</td>\n",
       "      <td>tljtLzf68Fkwf</td>\n",
       "      <td>0EMm8umAqXZzyhxNpL4M9g</td>\n",
       "      <td>pbEiXam9YJL3neCYHGwLUA</td>\n",
       "      <td>1</td>\n",
       "      <td>0</td>\n",
       "      <td>0</td>\n",
       "      <td>2</td>\n",
       "      <td>3</td>\n",
       "      <td>Probably one of the best meals I've had ever. ...</td>\n",
       "    </tr>\n",
       "    <tr>\n",
       "      <th>2</th>\n",
       "      <td>2</td>\n",
       "      <td>9/6/2012</td>\n",
       "      <td>iSN</td>\n",
       "      <td>DlwexC7z88ymAzu45skODw</td>\n",
       "      <td>pbEiXam9YJL3neCYHGwLUA</td>\n",
       "      <td>1</td>\n",
       "      <td>3</td>\n",
       "      <td>0</td>\n",
       "      <td>8</td>\n",
       "      <td>3</td>\n",
       "      <td>Service was impeccable. Experience and present...</td>\n",
       "    </tr>\n",
       "    <tr>\n",
       "      <th>3</th>\n",
       "      <td>3</td>\n",
       "      <td>9/9/2012</td>\n",
       "      <td>Jmwrh7</td>\n",
       "      <td>kW2dk1CWihmh3g7k9N2G8A</td>\n",
       "      <td>pbEiXam9YJL3neCYHGwLUA</td>\n",
       "      <td>1</td>\n",
       "      <td>0</td>\n",
       "      <td>2</td>\n",
       "      <td>1</td>\n",
       "      <td>5</td>\n",
       "      <td>The problem with places like this, given the e...</td>\n",
       "    </tr>\n",
       "    <tr>\n",
       "      <th>4</th>\n",
       "      <td>4</td>\n",
       "      <td>8/30/2012</td>\n",
       "      <td>lKlceLWoePzeuvFD3sj4mw</td>\n",
       "      <td>HxXEcMDDTJFUqVfhPF9M8Q</td>\n",
       "      <td>pbEiXam9YJL3neCYHGwLUA</td>\n",
       "      <td>1</td>\n",
       "      <td>1</td>\n",
       "      <td>1</td>\n",
       "      <td>3</td>\n",
       "      <td>5</td>\n",
       "      <td>I have no idea how to write my review - dining...</td>\n",
       "    </tr>\n",
       "    <tr>\n",
       "      <th>...</th>\n",
       "      <td>...</td>\n",
       "      <td>...</td>\n",
       "      <td>...</td>\n",
       "      <td>...</td>\n",
       "      <td>...</td>\n",
       "      <td>...</td>\n",
       "      <td>...</td>\n",
       "      <td>...</td>\n",
       "      <td>...</td>\n",
       "      <td>...</td>\n",
       "      <td>...</td>\n",
       "    </tr>\n",
       "    <tr>\n",
       "      <th>61533</th>\n",
       "      <td>61533</td>\n",
       "      <td>10/29/2008</td>\n",
       "      <td>-oWeNtZ2jdKS</td>\n",
       "      <td>CtHKKxsRoWl-9KuYPoG3RA</td>\n",
       "      <td>fHJRHfeLQl-MxUSdUkI9rg</td>\n",
       "      <td>1</td>\n",
       "      <td>0</td>\n",
       "      <td>0</td>\n",
       "      <td>0</td>\n",
       "      <td>5</td>\n",
       "      <td>I've passed this place a bunch of times on my ...</td>\n",
       "    </tr>\n",
       "    <tr>\n",
       "      <th>61534</th>\n",
       "      <td>61534</td>\n",
       "      <td>10/8/2011</td>\n",
       "      <td>BOxgSHru1VycS</td>\n",
       "      <td>kHIFPG3NLehDo-6uRUjWYA</td>\n",
       "      <td>_KI0Y2UO68kJuTFUKucaXQ</td>\n",
       "      <td>1</td>\n",
       "      <td>0</td>\n",
       "      <td>0</td>\n",
       "      <td>1</td>\n",
       "      <td>5</td>\n",
       "      <td>Rubino's is not really setup as a retail opera...</td>\n",
       "    </tr>\n",
       "    <tr>\n",
       "      <th>61535</th>\n",
       "      <td>61535</td>\n",
       "      <td>4/7/2012</td>\n",
       "      <td>I6pazvTPUqRtU</td>\n",
       "      <td>fUXNHG4x1AN9oPpBSpCtUw</td>\n",
       "      <td>_KI0Y2UO68kJuTFUKucaXQ</td>\n",
       "      <td>1</td>\n",
       "      <td>1</td>\n",
       "      <td>0</td>\n",
       "      <td>0</td>\n",
       "      <td>5</td>\n",
       "      <td>This place is amazing. The food is great and y...</td>\n",
       "    </tr>\n",
       "    <tr>\n",
       "      <th>61536</th>\n",
       "      <td>61536</td>\n",
       "      <td>6/5/2009</td>\n",
       "      <td>gu7FbL</td>\n",
       "      <td>QQCm2oqSnnz24Z-yHeMtxQ</td>\n",
       "      <td>_KI0Y2UO68kJuTFUKucaXQ</td>\n",
       "      <td>1</td>\n",
       "      <td>0</td>\n",
       "      <td>1</td>\n",
       "      <td>1</td>\n",
       "      <td>4</td>\n",
       "      <td>OK went back the next day as I was driving by ...</td>\n",
       "    </tr>\n",
       "    <tr>\n",
       "      <th>61537</th>\n",
       "      <td>61537</td>\n",
       "      <td>5/6/2012</td>\n",
       "      <td>hLwn6zw</td>\n",
       "      <td>OXRKydSyzC35n2fNUnbopg</td>\n",
       "      <td>XvP-kanjF6SpchosRk0N5g</td>\n",
       "      <td>1</td>\n",
       "      <td>0</td>\n",
       "      <td>0</td>\n",
       "      <td>0</td>\n",
       "      <td>5</td>\n",
       "      <td>Delicious, rather authentic Mexican food, must...</td>\n",
       "    </tr>\n",
       "  </tbody>\n",
       "</table>\n",
       "<p>61538 rows × 11 columns</p>\n",
       "</div>"
      ],
      "text/plain": [
       "       Unnamed: 0        date               review_id                 user_id  \\\n",
       "0               0   9/22/2012                 0LpVTc3  TRKxLC3y-ZvP45e5iilMtw   \n",
       "1               1   9/19/2012           tljtLzf68Fkwf  0EMm8umAqXZzyhxNpL4M9g   \n",
       "2               2    9/6/2012                     iSN  DlwexC7z88ymAzu45skODw   \n",
       "3               3    9/9/2012                  Jmwrh7  kW2dk1CWihmh3g7k9N2G8A   \n",
       "4               4   8/30/2012  lKlceLWoePzeuvFD3sj4mw  HxXEcMDDTJFUqVfhPF9M8Q   \n",
       "...           ...         ...                     ...                     ...   \n",
       "61533       61533  10/29/2008            -oWeNtZ2jdKS  CtHKKxsRoWl-9KuYPoG3RA   \n",
       "61534       61534   10/8/2011           BOxgSHru1VycS  kHIFPG3NLehDo-6uRUjWYA   \n",
       "61535       61535    4/7/2012           I6pazvTPUqRtU  fUXNHG4x1AN9oPpBSpCtUw   \n",
       "61536       61536    6/5/2009                  gu7FbL  QQCm2oqSnnz24Z-yHeMtxQ   \n",
       "61537       61537    5/6/2012                 hLwn6zw  OXRKydSyzC35n2fNUnbopg   \n",
       "\n",
       "                      prod_id  label  useful  funny  cool  rating  \\\n",
       "0      pbEiXam9YJL3neCYHGwLUA      1       0      0     0       5   \n",
       "1      pbEiXam9YJL3neCYHGwLUA      1       0      0     2       3   \n",
       "2      pbEiXam9YJL3neCYHGwLUA      1       3      0     8       3   \n",
       "3      pbEiXam9YJL3neCYHGwLUA      1       0      2     1       5   \n",
       "4      pbEiXam9YJL3neCYHGwLUA      1       1      1     3       5   \n",
       "...                       ...    ...     ...    ...   ...     ...   \n",
       "61533  fHJRHfeLQl-MxUSdUkI9rg      1       0      0     0       5   \n",
       "61534  _KI0Y2UO68kJuTFUKucaXQ      1       0      0     1       5   \n",
       "61535  _KI0Y2UO68kJuTFUKucaXQ      1       1      0     0       5   \n",
       "61536  _KI0Y2UO68kJuTFUKucaXQ      1       0      1     1       4   \n",
       "61537  XvP-kanjF6SpchosRk0N5g      1       0      0     0       5   \n",
       "\n",
       "                                                  review  \n",
       "0      Unlike Next, which we'd eaten at the previous ...  \n",
       "1      Probably one of the best meals I've had ever. ...  \n",
       "2      Service was impeccable. Experience and present...  \n",
       "3      The problem with places like this, given the e...  \n",
       "4      I have no idea how to write my review - dining...  \n",
       "...                                                  ...  \n",
       "61533  I've passed this place a bunch of times on my ...  \n",
       "61534  Rubino's is not really setup as a retail opera...  \n",
       "61535  This place is amazing. The food is great and y...  \n",
       "61536  OK went back the next day as I was driving by ...  \n",
       "61537  Delicious, rather authentic Mexican food, must...  \n",
       "\n",
       "[61538 rows x 11 columns]"
      ]
     },
     "execution_count": 5,
     "metadata": {},
     "output_type": "execute_result"
    }
   ],
   "source": [
    "df = df_origin.copy()\n",
    "df"
   ]
  },
  {
   "cell_type": "markdown",
   "id": "be1c4f0c",
   "metadata": {
    "papermill": {
     "duration": 0.010671,
     "end_time": "2025-05-14T11:38:23.761508",
     "exception": false,
     "start_time": "2025-05-14T11:38:23.750837",
     "status": "completed"
    },
    "tags": []
   },
   "source": [
    "# Предобработка"
   ]
  },
  {
   "cell_type": "code",
   "execution_count": 6,
   "id": "ed8afd81",
   "metadata": {
    "execution": {
     "iopub.execute_input": "2025-05-14T11:38:23.827035Z",
     "iopub.status.busy": "2025-05-14T11:38:23.826288Z",
     "iopub.status.idle": "2025-05-14T11:38:26.616161Z",
     "shell.execute_reply": "2025-05-14T11:38:26.615242Z"
    },
    "papermill": {
     "duration": 2.802755,
     "end_time": "2025-05-14T11:38:26.617537",
     "exception": false,
     "start_time": "2025-05-14T11:38:23.814782",
     "status": "completed"
    },
    "tags": []
   },
   "outputs": [
    {
     "name": "stdout",
     "output_type": "stream",
     "text": [
      "test example preprocessing function 123 8done 8\n"
     ]
    }
   ],
   "source": [
    "# функция предобработки текста\n",
    "lemmatizer = WordNetLemmatizer()\n",
    "stop_words = set(stopwords.words('english'))\n",
    "\n",
    "def preprocess_review(text):\n",
    "    cl_text = text.lower().strip()\n",
    "    cl_text = re.sub(r\"[^\\w\\s]\", \"\", cl_text)\n",
    "    words = word_tokenize(cl_text)\n",
    "    words = [lemmatizer.lemmatize(word) for word in words if word not in stop_words]\n",
    "    return ' '.join(words)\n",
    "\n",
    "example = 'this is the (test) example for preprocessing function 123 8done 8 :!?!'\n",
    "print(preprocess_review(example))"
   ]
  },
  {
   "cell_type": "code",
   "execution_count": 7,
   "id": "6490e5ae",
   "metadata": {
    "execution": {
     "iopub.execute_input": "2025-05-14T11:38:26.644446Z",
     "iopub.status.busy": "2025-05-14T11:38:26.643820Z",
     "iopub.status.idle": "2025-05-14T11:38:26.680315Z",
     "shell.execute_reply": "2025-05-14T11:38:26.679743Z"
    },
    "papermill": {
     "duration": 0.049145,
     "end_time": "2025-05-14T11:38:26.681332",
     "exception": false,
     "start_time": "2025-05-14T11:38:26.632187",
     "status": "completed"
    },
    "tags": []
   },
   "outputs": [
    {
     "data": {
      "text/html": [
       "<div>\n",
       "<style scoped>\n",
       "    .dataframe tbody tr th:only-of-type {\n",
       "        vertical-align: middle;\n",
       "    }\n",
       "\n",
       "    .dataframe tbody tr th {\n",
       "        vertical-align: top;\n",
       "    }\n",
       "\n",
       "    .dataframe thead th {\n",
       "        text-align: right;\n",
       "    }\n",
       "</style>\n",
       "<table border=\"1\" class=\"dataframe\">\n",
       "  <thead>\n",
       "    <tr style=\"text-align: right;\">\n",
       "      <th></th>\n",
       "      <th>review_id</th>\n",
       "      <th>label</th>\n",
       "      <th>useful</th>\n",
       "      <th>funny</th>\n",
       "      <th>cool</th>\n",
       "      <th>rating</th>\n",
       "      <th>review</th>\n",
       "    </tr>\n",
       "  </thead>\n",
       "  <tbody>\n",
       "    <tr>\n",
       "      <th>0</th>\n",
       "      <td>0LpVTc3</td>\n",
       "      <td>1</td>\n",
       "      <td>0</td>\n",
       "      <td>0</td>\n",
       "      <td>0</td>\n",
       "      <td>5</td>\n",
       "      <td>Unlike Next, which we'd eaten at the previous ...</td>\n",
       "    </tr>\n",
       "    <tr>\n",
       "      <th>1</th>\n",
       "      <td>tljtLzf68Fkwf</td>\n",
       "      <td>1</td>\n",
       "      <td>0</td>\n",
       "      <td>0</td>\n",
       "      <td>2</td>\n",
       "      <td>3</td>\n",
       "      <td>Probably one of the best meals I've had ever. ...</td>\n",
       "    </tr>\n",
       "    <tr>\n",
       "      <th>2</th>\n",
       "      <td>iSN</td>\n",
       "      <td>1</td>\n",
       "      <td>3</td>\n",
       "      <td>0</td>\n",
       "      <td>8</td>\n",
       "      <td>3</td>\n",
       "      <td>Service was impeccable. Experience and present...</td>\n",
       "    </tr>\n",
       "    <tr>\n",
       "      <th>3</th>\n",
       "      <td>Jmwrh7</td>\n",
       "      <td>1</td>\n",
       "      <td>0</td>\n",
       "      <td>2</td>\n",
       "      <td>1</td>\n",
       "      <td>5</td>\n",
       "      <td>The problem with places like this, given the e...</td>\n",
       "    </tr>\n",
       "    <tr>\n",
       "      <th>4</th>\n",
       "      <td>lKlceLWoePzeuvFD3sj4mw</td>\n",
       "      <td>1</td>\n",
       "      <td>1</td>\n",
       "      <td>1</td>\n",
       "      <td>3</td>\n",
       "      <td>5</td>\n",
       "      <td>I have no idea how to write my review - dining...</td>\n",
       "    </tr>\n",
       "    <tr>\n",
       "      <th>...</th>\n",
       "      <td>...</td>\n",
       "      <td>...</td>\n",
       "      <td>...</td>\n",
       "      <td>...</td>\n",
       "      <td>...</td>\n",
       "      <td>...</td>\n",
       "      <td>...</td>\n",
       "    </tr>\n",
       "    <tr>\n",
       "      <th>61533</th>\n",
       "      <td>-oWeNtZ2jdKS</td>\n",
       "      <td>1</td>\n",
       "      <td>0</td>\n",
       "      <td>0</td>\n",
       "      <td>0</td>\n",
       "      <td>5</td>\n",
       "      <td>I've passed this place a bunch of times on my ...</td>\n",
       "    </tr>\n",
       "    <tr>\n",
       "      <th>61534</th>\n",
       "      <td>BOxgSHru1VycS</td>\n",
       "      <td>1</td>\n",
       "      <td>0</td>\n",
       "      <td>0</td>\n",
       "      <td>1</td>\n",
       "      <td>5</td>\n",
       "      <td>Rubino's is not really setup as a retail opera...</td>\n",
       "    </tr>\n",
       "    <tr>\n",
       "      <th>61535</th>\n",
       "      <td>I6pazvTPUqRtU</td>\n",
       "      <td>1</td>\n",
       "      <td>1</td>\n",
       "      <td>0</td>\n",
       "      <td>0</td>\n",
       "      <td>5</td>\n",
       "      <td>This place is amazing. The food is great and y...</td>\n",
       "    </tr>\n",
       "    <tr>\n",
       "      <th>61536</th>\n",
       "      <td>gu7FbL</td>\n",
       "      <td>1</td>\n",
       "      <td>0</td>\n",
       "      <td>1</td>\n",
       "      <td>1</td>\n",
       "      <td>4</td>\n",
       "      <td>OK went back the next day as I was driving by ...</td>\n",
       "    </tr>\n",
       "    <tr>\n",
       "      <th>61537</th>\n",
       "      <td>hLwn6zw</td>\n",
       "      <td>1</td>\n",
       "      <td>0</td>\n",
       "      <td>0</td>\n",
       "      <td>0</td>\n",
       "      <td>5</td>\n",
       "      <td>Delicious, rather authentic Mexican food, must...</td>\n",
       "    </tr>\n",
       "  </tbody>\n",
       "</table>\n",
       "<p>61538 rows × 7 columns</p>\n",
       "</div>"
      ],
      "text/plain": [
       "                    review_id  label  useful  funny  cool  rating  \\\n",
       "0                     0LpVTc3      1       0      0     0       5   \n",
       "1               tljtLzf68Fkwf      1       0      0     2       3   \n",
       "2                         iSN      1       3      0     8       3   \n",
       "3                      Jmwrh7      1       0      2     1       5   \n",
       "4      lKlceLWoePzeuvFD3sj4mw      1       1      1     3       5   \n",
       "...                       ...    ...     ...    ...   ...     ...   \n",
       "61533            -oWeNtZ2jdKS      1       0      0     0       5   \n",
       "61534           BOxgSHru1VycS      1       0      0     1       5   \n",
       "61535           I6pazvTPUqRtU      1       1      0     0       5   \n",
       "61536                  gu7FbL      1       0      1     1       4   \n",
       "61537                 hLwn6zw      1       0      0     0       5   \n",
       "\n",
       "                                                  review  \n",
       "0      Unlike Next, which we'd eaten at the previous ...  \n",
       "1      Probably one of the best meals I've had ever. ...  \n",
       "2      Service was impeccable. Experience and present...  \n",
       "3      The problem with places like this, given the e...  \n",
       "4      I have no idea how to write my review - dining...  \n",
       "...                                                  ...  \n",
       "61533  I've passed this place a bunch of times on my ...  \n",
       "61534  Rubino's is not really setup as a retail opera...  \n",
       "61535  This place is amazing. The food is great and y...  \n",
       "61536  OK went back the next day as I was driving by ...  \n",
       "61537  Delicious, rather authentic Mexican food, must...  \n",
       "\n",
       "[61538 rows x 7 columns]"
      ]
     },
     "execution_count": 7,
     "metadata": {},
     "output_type": "execute_result"
    }
   ],
   "source": [
    "df= df.drop(['Unnamed: 0', 'user_id',\t'prod_id', 'date'], axis=1)\n",
    "df"
   ]
  },
  {
   "cell_type": "code",
   "execution_count": 8,
   "id": "a217f333",
   "metadata": {
    "execution": {
     "iopub.execute_input": "2025-05-14T11:38:26.704721Z",
     "iopub.status.busy": "2025-05-14T11:38:26.704330Z",
     "iopub.status.idle": "2025-05-14T11:38:26.803155Z",
     "shell.execute_reply": "2025-05-14T11:38:26.802297Z"
    },
    "papermill": {
     "duration": 0.111988,
     "end_time": "2025-05-14T11:38:26.804582",
     "exception": false,
     "start_time": "2025-05-14T11:38:26.692594",
     "status": "completed"
    },
    "tags": []
   },
   "outputs": [],
   "source": [
    "df_cpu = df.to_pandas()"
   ]
  },
  {
   "cell_type": "code",
   "execution_count": 9,
   "id": "432c25c5",
   "metadata": {
    "execution": {
     "iopub.execute_input": "2025-05-14T11:38:26.829782Z",
     "iopub.status.busy": "2025-05-14T11:38:26.829541Z",
     "iopub.status.idle": "2025-05-14T11:39:03.436554Z",
     "shell.execute_reply": "2025-05-14T11:39:03.436045Z"
    },
    "papermill": {
     "duration": 36.620098,
     "end_time": "2025-05-14T11:39:03.437768",
     "exception": false,
     "start_time": "2025-05-14T11:38:26.817670",
     "status": "completed"
    },
    "tags": []
   },
   "outputs": [],
   "source": [
    "df_cpu['review'] = df_cpu['review'].apply(preprocess_review)"
   ]
  },
  {
   "cell_type": "code",
   "execution_count": 10,
   "id": "9ab429d8",
   "metadata": {
    "execution": {
     "iopub.execute_input": "2025-05-14T11:39:03.461196Z",
     "iopub.status.busy": "2025-05-14T11:39:03.460979Z",
     "iopub.status.idle": "2025-05-14T11:39:03.603469Z",
     "shell.execute_reply": "2025-05-14T11:39:03.602744Z"
    },
    "papermill": {
     "duration": 0.155312,
     "end_time": "2025-05-14T11:39:03.604637",
     "exception": false,
     "start_time": "2025-05-14T11:39:03.449325",
     "status": "completed"
    },
    "tags": []
   },
   "outputs": [
    {
     "data": {
      "text/html": [
       "<div>\n",
       "<style scoped>\n",
       "    .dataframe tbody tr th:only-of-type {\n",
       "        vertical-align: middle;\n",
       "    }\n",
       "\n",
       "    .dataframe tbody tr th {\n",
       "        vertical-align: top;\n",
       "    }\n",
       "\n",
       "    .dataframe thead th {\n",
       "        text-align: right;\n",
       "    }\n",
       "</style>\n",
       "<table border=\"1\" class=\"dataframe\">\n",
       "  <thead>\n",
       "    <tr style=\"text-align: right;\">\n",
       "      <th></th>\n",
       "      <th>review_id</th>\n",
       "      <th>label</th>\n",
       "      <th>useful</th>\n",
       "      <th>funny</th>\n",
       "      <th>cool</th>\n",
       "      <th>rating</th>\n",
       "      <th>review</th>\n",
       "    </tr>\n",
       "  </thead>\n",
       "  <tbody>\n",
       "    <tr>\n",
       "      <th>0</th>\n",
       "      <td>0LpVTc3</td>\n",
       "      <td>1</td>\n",
       "      <td>0</td>\n",
       "      <td>0</td>\n",
       "      <td>0</td>\n",
       "      <td>5</td>\n",
       "      <td>unlike next wed eaten previous night dish comp...</td>\n",
       "    </tr>\n",
       "    <tr>\n",
       "      <th>1</th>\n",
       "      <td>tljtLzf68Fkwf</td>\n",
       "      <td>1</td>\n",
       "      <td>0</td>\n",
       "      <td>0</td>\n",
       "      <td>2</td>\n",
       "      <td>3</td>\n",
       "      <td>probably one best meal ive ever performance fo...</td>\n",
       "    </tr>\n",
       "    <tr>\n",
       "      <th>2</th>\n",
       "      <td>iSN</td>\n",
       "      <td>1</td>\n",
       "      <td>3</td>\n",
       "      <td>0</td>\n",
       "      <td>8</td>\n",
       "      <td>3</td>\n",
       "      <td>service impeccable experience presentation coo...</td>\n",
       "    </tr>\n",
       "    <tr>\n",
       "      <th>3</th>\n",
       "      <td>Jmwrh7</td>\n",
       "      <td>1</td>\n",
       "      <td>0</td>\n",
       "      <td>2</td>\n",
       "      <td>1</td>\n",
       "      <td>5</td>\n",
       "      <td>problem place like given exhorbitant cost medi...</td>\n",
       "    </tr>\n",
       "    <tr>\n",
       "      <th>4</th>\n",
       "      <td>lKlceLWoePzeuvFD3sj4mw</td>\n",
       "      <td>1</td>\n",
       "      <td>1</td>\n",
       "      <td>1</td>\n",
       "      <td>3</td>\n",
       "      <td>5</td>\n",
       "      <td>idea write review dining alinea brings whole d...</td>\n",
       "    </tr>\n",
       "    <tr>\n",
       "      <th>...</th>\n",
       "      <td>...</td>\n",
       "      <td>...</td>\n",
       "      <td>...</td>\n",
       "      <td>...</td>\n",
       "      <td>...</td>\n",
       "      <td>...</td>\n",
       "      <td>...</td>\n",
       "    </tr>\n",
       "    <tr>\n",
       "      <th>61533</th>\n",
       "      <td>-oWeNtZ2jdKS</td>\n",
       "      <td>1</td>\n",
       "      <td>0</td>\n",
       "      <td>0</td>\n",
       "      <td>0</td>\n",
       "      <td>5</td>\n",
       "      <td>ive passed place bunch time way olympic northw...</td>\n",
       "    </tr>\n",
       "    <tr>\n",
       "      <th>61534</th>\n",
       "      <td>BOxgSHru1VycS</td>\n",
       "      <td>1</td>\n",
       "      <td>0</td>\n",
       "      <td>0</td>\n",
       "      <td>1</td>\n",
       "      <td>5</td>\n",
       "      <td>rubinos really setup retail operation price in...</td>\n",
       "    </tr>\n",
       "    <tr>\n",
       "      <th>61535</th>\n",
       "      <td>I6pazvTPUqRtU</td>\n",
       "      <td>1</td>\n",
       "      <td>1</td>\n",
       "      <td>0</td>\n",
       "      <td>0</td>\n",
       "      <td>5</td>\n",
       "      <td>place amazing food great beat price unfortunat...</td>\n",
       "    </tr>\n",
       "    <tr>\n",
       "      <th>61536</th>\n",
       "      <td>gu7FbL</td>\n",
       "      <td>1</td>\n",
       "      <td>0</td>\n",
       "      <td>1</td>\n",
       "      <td>1</td>\n",
       "      <td>4</td>\n",
       "      <td>ok went back next day driving lunchtime steak ...</td>\n",
       "    </tr>\n",
       "    <tr>\n",
       "      <th>61537</th>\n",
       "      <td>hLwn6zw</td>\n",
       "      <td>1</td>\n",
       "      <td>0</td>\n",
       "      <td>0</td>\n",
       "      <td>0</td>\n",
       "      <td>5</td>\n",
       "      <td>delicious rather authentic mexican food must t...</td>\n",
       "    </tr>\n",
       "  </tbody>\n",
       "</table>\n",
       "<p>61538 rows × 7 columns</p>\n",
       "</div>"
      ],
      "text/plain": [
       "                    review_id  label  useful  funny  cool  rating  \\\n",
       "0                     0LpVTc3      1       0      0     0       5   \n",
       "1               tljtLzf68Fkwf      1       0      0     2       3   \n",
       "2                         iSN      1       3      0     8       3   \n",
       "3                      Jmwrh7      1       0      2     1       5   \n",
       "4      lKlceLWoePzeuvFD3sj4mw      1       1      1     3       5   \n",
       "...                       ...    ...     ...    ...   ...     ...   \n",
       "61533            -oWeNtZ2jdKS      1       0      0     0       5   \n",
       "61534           BOxgSHru1VycS      1       0      0     1       5   \n",
       "61535           I6pazvTPUqRtU      1       1      0     0       5   \n",
       "61536                  gu7FbL      1       0      1     1       4   \n",
       "61537                 hLwn6zw      1       0      0     0       5   \n",
       "\n",
       "                                                  review  \n",
       "0      unlike next wed eaten previous night dish comp...  \n",
       "1      probably one best meal ive ever performance fo...  \n",
       "2      service impeccable experience presentation coo...  \n",
       "3      problem place like given exhorbitant cost medi...  \n",
       "4      idea write review dining alinea brings whole d...  \n",
       "...                                                  ...  \n",
       "61533  ive passed place bunch time way olympic northw...  \n",
       "61534  rubinos really setup retail operation price in...  \n",
       "61535  place amazing food great beat price unfortunat...  \n",
       "61536  ok went back next day driving lunchtime steak ...  \n",
       "61537  delicious rather authentic mexican food must t...  \n",
       "\n",
       "[61538 rows x 7 columns]"
      ]
     },
     "execution_count": 10,
     "metadata": {},
     "output_type": "execute_result"
    }
   ],
   "source": [
    "df = cudf.from_pandas(df_cpu)\n",
    "df"
   ]
  },
  {
   "cell_type": "markdown",
   "id": "bfdedd3f",
   "metadata": {
    "papermill": {
     "duration": 0.011188,
     "end_time": "2025-05-14T11:39:03.627637",
     "exception": false,
     "start_time": "2025-05-14T11:39:03.616449",
     "status": "completed"
    },
    "tags": []
   },
   "source": [
    "# Методы визуализации метрик"
   ]
  },
  {
   "cell_type": "code",
   "execution_count": 11,
   "id": "5640e3ee",
   "metadata": {
    "execution": {
     "iopub.execute_input": "2025-05-14T11:39:03.651602Z",
     "iopub.status.busy": "2025-05-14T11:39:03.651176Z",
     "iopub.status.idle": "2025-05-14T11:39:03.654990Z",
     "shell.execute_reply": "2025-05-14T11:39:03.654417Z"
    },
    "papermill": {
     "duration": 0.017099,
     "end_time": "2025-05-14T11:39:03.656028",
     "exception": false,
     "start_time": "2025-05-14T11:39:03.638929",
     "status": "completed"
    },
    "tags": []
   },
   "outputs": [],
   "source": [
    "def show_metrics(y_true, y_pred, title):\n",
    "    print(f'''\n",
    "                {title}\n",
    "==========================================\n",
    " auc: {roc_auc_score(y_true, y_pred)}             \n",
    "==========================================\n",
    " report:                                \n",
    "{classification_report(y_true, y_pred)}\n",
    "==========================================\n",
    "\n",
    "    ''')"
   ]
  },
  {
   "cell_type": "code",
   "execution_count": 12,
   "id": "38a65d3d",
   "metadata": {
    "execution": {
     "iopub.execute_input": "2025-05-14T11:39:03.679775Z",
     "iopub.status.busy": "2025-05-14T11:39:03.679266Z",
     "iopub.status.idle": "2025-05-14T11:39:03.683150Z",
     "shell.execute_reply": "2025-05-14T11:39:03.682580Z"
    },
    "papermill": {
     "duration": 0.016813,
     "end_time": "2025-05-14T11:39:03.684195",
     "exception": false,
     "start_time": "2025-05-14T11:39:03.667382",
     "status": "completed"
    },
    "tags": []
   },
   "outputs": [],
   "source": [
    "def show_confusion_matrix(y_true, y_pred, title_string):\n",
    "    conf = confusion_matrix(y_true, y_pred)\n",
    "    plt.figure(figsize=(8,8))\n",
    "    plt.title(title_string)\n",
    "    sns.heatmap(conf, fmt='d', annot=True)\n",
    "    plt.savefig(title_string+'_confusion_matrix.png')\n",
    "    plt.show()"
   ]
  },
  {
   "cell_type": "code",
   "execution_count": 13,
   "id": "58a839e0",
   "metadata": {
    "execution": {
     "iopub.execute_input": "2025-05-14T11:39:03.707430Z",
     "iopub.status.busy": "2025-05-14T11:39:03.707231Z",
     "iopub.status.idle": "2025-05-14T11:39:03.710347Z",
     "shell.execute_reply": "2025-05-14T11:39:03.709611Z"
    },
    "papermill": {
     "duration": 0.015916,
     "end_time": "2025-05-14T11:39:03.711401",
     "exception": false,
     "start_time": "2025-05-14T11:39:03.695485",
     "status": "completed"
    },
    "tags": []
   },
   "outputs": [],
   "source": [
    "# show_metrics([1,0,1,1,0], [1,0,1,1,0],'test example')"
   ]
  },
  {
   "cell_type": "code",
   "execution_count": 14,
   "id": "b7c6128e",
   "metadata": {
    "execution": {
     "iopub.execute_input": "2025-05-14T11:39:03.734939Z",
     "iopub.status.busy": "2025-05-14T11:39:03.734708Z",
     "iopub.status.idle": "2025-05-14T11:39:03.737437Z",
     "shell.execute_reply": "2025-05-14T11:39:03.736951Z"
    },
    "papermill": {
     "duration": 0.015589,
     "end_time": "2025-05-14T11:39:03.738432",
     "exception": false,
     "start_time": "2025-05-14T11:39:03.722843",
     "status": "completed"
    },
    "tags": []
   },
   "outputs": [],
   "source": [
    "# show_confusion_matrix([1,0,1,1,0], [1,0,1,1,0], 'test_example')"
   ]
  },
  {
   "cell_type": "code",
   "execution_count": 15,
   "id": "94d16205",
   "metadata": {
    "execution": {
     "iopub.execute_input": "2025-05-14T11:39:03.762106Z",
     "iopub.status.busy": "2025-05-14T11:39:03.761924Z",
     "iopub.status.idle": "2025-05-14T11:39:03.766533Z",
     "shell.execute_reply": "2025-05-14T11:39:03.766056Z"
    },
    "papermill": {
     "duration": 0.017719,
     "end_time": "2025-05-14T11:39:03.767539",
     "exception": false,
     "start_time": "2025-05-14T11:39:03.749820",
     "status": "completed"
    },
    "tags": []
   },
   "outputs": [],
   "source": [
    "from sklearn.metrics import (\n",
    "    roc_auc_score, \n",
    "    accuracy_score, \n",
    "    precision_score,\n",
    "    recall_score, \n",
    "    f1_score, \n",
    "    classification_report,\n",
    "    confusion_matrix,\n",
    "    average_precision_score\n",
    ")\n",
    "\n",
    "def show_classification_report(y_true, y_pred):\n",
    "    \"\"\"\n",
    "    Выводит основные метрики классификации в консоль\n",
    "    \n",
    "    Параметры:\n",
    "    y_true - истинные метки\n",
    "    y_pred - предсказанные метки\n",
    "    \"\"\"\n",
    "    y_test_numpy, y_pred_numpy = cupy.asnumpy(y_true), cupy.asnumpy(y_pred)\n",
    "    \n",
    "    # Вычисляем метрики\n",
    "    accuracy = accuracy_score(y_test_numpy, y_pred_numpy)\n",
    "    precision = precision_score(y_test_numpy, y_pred_numpy)\n",
    "    recall = recall_score(y_test_numpy, y_pred_numpy)\n",
    "    f1 = f1_score(y_test_numpy, y_pred_numpy)\n",
    "    roc_auc = roc_auc_score(y_test_numpy, y_pred_numpy)  # Используем бинарные предсказания\n",
    "\n",
    "    print(f'''\n",
    "    Accuracy:{accuracy:.4f} \n",
    "    Precision:{precision:.4f}\n",
    "    Recall:{recall:.4f}\n",
    "    F1: {f1:.4f}\n",
    "    AUC: {roc_auc:.4f}\n",
    "    \n",
    "    ''')\n"
   ]
  },
  {
   "cell_type": "markdown",
   "id": "a43ac23b",
   "metadata": {
    "papermill": {
     "duration": 0.010965,
     "end_time": "2025-05-14T11:39:03.790044",
     "exception": false,
     "start_time": "2025-05-14T11:39:03.779079",
     "status": "completed"
    },
    "tags": []
   },
   "source": [
    "# TF-IDF векторизация"
   ]
  },
  {
   "cell_type": "code",
   "execution_count": 16,
   "id": "e2eee6de",
   "metadata": {
    "execution": {
     "iopub.execute_input": "2025-05-14T11:39:03.814423Z",
     "iopub.status.busy": "2025-05-14T11:39:03.814219Z",
     "iopub.status.idle": "2025-05-14T11:39:03.826489Z",
     "shell.execute_reply": "2025-05-14T11:39:03.825826Z"
    },
    "papermill": {
     "duration": 0.02604,
     "end_time": "2025-05-14T11:39:03.827591",
     "exception": false,
     "start_time": "2025-05-14T11:39:03.801551",
     "status": "completed"
    },
    "tags": []
   },
   "outputs": [],
   "source": [
    "stop_words = stopwords.words('english')\n",
    "temp = [preprocess_review(word) for word in stop_words]\n",
    "stop_words = stop_words + [word for word in temp if word != '']\n",
    "# print(stop_words)"
   ]
  },
  {
   "cell_type": "code",
   "execution_count": 17,
   "id": "7e53a957",
   "metadata": {
    "execution": {
     "iopub.execute_input": "2025-05-14T11:39:03.851023Z",
     "iopub.status.busy": "2025-05-14T11:39:03.850845Z",
     "iopub.status.idle": "2025-05-14T11:39:14.139489Z",
     "shell.execute_reply": "2025-05-14T11:39:14.138705Z"
    },
    "papermill": {
     "duration": 10.302258,
     "end_time": "2025-05-14T11:39:14.140912",
     "exception": false,
     "start_time": "2025-05-14T11:39:03.838654",
     "status": "completed"
    },
    "tags": []
   },
   "outputs": [],
   "source": [
    "from cuml.feature_extraction.text import TfidfVectorizer\n",
    "\n",
    "vectorizer = TfidfVectorizer(stop_words=stop_words, ngram_range=(1,1), max_features=1000)\n",
    "X_tfidf = vectorizer.fit_transform(df['review'])\n",
    "y = df['label']\n",
    "# review_vector_test = vectorizer.transform(x_test['review'])"
   ]
  },
  {
   "cell_type": "code",
   "execution_count": 18,
   "id": "fc296ba3",
   "metadata": {
    "execution": {
     "iopub.execute_input": "2025-05-14T11:39:14.165051Z",
     "iopub.status.busy": "2025-05-14T11:39:14.164842Z",
     "iopub.status.idle": "2025-05-14T11:39:14.168858Z",
     "shell.execute_reply": "2025-05-14T11:39:14.168158Z"
    },
    "papermill": {
     "duration": 0.017339,
     "end_time": "2025-05-14T11:39:14.170277",
     "exception": false,
     "start_time": "2025-05-14T11:39:14.152938",
     "status": "completed"
    },
    "tags": []
   },
   "outputs": [
    {
     "name": "stdout",
     "output_type": "stream",
     "text": [
      "<class 'cupyx.scipy.sparse._csr.csr_matrix'> (61538, 1000) (61538,)\n"
     ]
    }
   ],
   "source": [
    "print(type(X_tfidf),\n",
    "      X_tfidf.shape,\n",
    "      y.shape)"
   ]
  },
  {
   "cell_type": "markdown",
   "id": "83c0dca1",
   "metadata": {
    "papermill": {
     "duration": 0.011628,
     "end_time": "2025-05-14T11:39:14.199181",
     "exception": false,
     "start_time": "2025-05-14T11:39:14.187553",
     "status": "completed"
    },
    "tags": []
   },
   "source": [
    "# Kmeans балансировка"
   ]
  },
  {
   "cell_type": "code",
   "execution_count": 19,
   "id": "60427db7",
   "metadata": {
    "execution": {
     "iopub.execute_input": "2025-05-14T11:39:14.228376Z",
     "iopub.status.busy": "2025-05-14T11:39:14.228082Z",
     "iopub.status.idle": "2025-05-14T11:39:14.246237Z",
     "shell.execute_reply": "2025-05-14T11:39:14.245570Z"
    },
    "papermill": {
     "duration": 0.036604,
     "end_time": "2025-05-14T11:39:14.247378",
     "exception": false,
     "start_time": "2025-05-14T11:39:14.210774",
     "status": "completed"
    },
    "tags": []
   },
   "outputs": [],
   "source": [
    "from cuml import KMeans\n",
    "from cuml.metrics import pairwise_distances\n",
    "import cupy as cp\n",
    "\n",
    "# Функция для андерсемплинга класса\n",
    "def cluster_centroids_majority_KMeans(\n",
    "    X_majority,\n",
    "    y_majority,\n",
    "    n_samples_per_cluster,\n",
    "    n_clusters=3,\n",
    "    n_init=10,\n",
    "    max_iter=300,\n",
    "):\n",
    "    # Инициализация KMeans\n",
    "    estimator = KMeans(n_clusters=n_clusters, random_state=42, max_iter=max_iter, n_init=n_init, verbose=True, )\n",
    "    \n",
    "    X_majority_df = cudf.DataFrame(X_majority.todense(), index=y_majority.index)  # Преобразуем в dense\n",
    "    # X_majority_df.index = y_majority.index #\n",
    "    x_cupy = X_majority_df.to_cupy()  # Преобразуем в cupy\n",
    "    print(f'X_cupy: {x_cupy}')\n",
    "    print(f'X_cupy размерность: {x_cupy.shape}')\n",
    "    \n",
    "    print(f'Индексы X_majority_df: {X_majority_df.index}')\n",
    "    print(\"---------------------------------\")\n",
    "    print(f'Индексы y: {y_majority.index}')\n",
    "    print(f'''\n",
    "    Размерности: \n",
    "      X: {X_majority_df.shape}\n",
    "      y: {y_majority.shape}\n",
    "      \n",
    "    ''')\n",
    "    print((X_majority_df.index == y_majority.index).sum())\n",
    "    estimator.fit(x_cupy)\n",
    "    \n",
    "    cluster_labels = estimator.predict(x_cupy)  # Берем метки\n",
    "\n",
    "    \n",
    "    print(f'метки кластера: {cluster_labels}' )\n",
    "    print(f'метки кластера размерность: {cluster_labels.shape}')\n",
    "    print(f'метки кластера индексы: {cudf.Series(cluster_labels).index}')\n",
    "    print(f'количество точек кластера 0 {(cluster_labels==0).sum()}')\n",
    "    print(f'количество точек кластера 1 {(cluster_labels==1).sum()}')\n",
    "    print(f'количество точек кластера 2 {(cluster_labels==2).sum()}')\n",
    "    \n",
    "    centroids = cp.array(estimator.cluster_centers_)  # Берем центры кластеров\n",
    "    \n",
    "    # Вычисляем расстояния до центроидов\n",
    "    distances = pairwise_distances(x_cupy, centroids, metric='euclidean')\n",
    "\n",
    "    # Создаем cudf.DataFrame для работы с индексами\n",
    "    df = cudf.DataFrame(index=y_majority.index)\n",
    "    # df.index = y_majority.index\n",
    "    df['index'] =  y_majority.index\n",
    "    df['cluster'] = cudf.Series(cluster_labels, index=y_majority.index)\n",
    "    print('Датафрейм с индексами и кластерами:', df)\n",
    "    print('размерность: ', df['cluster'].shape)\n",
    "    print('фактическая размерность: ', df.shape)\n",
    "    print('количество nan: ', df['cluster'].isna().sum())\n",
    "    print(df)\n",
    "    sampled_indices = []\n",
    "\n",
    "    for cluster_id in range(n_clusters):\n",
    "        # Индексы точек в текущем кластере\n",
    "        cluster_indices = df[df['cluster'] == cluster_id]['index'].values\n",
    "        \n",
    "        if len(cluster_indices) == 0:\n",
    "            continue\n",
    "            \n",
    "        # Расстояния до центроида текущего кластера\n",
    "        cluster_distances = distances[cluster_indices, cluster_id]\n",
    "        \n",
    "        # Сортируем по расстоянию и выбираем первые n_samples_per_cluster\n",
    "        sorted_indices = cp.argsort(cluster_distances)[:n_samples_per_cluster]\n",
    "        selected_indices = cluster_indices[sorted_indices]\n",
    "        \n",
    "        sampled_indices.append(selected_indices)\n",
    "    \n",
    "    sampled_indices = cp.concatenate(sampled_indices)\n",
    "    print(f'выбранные индексы: {sampled_indices}')\n",
    "    print(f'выбранные индексы размерность: {sampled_indices.shape}')\n",
    "    # for ind in sampled_indices.get():\n",
    "    #     if ind > 321901:\n",
    "    #         print(df[ind])\n",
    "    cp.random.shuffle(sampled_indices)\n",
    "    \n",
    "    return (\n",
    "        X_majority_df.loc[sampled_indices.get()],\n",
    "        y_majority.loc[sampled_indices.get()],\n",
    "        centroids,\n",
    "        sampled_indices\n",
    "    )"
   ]
  },
  {
   "cell_type": "code",
   "execution_count": null,
   "id": "3865d650",
   "metadata": {
    "papermill": {
     "duration": 0.011476,
     "end_time": "2025-05-14T11:39:14.270526",
     "exception": false,
     "start_time": "2025-05-14T11:39:14.259050",
     "status": "completed"
    },
    "tags": []
   },
   "outputs": [],
   "source": []
  },
  {
   "cell_type": "code",
   "execution_count": 20,
   "id": "9df5407b",
   "metadata": {
    "execution": {
     "iopub.execute_input": "2025-05-14T11:39:14.294875Z",
     "iopub.status.busy": "2025-05-14T11:39:14.294467Z",
     "iopub.status.idle": "2025-05-14T11:39:14.879954Z",
     "shell.execute_reply": "2025-05-14T11:39:14.879028Z"
    },
    "papermill": {
     "duration": 0.599181,
     "end_time": "2025-05-14T11:39:14.881232",
     "exception": false,
     "start_time": "2025-05-14T11:39:14.282051",
     "status": "completed"
    },
    "tags": []
   },
   "outputs": [
    {
     "name": "stdout",
     "output_type": "stream",
     "text": [
      "Количество экземпляров мажоритарного класса:  53397\n",
      "Количество экземпляров миноритарного класса:  8141\n",
      "Количество экземпляров которые надо взять с каждого кластера:  4070\n",
      "(53397, 1000) (53397,)\n",
      "(8141, 1000) (8141,)\n"
     ]
    }
   ],
   "source": [
    "n_clusters = 2\n",
    "n_samples_per_cluster = X_tfidf[y == -1].shape[0]//n_clusters\n",
    "n_init = 30\n",
    "max_iter = 300\n",
    "\n",
    "print('Количество экземпляров мажоритарного класса: ', X_tfidf[y == 1].shape[0])\n",
    "print('Количество экземпляров миноритарного класса: ', X_tfidf[y == -1].shape[0])\n",
    "print('Количество экземпляров которые надо взять с каждого кластера: ', n_samples_per_cluster)\n",
    "\n",
    "#-----#\n",
    "X_majority_tfidf = X_tfidf[y == 1]\n",
    "y_majority = y[y == 1]\n",
    "print(X_majority_tfidf.shape, y_majority.shape)\n",
    "\n",
    "X_minority_tfidf = X_tfidf[y == -1]\n",
    "y_minority = y[y == -1]\n",
    "print(X_minority_tfidf.shape, y_minority.shape)"
   ]
  },
  {
   "cell_type": "code",
   "execution_count": 21,
   "id": "921eb54f",
   "metadata": {
    "execution": {
     "iopub.execute_input": "2025-05-14T11:39:14.906919Z",
     "iopub.status.busy": "2025-05-14T11:39:14.906351Z",
     "iopub.status.idle": "2025-05-14T11:39:18.453336Z",
     "shell.execute_reply": "2025-05-14T11:39:18.452502Z"
    },
    "papermill": {
     "duration": 3.561531,
     "end_time": "2025-05-14T11:39:18.454482",
     "exception": false,
     "start_time": "2025-05-14T11:39:14.892951",
     "status": "completed"
    },
    "tags": []
   },
   "outputs": [
    {
     "name": "stdout",
     "output_type": "stream",
     "text": [
      "Index([    0,     1,     2,     3,     4,     5,     6,     7,     8,     9,\n",
      "       ...\n",
      "       61528, 61529, 61530, 61531, 61532, 61533, 61534, 61535, 61536, 61537],\n",
      "      dtype='int64', length=53397)\n",
      "RangeIndex(start=0, stop=53397, step=1)\n"
     ]
    }
   ],
   "source": [
    "print(y_majority.index) \n",
    "print(cudf.DataFrame(X_majority_tfidf.todense()).index)"
   ]
  },
  {
   "cell_type": "code",
   "execution_count": 22,
   "id": "a20945c5",
   "metadata": {
    "execution": {
     "iopub.execute_input": "2025-05-14T11:39:18.479025Z",
     "iopub.status.busy": "2025-05-14T11:39:18.478815Z",
     "iopub.status.idle": "2025-05-14T11:39:26.543051Z",
     "shell.execute_reply": "2025-05-14T11:39:26.542328Z"
    },
    "papermill": {
     "duration": 8.077641,
     "end_time": "2025-05-14T11:39:26.544500",
     "exception": false,
     "start_time": "2025-05-14T11:39:18.466859",
     "status": "completed"
    },
    "tags": []
   },
   "outputs": [
    {
     "name": "stdout",
     "output_type": "stream",
     "text": [
      "X_cupy: [[0. 0. 0. ... 0. 0. 0.]\n",
      " [0. 0. 0. ... 0. 0. 0.]\n",
      " [0. 0. 0. ... 0. 0. 0.]\n",
      " ...\n",
      " [0. 0. 0. ... 0. 0. 0.]\n",
      " [0. 0. 0. ... 0. 0. 0.]\n",
      " [0. 0. 0. ... 0. 0. 0.]]\n",
      "X_cupy размерность: (53397, 1000)\n",
      "Индексы X_majority_df: Index([    0,     1,     2,     3,     4,     5,     6,     7,     8,     9,\n",
      "       ...\n",
      "       61528, 61529, 61530, 61531, 61532, 61533, 61534, 61535, 61536, 61537],\n",
      "      dtype='int64', length=53397)\n",
      "---------------------------------\n",
      "Индексы y: Index([    0,     1,     2,     3,     4,     5,     6,     7,     8,     9,\n",
      "       ...\n",
      "       61528, 61529, 61530, 61531, 61532, 61533, 61534, 61535, 61536, 61537],\n",
      "      dtype='int64', length=53397)\n",
      "\n",
      "    Размерности: \n",
      "      X: (53397, 1000)\n",
      "      y: (53397,)\n",
      "      \n",
      "    \n",
      "53397\n",
      "метки кластера: [0 0 0 ... 0 0 0]\n",
      "метки кластера размерность: (53397,)\n",
      "метки кластера индексы: RangeIndex(start=0, stop=53397, step=1)\n",
      "количество точек кластера 0 48855\n",
      "количество точек кластера 1 4542\n",
      "количество точек кластера 2 0\n",
      "Датафрейм с индексами и кластерами:        index  cluster\n",
      "0          0        0\n",
      "1          1        0\n",
      "2          2        0\n",
      "3          3        0\n",
      "4          4        0\n",
      "...      ...      ...\n",
      "61533  61533        0\n",
      "61534  61534        0\n",
      "61535  61535        0\n",
      "61536  61536        0\n",
      "61537  61537        0\n",
      "\n",
      "[53397 rows x 2 columns]\n",
      "размерность:  (53397,)\n",
      "фактическая размерность:  (53397, 2)\n",
      "количество nan:  0\n",
      "       index  cluster\n",
      "0          0        0\n",
      "1          1        0\n",
      "2          2        0\n",
      "3          3        0\n",
      "4          4        0\n",
      "...      ...      ...\n",
      "61533  61533        0\n",
      "61534  61534        0\n",
      "61535  61535        0\n",
      "61536  61536        0\n",
      "61537  61537        0\n",
      "\n",
      "[53397 rows x 2 columns]\n",
      "выбранные индексы: [  724  2642  3266 ... 12156 11458 12287]\n",
      "выбранные индексы размерность: (8140,)\n"
     ]
    }
   ],
   "source": [
    "# ресемплим мажоритарный класс \n",
    "x_majority_resampled, y_majority_resampled, centroids, df_indices = cluster_centroids_majority_KMeans(\n",
    "    X_majority_tfidf,\n",
    "    y_majority,\n",
    "    n_samples_per_cluster,\n",
    "    n_clusters=n_clusters,\n",
    "    n_init=n_init,\n",
    "    max_iter=max_iter\n",
    "    )"
   ]
  },
  {
   "cell_type": "code",
   "execution_count": 23,
   "id": "54d2bf7e",
   "metadata": {
    "execution": {
     "iopub.execute_input": "2025-05-14T11:39:26.572070Z",
     "iopub.status.busy": "2025-05-14T11:39:26.571830Z",
     "iopub.status.idle": "2025-05-14T11:39:26.575033Z",
     "shell.execute_reply": "2025-05-14T11:39:26.574453Z"
    },
    "papermill": {
     "duration": 0.017556,
     "end_time": "2025-05-14T11:39:26.576129",
     "exception": false,
     "start_time": "2025-05-14T11:39:26.558573",
     "status": "completed"
    },
    "tags": []
   },
   "outputs": [],
   "source": [
    "# print(review_vector_train)"
   ]
  },
  {
   "cell_type": "code",
   "execution_count": 24,
   "id": "849d5e30",
   "metadata": {
    "execution": {
     "iopub.execute_input": "2025-05-14T11:39:26.601586Z",
     "iopub.status.busy": "2025-05-14T11:39:26.601392Z",
     "iopub.status.idle": "2025-05-14T11:39:27.115143Z",
     "shell.execute_reply": "2025-05-14T11:39:27.114422Z"
    },
    "papermill": {
     "duration": 0.527407,
     "end_time": "2025-05-14T11:39:27.116290",
     "exception": false,
     "start_time": "2025-05-14T11:39:26.588883",
     "status": "completed"
    },
    "tags": []
   },
   "outputs": [
    {
     "data": {
      "text/html": [
       "<div>\n",
       "<style scoped>\n",
       "    .dataframe tbody tr th:only-of-type {\n",
       "        vertical-align: middle;\n",
       "    }\n",
       "\n",
       "    .dataframe tbody tr th {\n",
       "        vertical-align: top;\n",
       "    }\n",
       "\n",
       "    .dataframe thead th {\n",
       "        text-align: right;\n",
       "    }\n",
       "</style>\n",
       "<table border=\"1\" class=\"dataframe\">\n",
       "  <thead>\n",
       "    <tr style=\"text-align: right;\">\n",
       "      <th></th>\n",
       "      <th>0</th>\n",
       "      <th>1</th>\n",
       "      <th>2</th>\n",
       "      <th>3</th>\n",
       "      <th>4</th>\n",
       "      <th>5</th>\n",
       "      <th>6</th>\n",
       "      <th>7</th>\n",
       "      <th>8</th>\n",
       "      <th>9</th>\n",
       "      <th>...</th>\n",
       "      <th>990</th>\n",
       "      <th>991</th>\n",
       "      <th>992</th>\n",
       "      <th>993</th>\n",
       "      <th>994</th>\n",
       "      <th>995</th>\n",
       "      <th>996</th>\n",
       "      <th>997</th>\n",
       "      <th>998</th>\n",
       "      <th>999</th>\n",
       "    </tr>\n",
       "  </thead>\n",
       "  <tbody>\n",
       "    <tr>\n",
       "      <th>42888</th>\n",
       "      <td>0.000000</td>\n",
       "      <td>0.000000</td>\n",
       "      <td>0.0</td>\n",
       "      <td>0.0</td>\n",
       "      <td>0.0</td>\n",
       "      <td>0.0</td>\n",
       "      <td>0.0</td>\n",
       "      <td>0.000000</td>\n",
       "      <td>0.0</td>\n",
       "      <td>0.000000</td>\n",
       "      <td>...</td>\n",
       "      <td>0.000000</td>\n",
       "      <td>0.0</td>\n",
       "      <td>0.0</td>\n",
       "      <td>0.0</td>\n",
       "      <td>0.0</td>\n",
       "      <td>0.000000</td>\n",
       "      <td>0.0</td>\n",
       "      <td>0.0</td>\n",
       "      <td>0.0</td>\n",
       "      <td>0.0</td>\n",
       "    </tr>\n",
       "    <tr>\n",
       "      <th>50187</th>\n",
       "      <td>0.000000</td>\n",
       "      <td>0.000000</td>\n",
       "      <td>0.0</td>\n",
       "      <td>0.0</td>\n",
       "      <td>0.0</td>\n",
       "      <td>0.0</td>\n",
       "      <td>0.0</td>\n",
       "      <td>0.091975</td>\n",
       "      <td>0.0</td>\n",
       "      <td>0.090957</td>\n",
       "      <td>...</td>\n",
       "      <td>0.000000</td>\n",
       "      <td>0.0</td>\n",
       "      <td>0.0</td>\n",
       "      <td>0.0</td>\n",
       "      <td>0.0</td>\n",
       "      <td>0.137554</td>\n",
       "      <td>0.0</td>\n",
       "      <td>0.0</td>\n",
       "      <td>0.0</td>\n",
       "      <td>0.0</td>\n",
       "    </tr>\n",
       "    <tr>\n",
       "      <th>27251</th>\n",
       "      <td>0.000000</td>\n",
       "      <td>0.000000</td>\n",
       "      <td>0.0</td>\n",
       "      <td>0.0</td>\n",
       "      <td>0.0</td>\n",
       "      <td>0.0</td>\n",
       "      <td>0.0</td>\n",
       "      <td>0.000000</td>\n",
       "      <td>0.0</td>\n",
       "      <td>0.000000</td>\n",
       "      <td>...</td>\n",
       "      <td>0.000000</td>\n",
       "      <td>0.0</td>\n",
       "      <td>0.0</td>\n",
       "      <td>0.0</td>\n",
       "      <td>0.0</td>\n",
       "      <td>0.000000</td>\n",
       "      <td>0.0</td>\n",
       "      <td>0.0</td>\n",
       "      <td>0.0</td>\n",
       "      <td>0.0</td>\n",
       "    </tr>\n",
       "    <tr>\n",
       "      <th>9986</th>\n",
       "      <td>0.000000</td>\n",
       "      <td>0.000000</td>\n",
       "      <td>0.0</td>\n",
       "      <td>0.0</td>\n",
       "      <td>0.0</td>\n",
       "      <td>0.0</td>\n",
       "      <td>0.0</td>\n",
       "      <td>0.000000</td>\n",
       "      <td>0.0</td>\n",
       "      <td>0.000000</td>\n",
       "      <td>...</td>\n",
       "      <td>0.086077</td>\n",
       "      <td>0.0</td>\n",
       "      <td>0.0</td>\n",
       "      <td>0.0</td>\n",
       "      <td>0.0</td>\n",
       "      <td>0.000000</td>\n",
       "      <td>0.0</td>\n",
       "      <td>0.0</td>\n",
       "      <td>0.0</td>\n",
       "      <td>0.0</td>\n",
       "    </tr>\n",
       "    <tr>\n",
       "      <th>27486</th>\n",
       "      <td>0.051053</td>\n",
       "      <td>0.057922</td>\n",
       "      <td>0.0</td>\n",
       "      <td>0.0</td>\n",
       "      <td>0.0</td>\n",
       "      <td>0.0</td>\n",
       "      <td>0.0</td>\n",
       "      <td>0.000000</td>\n",
       "      <td>0.0</td>\n",
       "      <td>0.000000</td>\n",
       "      <td>...</td>\n",
       "      <td>0.000000</td>\n",
       "      <td>0.0</td>\n",
       "      <td>0.0</td>\n",
       "      <td>0.0</td>\n",
       "      <td>0.0</td>\n",
       "      <td>0.000000</td>\n",
       "      <td>0.0</td>\n",
       "      <td>0.0</td>\n",
       "      <td>0.0</td>\n",
       "      <td>0.0</td>\n",
       "    </tr>\n",
       "    <tr>\n",
       "      <th>...</th>\n",
       "      <td>...</td>\n",
       "      <td>...</td>\n",
       "      <td>...</td>\n",
       "      <td>...</td>\n",
       "      <td>...</td>\n",
       "      <td>...</td>\n",
       "      <td>...</td>\n",
       "      <td>...</td>\n",
       "      <td>...</td>\n",
       "      <td>...</td>\n",
       "      <td>...</td>\n",
       "      <td>...</td>\n",
       "      <td>...</td>\n",
       "      <td>...</td>\n",
       "      <td>...</td>\n",
       "      <td>...</td>\n",
       "      <td>...</td>\n",
       "      <td>...</td>\n",
       "      <td>...</td>\n",
       "      <td>...</td>\n",
       "      <td>...</td>\n",
       "    </tr>\n",
       "    <tr>\n",
       "      <th>47712</th>\n",
       "      <td>0.063817</td>\n",
       "      <td>0.000000</td>\n",
       "      <td>0.0</td>\n",
       "      <td>0.0</td>\n",
       "      <td>0.0</td>\n",
       "      <td>0.0</td>\n",
       "      <td>0.0</td>\n",
       "      <td>0.000000</td>\n",
       "      <td>0.0</td>\n",
       "      <td>0.000000</td>\n",
       "      <td>...</td>\n",
       "      <td>0.000000</td>\n",
       "      <td>0.0</td>\n",
       "      <td>0.0</td>\n",
       "      <td>0.0</td>\n",
       "      <td>0.0</td>\n",
       "      <td>0.000000</td>\n",
       "      <td>0.0</td>\n",
       "      <td>0.0</td>\n",
       "      <td>0.0</td>\n",
       "      <td>0.0</td>\n",
       "    </tr>\n",
       "    <tr>\n",
       "      <th>41953</th>\n",
       "      <td>0.000000</td>\n",
       "      <td>0.000000</td>\n",
       "      <td>0.0</td>\n",
       "      <td>0.0</td>\n",
       "      <td>0.0</td>\n",
       "      <td>0.0</td>\n",
       "      <td>0.0</td>\n",
       "      <td>0.000000</td>\n",
       "      <td>0.0</td>\n",
       "      <td>0.000000</td>\n",
       "      <td>...</td>\n",
       "      <td>0.000000</td>\n",
       "      <td>0.0</td>\n",
       "      <td>0.0</td>\n",
       "      <td>0.0</td>\n",
       "      <td>0.0</td>\n",
       "      <td>0.000000</td>\n",
       "      <td>0.0</td>\n",
       "      <td>0.0</td>\n",
       "      <td>0.0</td>\n",
       "      <td>0.0</td>\n",
       "    </tr>\n",
       "    <tr>\n",
       "      <th>7848</th>\n",
       "      <td>0.000000</td>\n",
       "      <td>0.000000</td>\n",
       "      <td>0.0</td>\n",
       "      <td>0.0</td>\n",
       "      <td>0.0</td>\n",
       "      <td>0.0</td>\n",
       "      <td>0.0</td>\n",
       "      <td>0.000000</td>\n",
       "      <td>0.0</td>\n",
       "      <td>0.000000</td>\n",
       "      <td>...</td>\n",
       "      <td>0.000000</td>\n",
       "      <td>0.0</td>\n",
       "      <td>0.0</td>\n",
       "      <td>0.0</td>\n",
       "      <td>0.0</td>\n",
       "      <td>0.000000</td>\n",
       "      <td>0.0</td>\n",
       "      <td>0.0</td>\n",
       "      <td>0.0</td>\n",
       "      <td>0.0</td>\n",
       "    </tr>\n",
       "    <tr>\n",
       "      <th>28728</th>\n",
       "      <td>0.000000</td>\n",
       "      <td>0.000000</td>\n",
       "      <td>0.0</td>\n",
       "      <td>0.0</td>\n",
       "      <td>0.0</td>\n",
       "      <td>0.0</td>\n",
       "      <td>0.0</td>\n",
       "      <td>0.000000</td>\n",
       "      <td>0.0</td>\n",
       "      <td>0.000000</td>\n",
       "      <td>...</td>\n",
       "      <td>0.000000</td>\n",
       "      <td>0.0</td>\n",
       "      <td>0.0</td>\n",
       "      <td>0.0</td>\n",
       "      <td>0.0</td>\n",
       "      <td>0.000000</td>\n",
       "      <td>0.0</td>\n",
       "      <td>0.0</td>\n",
       "      <td>0.0</td>\n",
       "      <td>0.0</td>\n",
       "    </tr>\n",
       "    <tr>\n",
       "      <th>11043</th>\n",
       "      <td>0.000000</td>\n",
       "      <td>0.000000</td>\n",
       "      <td>0.0</td>\n",
       "      <td>0.0</td>\n",
       "      <td>0.0</td>\n",
       "      <td>0.0</td>\n",
       "      <td>0.0</td>\n",
       "      <td>0.000000</td>\n",
       "      <td>0.0</td>\n",
       "      <td>0.000000</td>\n",
       "      <td>...</td>\n",
       "      <td>0.000000</td>\n",
       "      <td>0.0</td>\n",
       "      <td>0.0</td>\n",
       "      <td>0.0</td>\n",
       "      <td>0.0</td>\n",
       "      <td>0.000000</td>\n",
       "      <td>0.0</td>\n",
       "      <td>0.0</td>\n",
       "      <td>0.0</td>\n",
       "      <td>0.0</td>\n",
       "    </tr>\n",
       "  </tbody>\n",
       "</table>\n",
       "<p>8140 rows × 1000 columns</p>\n",
       "</div>"
      ],
      "text/plain": [
       "            0         1    2    3    4    5    6         7    8         9    \\\n",
       "42888  0.000000  0.000000  0.0  0.0  0.0  0.0  0.0  0.000000  0.0  0.000000   \n",
       "50187  0.000000  0.000000  0.0  0.0  0.0  0.0  0.0  0.091975  0.0  0.090957   \n",
       "27251  0.000000  0.000000  0.0  0.0  0.0  0.0  0.0  0.000000  0.0  0.000000   \n",
       "9986   0.000000  0.000000  0.0  0.0  0.0  0.0  0.0  0.000000  0.0  0.000000   \n",
       "27486  0.051053  0.057922  0.0  0.0  0.0  0.0  0.0  0.000000  0.0  0.000000   \n",
       "...         ...       ...  ...  ...  ...  ...  ...       ...  ...       ...   \n",
       "47712  0.063817  0.000000  0.0  0.0  0.0  0.0  0.0  0.000000  0.0  0.000000   \n",
       "41953  0.000000  0.000000  0.0  0.0  0.0  0.0  0.0  0.000000  0.0  0.000000   \n",
       "7848   0.000000  0.000000  0.0  0.0  0.0  0.0  0.0  0.000000  0.0  0.000000   \n",
       "28728  0.000000  0.000000  0.0  0.0  0.0  0.0  0.0  0.000000  0.0  0.000000   \n",
       "11043  0.000000  0.000000  0.0  0.0  0.0  0.0  0.0  0.000000  0.0  0.000000   \n",
       "\n",
       "       ...       990  991  992  993  994       995  996  997  998  999  \n",
       "42888  ...  0.000000  0.0  0.0  0.0  0.0  0.000000  0.0  0.0  0.0  0.0  \n",
       "50187  ...  0.000000  0.0  0.0  0.0  0.0  0.137554  0.0  0.0  0.0  0.0  \n",
       "27251  ...  0.000000  0.0  0.0  0.0  0.0  0.000000  0.0  0.0  0.0  0.0  \n",
       "9986   ...  0.086077  0.0  0.0  0.0  0.0  0.000000  0.0  0.0  0.0  0.0  \n",
       "27486  ...  0.000000  0.0  0.0  0.0  0.0  0.000000  0.0  0.0  0.0  0.0  \n",
       "...    ...       ...  ...  ...  ...  ...       ...  ...  ...  ...  ...  \n",
       "47712  ...  0.000000  0.0  0.0  0.0  0.0  0.000000  0.0  0.0  0.0  0.0  \n",
       "41953  ...  0.000000  0.0  0.0  0.0  0.0  0.000000  0.0  0.0  0.0  0.0  \n",
       "7848   ...  0.000000  0.0  0.0  0.0  0.0  0.000000  0.0  0.0  0.0  0.0  \n",
       "28728  ...  0.000000  0.0  0.0  0.0  0.0  0.000000  0.0  0.0  0.0  0.0  \n",
       "11043  ...  0.000000  0.0  0.0  0.0  0.0  0.000000  0.0  0.0  0.0  0.0  \n",
       "\n",
       "[8140 rows x 1000 columns]"
      ]
     },
     "execution_count": 24,
     "metadata": {},
     "output_type": "execute_result"
    }
   ],
   "source": [
    "x_majority_resampled"
   ]
  },
  {
   "cell_type": "code",
   "execution_count": 25,
   "id": "3ea739f3",
   "metadata": {
    "execution": {
     "iopub.execute_input": "2025-05-14T11:39:27.141460Z",
     "iopub.status.busy": "2025-05-14T11:39:27.141253Z",
     "iopub.status.idle": "2025-05-14T11:39:27.145015Z",
     "shell.execute_reply": "2025-05-14T11:39:27.144362Z"
    },
    "papermill": {
     "duration": 0.017447,
     "end_time": "2025-05-14T11:39:27.146067",
     "exception": false,
     "start_time": "2025-05-14T11:39:27.128620",
     "status": "completed"
    },
    "tags": []
   },
   "outputs": [
    {
     "name": "stdout",
     "output_type": "stream",
     "text": [
      "Размерность x_majority_resampled: (8140, 1000)\n",
      "Количество выбранных индексов: 8140\n"
     ]
    }
   ],
   "source": [
    "print(\"Размерность x_majority_resampled:\", x_majority_resampled.shape)\n",
    "print(\"Количество выбранных индексов:\", len(df_indices))"
   ]
  },
  {
   "cell_type": "code",
   "execution_count": 26,
   "id": "132e2a42",
   "metadata": {
    "execution": {
     "iopub.execute_input": "2025-05-14T11:39:27.170787Z",
     "iopub.status.busy": "2025-05-14T11:39:27.170199Z",
     "iopub.status.idle": "2025-05-14T11:39:27.184783Z",
     "shell.execute_reply": "2025-05-14T11:39:27.184171Z"
    },
    "papermill": {
     "duration": 0.027884,
     "end_time": "2025-05-14T11:39:27.185836",
     "exception": false,
     "start_time": "2025-05-14T11:39:27.157952",
     "status": "completed"
    },
    "tags": []
   },
   "outputs": [
    {
     "name": "stdout",
     "output_type": "stream",
     "text": [
      "[42888 50187 27251 ...  7848 28728 11043]\n",
      "label\n",
      "1    8140\n",
      "Name: count, dtype: int64\n",
      "[[0.00586601 0.00395482 0.00398616 ... 0.00210975 0.00558658 0.00648311]\n",
      " [0.00421445 0.0035779  0.00331528 ... 0.00013615 0.00587212 0.005635  ]]\n"
     ]
    }
   ],
   "source": [
    "print(df_indices)\n",
    "print(y_majority_resampled.value_counts())\n",
    "print(centroids)"
   ]
  },
  {
   "cell_type": "code",
   "execution_count": null,
   "id": "74d36df6",
   "metadata": {
    "papermill": {
     "duration": 0.011604,
     "end_time": "2025-05-14T11:39:27.209578",
     "exception": false,
     "start_time": "2025-05-14T11:39:27.197974",
     "status": "completed"
    },
    "tags": []
   },
   "outputs": [],
   "source": []
  },
  {
   "cell_type": "code",
   "execution_count": 27,
   "id": "ed3a3af3",
   "metadata": {
    "execution": {
     "iopub.execute_input": "2025-05-14T11:39:27.234213Z",
     "iopub.status.busy": "2025-05-14T11:39:27.234019Z",
     "iopub.status.idle": "2025-05-14T11:39:27.237832Z",
     "shell.execute_reply": "2025-05-14T11:39:27.237360Z"
    },
    "papermill": {
     "duration": 0.01743,
     "end_time": "2025-05-14T11:39:27.238779",
     "exception": false,
     "start_time": "2025-05-14T11:39:27.221349",
     "status": "completed"
    },
    "tags": []
   },
   "outputs": [
    {
     "data": {
      "text/plain": [
       "cupy.ndarray"
      ]
     },
     "execution_count": 27,
     "metadata": {},
     "output_type": "execute_result"
    }
   ],
   "source": [
    "type(centroids)"
   ]
  },
  {
   "cell_type": "code",
   "execution_count": 28,
   "id": "790ff31c",
   "metadata": {
    "execution": {
     "iopub.execute_input": "2025-05-14T11:39:27.263466Z",
     "iopub.status.busy": "2025-05-14T11:39:27.263267Z",
     "iopub.status.idle": "2025-05-14T11:39:27.266278Z",
     "shell.execute_reply": "2025-05-14T11:39:27.265768Z"
    },
    "papermill": {
     "duration": 0.01653,
     "end_time": "2025-05-14T11:39:27.267251",
     "exception": false,
     "start_time": "2025-05-14T11:39:27.250721",
     "status": "completed"
    },
    "tags": []
   },
   "outputs": [],
   "source": [
    "# ! pip install -U kaleido"
   ]
  },
  {
   "cell_type": "code",
   "execution_count": 29,
   "id": "63b3d583",
   "metadata": {
    "execution": {
     "iopub.execute_input": "2025-05-14T11:39:27.291827Z",
     "iopub.status.busy": "2025-05-14T11:39:27.291615Z",
     "iopub.status.idle": "2025-05-14T11:39:30.120907Z",
     "shell.execute_reply": "2025-05-14T11:39:30.120270Z"
    },
    "papermill": {
     "duration": 2.846154,
     "end_time": "2025-05-14T11:39:30.125397",
     "exception": false,
     "start_time": "2025-05-14T11:39:27.279243",
     "status": "completed"
    },
    "tags": []
   },
   "outputs": [
    {
     "data": {
      "text/html": [
       "<html>\n",
       "<head><meta charset=\"utf-8\" /></head>\n",
       "<body>\n",
       "    <div>            <script src=\"https://cdnjs.cloudflare.com/ajax/libs/mathjax/2.7.5/MathJax.js?config=TeX-AMS-MML_SVG\"></script><script type=\"text/javascript\">if (window.MathJax && window.MathJax.Hub && window.MathJax.Hub.Config) {window.MathJax.Hub.Config({SVG: {font: \"STIX-Web\"}});}</script>                <script type=\"text/javascript\">window.PlotlyConfig = {MathJaxConfig: 'local'};</script>\n",
       "        <script charset=\"utf-8\" src=\"https://cdn.plot.ly/plotly-2.35.2.min.js\"></script>                <div id=\"b8d27ff0-331d-4b9d-af02-7d8aaaa3b6ce\" class=\"plotly-graph-div\" style=\"height:525px; width:100%;\"></div>            <script type=\"text/javascript\">                                    window.PLOTLYENV=window.PLOTLYENV || {};                                    if (document.getElementById(\"b8d27ff0-331d-4b9d-af02-7d8aaaa3b6ce\")) {                    Plotly.newPlot(                        \"b8d27ff0-331d-4b9d-af02-7d8aaaa3b6ce\",                        [{\"hovertemplate\":\"Тип=Точка\\u003cbr\\u003eКомпонента 1=%{x}\\u003cbr\\u003eКомпонента 2=%{y}\\u003cextra\\u003e\\u003c\\u002fextra\\u003e\",\"legendgroup\":\"Точка\",\"marker\":{\"color\":\"#636efa\",\"opacity\":0.7,\"symbol\":\"circle\"},\"mode\":\"markers\",\"name\":\"Точка\",\"showlegend\":true,\"x\":[-0.12242021,0.2301485,-0.24385408,-0.18586086,-0.39323884,0.2272043,-0.26122338,-0.14542434,-0.46459845,0.21863995,0.21457922,-0.25983334,-0.12115626,-0.048773494,0.26094776,-0.20967689,-0.2928651,0.0062629795,-0.1558162,0.22348113,0.24841292,-0.30288106,0.25629285,0.24921465,0.036416985,0.026173351,-0.33793497,0.24998505,-0.2925536,-0.037688226,-0.04794845,-0.2080403,0.22713329,0.2632739,0.14491601,-0.21910967,-0.24962792,0.24054772,0.21974868,-0.10168823,-0.27586147,0.25046533,-0.047937147,0.07044816,0.27017823,0.23354495,0.23948812,-0.109980784,0.22016995,0.24436164,0.24593484,0.26274002,0.23856743,0.20965677,0.121889636,0.21396464,0.17154741,0.21615094,0.25107884,-0.22063977,-0.40615392,0.071982585,-0.48649168,0.20600736,-0.19181567,0.2398234,-0.23675321,-0.4729139,-0.14371364,-0.15541872,0.21949011,-0.2416232,-0.37097362,0.20844927,-0.21053283,-0.089488015,-0.12637231,0.26715833,-0.1733991,-0.24821654,0.24611762,-0.26364586,0.178467,0.1808038,-0.15869088,0.23155539,0.21429256,-0.05240212,-0.03440609,0.21055725,-0.23960407,0.21183272,0.2205438,0.2284556,-0.08335275,-0.32787535,-0.1680335,0.21632102,0.24087924,0.23130327,0.20580623,0.25297374,0.06172913,0.2422333,-0.41664395,0.1931423,0.21595314,0.23799454,0.28368646,-0.023520235,0.20821232,0.25350294,0.22066122,0.22865808,0.22655803,0.25173098,0.21881396,-0.12947612,0.17582057,0.12328411,-0.102485254,0.22320047,0.21755013,-0.21781069,-0.06795288,0.24051633,0.22038299,-0.23297994,-0.21448451,0.24315599,0.21539791,-0.073396064,0.2838972,0.18145649,0.2251257,-0.45122758,-0.30697373,-0.19300787,0.22105907,-0.31609547,0.21848768,-0.07758329,-0.13851859,-0.54301333,0.24879919,0.19698821,-0.4095503,-0.18742594,-0.15320268,0.16382729,0.052246753,-0.24087991,-0.13175154,-0.21236831,-0.3643711,-0.064081386,-0.2602027,0.20570797,-0.06239478,-0.38455483,0.22991465,0.20270112,0.21685526,-0.13800126,-0.026929088,-0.25205714,-0.16935365,-0.117039695,-0.13989407,0.23559958,0.26026782,-0.08342874,0.22540456,-0.3967658,-0.19954203,-0.22417915,-0.09746613,0.2484086,0.2348589,-0.18164264,0.23038368,-0.48179978,0.20239916,0.20434037,-0.21119149,0.2385194,0.26088443,-0.18687934,0.26626372,-0.023129262,0.21982044,0.23030734,-0.14018793,-0.2723865,-0.14384605,0.23884141,-0.21439971,-0.3637759,-0.32617763,0.23152892,0.22563255,-0.087264776,-0.33892566,-0.44534162,0.23595944,0.20124462,0.2327385,-0.20036718,-0.15637895,-0.12195821,-0.15473291,0.26430482,0.22091801,-0.34499276,-0.2937715,-0.047661714,-0.2957938,0.20676681,0.21661049,0.21601489,-0.31910843,0.21886297,0.26055098,-0.14930229,0.23236421,-0.25085422,0.22002214,0.1805435,0.20069759,-0.12984566,0.21210727,0.2074257,-0.078633875,-0.25841004,-0.1396378,-0.16155085,0.24268019,-0.084216736,0.21048665,-0.17232217,0.26609117,0.24403265,0.2348417,0.24045728,0.25657088,0.24617574,-0.3475803,0.22608668,0.20201528,0.23636429,0.24982,-0.033659242,0.20384732,-0.25049904,-0.23570164,0.22210889,0.23096102,0.22685699,-0.120030224,0.19657551,-0.1436347,0.23166278,0.19811971,-0.3137283,0.21689583,0.2166043,-0.22025652,-0.23546937,-0.19381993,0.2429381,0.24047089,0.23496443,-0.1785258,-0.13086621,-0.20128666,-0.23524714,0.19861405,0.2019585,0.18472107,0.21429646,-0.22008343,0.19049612,-0.37131092,0.22722109,-0.25481525,0.24298644,-0.18982986,-0.22361006,-0.21833009,0.07359025,0.1530459,-0.093070626,-0.16421941,0.205514,-0.23840271,0.21005249,-0.17407413,-0.16639228,0.23499939,0.18284826,-0.18223019,-0.32727554,-0.25946823,-0.25758517,0.24494278,-0.10485583,-0.03682921,-0.245132,0.23162599,0.23396698,-0.18222003,-0.46225837,0.23963915,0.21768725,0.2834135,0.22786768,0.23989856,0.2540412,0.2772528,0.21064128,-0.20106769,0.23671561,-0.031023106,0.24719521,-0.12714511,-0.16086271,-0.3428965,0.19520292,-0.07321633,0.23805663,-0.012652495,0.22036862,0.2424159,-0.1868595,0.22483404,-0.48383084,0.23517188,0.24658489,0.23257172,0.16886778,0.23223999,-0.103822514,0.18448077,-0.2725526,0.23642433,0.20208809,0.21119416,-0.28652176,0.19772503,-0.24223411,0.21935698,0.21898818,0.220949,0.20098104,-0.2187132,0.24896342,-0.07838219,-0.18045071,0.21599689,-0.11778067,-0.3577446,-0.166277,0.28239495,0.20580746,0.22491467,0.2227038,0.2272892,0.23780617,-0.29828513,-0.08809982,0.20345993,0.23664856,0.23282337,-0.04311129,-0.49625596,0.23294452,-0.29540792,-0.25620598,0.18610443,0.18128301,-0.1657387,0.26768017,0.25791854,-0.217147,0.20710635,0.23876801,-0.34944355,-0.48783034,0.26505876,-0.24491599,-0.07795432,-0.031013034,0.24377027,0.22024985,0.23745367,0.26294878,0.18686889,-0.045067832,-0.38463464,-0.12761135,-0.27735764,0.23826167,0.23126704,-0.38914353,0.19037719,0.23293346,0.19118232,-0.26783895,-0.33075717,-0.12824899,-0.013542438,-0.4337302,0.28271246,-0.18837893,0.23735505,-0.30910945,0.2266204,-0.109681726,-0.19531256,0.27358368,-0.27927876,-0.10882471,-0.31254557,-0.32864335,-0.23961507,-0.4871145,-0.09134188,-0.279748,0.23270506,0.22779477,-0.34271017,0.19594637,-0.19306922,0.22852561,0.2353188,0.24277714,-0.14366958,-0.43988088,0.23122664,0.23810159,-0.16670644,-0.19560845,0.28093842,0.23362535,0.23245724,-0.19055681,-0.3006963,0.19843622,-0.26205564,0.22884957,0.25112197,-0.17009924,0.2051556,-0.19881293,-0.29161116,-0.38675416,-0.20983975,0.22456798,-0.3035589,0.18969707,0.24329036,-0.41015536,0.23201594,0.24819805,0.26501426,-0.15152851,-0.35317463,0.25873905,-0.113866806,0.22339608,0.25427032,-0.042942416,0.118433475,0.20255367,-0.26246873,-0.24605697,-0.47956994,0.2564506,0.23490006,0.19610488,-0.36478484,0.24930523,-0.39036682,-0.48349178,-0.13992889,-0.21033376,0.1558299,-0.25194833,0.22849166,-0.24563609,0.24784732,-0.2590035,-0.26851937,-0.29317397,0.21283312,0.21821055,0.20853105,-0.37004492,-0.058112733,-0.38130105,0.20210403,0.22351633,0.22996986,0.2238464,0.23736158,-0.42097086,0.23856294,-0.33550182,0.3041913,0.20228012,0.13028607,-0.32120577,-0.27265716,0.2046394,0.17072259,0.25691256,-0.27324057,0.26024926,-0.20982581,0.2468577,0.21343021,0.20246,0.21512732,0.21427527,-0.26620975,0.22612226,0.22456253,-0.2028276,-0.10999618,-0.18850131,0.25451037,0.23543866,0.2214399,-0.3081435,0.24168551,-0.2274298,-0.13260943,0.20582883,0.23788358,-0.2549255,0.2173776,-0.27564326,0.2426933,-0.32053503,-0.28553233,-0.099894635,-0.053035375,-0.061293833,0.23650041,0.24196945,0.21899393,0.26370424,0.17412548,-0.28542122,-0.09276918,-0.25590727,0.23581354,-0.0958402,0.23332205,0.23231533,0.22739695,0.19179499,0.21307133,-0.103263386,0.22082731,-0.09174954,0.24893121,-0.027665228,-0.072095715,-0.29090422,0.20849903,0.19862452,0.25156134,-0.11626446,0.24030113,0.22629735,0.20996597,0.18022344,0.1995778,-0.17932571,0.2576601,-0.25919732,-0.15892106,0.23516193,-0.2974511,0.23304912,-0.11327149,-0.14093284,-0.35321593,0.21754909,-0.149683,-0.4295531,0.2441992,-0.14848678,0.20267388,-0.15925974,0.24573243,-0.41167337,-0.19628817,0.1659013,0.23560715,0.22899765,-0.29467762,0.19959784,-0.16352986,-0.26637512,-0.07753016,0.21066631,-0.14850685,-0.07399499,-0.18131644,0.21877536,0.22063613,0.20511806,0.20329762,-0.21508119,0.20169781,-0.12178319,-0.41093916,0.2252537,-0.08608958,-0.3547145,-0.23177007,0.24588539,-0.10937397,0.23247403,0.23472352,-0.12022133,-0.42399374,0.25120914,-0.41841018,-0.31806195,0.16916443,-0.25547382,-0.20478353,-0.12447001,-0.23566817,0.25731003,0.20592946,-0.2642607,-0.33393228,0.23763543,0.20923358,0.20249443,0.21506178,0.20647913,-0.12185484,0.21980968,-0.37523168,-0.12145665,-0.19811964,-0.18865347,-0.2898972,0.26834095,-0.15521963,0.15339229,0.20087561,0.2438146,0.20087805,0.18980359,0.21270303,0.21117695,-0.3931834,-0.15141773,0.22730938,-0.112363935,0.19230391,0.2625183,0.2266621,0.21368617,-0.32795042,-0.27202514,-0.10270077,0.20952316,0.1506305,0.21408288,0.22865815,0.22120667,0.21618113,0.22562788,0.20443751,-0.3415078,-0.46122375,-0.28567448,0.24272625,-0.10875577,0.24241117,0.23735845,-0.24811119,0.27386814,-0.2656976,-0.010739613,-0.18765444,-0.2447629,0.2364763,0.19671974,-0.057901498,0.23427746,0.25594172,-0.13932082,-0.05614871,-0.08504483,-0.25500438,-0.2848693,-0.19109268,-0.010165811,0.21982919,-0.1767416,-0.13018572,0.23214418,0.23516452,-0.1754312,-0.209028,0.20162052,0.23098035,-0.35790208,-0.05569131,0.20034042,0.2557946,-0.09175989,-0.17674541,-0.32959643,-0.16131608,-0.45682737,0.1962729,-0.24097075,-0.1246195,0.20622528,0.21889247,0.20721936,0.24641277,-0.20048167,-0.25624907,0.22473538,0.25035653,-0.028266015,-0.09608871,-0.056895632,-0.38223547,0.21368618,0.23863187,0.22799337,-0.15270376,0.21361426,0.27265877,0.23909059,0.22140175,-0.11217241,-0.0820336,0.23792607,-0.13993566,-0.0499022,-0.19836187,-0.1483807,0.27979815,-0.24974133,-0.24407324,-0.28709653,-0.16728836,0.20062515,0.22348285,0.22457933,-0.23492372,0.23581935,0.2342353,-0.4348956,0.20694634,-0.07422708,-0.46744257,0.18944658,-0.3755067,-0.20410675,0.2577207,-0.14369929,-0.3509548,0.21406806,0.21743697,-0.41256237,-0.24485394,-0.15477931,-0.31433055,0.19150256,0.23458102,0.1535681,-0.09688656,0.20618811,-0.26898608,-0.35166052,0.19009244,-0.41890222,0.2312243,0.21123385,-0.27703032,0.2452547,-0.36497918,-0.17799327,-0.15798402,0.20647484,0.22460142,-0.101613745,-0.41214603,0.2430553,-0.10457808,-0.06309204,0.2173744,-0.40708944,-0.17789997,0.18706074,0.20263362,0.2225483,-0.3695592,-0.31953436,0.22114262,0.20591758,-0.22936636,-0.14305885,0.24830708,-0.22544113,-0.21549079,0.21800166,-0.025462564,0.1772611,-0.17212403,-0.22587043,-0.18557489,-0.09721597,-0.28429872,-0.32533094,0.19866908,-0.25374746,-0.2696551,-0.13960333,-0.20280972,0.26086894,-0.20627126,-0.17021623,0.17023079,0.24806777,0.23187345,0.21178606,0.23696142,-0.2028136,-0.32630256,0.2498648,-0.32713455,0.17538792,-0.16916317,-0.40413854,-0.22863457,0.23840562,-0.11030866,-0.13191433,0.20532794,-0.26937354,0.22690846,-0.45024246,-0.2539304,-0.29272634,0.20609471,-0.17278,-0.25922507,0.22993034,-0.3690604,0.21094452,0.2062253,0.20831497,0.21448144,-0.18313837,-0.1498695,0.22804892,0.002838525,0.21090133,0.23224247,0.20878834,0.2510455,-0.23125225,-0.005019868,0.06616925,0.2257529,0.26277733,0.21787846,-0.47899845,0.21060953,-0.32300687,-0.5160185,-0.4222953,0.21500206,-0.118568726,0.24074864,-0.27349496,0.22657566,0.2421234,0.19512506,-0.42617655,0.0042889975,-0.14231981,0.21920282,0.21556628,0.21415527,-0.29960856,0.27316356,-0.38499346,-0.20150505,0.23966183,0.22143678,-0.30239803,0.22133192,-0.16000457,0.24257758,0.24339128,-0.12065107,-0.31368214,-0.37812996,0.27670103,-0.13856784,0.23189571,-0.23676649,-0.34947744,0.18435432,0.24302194,-0.15087211,0.21327457,-0.22183624,0.23876594,0.21708316,-0.25514725,-0.36294726,0.26640052,0.20568414,0.19343863,-0.10744263,-0.18044601,0.2344975,-0.26057285,-0.31449485,-0.2567645,-0.3281138,0.24073994,0.24367818,-0.1998933,0.25348726,-0.20801467,0.261415,0.21577823,0.20793955,-0.17916712,-0.042635407,0.22367774,-0.1015571,-0.28553596,0.19528553,0.24732152,0.23346432,0.22518793,-0.2858091,0.25266713,0.24379672,-0.28370336,-0.3656258,-0.12074157,-0.38320762,0.26671147,0.21369928,0.21399434,0.23873098,0.2109488,-0.23013882,0.20726056,-0.33447808,-0.04422009,0.0073015736,-0.05727748,0.22627553,0.21433884,0.22142845,0.2259972,-0.26627824,0.21258956,0.18656997,-0.07509492,0.21765906,0.20981821,-0.20813492,0.22420129,-0.07427885,0.19495635,-0.022543237,0.25222576,-0.15753748,-0.21242934,-0.26453882,0.21817559,-0.34379122,-0.18414155,-0.123072654,-0.22462307,-0.11926074,-0.092114,-0.3781948,-0.4042719,0.18895066,-0.24164592,0.24179062,0.22733636,0.23532395,0.20472762,-0.38792896,-0.1462129,0.19864437,-0.19107273,-0.2192603,-0.30897915,-0.5015195,-0.26197317,-0.23122013,-0.3607766,-0.16193868,-0.0757708,-0.049876917,0.23635358,0.22852948,-0.29501858,0.23385331,0.01702761,0.23057872,0.23809297,-0.021672573,0.25412977,-0.41304764,-0.089664534,-0.36044577,-0.24201179,0.23693426,-0.07439838,0.2235544,-0.029896276,0.20141172,-0.25727576,0.20915547,0.21270652,-0.11865074,-0.12714761,0.22190112,0.24110076,0.20414622,-0.43163127,-0.14406183,-0.11606654,-0.27020147,-0.07119442,-0.21559978,-0.23643772,0.2114166,0.23148158,-0.25179815,0.23159963,-0.097085625,-0.35237214,0.1683018,-0.19830424,0.2452839,0.23298115,0.14013596,0.18996319,0.19626153,0.20641151,-0.33234426,0.22958326,-0.14286277,0.28993016,0.2591195,-0.24078771,-0.04513804,-0.42174572,-0.31080326,0.24099678,-0.121117234,-0.140735,0.23494682,-0.21354623,-0.35436255,0.17165749,-0.09102799,0.21883649,-0.33279788,0.19563001,-0.2860471,-0.31172532,-0.060269177,0.24205804,0.23270589,-0.25142395,0.24277592,-0.29473817,-0.26017237,-0.37815785,-0.22944096,-0.20520844,-0.35536325,-0.11309655,-0.17028561,0.19326614,-0.059084807,-0.21797808,0.23871388,0.20433405,-0.1928392,0.21766122,0.23872533,0.2310005,-0.39448276,-0.25818765,-0.046859615,-0.19439915,0.19738103,0.22006692,-0.07828979,0.23666608,-0.3225688,0.25092313,-0.12543465,0.18786153,-0.41164616,-0.063219704,-0.098732114,-0.45184416,0.20927797,0.19540842,-0.4133608,-0.5503552,0.21541575,-0.07090461,-0.15046488,0.21746174,-0.25883248,0.21166533,0.22339797,-0.33465186,-0.14341348,0.22722158,0.21675378,-0.2796641,-0.4010368,-0.41275516,-0.15827054,-0.05975467,-0.072808295,0.23404834,0.23171791,-0.08712241,0.2394519,0.22432543,0.22341898,0.2272133,-0.32124946,-0.33170918,-0.17640051,-0.21470682,0.02988398,-0.14024854,-0.22450444,0.24934895,0.24195778,-0.11086227,0.24473506,0.20581439,0.20217599,-0.07321811,-0.34006417,0.25095257,0.22254568,0.23626554,-0.4108306,-0.38361517,-0.440274,0.19232413,0.17118324,-0.3649331,0.24977846,0.21822731,-0.20181498,0.19874252,0.2242928,0.17919964,-0.09758037,-0.07099163,-0.10199421,-0.35989615,0.26788616,0.18495697,-0.22952572,0.27331686,-0.46606368,-0.05571357,0.22749329,-0.34643474,0.2629265,-0.31543607,-0.28002268,-0.057483636,-0.12426382,-0.13885365,-0.22810666,0.2443445,0.23801841,-0.36646962,-0.35694432,-0.07549892,-0.041045703,0.19439948,0.23221777,-0.41526473,0.24528532,0.21196027,0.21247414,-0.12244159,-0.26559108,0.2501647,0.021400623,0.206562,-0.20191036,0.18923704,0.24782902,-0.30016023,0.2084625,-0.29495427,-0.19159266,0.14828092,0.21705443,0.22648972,-0.12353709,0.2439048,-0.37165448,-0.13137543,0.24222563,-0.17484689,0.23725098,0.2268301,0.18967816,0.2328608,0.13992903,-0.06697783,0.25751138,-0.1920389,-0.4489872,0.23466803,-0.18398142,0.17715406,0.20206183,0.21005462,0.15254024,0.18732505,0.0052451254,0.22874084,0.23019426,0.08594226,-0.207075,0.21626356,-0.27494827,0.20938684,0.24470396,-0.08280568,-0.30579743,-0.25466865,0.2260372,0.22168475,0.23678552,-0.16154408,0.19890237,-0.4963785,-0.22897902,-0.25911766,-0.31379762,0.20915268,-0.21362269,0.23161793,-0.2193659,0.22940657,0.24597779,0.24911028,-0.07684828,-0.21503268,0.2002477,0.15282272,0.2461945,-0.17665982,-0.1373778,-0.2946635,-0.10471185,-0.16721435,-0.2683284,0.21579099,-0.02135196,0.24623513,0.21210693,-0.3105688,0.07044816,0.22599602,0.22885339,-0.22776055,0.20947453,-0.15350547,0.22902495,-0.035102345,0.22628067,0.24466398,-0.19511989,0.23312905,0.14276433,0.21570626,0.23409054,-0.28644064,-0.29750815,-0.1420951,0.2083824,0.20619953,-0.07431254,-0.032579735,0.22997148,-0.283225,0.23669954,-0.48321706,-0.077713534,0.2219135,-0.11548811,-0.4689336,0.22140995,0.194458,-0.23833765,0.24020411,-0.3471534,-0.34211522,0.221485,0.21412319,0.18921795,0.22213295,0.21997303,-0.38488054,-0.09407907,0.22431436,0.1870257,0.27416694,0.24836111,-0.059558637,-0.18384744,0.2228075,0.21076661,0.20528561,0.22268662,-0.20236517,-0.42580998,0.21193492,-0.2150417,-0.20565978,0.21157217,0.22307612,0.2191807,0.20644394,0.1982554,0.22947864,0.20858532,-0.023310937,-0.26883417,0.22258951,-0.058021598,0.21751656,-0.26099735,0.11269575,0.13881525,-0.22154376,-0.03819687,0.23118371,-0.21338297,-0.30543602,0.23629184,-0.13390936,-0.19155723,-0.24959579,-0.20212713,0.23103465,0.2780378,0.20946488,0.104787156,-0.2634198,-0.1687634,0.2661851,-0.20363677,-0.28256333,0.2244235,-0.26264405,-0.27382278,0.22620894,0.19438018,-0.15257594,-0.19455351,0.23388734,-0.22879817,-0.4182699,-0.12139045,-0.3306053,-0.027332809,-0.1821507,0.17487442,0.21848477,0.19651186,0.24174997,0.24424411,-0.48584503,-0.24224931,-0.35720745,0.21961772,-0.3368735,0.2018267,0.22616653,-0.27694046,-0.14570089,-0.03360337,0.2160286,-0.37598562,0.19100139,-0.20357709,0.23973168,0.19617933,0.20442095,0.22937575,0.21251392,-0.09291103,0.24176702,-0.2443878,0.20583439,-0.09921354,0.2158899,0.22922511,-0.3883978,-0.32232025,0.22782984,-0.14457177,-0.38142723,0.17037399,0.21895775,0.21022683,-0.35417438,-0.14913237,0.2438456,-0.5771791,0.23788032,0.23416777,-0.31629506,0.21512409,-0.23992085,-0.3037544,-0.12695575,0.22439924,-0.39838293,-0.40492687,-0.34217808,-0.21699873,-0.094162986,-0.37597403,-0.33628494,-0.21610741,0.16174516,0.18617208,0.1802405,-0.006158363,0.24407649,-0.16068703,0.22603634,0.23572905,0.1815952,-0.37209657,0.22517076,-0.08129415,0.20366457,-0.25393197,-0.4246395,0.23956645,0.23014,-0.124801695,-0.089239806,0.2238161,0.18695831,-0.13201895,-0.09830353,-0.27276233,0.23266472,0.19384487,-0.24819839,0.21044065,-0.11426532,-0.25976673,0.1619021,-0.2919372,0.19036219,0.19330572,-0.25605816,0.22050086,0.2213668,-0.11670616,-0.20913598,0.23258036,0.1922354,0.25044233,-0.24824128,-0.51094246,-0.3734996,0.23056772,0.21998976,-0.2801439,0.19000456,-0.16155921,0.21543677,0.18580362,0.21641539,0.19924346,-0.12383109,0.22536595,0.24570426,0.26241285,0.21384594,0.23090401,0.2760179,0.22635749,0.21184301,0.271106,-0.19408627,0.25978062,0.20357473,0.2325058,-0.24168721,0.22730368,0.2260129,-0.17717394,0.18473816,-0.21265458,0.23036313,-0.12785734,0.23579103,0.22722185,-0.12930036,-0.3183012,-0.4507663,-0.2560836,0.2410408,0.19846632,0.22917081,-0.3931563,0.20550561,-0.45056912,0.24485135,-0.33117667,0.24209163,-0.1307933,-0.02485875,-0.17629907,-0.35904187,0.2516906,0.2019593,0.2421071,-0.02889288,-0.25812215,0.21310847,0.1832306,-0.19076633,0.23107105,-0.5420452,0.25441575,0.25719208,-0.17054689,-0.18157074,0.22294039,-0.07003991,-0.26629093,0.21093543,0.20778155,0.1649501,-0.110508576,-0.28620106,0.18546708,-0.4127568,-0.12801802,0.20229991,-0.29135767,-0.10195136,0.2158818,-0.11466026,-0.15661602,0.21424265,-0.18039331,0.1349478,-0.14236747,0.2552965,-0.09944322,0.21619856,-0.24060121,0.23362297,0.217659,-0.22732842,0.21933728,-0.2695623,0.25840002,0.19383655,0.23845011,-0.22695363,0.20745102,0.2573074,0.2397665,-0.04565156,-0.40317035,0.21745035,-0.14831328,0.2295315,0.1992318,0.19016008,0.04350941,-0.28222686,0.21258646,0.19229,0.105499044,-0.34869352,0.12752926,-0.079349905,0.21064386,0.21581298,0.22363226,-0.20410144,0.2297374,0.20532402,-0.07579865,-0.2921469,-0.13035798,-0.21479742,0.21940562,-0.13290131,0.23889142,0.27048004,0.24465097,-0.18155465,-0.2777087,-0.15969981,-0.09160266,0.15804312,0.25382757,0.23847792,-0.095642276,-0.13041256,-0.2819944,-0.33471578,0.26626474,-0.18495189,-0.42668766,0.20395811,-0.19925478,-0.10175677,-0.2677626,-0.31785053,0.20814836,0.22274812,0.22482905,0.22165623,0.23919317,0.2502888,-0.14643008,0.09922142,-0.24541736,0.2203635,0.18928833,-0.16564898,0.23326527,-0.12793604,-0.18706508,-0.25573823,-0.3427642,0.23280221,-0.018737659,0.21439312,0.1854538,0.21243846,-0.06525116,0.23183374,-0.17561218,0.24105021,0.07044816,0.20967269,-0.177096,0.22477615,-0.07230425,-0.31575948,0.26552814,0.2317583,-0.030749168,0.23574068,-0.25312942,-0.15279998,-0.03714278,-0.34551272,0.2423899,0.2692569,0.22541928,-0.04822716,-0.18804199,0.20583451,-0.36770827,-0.09641613,0.22924091,-0.2283739,0.21921277,0.04715808,0.26451454,-0.3087321,-0.3143745,0.23623468,-0.16835761,0.26684323,0.23101999,0.2738802,0.24699979,-0.2273595,0.21354723,0.23754156,-0.09025511,-0.22157595,-0.29081252,0.2294639,-0.15486923,0.23605682,0.19230266,0.197516,0.23671104,-0.11486344,-0.26303962,-0.16002402,-0.37503394,-0.3688698,0.13158777,-0.2210939,0.21608725,-0.4533441,-0.2452363,0.21069087,-0.21318844,0.2545372,-0.1909793,0.20554277,0.31473845,-0.059924986,-0.42655012,0.22078738,-0.31472418,0.26031098,-0.2442505,0.260878,-0.4081658,-0.24353176,-0.35232663,-0.25553614,-0.30754292,0.22604895,-0.11484038,-0.3268927,0.27648267,-0.113562375,-0.34571648,0.15795587,-0.43944785,0.22587015,-0.11425102,-0.3672392,-0.12145476,-0.25679827,0.2700478,0.2690315,0.2212735,-0.47354096,0.20554048,-0.019625891,0.25367233,-0.12117709,-0.20924336,-0.28058314,0.22963384,0.21146004,-0.08832717,-0.12828963,0.20676869,0.23887943,-0.05087392,0.17313065,-0.19146973,0.292417,0.21202764,0.26631373,0.2588271,-0.14445351,0.23464659,-0.13665453,-0.14572218,-0.14238262,0.27340347,0.2273548,0.21963628,0.24704097,0.23730075,-0.17291805,-0.3328321,-0.11116644,0.11110017,-0.31978405,-0.088932425,0.23238358,-0.19894087,-0.25966388,0.22913152,-0.28303963,0.2743172,-0.2964757,-0.3420739,-0.060895413,0.1926528,0.21302848,-0.24151793,0.22850315,-0.12833077,-0.30781597,0.22524497,0.2345505,0.23182186,0.25173786,0.23524776,-0.064215735,-0.19024566,-0.29782254,0.19259237,0.20276022,-0.12440741,-0.18127334,-0.11268641,0.17502317,0.25907385,0.18480927,0.2302662,-0.15718472,0.25035685,0.22604793,-0.5307456,0.18235348,-0.2465092,-0.33764648,-0.42454416,-0.016776986,0.2271389,0.2698032,0.2473994,0.2337743,0.21715556,-0.118394695,-0.19217172,0.22820047,0.19556497,-0.058093067,-0.4331105,-0.24044928,-0.2865285,0.24148849,0.23434006,-0.31350538,0.2574226,0.15125397,0.2320988,0.2113315,-0.2845005,0.24233657,-0.16397122,0.13431153,0.20872782,0.12428234,0.26226434,0.23217726,0.24235201,-0.1574151,0.19908099,0.25352132,0.23991251,-0.20644505,0.22915064,-0.13106142,0.23287906,0.22749372,-0.09149641,-0.4841863,-0.1251384,0.19182757,0.21432725,-0.33733797,0.2391302,-0.049725216,0.19518006,0.25477707,0.2265887,-0.25831136,-0.21289235,-0.21802357,0.2579826,0.21285231,0.20161338,0.2281012,-0.27679223,0.20344763,0.20209682,-0.0049423054,0.22486839,-0.2718054,0.18278205,-0.18875225,-0.42668766,0.23678069,0.22329733,-0.32455897,0.20135424,-0.10835686,-0.21846,-0.26797387,-0.34962955,0.2299204,-0.40436217,0.083915964,-0.06228719,0.23028731,0.27728817,-0.032117937,-0.22362182,0.13485377,0.25323355,-0.15792419,-0.16678497,-0.1585044,-0.32840404,-0.306083,-0.11185468,0.17065379,0.16788903,-0.2685823,-0.19047311,0.22209474,0.19487415,-0.40605372,0.21764356,0.2400966,0.24187985,-0.4255175,-0.2519037,0.22004342,0.22530998,0.19210269,-0.29437658,0.21987298,-0.33286336,0.22443166,-0.15713331,0.25528377,-0.063107,-0.14478594,0.24602392,-0.2543552,-0.051154926,-0.19741252,0.24568158,-0.23945728,-0.36916202,0.23432265,-0.5107569,-0.3745306,-0.088604465,-0.297342,0.2553206,0.2361557,-0.20570922,-0.22190736,-0.33445758,0.18761732,0.228613,-0.27177018,-0.21977738,-0.26415387,-0.3158508,0.22749399,0.18850304,0.21335657,0.23358423,0.20762058,0.22415902,-0.10985721,-0.15510385,0.22189346,-0.4190496,-0.108873114,0.26088342,0.2140495,0.19371904,0.23427479,0.21583162,0.22318146,0.23683466,-0.03573702,-0.12257944,0.22384085,-0.38227338,-0.039138608,-0.20255768,-0.27377096,0.020830916,0.20865056,-0.2573663,0.16629864,0.25001574,0.24279849,0.2071482,0.26935595,0.24005574,-0.26074752,0.16459394,-0.0842422,-0.062195618,0.25171888,-0.10197828,-0.5002296,0.2225595,0.24047078,0.22087917,0.1272302,0.22748995,-0.18119472,0.22637767,-0.30055237,0.20926234,-0.19942462,-0.26496887,0.22039193,0.26215392,-0.15458052,-0.26750702,0.20945734,0.23183048,0.28210086,0.21046035,0.22064328,-0.1277174,0.18530147,0.2147768,-0.019806769,-0.10565452,-0.23043424,-0.14883515,0.2173839,0.25925624,-0.22682075,-0.08076456,0.28540516,-0.08116224,-0.08552047,0.24440928,0.23140603,-0.31209928,0.22798325,-0.21821405,0.21530387,0.20481005,-0.17642528,-0.36605927,0.25358328,0.17250893,0.2573598,-0.079275414,-0.11095095,0.26580977,0.21329573,0.24081638,-0.009033771,-0.10171547,0.21193133,-0.42294028,-0.20941718,-0.09658783,-0.11573064,-0.24037589,0.22901809,0.23946516,-0.12445392,0.2500583,-0.22140172,-0.2357522,0.21184051,0.28726697,-0.28801104,0.21698871,0.26392895,-0.45122758,0.22146806,-0.24286355,-0.16510478,0.19157785,-0.110557646,-0.3463293,-0.32575327,-0.077964716,-0.19569188,-0.41264033,0.19817953,0.24597034,0.22827268,-0.17827119,-0.08302145,-0.073825866,-0.18270624,-0.18573777,-0.30890754,0.2130577,-0.08657451,0.05061233,-0.23130238,0.24196157,-0.1931391,-0.29677472,0.21786267,-0.1514101,0.22351179,-0.110247165,-0.37775755,-0.051431917,-0.37097114,0.21025257,0.20856889,0.2193966,0.17763188,0.21918973,0.25173932,-0.19414234,-0.11681807,-0.38032174,-0.15033793,-0.024209216,-0.43710628,0.23421966,-0.33423328,-0.26854932,-0.33698744,-0.16079757,0.25919968,0.13234806,-0.3811375,0.27361098,-0.19159706,0.20343573,-0.27856284,-0.050538115,0.23171389,0.2559251,-0.20912822,0.20807202,0.22559169,-0.41521809,-0.3020826,-0.1002323,0.23969445,-0.2048405,-0.43531552,0.25093588,0.2037218,-0.23507988,0.114720434,0.2161451,0.1869156,0.25636035,0.14500794,0.22785553,0.2163811,0.21710993,-0.17907628,0.24142925,-0.2687941,-0.10374369,-0.269813,-0.33241946,0.16919564,-0.22515574,0.24045226,0.22803728,0.24497361,0.23499909,-0.2800704,-0.21842052,0.20498359,-0.3394751,0.24354847,0.21022569,-0.16552727,-0.38475746,0.29385787,-0.08508096,-0.09532201,0.23109174,-0.34601593,0.21047266,-0.18985023,0.21264397,-0.23281759,0.22950512,-0.22288896,-0.12712379,-0.17452396,0.219983,-0.065960795,0.2176109,0.24613501,0.25909868,0.15818031,-0.12556507,0.21681185,-0.4134336,0.22782043,-0.27169144,-0.24720638,-0.420842,0.20616636,-0.21576545,0.115101986,0.23327437,-0.03692225,-0.20173757,-0.41830295,-0.35315597,0.27091137,-0.04110883,-0.34807202,-0.11707579,0.18373735,-0.108571984,0.23982371,0.22324994,-0.27206832,-0.17377187,0.23172396,-0.09528668,0.20462662,-0.28812024,-0.33428407,-0.14404422,0.27473527,0.22881258,-0.15397494,0.21428815,-0.16016847,-0.4330518,0.1919634,-0.29478526,0.23831506,0.23993379,0.17020802,-0.25565788,-0.14073643,0.23832127,0.21917166,0.24254413,-0.39294595,-0.22108775,-0.15665112,-0.45420635,-0.189632,-0.13536341,0.2404205,0.29686892,-0.36191812,0.20681345,-0.12539834,-0.18347822,0.2316059,0.21965957,0.21914452,0.19382775,-0.23866272,-0.43867204,-0.32057458,-0.32750612,0.25903785,-0.17965639,-0.08227054,0.2149771,0.09793748,0.24856547,0.2017219,0.21133342,-0.06606141,0.21618783,0.23533642,-0.3191892,-0.027248468,0.19762884,0.19499068,0.23786816,0.24287276,0.24866259,0.24860127,0.24765027,-0.16575842,-0.3592298,0.21410993,-0.17326546,0.26392883,-0.12674677,0.22312069,0.19619441,0.24230032,0.23149946,0.22811072,-0.36819738,-0.20256418,0.2361089,-0.3058934,-0.08239729,-0.29544568,0.1986545,-0.2800163,0.2482445,0.20238131,0.20626019,-0.19567955,0.22565426,0.2133243,-0.058448896,0.2691381,-0.11224201,-0.33013338,0.20341732,0.21490204,-0.30026764,-0.16451374,-0.14895698,-0.1412942,-0.24297976,-0.14756317,-0.14971834,0.24701259,0.23455632,-0.22942752,-0.21889256,0.21487144,-0.20141205,0.24722768,-0.26554972,-0.35080758,0.24305965,0.20421259,0.21376997,-0.14199927,0.22297609,-0.06832659,0.22004035,0.23454468,0.18995017,-0.16823657,-0.22495973,0.22647178,0.18920518,0.19854924,-0.25356883,0.190215,-0.41753852,-0.050202075,0.22496921,0.22155052,-0.24409716,0.202864,-0.0455576,-0.3821777,0.24321732,0.23885992,0.20628807,0.20570426,-0.24163952,-0.34013537,-0.18642533,0.22105967,-0.08715811,0.22450535,-0.06615851,0.22963063,0.23640159,-0.27337307,-0.25060976,-0.35337946,-0.42445785,0.099757835,0.23213387,0.25937802,0.22206526,0.24606782,0.22687228,-0.20377572,0.20102568,0.22709054,-0.17300497,-0.42340586,-0.28453133,-0.090289295,-0.13954015,-0.054151647,0.20629549,-0.112764016,0.20783427,0.20049582,-0.16523977,-0.20256905,0.040040344,-0.08180252,-0.30418375,0.22173886,0.2240703,-0.26402706,-0.2975891,0.23823664,0.27587092,-0.3059999,-0.16348797,0.22732173,0.24012832,0.13979839,0.22843312,0.2385893,0.21464573,0.23969889,0.26942405,0.21507671,0.24273078,-0.17829826,-0.063109286,-0.1099969,-0.29946208,-0.13607065,0.22159792,0.24193332,-0.370743,0.2772714,-0.27790672,0.23125371,0.26664647,0.28044355,-0.3444046,-0.08108798,-0.19663331,0.21700217,0.30092433,0.1755659,-0.34796613,-0.13502559,-0.2883956,-0.19649781,0.21020612,0.26238254,-0.35536095,-0.29739004,0.22808672,0.20764782,0.21154627,0.2416585,0.25332874,-0.12357826,-0.1294072,0.2170795,0.26050407,0.20930138,-0.23711973,-0.3603544,-0.3207099,-0.2320418,0.25114182,0.07044816,0.23314859,-0.39716235,-0.0022114748,-0.12153447,0.265275,0.19185445,-0.09518844,-0.36251616,0.22342588,-0.08842951,-0.37715575,-0.29899064,-0.23982278,-0.50478256,-0.34368056,0.20601381,0.24086028,-0.4794552,0.24055478,-0.341581,0.21118246,-0.17166287,-0.06904623,-0.24631542,-0.17403647,-0.28443518,-0.28577286,-0.1377034,-0.25917378,-0.29353026,-0.35036114,0.23242836,0.20133817,0.2310553,0.26154375,-0.08545611,-0.049562708,0.26697716,-0.054831102,0.24659608,-0.092317335,-0.13539445,0.21644431,-0.26378977,0.23907174,-0.37211192,0.18454836,0.06419414,-0.33047777,-0.15292674,0.23773323,0.20375386,-0.3217789,-0.21522099,0.19586617,-0.21677655,0.14972827,-0.30910626,0.2307755,0.21001025,-0.35000253,0.21848692,0.23976515,-0.15626791,-0.04304786,0.2162962,0.2575585,0.20084581,0.20262438,-0.20016894,0.23817244,-0.38914758,-0.16724658,-0.12596187,0.18715876,0.23485923,0.20069958,0.24163401,0.21221456,-0.044818055,-0.046975523,0.24162579,-0.29995587,0.23086546,0.20125066,0.24007344,-0.15751863,0.26323232,0.14151084,-0.24698643,-0.15317926,-0.10506899,-0.14434513,-0.13669749,-0.26494786,-0.0036163125,-0.35554543,-0.19013953,-0.2072162,0.21656938,-0.18797716,0.2665004,0.20722814,-0.093141325,-0.21308602,-0.12462358,-0.27543926,0.19335167,-0.2016649,0.23251463,-0.24853939,0.21262163,0.2008764,-0.24582376,-0.37600064,0.21308304,0.2090416,-0.37495562,0.23662536,-0.14208536,0.2083441,-0.18360037,-0.21951827,-0.16685459,-0.16591802,0.024791472,0.20044565,0.19252336,-0.24359937,0.23260567,-0.14264093,0.2612014,-0.25727794,-0.31820154,-0.23110056,0.20050684,0.21394578,0.1927362,0.19229591,-0.1680445,0.21810675,0.20826775,0.104212314,-0.10844579,-0.26760828,-0.22395885,-0.169033,0.23721799,-0.22148514,0.21796171,0.23621795,-0.21870892,0.19233853,-0.22335158,0.24758793,-0.20297891,0.2389427,0.24163765,0.22228095,-0.117868766,-0.2603729,0.14759324,-0.12012773,0.0103533305,0.22113007,0.20356324,-0.43311143,0.2268385,0.20582668,0.22068778,0.2515671,-0.07852446,0.21611547,-0.3242039,-0.16457538,-0.48753116,0.18551528,-0.26189262,0.22924562,0.23652753,0.20319214,-0.17500578,-0.41134584,0.21141313,-0.06677924,-0.063009046,-0.25819916,0.24957898,-0.1946468,0.19914192,0.18942437,0.19562702,-0.1120437,0.19341129,0.21142383,-0.27433673,0.21012345,-0.054992728,-0.28741318,0.23911846,-0.25904447,0.20879105,0.20716505,0.3000424,0.22731744,0.1397358,-0.34097844,0.23499264,-0.20575818,-0.39429885,-0.21452439,-0.27032614,0.20839165,-0.27043858,-0.16226086,0.26134047,-0.08673413,0.19118379,0.22680946,0.22745228,0.220642,-0.077129714,0.22889678,-0.13375802,-0.10037122,-0.08067338,-0.28210592,-0.19108644,0.27142572,-0.48188362,0.20106962,-0.48041683,-0.1747083,0.17096798,-0.3667674,0.21859421,0.20375985,0.23924856,0.18887068,0.2238491,-0.45914444,-0.47499228,-0.124533206,-0.34148094,0.24341443,-0.33593875,-0.23382138,-0.0857151,0.24734843,-0.16626257,-0.33906826,-0.3233407,-0.1610305,-0.11043718,-0.32981363,0.17098562,-0.23218639,0.26020157,0.23132779,0.21031299,0.1821139,-0.12486232,0.25537133,0.011535162,0.13806534,-0.2558666,-0.36553693,0.21329084,-0.2464466,-0.28221226,-0.16746415,-0.093958385,-0.13050367,-0.19915518,0.21171358,-0.26632252,0.21560818,-0.25931078,-0.16347007,-0.09742032,0.21265087,-0.46026835,-0.22901833,0.2382848,0.2161273,0.22403023,0.23757716,-0.11144749,-0.19784465,0.24657044,-0.2565508,-0.15371273,0.22878188,0.18179625,-0.3021157,-0.30099183,-0.16998897,0.20536004,-0.20684862,-0.19406858,-0.13758317,-0.19007865,0.22821505,-0.19226295,0.18982469,0.21342278,0.22161867,0.23560974,0.18036203,-0.20215908,0.2585892,-0.15431848,0.20235153,0.23985066,-0.26698655,-0.12688933,0.23375031,0.22152139,0.20116544,0.13191012,0.24100962,0.20942812,0.20500886,-0.06551938,-0.38423255,0.27777395,0.19962232,0.26011106,-0.4198398,0.2666429,0.2630658,-0.07996722,-0.18592815,0.23071748,-0.52627593,-0.097183146,0.18176459,0.2217159,-0.52623844,0.19475967,0.21418293,-0.087604515,-0.32010165,-0.30406716,-0.44317704,0.25995168,0.25460258,0.08725873,-0.15310366,-0.014395718,-0.1392389,0.2088902,-0.1020763,0.19212039,0.21174344,-0.29182902,-0.42024103,0.20472439,0.21490319,-0.13992667,-0.26456237,0.21528535,-0.46995306,-0.26159284,-0.4200587,-0.17242022,0.27146482,-0.26075622,0.25435567,-0.4693551,0.2293952,0.23912992,0.26594907,-0.19113824,-0.15495181,-0.1814259,-0.2632987,0.20213479,-0.013274132,-0.08524151,0.24435312,0.21135288,-0.367118,-0.37436092,-0.33248898,0.18927246,0.23784181,-0.14593746,0.21406616,-0.13360444,0.2594962,0.26617432,0.20530412,0.09788097,0.22160664,0.23524639,0.24398813,0.24365515,0.18655942,-0.14402628,-0.44559753,0.22355999,0.19188502,-0.07504312,0.28405625,-0.19664092,-0.18759513,0.22857846,-0.08359853,0.11476226,-0.15857129,0.28267226,-0.13746828,0.22051443,0.18904833,0.19964229,-0.17987311,0.24263163,0.22943953,0.24891707,-0.34305072,0.20625186,-0.335608,-0.18297018,-0.30792546,0.24442601,0.22111359,0.22956847,-0.010219924,0.15240932,-0.16191404,0.2198242,-0.47195944,0.18958232,0.21051481,0.20734133,-0.20830959,0.21435739,0.20011789,0.19652113,-0.31931293,-0.15874238,0.21439645,0.23469362,0.21296297,-0.11810576,-0.11482737,0.26979023,0.11618547,-0.13235894,0.19838242,0.15074967,0.24674895,-0.30425102,0.25112036,0.018173723,0.23969525,0.19775087,0.20989463,0.23898488,0.20013778,-0.12431575,-0.16085936,0.22226223,-0.17510633,-0.17013468,-0.07431218,0.19593552,0.21332793,-0.12690255,0.23117945,-0.4619211,-0.2418539,0.20543522,0.2410903,-0.18900828,0.18486921,-0.14647138,0.23288098,-0.27092108,-0.07803994,0.25324026,-0.13682494,0.24653903,0.2337122,-0.09729024,0.23799258,0.20925708,-0.28214762,0.20830445,0.23357329,-0.14743897,-0.27152994,0.2111963,0.21915631,0.25055456,-0.28212574,-0.077162564,0.25458208,0.17222835,-0.11616634,0.19159354,0.25321883,-0.30485508,0.21185666,0.23667711,0.21455188,0.21535322,0.23108062,0.24329008,-0.07641326,-0.2410134,-0.54162276,-0.27360618,0.22626922,-0.113267936,0.23587254,-0.2469333,0.22938773,-0.335288,-0.107301645,-0.24137147,0.1869935,-0.15712018,0.20239376,0.24977414,0.23222438,-0.014331251,0.22599867,-0.3286819,-0.36848295,-0.26267484,0.2160944,0.23334865,0.23237297,-0.2620614,0.1917663,-0.17110215,0.049178366,0.21884146,0.12886646,0.22640605,-0.4785617,0.1817052,0.23130691,0.23336858,0.2307902,0.22074834,-0.22426823,-0.14579497,0.23501939,-0.11442729,-0.14210783,0.24341933,0.14947736,-0.38209957,0.25403762,-0.31822944,-0.20769581,-0.09190044,-0.16313945,0.21488598,0.25792348,0.23210657,-0.10357502,-0.50910795,0.21392697,0.22312827,0.22733624,0.23672551,0.2106922,-0.3029296,0.21782842,-0.2934247,0.26056415,-0.025347898,0.23977397,0.2481581,0.25008065,-0.20135704,0.18372947,0.23928113,0.19963479,0.20507687,-0.35599896,-0.09856017,-0.13952306,0.2237585,0.21686798,-0.2300527,0.16599432,-0.24202144,0.23892543,-0.24286124,0.24081004,-0.23721047,-0.3801402,-0.19708762,-0.21173346,0.22822005,-0.108027205,-0.16206913,0.22391456,-0.08055079,0.28132495,0.20970607,0.25004667,0.13627422,0.20314366,0.22969645,0.26498675,-0.19536904,0.26958352,-0.11937332,0.23510675,-0.11812878,-0.471386,-0.18147671,0.20464072,0.21101488,-0.24904647,0.21007445,0.17598362,0.23229417,0.20046617,0.1916374,0.25140676,-0.38772148,0.28936523,-0.1239958,-0.052700974,0.21771,-0.17943487,-0.29056966,0.19724905,0.16982147,-0.31841272,0.21492124,0.20009641,0.26106456,-0.26420283,0.2133415,-0.2731455,-0.4156289,-0.1684747,-0.4503531,-0.4762718,0.2085998,-0.21883523,0.16212538,0.2096812,0.22353156,-0.19578871,-0.17586458,-0.32933393,-0.38746974,-0.36199126,0.23058653,0.22173391,-0.25965393,0.22643779,0.20550528,-0.335661,-0.1363174,0.24553224,0.24525405,-0.19019395,-0.069399126,0.23369741,-0.28729728,0.2316026,0.24912727,-0.1924586,-0.27990356,0.19817677,0.2341268,0.20303956,0.25516388,-0.08749164,0.2297166,0.25585967,0.20661426,0.24998471,-0.21489456,-0.17960462,0.19742468,0.23989664,0.24991035,0.24620482,0.24627215,-0.11676695,0.21667777,0.21796182,-0.07525268,-0.10559997,0.23437798,0.21722323,-0.06451079,-0.23495749,-0.33326975,0.22795244,-0.3421561,-0.29117936,-0.26865324,0.20013283,-0.31038773,0.2481783,-0.25319034,-0.15583211,-0.28451654,-0.32860264,0.19430044,-0.11806057,-0.16465575,-0.20043309,-0.2796443,0.22976318,0.24819115,-0.2273323,0.22689934,-0.33097643,0.22376561,-0.2039761,-0.21662478,-0.16031983,0.19083206,-0.39435735,-0.17896736,0.2380087,0.18593314,0.21383415,-0.29350945,0.26127255,-0.20022489,-0.09211482,-0.19980326,0.2375404,0.2080696,0.1823447,0.24885422,0.2062,0.21185306,0.23177308,-0.25304222,-0.21667022,0.25523165,-0.15606655,-0.14510116,-0.08786541,0.20742416,-0.29566962,0.19812514,0.22541976,-0.31164756,0.22303295,0.27030912,0.24504428,-0.02393376,0.233868,0.23150449,-0.19386776,-0.45350718,0.1132282,0.2960362,-0.210664,-0.11637707,0.2202406,0.23292765,-0.45003802,-0.04261435,-0.13406008,0.23135233,-0.29124025,-0.24820724,0.24242854,0.21221532,-0.3420482,0.21227099,0.19749989,0.21827796,-0.26847774,0.22898975,0.18837288,-0.27427587,0.23787737,0.20217262,0.25493664,0.19506428,-0.11835421,-0.39929458,-0.3024889,0.18984683,-0.16089898,-0.11197034,0.24088389,0.20459163,-0.2068909,0.2017791,-0.17359035,-0.41610318,-0.12039843,-0.3071109,-0.31195694,-0.21357575,-0.2385087,0.23172516,-0.25125068,-0.26658067,-0.033653468,-0.43369767,-0.09907352,-0.2500156,-0.098840415,0.22964358,0.21549244,-0.2650093,0.23775247,-0.25880376,-0.31630635,-0.31672785,0.24466959,0.19914417,-0.22969013,-0.3644689,-0.21888447,0.26441652,-0.19874711,0.2209767,-0.32684523,0.20511436,-0.3481306,-0.2359008,0.18554477,0.20387182,0.20046824,-0.35762507,-0.08661016,-0.18910427,-0.30929703,0.1850079,-0.39309663,0.22813591,0.20446831,-0.35376313,0.22541957,0.20572633,0.20143798,0.26945555,0.21087979,-0.06612632,-0.26227993,0.20969585,-0.26947045,-0.38333267,-0.38087928,-0.13093482,0.22468466,0.21171905,-0.28815717,-0.11703971,-0.29502565,-0.2499449,-0.25300473,-0.15949078,-0.17308137,0.22167778,-0.21030042,-0.2680612,-0.07029985,0.24589977,0.143945,0.22982137,-0.32311618,0.24021289,0.23459533,-0.18099718,-0.53612703,0.20774794,0.24211243,-0.27754185,0.23812056,0.22148645,-0.16414423,0.2300005,0.24296096,-0.16743821,0.2282583,-0.23073953,-0.31269485,0.21857671,0.20745203,-0.11304555,0.21714765,-0.3342694,0.22986472,0.21602044,0.1495264,-0.21164696,0.21881682,-0.2583081,-0.11950659,0.21452738,-0.38457766,-0.06002517,0.22965382,-0.07350417,0.22023001,0.21776599,-0.297525,0.24210376,-0.08693587,0.0330685,-0.027249593,-0.15812229,0.24200466,-0.044145875,0.19643217,-0.09090002,0.2157324,-0.24475975,-0.04782117,0.19116277,0.2741074,-0.18102151,0.2374329,0.22810028,0.18915087,-0.37585494,0.2361183,-0.41676036,0.24635465,-0.17925517,-0.14872538,0.23229817,-0.38130432,-0.3422448,0.19265026,0.21286696,0.2070356,-0.097883716,-0.2849884,0.26781017,0.24399711,-0.24293348,0.22748847,0.2198613,-0.3335956,-0.28471744,-0.22721708,-0.10793634,-0.12113569,0.24237642,0.22227782,0.08929073,-0.39759743,0.22214416,0.20763528,-0.1337122,-0.104884766,-0.034723952,0.20512202,-0.46175554,0.20286208,-0.38027006,0.1914266,0.22627987,-0.5521761,0.20518842,-0.11044669,0.29479033,-0.25212908,0.20393947,-0.19139302,-0.26419812,0.20536847,-0.32337964,-0.118584916,-0.37575284,0.23559994,-0.10684371,0.24160293,-0.39866596,0.26750192,-0.19484557,-0.015427702,0.26315156,0.21891713,0.22474784,-0.11255661,-0.42455763,0.24755028,-0.34095597,0.20913488,0.24312368,-0.4911542,0.23329598,0.25594676,-0.06348535,0.22766897,-0.2061364,-0.50527745,0.25670123,-0.18732141,0.19164622,-0.50915563,0.21185622,0.22325876,-0.09788821,-0.28605413,0.20816152,-0.12856859,0.20451711,0.18967977,0.24966007,-0.2719251,-0.32601887,-0.3321197,0.24112104,0.25444272,0.21471247,-0.2478492,-0.28529942,0.2541986,0.21848048,0.2352199,0.25763553,0.26318482,0.21309419,-0.27552742,0.2174793,-0.3007481,-0.3004452,-0.26409173,0.22860965,0.22024861,0.2426201,-0.16254705,0.2176975,-0.38041186,0.21114022,-0.09860642,0.23703876,-0.20026451,-0.20694958,-0.30213875,-0.26144955,0.17636037,-0.26768157,-0.27241027,-0.31822664,0.2051166,0.21299386,-0.054307915,-0.48593026,0.20900154,0.2050604,-0.1455672,-0.19597423,0.23945254,-0.25261563,-0.1399351,0.2290389,-0.31295782,0.21599019,0.23671824,0.18297154,0.25693023,-0.27626354,0.09996845,0.2142981,-0.15201354,0.213119,0.21440174,0.24383274,0.25217563,0.22751065,-0.18624912,0.23793012,-0.2603037,0.23332676,0.20770705,-0.2801547,-0.2644156,-0.39680445,0.2320676,0.23491377,-0.11071573,0.2165904,-0.06264983,0.20406234,-0.2828057,0.21727218,0.27447498,0.24652119,0.13054496,0.18706016,-0.0062451186,-0.23670676,-0.31404126,0.247068,-0.22348103,-0.102663495,-0.17953551,-0.05659,-0.31267038,0.25738662,-0.31343746,-0.16137257,0.22924116,-0.16588563,0.034328222,0.27047247,0.2042999,0.20884097,-0.14239928,0.23311055,-0.3544536,-0.27394646,0.24810448,-0.3633058,0.18826264,-0.023059696,0.22924528,-0.5118123,0.23979929,0.20728901,0.24126938,-0.2921418,0.22866231,-0.31758553,-0.28348634,0.20532814,-0.034669667,-0.065164655,0.22216554,0.23001695,0.2638758,-0.06552543,0.1760434,-0.24394774,-0.27178663,-0.21912907,0.22880949,0.21506074,0.21004501,-0.09515015,0.05528137,0.23816974,0.20580564,0.2443685,0.23646368,0.01224415,-0.6161884,0.24146783,0.0016614757,-0.24801828,0.24200697,0.19095726,-0.27245396,0.22388351,-0.43783715,0.13760439,0.15520224,0.22712564,0.20821166,0.23762281,-0.15517202,-0.13826968,0.24900085,0.25678074,-0.27412945,0.29703504,0.21582273,-0.10998144,-0.16199166,0.20953937,0.26465073,0.2040048,0.26970306,-0.41052565,-0.23870297,-0.08296397,0.25384992,-0.22090858,-0.115986556,-0.17719229,0.23735651,0.20836389,-0.20939818,0.26835048,-0.11797719,-0.33031714,-0.024283022,-0.22275174,-0.49556872,-0.28808686,-0.12541167,-0.049340762,-0.063442945,-0.24171032,-0.051216643,0.23551561,0.19884026,-0.12723406,-0.18468298,-0.31428242,-0.060963232,0.2067384,0.18540883,0.24401732,0.22837357,-0.0703983,0.25182825,-0.2501878,-0.23701489,-0.20528556,0.21363612,-0.3415281,0.1898886,0.229723,-0.013307752,0.24693209,0.22662494,0.2307592,-0.36492607,0.24502894,-0.1715092,0.24174891,0.23041205,0.2211973,-0.015692428,0.24708156,-0.36906967,0.2339202,0.25041464,-0.064849496,0.21440676,-0.45275918,-0.17341335,0.18764204,0.24518208,0.25817844,-0.10174453,-0.29518512,-0.29948804,-0.26867127,-0.008185908,0.24475133,0.2538767,-0.32130688,-0.107843384,0.2640821,0.22253561,0.20544794,0.27496982,0.21591571,-0.30286393,0.2455891,-0.043632075,0.25429264,-0.36013156,0.23536676,0.23475441,0.22716531,0.1252841,-0.3085597,0.14465174,-0.09557906,0.23219395,-0.1391136,-0.14416102,-0.15320227,-0.19959623,0.20278037,0.24636063,0.2525262,0.24650377,0.23177487,0.22716957,0.2108458,-0.12859254,0.24852777,-0.24492308,-0.103209384,0.12072866,0.22025257,0.22367133,-0.33159843,0.21696284,0.256462,0.19376771,-0.028740887,-0.16334382,-0.04051839,-0.14598742,0.21100205,-0.36083883,-0.19852772,0.23976183,0.23394112,-0.29715613,0.24040577,-0.25655195,0.24093619,-0.1241721,-0.19626057,-0.28220862,-0.34846002,-0.34491438,0.24351904,0.24666035,0.2458719,0.20581326,0.21583354,0.204362,-0.22130382,0.19504626,-0.0970176,-0.22979954,0.20079303,0.22171462,0.2111369,-0.15610266,0.18820629,-0.36420432,0.26203182,0.23663466,0.21059428,0.2518797,-0.22084308,0.23968212,0.23025988,-0.16380908,-0.21570373,-0.06108052,0.19700058,-0.22740398,0.23255259,0.26725516,-0.17363204,0.2753601,0.21766792,-0.18647298,0.2089544,-0.092428796,-0.26755157,-0.2261302,0.22511767,0.21338877,0.2921255,-0.25121433,-0.09404379,-0.22089078,0.25951374,0.07044816,0.23757508,0.23446473,-0.17276326,0.25110945,0.17524226,0.20627718,-0.13056013,0.19103894,0.1982685,-0.10928505,-0.1226145,0.2447378,0.18773028,-0.17056072,0.22586398,0.2301597,-0.38040078,0.21725866,0.25933543,0.21443696,0.24912313,-0.1984608,0.20221014,0.20061502,-0.27528706,-0.116073854,0.21673435,0.20125842,-0.3335091,-0.45812297,-0.19064409,0.20654687,-0.18945764,0.24296957,-0.40712196,0.22823292,-0.44978425,0.20476426,0.16077827,0.20344582,0.21282114,-0.2171666,0.0041722963,-0.19541974,0.22540803,-0.22799642,-0.27569076,-0.21379091,-0.21305045,-0.052347902,0.23553121,0.20352694,0.22346401,0.237298,-0.12263676,-0.21305618,0.22192268,0.10520235,0.21933861,0.26049903,0.27003974,-0.06631246,0.20947441,0.21333885,0.14255622,0.26899514,0.2137925,-0.10219773,0.23338738,-0.2569515,-0.1474815,-0.20867905,-0.21232623,-0.23063585,0.22982864,0.24509862,-0.17953914,0.19798829,0.21472207,0.21969625,0.18332659,-0.19882399,0.24631172,-0.15378936,-0.2963333,-0.16605785,0.22367507,0.21953368,0.2161107,-0.13329178,-0.24648365,-0.018168187,0.22089136,-0.26043528,0.17714122,-0.53287184,-0.15362906,-0.21202014,-0.1562,-0.02158331,0.2238649,0.2000245,0.22344655,0.19678128,0.2134853,-0.41941208,0.0014502779,-0.21967922,-0.1355415,-0.34398654,0.11470051,0.24908625,0.19231561,0.22238412,0.25239223,0.22534485,-0.039483853,0.23628081,0.23607787,0.13506132,0.2062826,0.2363766,-0.32224753,0.24530211,0.18868124,-0.12961632,-0.12170294,-0.42009065,-0.17893958,-0.20822331,-0.030843858,-0.029896956,-0.20540878,-0.31641397,-0.19847134,-0.25562927,-0.20634206,0.13318792,-0.20759189,-0.24549836,-0.23145065,0.23790954,-0.13538559,-0.16148165,-0.50277543,-0.25608844,0.21634501,0.22297096,0.22705767,-0.3249479,0.2502747,-0.39502835,-0.3196713,0.2452622,0.23198637,0.20416018,-0.3526641,-0.2664806,-0.1771369,0.20489743,0.2675372,0.21269691,0.22230452,0.23052996,0.23391448,-0.18747798,0.19944982,-0.14784208,-0.18592846,0.21898478,0.22835296,0.20948598,-0.07842714,-0.3555742,0.2505685,-0.19364175,0.2303265,-0.10535912,0.1998275,-0.22033025,-0.07482204,-0.019582368,0.19214398,-0.1379095,0.20938234,-0.18938607,-0.13057809,-0.14540091,0.20964259,-0.1472991,-0.17194468,-0.41937524,-0.08705814,-0.082627356,-0.22274172,-0.036401577,-0.48878932,-0.26605138,-0.20242435,0.1948499,0.21767262,0.24768344,-0.4932773,-0.060115013,0.26601186,0.20201933,0.22852418,0.23247106,-0.1059113,-0.10729503,-0.4689771,-0.030610733,0.24175853,0.21369405,-0.35926658,0.24027601,-0.22881939,-0.23798443,0.20040649,-0.19446439,-0.23392755,0.20812055,0.21291924,-0.1057856,-0.15880942,-0.39445993,-0.18929145,0.2398361,-0.2600512,0.19730884,0.22067973,-0.13362841,0.2084964,0.07044816,-0.18316063,0.22653951,0.21500954,0.24439454,-0.27626997,-0.2632539,0.20590997,-0.37607458,-0.28927454,-0.15955718,-0.11165169,0.23067647,0.24113749,0.22029653,-0.08312214,-0.41657457,0.19940828,-0.1595069,-0.12905222,0.21022855,0.23494492,0.25232387,0.20359714,0.22793698,0.09532252,0.20957887,0.20988852,-0.046683826,0.23105685,-0.19838542,-0.36689118,-0.35435385,0.21786155,0.23259524,-0.33300835,-0.22284329,-0.22000512,-0.31465295,0.22604223,0.24139082,-0.13634567,0.24072419,-0.20097692,-0.25756723,0.2256069,-0.044585556,0.28037214,0.23136598,0.24719547,0.20568682,0.20442194,0.20926853,0.2569127,-0.14606757,-0.18975493,-0.13581264,0.23689833,0.21119185,0.20724805,0.22251801,0.20907089,-0.26129872,0.2143663,0.20011874,0.2057408,0.23142466,-0.1486747,-0.27921027,0.23514168,0.22013369,-0.3718495,-0.02437346,0.23435022,-0.042595364,-0.29468971,0.23407578,0.20713563,-0.40901574,-0.12618917,-0.02203165,0.12715061,-0.18831621,-0.21233301,-0.24486399,0.23863997,0.23885532,0.26709986,0.22111587,-0.23184797,0.21013147,-0.07731748,-0.08169935,0.18618488,-0.30056673,-0.41416365,0.22362795,-0.19528297,0.20588984,-0.08888456,0.21029088,-0.23148614,0.18803284,0.19268179,-0.25659227,-0.2534747,-0.3129817,-0.2126979,-0.18632558,0.2134709,0.23791437,-0.42001408,0.21840633,0.19242345,0.20769164,0.21996017,0.22105393,0.24341409,0.23906025,0.21295679,0.2625742,0.24171218,-0.24338485,-0.1068715,-0.2506811,0.21094745,0.25211364,0.24250542,-0.21421227,0.11092016,-0.07781878,0.24498397,0.19494693,0.20758496,0.18183592,-0.22909465,-0.36993468,0.2565328,0.19848217,0.22101226,-0.12658927,-0.3079099,0.20687392,0.21968848,0.2094149,0.22265868,0.23193519,0.18353914,-0.44032744,0.24421613,-0.1392388,-0.123659745,-0.17168887,0.22844926,0.27276748,-0.09914199,0.20444797,-0.17890224,0.22429809,-0.06626747,-0.43490422,0.21409848,-0.07363517,0.21811306,0.24816531,-0.057991497,-0.22985946,0.23564471,-0.5365275,-0.08689771,-0.05781736,0.2537841,-0.15802592,0.21123661,-0.47585532,-0.116801314,0.19897749,-0.08775783,-0.08775051,0.21119471,-0.35177565,0.22368905,-0.17130792,-0.11489144,-0.16612951,0.21501245,-0.5216763,0.19574988,0.2316981,0.22384891,0.22942662,0.25867918,0.27611926,-0.23475185,0.19668311,0.23049054,-0.0840127,-0.03032095,-0.30266586,0.23780055,-0.0051327534,0.19771667,0.1714424,-0.094295636,0.22839269,0.21924001,-0.18639322,-0.3111005,0.26314774,-0.10619861,0.24923995,0.2614193,-0.043266296,0.27424693,-0.024145674,-0.013032399,-0.27250132,0.2531277,-0.39148706,-0.06405149,-0.11274845,0.26739654,0.1131022,-0.26791,0.24302757,0.21895127,-0.19267187,0.25582987,-0.07159022,-0.23472957,0.17774701,0.22354218,-0.09515315,0.22342856,-0.10995304,0.23435947,0.19626684,-0.43163916,0.2060424,0.2190341,-0.18128803,-0.44524685,0.22808512,0.21471,-0.033985216,-0.07166116,0.18036853,0.095167294,-0.30310544,-0.16287825,-0.16738705,-0.39433017,-0.17304103,-0.051109884,-0.17531696,-0.23864642,-0.20838793,0.19514164,-0.4114668,-0.098420806,-0.17244428,-0.36646312,-0.1989125,0.27400154,-0.35664955,-0.23350157,0.21276683,-0.3059578,0.21851641,-0.15961647,0.20855835,-0.30320984,0.2032626,0.26615027,0.17278522,-0.29184124,0.21333261,0.2526022,0.24220613,0.0023698793,-0.099155486,0.18863276,0.218361,-0.20066807,-0.09421308,0.2120226,0.15075816,0.27587554,-0.35196713,-0.2349761,0.25245902,-0.40590104,-0.16191742,0.21425498,-0.11201354,0.26074022,0.20343493,0.19164792,0.2503731,-0.2535507,0.22041373,0.1856877,0.26026717,0.19837315,-0.13542889,-0.28222424,-0.47709736,0.21400857,-0.2547117,-0.20722122,-0.20114385,0.23747016,0.21295378,-0.41276705,0.1936534,-0.2275041,0.21904227,-0.16937077,0.22463863,-0.14134604,-0.33187363,0.21309976,-0.3012672,0.2340567,-0.22853932,-0.47546127,-0.31585225,0.22586592,-0.01827633,0.22079149,-0.36499766,0.25953138,0.2277143,0.25133666,0.22153169,-0.23205647,-0.18810844,0.24774131,-0.2647189,0.20680138,0.22913715,-0.29352176,0.17515665,-0.30834872,0.21605858,-0.092409946,-0.046940282,0.20585476,0.20794606,-0.26506764,0.24975134,-0.13500544,-0.28535,0.2145766,0.23444873,-0.13727868,-0.19491029,-0.19811583,0.24662343,-0.4611913,0.25612587,-0.14803079,-0.19543077,0.2441106,-0.11243723,0.24973795,-0.19197616,0.2599132,-0.3523776,-0.18256685,0.28721058,-0.086656466,0.25270426,-0.47009295,-0.30517358,0.21114987,-0.14263003,-0.55615205,0.24880444,-0.52022237,0.23101199,0.25375158,0.24513212,-0.13375355,0.18938586,0.25392362,-0.037685003,0.20864484,-0.119012855,0.23915218,0.22539714,0.28475997,0.23717336,0.2067183,-0.1303758,-0.07691455,0.25782838,-0.2677062,-0.21620199,-0.29509422,-0.08445975,0.25826716,0.25098556,-0.22745474,-0.12185175,0.07389403,0.25862926,0.23712933,0.22006053,0.2152664,-0.20837328,-0.3253284,0.19640347,-0.21327373,-0.13853338,-0.0981059,0.25159496,0.22244996,0.19586442,0.21883088,-0.2682927,-0.22512928,0.23374012,0.26628214,0.22537778,0.26714402,0.25243303,0.22827634,0.21918553,-0.077537104,-0.22953875,0.21938387,-0.06778691,-0.38202,-0.35627434,0.24934334,-0.13278702,0.25464582,-0.14078146,-0.18368793,0.16841154,0.23309723,-0.13580798,-0.24291173,0.20423512,-0.3943592,-0.029075615,0.21703891,-0.23648761,0.24681836,-0.2083609,0.18534024,-0.28065127,0.18197128,0.21541676,0.19175431,-0.03822671,0.17787704,-0.08027422,-0.024946703,-0.24004625,-0.39365885,-0.3296842,0.20844299,0.18792169,-0.18275431,-0.31606165,-0.16099766,-0.33715886,0.22317491,0.23609513,0.23393136,0.24285369,0.20000005,-0.28005156,-0.113120295,-0.19772595,-0.25038013,0.21866992,0.24121824,-0.23268072,-0.26809576,0.2293392,0.23388085,-0.16720259,0.21852839,0.20527855,-0.102553084,-0.13446818,0.24423653,-0.05086585,-0.13435073,-0.12967026,0.250189,-0.031054106,-0.15764482,-0.43741593,-0.11517422,-0.36240417,-0.23890637,-0.2138244,-0.31259617,0.26913664,-0.4032305,0.20696077,-0.18425593,-0.074329674,-0.29102778,0.19210643,-0.24178879,0.18676926,0.22545515,-0.08934258,0.20783219,0.23640749,-0.2889723,0.26230115,0.22346842,-0.107711434,0.21508089,0.21533522,0.20645146,-0.36917323,0.22776522,-0.32926437,0.21814223,-0.17842028,-0.16821086,0.24599257,0.24547768,0.21515092,0.23533952,0.21049488,0.26375628,-0.12115447,0.19862199,-0.47418478,0.18271367,-0.06360176,0.18957868,-0.06423958,0.23494542,-0.3230824,-0.16671178,0.2480763,0.19883125,0.21226801,0.20947266,0.21433003,-0.14489459,-0.3484806,-0.114147455,0.21212485,-0.12777957,-0.050008904,-0.21685141,-0.18492272,-0.19260097,-0.076717675,0.19167522,0.24575752,-0.18149403,-0.10297876,0.21463314,-0.3195793,0.20714736,-0.13209635,-0.095690325,0.21171689,0.15645164,-0.2909102,0.25043556,-0.1813837,0.23880401,-0.20929524,-0.41421732,-0.13133596,0.07044816,-0.2785012,-0.22126693,0.22494486,0.2107079,0.19457343,-0.12810886,0.22045521,-0.3715422,-0.36401957,-0.14685792,0.19713612,-0.03156761,-0.14503838,-0.33784515,0.19793223,-0.40046304,0.22397377,0.15751421,0.24607319,-0.08948376,0.22597417,0.22771779,0.2538708,0.27005988,-0.06617572,0.20252725,-0.43476802,-0.24875927,-0.11879124,0.2356389,-0.3028559,0.20707718,-0.33020356,0.20021361,-0.12695336,0.2045212,0.2580781,0.13163045,0.20484693,0.24540192,-0.10120661,-0.15638418,0.25024185,0.21711648,-0.3547625,0.15244475,0.21193391,-0.20950094,0.23004486,-0.09602252,0.24246615,0.23743215,0.23862557,-0.34791082,-0.49825796,-0.32724133,-0.15368426,0.1615791,-0.28205436,0.21040645,-0.3742325,-0.1316165,-0.21046744,-0.19362,-0.21628071,0.19390044,0.2082915,0.27045438,-0.36502427,0.24504691,0.19219851,-0.20051973,0.20801035,0.1373094,-0.2727949,0.19208172,-0.119630255,-0.09145307,0.18250221,0.09386146,0.2504509,-0.037125513,-0.21587045,0.22515328,-0.37585038,0.22829735,-0.2550298,-0.01264841,0.21736094,-0.118676424,-0.21871749,-0.37176377,0.22590965,0.22183488,-0.13757426,0.22489813,0.19155483,-0.20716703,-0.4438684,0.2242997,0.20870638,0.22180429,0.24598941,0.24786282,0.22612882,-0.22388265,-0.16382067,-0.15906247,-0.18783255,-0.28408596,0.24821702,-0.15127221,0.23661688,0.22083238,-0.08207781,-0.03727121,-0.36529616,-0.29636043,-0.3053129,0.22405604,0.2429483,0.2265729,0.24203032,-0.44389912,-0.14287077,-0.16022609,-0.38221133,0.22328967,0.24328674,-0.28116506,0.24164343,0.18213226,0.20340142,-0.040007975,-0.12194763,-0.18746436,0.14934662,0.21317658,-0.22622588,0.2074093,-0.023510654,0.213016,0.010207663,0.1580755,0.22677545,-0.34342474,0.29150108,-0.24116269,0.2176282,0.23285031,0.21024585,-0.1452074,-0.23226935,-0.15473741,-0.53715867,0.2324191,0.2598289,0.24855776,-0.095977575,-0.3645969,0.0011901185,-0.33315143,0.19254406,0.23300648,0.2257393,0.23450507,-0.34758067,-0.016517114,0.26403105,0.21078104,0.2359545,0.25210127,-0.41204605,-0.017516326,0.22238338,-0.21121827,-0.31838056,-0.13366191,0.124420926,-0.11460218,0.23050408,0.19476819,-0.07136222,0.20654285,0.22782777,0.23890792,0.2302212,0.24317881,-0.06999988,-0.17206168,0.023727586,0.23115103,0.22896934,-0.12496607,0.17899954,-0.25802264,0.18536814,-0.24823152,-0.17026961,0.25417626,-0.20918876,-0.19237478,-0.27709404,-0.36867547,-0.26684496,-0.23915473,0.2306576,0.24920827,0.23411198,0.2017031,-0.17929958,0.19136676,0.26324946,-0.2560966,-0.32194468,0.19653083,0.25454,0.23576127,0.23031707,-0.19038615,0.23160988,-0.37979972,-0.15337905,-0.15466362,-0.13471617,0.24534588,-0.23124373,-0.36788172,-0.29069167,-0.040366836,-0.23440996,0.23138246,-0.2920701,0.21111129,0.26659796,0.07869051,-0.22674489,0.25059947,0.21656136,-0.23186305,-0.2126857,0.23113959,0.23523454,0.22376274,0.24955982,-0.20368412,-0.14028114,0.2593392,-0.34752595,-0.11332269,-0.27048337,-0.18576953,-0.1810047,0.23770392,-0.105389655,-0.20146567,0.23441723,-0.2789283,0.21853884,0.20553507,-0.39692447,0.28252295,-0.08973374,-0.10973397,0.24431968,-0.05227624,-0.20023091,0.2197444,0.19914702,0.19683473,0.19505107,0.21287352,-0.26171374,0.23057249,-0.39325997,-0.24156995,0.2409271,-0.26768064,0.20407273,-0.23282494,-0.16128653,0.22150865,0.219075,0.22026283,-0.081728145,0.17563805,-0.13404787,-0.19740534,-0.32780504,0.24569926,0.24649154,0.22262567,0.22387606,0.20297036,0.09404118,0.18026024,-0.25409225,0.21265256,0.23659806,-0.17753267,-0.13800432,0.18483287,-0.16566582,-0.17947945,-0.13922606,-0.41772944,0.23944555,-0.08718386,-0.350258,-0.1011171,0.23510817,0.21813868,0.26991427,-0.3081101,-0.31402588,-0.14214191,-0.12815353,0.22194494,-0.10440534,-0.46921995,-0.31063905,-0.035753146,-0.07929611,-0.32704002,0.22139128,0.22052515,-0.21699731,0.20644124,-0.25231475,-0.23002571,0.07044816,0.22012961,0.21646154,0.3084487,0.218537,-0.4542568,0.22748327,-0.50303143,-0.044860728,-0.36652493,-0.1598886,0.22300111,0.20174253,-0.24913466,-0.37893286,0.20901428,-0.13977087,0.22145362,0.23153758,-0.2824683,-0.439067,-0.30346647,-0.16640368,-0.27441487,0.23786862,0.24954718,-0.06981125,-0.19827628,0.21318245,0.21695794,0.22515015,0.21030144,0.20642218,-0.2085566,0.2380254,0.19711548,-0.35826415,0.21908332,0.24300817,0.23325795,-0.25616518,-0.19491827,-0.13639651,0.25477242,0.20751628,-0.35101342,0.27880195,0.21507186,0.21765973,-0.42807382,0.23878305,-0.24167766,0.23465706,-0.13339348,0.23685318,-0.26825294,-0.052747622,0.22331266,0.241723,0.19037655,-0.020299047,0.20542108,0.22167255,0.21976535,-0.14815463,-0.30250913,-0.2949463,0.22980763,-0.24932393,0.10706036,0.25846833,0.22121547,0.2689686,0.20978494,0.2008639,0.24862431,-0.25067458,0.22547501,0.21653941,-0.16845098,0.22685957,-0.15286762,0.21084507,-0.0756416,-0.20137094,0.22985905,-0.13311917,0.19563957,-0.40245974,-0.4727022,-0.124468796,-0.11598177,0.22173005,0.23012516,0.22122465,-0.20857897,-0.20168665,0.19593489,-0.22649579,0.220989,-0.08513484,-0.3553391,0.21532664,-0.17564328,0.17536409,0.25129595,0.2417735,-0.10935465,-0.15521294,-0.046694197,0.22465013,0.23152515,0.21341802,0.2537066,0.19206531,0.22204226,0.18178383,0.22213615,-0.0034536952,-0.16212761,-0.17782189,-0.5892725,0.21570559,0.24978827,-0.5040008,0.22942525,-0.28076452,-0.19383845,-0.39382577,-0.33472186,-0.18383658,0.21808758,0.21679707,-0.1658709,-0.123981565,0.22490898,0.18936871,-0.1273387,0.23893611,0.21719882,-0.45430472,-0.30658013,-0.36308587,0.24221474,0.21841608,0.22531685,-0.28701317,-0.16660035,0.27096477,-0.28589743,-0.22791386,0.269432,0.22390977,-0.15594214,0.2284826,-0.3662479,0.2084585,-0.29740834,-0.114218384,0.22201529,-0.42574844,0.21970546,0.20818685,-0.09883126,0.2760244,0.23466034,-0.2357688,-0.21341746,0.19106765,-0.3231845,-0.07741526,0.23104961,-0.17132637,-0.34976256,-0.08223001,0.2354715,-0.063916296,0.19272842,-0.24548252,-0.006231893,0.22153462,-0.2823879,0.21140152,0.24228327,0.21437263,-0.22114824,0.22632377,0.25798783,0.027496796,-0.28513557,-0.058845483,0.20470902,0.22313395,-0.14221711,-0.3272387,0.25598586,-0.29849035,0.18989359,0.2090418,0.2216706,-0.048390143,-0.13881595,-0.15964633,-0.54007393,0.23830718,-0.089419544,-0.027607005,0.19745973,-0.08244595,0.22596017,0.14024599,-0.021311775,-0.11751483,-0.27060685,0.24528147,0.24073026,0.2075054,-0.124455646,0.2227024,0.23854604,-0.2525192,-0.38789976,-0.31153622,-0.3221991,0.21708024,-0.3164087,0.21437097,0.25442818,-0.209539,0.07044816,0.23946324,0.23612013,0.23890494,0.21123475,-0.15277815,-0.10713496,0.28030962,0.1862974,-0.17311803,0.27252355,0.25746608,0.2126115,0.20716195,-0.105231866,-0.3662915,-0.10347202,-0.3047588,-0.13207003,0.1309654,-0.3038157,0.2427948,0.2221697,-0.27533832,0.24368829,0.2257658,-0.27601394,-0.4276645,-0.4671786,-0.1694574,0.23363993,-0.2857831,-0.28792948,-0.25647435,0.2171312,0.23180234,0.19810835,0.2202266,0.23271146,-0.21092954,0.10772551,0.20484121,-0.16233441,0.23246934,0.23058912,-0.23921297,-0.18708694,-0.46271846,0.25156492,-0.042481914,0.22789246,-0.33218706,-0.031621404,0.21988471,0.21439566,0.21510348,0.26208493,-0.49457896,-0.16729072,0.21947348,-0.3429673,-0.099713415,0.23737824,0.22745456,-0.37216038,-0.24463296,0.2303656,-0.23444125,-0.10743403,-0.5666646,0.21772994,0.26914036,-0.18643112,-0.10258387,-0.3320523,0.20411523,0.21309073,-0.1008305,0.20413777,-0.13179041,-0.15381151,0.23460998,-0.4838076,0.21658024,-0.20591736,-0.18365352,-0.25830042,-0.2371642,-0.089987,-0.14637525,-0.07592554,-0.1626945,0.29111233,0.24127175,-0.029019363,0.22000274,0.22288156,0.17774568,-0.33833086,0.19813,0.2626384,0.22565976,-0.18252131,-0.2227423,0.23417601,0.21585801,0.21784075,-0.45313334,-0.18039471,-0.4484009,0.21399927,-0.19780445,-0.12879154,0.21039012,0.22539632,0.002374027,0.24152097,0.229313,-0.18133269,0.2506292,0.22531705,0.21712515,0.20258318,0.22368844,0.1887387,0.15531719,0.23789003,-0.22461404,-0.33341587,0.19834614,0.12887596,0.165081,0.22981557,-0.07296317,0.24279468,0.23590484,0.20150033,-0.19578654,0.24785703,0.21905841,-0.2960201,0.13488348,-0.016400889,0.23808789,0.23172206,0.2518432,0.231525,0.18331009,0.24414226,0.26886368,0.2605095,0.21044621,0.24609336,0.23385826,-0.17772989,0.23277873,-0.040269084,-0.2166366,0.23059301,0.24839848,0.22821008,0.2352261,-0.12474067,-0.1632089,-0.104600206,0.23229548,-0.20511478,-0.35117772,0.3024481,-0.33221328,-0.34723276,-0.12477113,-0.046013787,-0.2268073,0.24131976,-0.045414776,0.24009323,-0.20700398,0.22175086,0.240484,0.24212418,0.18955797,0.27003175,-0.19031571,-0.080012836,0.29346317,-0.32180473,0.24427113,0.23371308,0.25430426,0.20513645,0.26347247,-0.23396614,0.24417163,-0.23067734,0.23136374,0.2001518,0.069479816,0.22157618,-0.2711702,0.22895932,0.2555546,0.2455013,0.24429172,0.19657414,-0.5031657,0.228758,-0.37265506,0.030031433,0.22470203,-0.11487514,0.22607434,-0.17255978,-0.14267139,-0.24398255,-0.24514425,-0.4326008,-0.3004119,-0.40867168,0.22164851,-0.11174014,0.13722478,-0.20970216,0.23268026,0.23062818,0.21293363,0.23351428,0.22881624,-0.34749013,0.20635402,-0.0016975747,0.19014981,0.24251136,-0.2849393,-0.18536653,-0.14380068,-0.1990751,0.2052349,-0.34869736,0.22747228,-0.045937598,0.2565765,-0.18610895,0.22032878,-0.32187778,-0.18198806,-0.104975194,0.23800023,-0.27027488,0.23039421,-0.21552207,-0.48688555,0.24310564,-0.35298467,-0.1402134,0.2461001,0.20885612,0.21039878,-0.15564328,0.26374447,-0.09724182,-0.40970206,0.017955614,-0.25258827,-0.3250937,0.21928649,-0.3346647,-0.119200654,-0.16770653,0.23024434,-0.47189826,0.22815928,-0.2810523,0.21903832,-0.25026613,0.25146434,-0.2386371,0.23070061,0.22866136,0.24646682,0.20908728,0.081377536,0.21758941,0.23791571,-0.1598998,-0.20133793,0.23599946,0.18952987,0.23684028,-0.06451848,0.21294808,0.18871729,-0.1564964,0.1944795,-0.12414588,-0.17796203,0.2348642,0.20786706,0.21972495,-0.49814326,0.2357417,0.23199359,-0.26967645,0.21938638,-0.272903,0.23381701,0.19587739,-0.10679521,-0.21552266,-0.33826426,-0.043502174,0.23081966,0.23640558,0.1758313,-0.13421986,-0.33117574,-0.41954798,0.2376874,0.2061433,-0.3801391,0.20173655,-0.19280025,0.21848617,0.18483919,0.19938724,0.1778117,-0.3826351,0.22066414,-0.11334399,-0.356559,0.21935731,-0.34911525,0.23720504,0.2522706,-0.41570148,-0.33708972,-0.15595493,0.21676269,0.23644531,-0.14318632,0.23028924,-0.41434532,-0.26322502,-0.33532655,0.21199521,-0.20378698,-0.1193154,0.23640513,-0.26617137,0.2565606,0.25599286,0.23677632,0.22762057,0.15951434,-0.16208991,-0.2583304,0.2502234,0.2530253,-0.21374972,0.2585914,0.22182441,0.18929604,0.19824576,0.2332091,-0.06523858,0.23152584,0.23580928,0.12668075,-0.2620551,-0.17389949,-0.18089102,-0.19070104,-0.19338,-0.29979643,-0.14559555,-0.11383616,-0.26765847,-0.27302814,-0.009647924,-0.37330937,-0.07822813,0.21591768,0.2457652,0.19885519,-0.4788436,0.22118676,-0.32190943,-0.11029707,-0.17344987,-0.18582402,0.24263847,-0.18544894,-0.28176463,0.18500687,0.23308925,-0.06730128,-0.23930928,0.20108707,0.21509781,0.23892123,0.21419156,-0.123887435,-0.24185327,-0.2155399,0.23920316,-0.21327907,0.27811477,0.21794167,0.2115662,0.24825135,-0.29455668,-0.28591186,-0.1434065,0.23533884,-0.17665881,0.22602428,0.2820964,0.06476208,0.24447784,-0.26299262,-0.018348215,0.22107759,-0.23471534,0.21386333,-0.32518637,0.23812324,0.24949004,0.21928957,-0.16535026,-0.23238818,0.19918734,-0.24624704,-0.10120338,-0.11895918,-0.45021102,-0.15575223,0.18755563,-0.25052154,0.19941092,-0.13457173,-0.18820333,-0.17313428,0.2021377,-0.15438855,0.22073579,-0.048002057,0.24308422,-0.27676463,0.22788978,0.23674986,-0.13976169,0.20674825,0.24666473,0.24856426,0.22371352,0.20769578,-0.13018876,-0.10263704,-0.11106173,-0.2503235,0.16849941,0.24685767,-0.2580156,-0.16821781,0.20026311,0.1860092,0.24387322,0.22592102,-0.32831174,0.22881411,-0.11834952,0.22805008,0.20857045,-0.31870753,-0.22638959,-0.049535908,-0.1780946,-0.1685603,0.19588602,-0.25767988,0.2350735,0.22325954,0.24120381,0.27205753,-0.11849998,0.22250527,0.23248284,0.20331416,0.20300263,-0.21600781,0.21884075,-0.18192701,0.20687221,0.2105138,0.22711536,-0.13962013,0.22264342,-0.2719601,0.22674099,-0.21569566,0.06673118,-0.22005618,0.065136254,-0.19094038,-0.3524994,0.014856968,-0.26940224,-0.1907119,-0.17935342,0.2226191,0.22723654,-0.035769824,-0.20655657,-0.044661246,-0.26888752,0.24986947,0.24900532,-0.09141648,-0.03202881,-0.16861959,-0.4253471,0.23063713,0.2334595,0.18738633,0.06597242,0.22329131,0.22955862,-0.211058,0.26129755,-0.11030087,0.23485938,-0.25241983,-0.27598757,-0.16918427,0.24101117,0.24919339,0.20988561,-0.13526128,-0.25663146,-0.2722524,-0.34906316,0.24205801,0.22704884,0.20672667,0.21204585,0.20702802,0.24462186,0.19216149,-0.42071652,0.24595839,-0.1190915,0.19398698,-0.41286582,0.18786675,0.016087482,0.20808756,0.14320435,-0.43865412,0.24758664,0.17872488,-0.2355366,0.17794283,0.2761436,-0.158146,0.20557028,-0.09014759,0.25526178,-0.24605264,-0.19419287,-0.2512928,0.23115103,0.2411842,-0.21862924,-0.116262764,0.26651618,0.19911222,-0.52017754,-0.2842933,0.22200477,-0.3222225,-0.1318336,-0.34839958,-0.21989943,0.22030792,-0.26364002,-0.32897592,-0.09689653,-0.40907347,-0.27778918,-0.06933019,0.24856953,0.17998149,0.21400705,0.21252736,-0.39594364,0.24041905,0.23960096,-0.27731925,-0.26885414,0.25473884,-0.4061641,-0.17619614,-0.19865867,-0.14900036,-0.3071081,0.23059224,-0.43411738,0.23094392,-0.05905997,0.20426904,-0.12830944,0.2213332,0.24457154,-0.0001353696,0.21146135,0.22339372,-0.28016758,0.22016774,-0.18476301,0.20321481,0.12884557,0.2486434,0.23051643,0.25442734,-0.26512972,-0.14822714,-0.297109,0.23818652,0.17635311,0.23725906,-0.07840529,0.21394782,0.22561535,-0.5138352,0.18477993,-0.410604,0.2069193,0.24699636,0.23977026,0.19742228,-0.23315787,-0.103165634,0.23775066,0.21675277,-0.07238186,-0.31320935,0.22794986,-0.11335242,-0.22110905,0.21756466,-0.14565602,-0.47775123,0.2457563,0.24593565,0.13389698,0.20283581,-0.19655626,-0.28991696,0.2373109,-0.11214897,0.21589965,0.2179909,0.21047641,-0.29135138,-0.1321235,0.19510438,-0.16327307,-0.13090448,-0.19552343,-0.21671566,-0.22615533,0.23878992,0.22460261,-0.121142015,-0.36251986,0.19820902,0.18658039,-0.16841589,0.24034518,-0.3550302,-0.14513497,-0.24932784,0.20516257,0.23128462,0.22436023,0.20790468,-0.32619148,0.23961939,0.17399919,-0.07608096,-0.2867008,0.24096023,0.24537185,-0.124032944,0.18947269,0.21277803,-0.199628,0.22255233,0.21401447,0.24674292,-0.07257527,-0.04756645,-0.28584793,-0.26335514,-0.17112502,-0.4071324,0.23143989,-0.23320736,0.20105402,0.24467103,0.24426098,0.18589127,0.24147922,0.26893705,0.14619538,-0.17439565,-0.19272491,0.23230052,0.2160201,0.24294622,-0.36780858,-0.2554556,-0.122638434,-0.19139627,0.2256734,-0.20900823,0.24726072,-0.22119117,-0.18894476,0.007911405,0.20788318,0.24276344,-0.14598882,-0.0016044565,0.20647125,0.20865113,-0.45477724,-0.11434783,-0.28981724,0.20453574,-0.17122191,-0.3538713,-0.31386212,-0.33606207,-0.28805828,-0.08590634,0.22674936,0.23635872,0.21639664,-0.2720056,-0.37114722,-0.414165,-0.339874,0.25411773,0.24860367,0.2071856,-0.375494,-0.32934624,-0.30129233,0.24134494,0.19593266,-0.3188294,0.22532335,0.17123362,0.2720065,-0.102330886,-0.08430713,0.20510833,0.23285592,0.24230403,-0.31200585,-0.25527287,0.22502445,-0.26574045,-0.22577916,-0.004074796,-0.17021771,0.21172175,0.23143259,0.2326242,-0.26397556,-0.41418192,0.23025542,0.20250484,0.23240861,0.2533675,0.18422449,-0.3239966,0.21605934,-0.21030019,0.23191126,-0.37357095,-0.18023315,-0.19884625,-0.31049725,0.24145481,0.26443958,0.25581533,-0.11635374,-0.21928571,-0.4910042,0.2003361,-0.47775123,0.22553943,-0.5365354,0.23382732,-0.20305729,-0.40461975,0.25966853,-0.18209684,0.19235311,0.20363095,-0.25310937,0.26514915,-0.3303886,-0.13812463,0.21472713,-0.045089405,-0.064784855,0.2641178,0.23755036,-0.20062499,0.2010194,0.24199812,-0.40733942,0.23232669,-0.3214652,0.23590782,0.20826043,0.22698452,-0.3016542,0.24301347,-0.2681397,-0.32535553,-0.45623988,0.25427645,-0.09530752,-0.24843682,0.19710083,0.22903183,0.22440499,0.22895974,-0.078586966,-0.3025155,-0.22183594,0.20316878,0.22459678,0.22509393,-0.07248363,0.268778,-0.38214856,-0.07577663,0.20710973,0.23392537,-0.11157705,-0.09132154,0.23763162,0.023248307,-0.25115108,0.23788972,0.22736219,0.2290774,-0.48426968,0.20410943,-0.24855326,-0.070208445,-0.12787817,0.21108255,0.20974454,-0.06799812,-0.15802681,-0.32115307,0.25362292,-0.19334623,-0.15068896,0.19646153,-0.24786583,-0.19681248,-0.032297324,-0.27664706,0.24891299,0.19721472,0.2093507,-0.19981883,0.22316213,0.20110394,-0.058702726,-0.08102559,0.23488823,-0.2098474,-0.4785985,-0.18442641,0.23303455,-0.39133912,-0.13214877,-0.08436714,-0.18404597,0.26724184,-0.38147837,-0.28852224,0.21961033,0.25184196,-0.3669546,-0.12789175,-0.19610432,0.23840791,-0.36059326,0.22567186,-0.1451019,-0.12949567,-0.3821531,0.21891901,-0.26416588,0.23165256,0.21882054,0.21256834,-0.10793382,0.23500684,-0.3081054,0.21220721,-0.21912025,0.22716182,0.06530495,-0.13735588,-0.4253642,-0.046326995,0.22700521,0.2540754,-0.30692518,0.21891719,-0.4454897,-0.28460002,0.22573206,-0.18822019,-0.17701027,-0.21994883,0.26356226,-0.03479192,-0.12655976,-0.13537315,0.2502153,0.1925201,-0.12730636,0.19415669,-0.44748163,-0.1692614,0.20478594,-0.21571669,0.231737,-0.124996215,0.19273055,0.20005205,0.27009392,0.21325767,-0.22610459,-0.25585875,-0.15773594,-0.17665486,0.23632589,-0.273678,0.012298334,0.21523017,0.21546128,0.09255175,0.22894804,-0.1285413,0.2593545,-0.102171965,-0.3118599,0.20995605,-0.3351679,0.2221092,0.23489971,-0.03706716,0.17215964,0.23955888,0.19303048,0.16444625,0.20979796,0.20592123,0.2186361,-0.18373719,-0.37131417,-0.39280972,-0.17640212,-0.15859777,0.2726107,-0.02801637,-0.23902108,0.23561916,0.22460958,-0.33895886,0.2334003,0.1815789,-0.20583075,0.20090239,-0.41518736,0.2043882,-0.27543494,0.18515357,-0.15698342,-0.17435724,-0.25752446,-0.19485043,0.2639687,-0.4783053,0.2479389,0.16515605,-0.14049485,-0.18244468,0.19846392,-0.14967673,0.22478151,0.23367177,0.23246776,-0.048415195,-0.19330792,0.21183014,-0.06961763,-0.10942574,0.21792762,-0.35017797,-0.19714347,0.16090664,-0.26552382,-0.20060049,-0.31693655,0.23878917,-0.34980452,-0.11969287,-0.10288942,-0.41798323,-0.2263636,-0.13347554,0.23278335,0.23309414,0.24454696,-0.093184955,0.18287712,-0.2162683,0.21974976,-0.18342091,-0.31972694,0.22061595,-0.44508865,0.22325227,-0.083120406,-0.120815925,-0.07405254,-0.16723122,0.18597674,0.25204656,0.12078772,-0.065618694,0.14698605,-0.3548526,0.2389542,0.0030042045,0.21450372,0.19708627,-0.40901837,0.26861233,-0.27066436,-0.26780346,0.23784241,0.24470684,-0.28487703,-0.38325804,0.23175284,-0.02201813,-0.29899046,0.22103101,-0.22572482,-0.2802697,0.2164571,-0.16611737,-0.12768696,-0.27054575,-0.18322325,0.2511496,-0.18678522,-0.2841912,-0.14680222,0.21382836,0.20682855,-0.17110984,-0.14299893,0.20968172,-0.1335695,0.20114248,-0.07881393,-0.08519119,-0.22489391,0.19729547,0.16976286,-0.32140097,0.21765976,0.21693431,0.24997984,-0.31294334,-0.12542132,-0.23305947,0.21721974,0.23334256,-0.2198362,-0.23740499,0.21960104,-0.2173419,-0.46100473,-0.35592905,-0.1565643,-0.36148852,0.21413654,-0.06028384,-0.007887231,0.24424529,0.19207518,-0.04525819,0.20522831,0.22843176,-0.29713523,0.21604992,-0.16477646,0.19910249,-0.22834432,-0.40755862,0.19523956,0.24882412,-0.49129158,0.07044816,0.23109859,0.24607068,0.2494039,0.21530867,-0.25712362,0.25084794,-0.28171536,0.19595002,0.2414685,0.20877595,0.19601063,0.23529111,0.21524036,0.24155432,0.19747497,-0.1707483,-0.09625667,0.24336681,0.20382859,-0.2282911,-0.216757,-0.2168949,-0.29055738,-0.22580826,-0.4212771,0.21359466,-0.11033334,0.1878173,-0.34856465,0.26412868,-0.14812067,-0.27862066,0.2830884,-0.12385623,0.2432559,0.21949726,0.19919454,0.22703308,-0.19036734,0.24456923,0.22562726,-0.23277679,-0.40262622,0.2316458,-0.20961542,-0.23564911,-0.17871433,-0.1610344,0.27598622,-0.51476765,0.19066842,0.18414532,0.11630259,-0.3390233,-0.1754677,0.27114156,-0.24487433,0.14998947,-0.32498676,0.24229147,-0.15048565,0.1781639,-0.29989612,-0.11980684,-0.057286877,0.2535015,-0.17162378,-0.35453004,0.25440702,0.21285753,0.22360782,0.27958935,-0.14792928,-0.21724758,-0.037815493,-0.13462865,0.1760197,0.23358679,-0.518211,0.24680126,-0.39942807,0.21866266,0.26003122,-0.31330556,-0.1555987,0.20172766,0.18810973,0.22076862,0.25465018,0.254318,0.25321764,0.24494883,0.24985743,0.23477833,-0.28122872,-0.31389254,-0.23415217,-0.034627862,0.24607512,-0.26135156,0.23026729,-0.25045088,0.23257425,-0.18260819,0.23418781,0.22771533,0.1705148,-0.0107581485,0.20823783,0.20961931,0.23424914,-0.20140651,-0.4814339,-0.16335401,-0.2274852,-0.14718989,-0.21284723,0.22446957,0.17976116,-0.16255748,-0.110214226,-0.22425838,-0.051415913,0.14309645,0.24618703,-0.15505855,-0.39819318,-0.1973547,-0.14132251,-0.36464646,-0.33609128,0.2444227,0.19231588,-0.053422876,-0.2734342,-0.27198094,0.19882223,0.22925939,-0.41866073,0.18903618,-0.14546496,0.20656286,-0.5291786,-0.10844667,0.2238884,-0.27081218,0.20492034,-0.15241054,-0.24325512,0.23335211,-0.29191986,-0.21923485,0.25216806,-0.38274774,-0.078657135,-0.14931306,0.21583661,0.21840572,-0.22696552,-0.15971255,-0.005302081,-0.3127538,0.21900606,0.1239305,-0.5941428,-0.09938545,-0.30909032,-0.14128469,-0.12520197,0.21844113,0.23038615,0.19685549,0.21745783,-0.10431031,-0.46945545,0.000671722,0.25285447,-0.19920121,0.25065327,0.23141813,0.19168635,-0.10788125,-0.4271767,-0.29052687,-0.2834037,0.24161224,-0.13573225,-0.279534,-0.32917196,-0.3651658,-0.2220208,-0.37401542,0.22804332,0.24265647,0.23938242,-0.08708644,-0.28065902,-0.40506506,0.22993161,0.20117183,-0.19632946,-0.18702818,-0.38658142,0.07044816,0.2310185,0.23274496,-0.14854033,0.21230337,-0.1875124,-0.2206003,-0.22450627,0.23270465,-0.16021523,0.25902152,0.22885181,-0.1606825,-0.23727715,-0.3417887,0.22162905,0.21678734,-0.19287883,0.21022812,0.222674,-0.34463003,0.2205845,0.23910674,0.21831965,-0.22123365,0.22317614,0.2130987,0.24537064,-0.26269874,0.2371271,-0.23430905,0.26107407,0.24962223,-0.077516645,-0.22619742,-0.0944701,0.21823815,-0.4843605,0.22295341,-0.19594663,0.21993123,0.24109271,-0.25849837,-0.2688827,-0.07482892,0.12595278,0.27058753,0.20155238,0.2327204,-0.17682183,-0.26968998,0.19445173,0.25967938,-0.26999578,0.22462235,-0.34850618,-0.1952937,-0.20563434,0.25242835,-0.05387137,-0.07732597,-0.299608,0.24265835,0.24703167,0.22012731,-0.17193215,-0.109688215,0.16997615,-0.22384638,0.2466494,0.22439733,0.20977971,0.19889852,-0.19780174,0.18604308,-0.03417357,-0.22736226,-0.4151562,0.22148255,0.20794933,0.21576509,-0.36043254,0.22985873,-0.20804158,0.10339504,-0.11676112,-0.24419734,0.24997628,-0.20274861,0.2276367,0.22545436,-0.23171325,-0.40570074,0.23149349,0.22783467,-0.21202755,-0.17326735,0.21732634,-0.32367754,-0.39216226,0.22120848,-0.043937318,0.20953989,-0.29547793,0.25238344,0.22314323,0.2194768,0.20051937,0.26408494,0.25786486,-0.108334124,0.20447205,-0.27670157,0.23177704,-0.29036,0.24046633,0.22112963,0.22087531,-0.14981964,0.23703656,-0.4103426,0.20932284,0.2370565,-0.43146998,-0.06536016,-0.099210665,-0.14797108,-0.26598978,0.23637427,-0.25991514,0.2730246,0.24016288,0.22389422,-0.29047891,0.2245419,0.23268452,-0.04541406,0.21600255,0.2303798,-0.082525015,0.21156393,-0.29866815,0.22550291,-0.30113757,-0.10777223,0.16438617,-0.4015653,-0.1008202,0.21187018,0.23868433,-0.1317838,-0.1702821,0.24878362,0.24721298,0.21822518,-0.2752768,0.24559575,0.16801496,0.2666298,0.20963126,-0.19629888,-0.37814566,0.18265529,-0.1379289,-0.2641104,0.23692533,-0.25001034,0.24018258,-0.21782336,-0.3001067,0.27332422,0.21941894,0.20716318,-0.0565466,-0.1712985,-0.21014377,0.13538523,-0.3249338,0.2046088,0.22501445,-0.33859414,-0.10256529,-0.20384884,0.22867554,-0.16370578,0.22409806,0.23632967,-0.26252013,-0.13744354,0.21535094,-0.12315957,-0.16222456,0.23831646,0.2068834,-0.15631965,0.23509796,0.23695137,-0.3210339,-0.35078967,-0.3524405,0.22713405,0.22562945,0.006419435,-0.0824713,-0.34848055,0.23632142,-0.1551614,0.20659044,0.18974133,-0.17665067,0.2091532,-0.13456294,-0.44252843,0.21371144,0.24068993,-0.37152576,-0.38240993,-0.27079022,-0.35831687,-0.42324248,-0.31346077,-0.09028637,0.22513045,0.07044816,0.23382773,-0.48581275,0.22542557,-0.26570344,-0.25509542,-0.3583319,-0.08834772,-0.26751548,-0.2963191,0.2298319,-0.20423907,0.2539485,0.23950988,-0.4127255,0.22525427,0.21075162,0.23312792,0.18952313,-0.059669357,-0.10215409,0.26097357,-0.123833045,-0.28559542,0.21226,-0.32207632,-0.23059355,0.22546405,-0.110849045,0.19161479,-0.40855724,0.26000264,-0.2551359,-0.24528214,-0.22822256,0.21470182,0.19752905,-0.19272225,0.25599703,0.2440083,0.22319746,0.23680255,-0.19388399,0.24167533,-0.10576443,0.21545589,0.21701339,-0.051344007,0.20487134,-0.11623457,0.22986346,0.2129708,-0.11909922,0.21795508,0.24901968,-0.1325016,0.22760442,0.24402845,-0.31729257,-0.05897338,0.26028258,-0.12674342,0.21820757,-0.5001063,-0.29808357,-0.24675629,-0.13388844,0.22901988,0.23324357,-0.21946447,-0.45857877,-0.25936756,-0.14284189,0.15272632,0.20800929,-0.26913017,-0.1666351,0.23270065,-0.23294447,-0.09243129,0.21765688,0.24846606,-0.094804265,-0.14487371,-0.17124476,0.22003376,0.06689622,0.010817653,-0.16214421,0.19628312,0.1940107,0.21001133,0.24235809,0.25063193,-0.3198418,-0.1501871,0.20675258,-0.3281351,0.22488624,-0.45843834,-0.22450721,0.23442605,-0.12043254,0.19581836,0.21182974,-0.3031761,-0.39681736,-0.27386516,0.21519276,-0.12598623,0.21591003,0.19840463,-0.08601059,-0.11479169,0.23633161,0.23219831,0.23891546,0.20128521,0.20507221,-0.058952287,-0.15625355,-0.18735793,0.13614324,-0.28223693,0.2693358,0.23368518,-0.16423053,-0.1301511,0.2265858,-0.22231695,-0.23538733,-0.14866477,0.2611654,-0.22210805,-0.3937745,-0.2137424,0.21431993,-0.1360181,0.14439839,0.23318613,0.21424195,0.27952945,0.20688015,-0.18424127,0.2528954,0.002596708,-0.3084551,-0.20577331,0.21576864,0.20787305,-0.06209422,-0.17809977,-0.2134765,-0.27842784,0.22557044,0.27728462,-0.12528506,0.19935378,0.2294913,0.22163664,-0.22076157,0.21501303,-0.30439812,-0.2826075,0.21081147,0.22480735,-0.054236334,0.26145294,0.20229751,0.22253406,-0.22163862,0.20666501,-0.11100985,-0.13934664,0.23573813,0.21040812,-0.24220178,-0.15616557,0.22086379,0.20939754,0.21698302,-0.23617673,0.20493394,0.22954586,-0.208909,0.18244146,0.23570162,0.2255545,0.06786412,0.2332275,-0.26191056,-0.063464,0.23135677,-0.24282572,-0.45147458,0.24063177,-0.021198113,-0.2707381,0.23313724,-0.086025886,-0.3146333,0.24250022,0.24062034,0.22037444,0.10465765,-0.1168673,-0.030338775,0.2040173,-0.1396727,-0.33795905,0.22739398,-0.29887944,-0.2544607,-0.13925362,0.115327865,-0.42523965,0.19634454,0.18211402,0.20198634,0.24587339,0.21959934,-0.34282184,0.21333234,-0.4785985,0.2544291,0.23824233,0.24690294,0.23595469,0.07044816,-0.2082094,0.22300982,-0.15198101,0.26350576,-0.04297462,0.25561368,-0.27544516,-0.14927246,0.20727219,-0.60721517,-0.5031451,-0.3283443,0.20280094,-0.29564652,-0.08187427,-0.42019686,-0.21471223,0.22239867,-0.17408298,-0.43852332,0.28037405,-0.18545675,0.21047793,0.24143285,0.19377136,-0.121505514,-0.33501258,-0.12337799,-0.17109749,0.21892235,0.273537,0.21243995,0.23668769,-0.12738916,-0.03712006,0.22340676,0.24010296,-0.07520905,0.21755715,-0.14392503,0.010520457,-0.12696299,0.19612598,0.22339366,-0.12637472,-0.18750866,0.21655434,-0.12370065,-0.12905827,0.22420242,-0.29770967,0.22524337,-0.26843464,0.23327057,0.21130781,-0.2473044,-0.20232396,0.2374483,-0.13074282,0.2365201,0.1342734,-0.1274015,0.20368169,-0.27963817,0.21927659,0.23889694,-0.14279792,0.24803387,0.24898341,-0.0871101,0.260542,-0.21534228,-0.28352767,-0.30805218,0.23536669,0.25593746,-0.2608639,0.20802842,0.16674986,-0.06570543,-0.22749335,0.07044816,-0.05484911,-0.22441256,0.2711445,0.2407744,-0.24235708,0.20719914,-0.3024911,0.22844349,-0.15902354,-0.3153965,-0.22813994,-0.13310294,-0.14266777,-0.16054408,0.16873647,-0.057385534,0.24202137,-0.21380149,-0.2596064,0.2101086,0.29807854,-0.120916545,0.25480735,0.19681188,-0.033436358,-0.3582101,0.21526769,-0.18553646,0.18093504,0.03154726,0.21675684,0.21493019,0.21835268,0.21302047,0.25100312,-0.23938495,0.25518936,0.25574598,-0.27753735,-0.13280046,-0.27683768,-0.19822666,-0.20142365,-0.15856774,-0.04693912,0.27373183,-0.21974373,-0.26115772,-0.31409255,-0.103303775,0.0041207336,-0.18316253,0.2676394,-0.18454453,0.18263976,-0.057741955,0.24143043,0.23286322,-0.25859922,-0.19470271,0.2357071,-0.44347262,-0.088706985,0.22085887,-0.36581972,-0.23415454,-0.028798997,0.1331804,-0.037368212,0.23297994,0.22516377,-0.1619432,-0.29053074,-0.07720211,0.25183195,0.0041753445,-0.5030722,0.25179476,-0.3559521,0.21450433,-0.16746965,-0.47229427,0.21433628,0.15494612,-0.2841765,0.26141173,0.17222752,-0.39881718,0.26683933,0.23407514,-0.30521822,0.28019208,-0.12153824,0.19203538,-0.20764585,-0.12147109,-0.079931505,-0.3216083,-0.3495732,0.20067742,-0.10816051,0.2077997,0.2094431,0.24441794,-0.115370736,0.21285671,0.23893848,0.24501523,0.23161364,-0.28374693,0.21697603,-0.08198568,0.24144429,-0.12975045,-0.2145822,0.21637349,-0.03416208,-0.30234206,0.2106142,0.20263319,0.269834,0.2207258,-0.12687297,-0.24499673,-0.13895811,0.24880832,-0.14860453,-0.11516567,-0.20248786,-0.1745243,0.21075633,0.23169369,-0.093644455,-0.32616186,0.2287145,-0.030014168,0.21697363,-0.10868632,-0.2550584,0.23587343,-0.13811298,-0.24947658,0.1972594,-0.22640303,0.24913311,-0.4207306,-0.28883106,0.22010578,0.15183285,-0.03182534,0.2483319,0.24367134,0.2628122,-0.2533178,0.2111747,0.13811383,0.22496282,0.2494539,-0.32002255,0.2188344,-0.5941428,0.22327864,0.20066623,0.22980602,0.22884902,0.23227215,0.17283534,-0.20109269,0.226938,-0.3016544,-0.21307318,0.19256033,-0.26571304,-0.0962185,-0.14988318,-0.30151594,0.21389607,0.2475904,0.23119584,-0.114743754,0.21203443,0.20975111,0.23153287,-0.11622189,0.19655222,-0.24197498,-0.12432946,0.23574397,0.23744603,-0.16281806,0.18625528,0.22574425,0.2393291,-0.4093124,0.23450567,-0.25951806,0.1955508,0.18601629,0.23105036,0.24895348,0.192194,-0.2648941,-0.41682065,0.21430705,-0.070388414,-0.24118555,0.17839545,0.26991594,0.24369697,0.22861816,0.2476247,0.26634517,0.25095275,0.23345716,-0.30616444,0.2274447,0.2201817,0.24593765,0.25279975,0.21364374,0.26137155,-0.19795111,0.2179103,0.22414687,-0.01580329,-0.24552071,-0.23664671,0.23061398,0.23840496,-0.21451244,-0.15645054,0.20564833,0.2220084,0.215372,-0.30637595,0.14552312,-0.09738466,-0.2932305,0.27054462,-0.095485814,-0.08021502,0.15407747,-0.21038496,0.22805291,0.260421,-0.3836609,0.18950349,-0.5057169,-0.36407584,0.26574588,-0.15385784,-0.42147726,0.2076527,0.24055244,0.23302692,0.25766164,-0.049638465,0.22304444,0.17705537,-0.073887184,-0.122967266,-0.40108702,0.18820572,-0.30047166,-0.2652314,0.22111437,0.21894483,0.22090016,0.24870707,0.17105563,0.23600246,0.22267622,-0.12046456,-0.42411608,-0.25337762,-0.25767025,0.22108832,-0.1982497,0.24660073,0.25545618,0.2315388,0.1812826,0.22921449,0.17892432,-0.061087362,-0.35748267,0.2304452,-0.109924555,-0.107707664,0.17934565,-0.08313708,0.22280794,0.23669475,-0.18814082,-0.26922843,0.22711177,-0.43245924,-0.14895687,-0.2683762,0.21293104,0.23872569,0.26284146,0.21806741,0.22834784,0.19643506,0.19781001,0.23119143,0.23489834,0.23519082,0.21199213,0.2710788,-0.21920854,-0.27232313,-0.19260642,-0.4342596,-0.110374816,-0.009153996,0.2258057,-0.4387667,0.2747982,-0.4341704,0.27376595,-0.38305438,0.22351755,0.23555928,-0.12340514,-0.19729082,0.1900025,-0.21870252,0.20004901,0.21428327,0.21044837,0.20183355,0.23154686,-0.2613443,0.24547394,0.23494369,0.22563738,0.23494095,0.23435864,-0.22515379,0.21856663,0.2044616,0.2020698,0.22175503,0.23029572,0.19511211,-0.19570524,0.2201612,0.23013592,0.23736385,0.18696609,0.23284104,0.19176489,-0.3301531,-0.2094405,0.2065213,-0.18632013,0.19779277,-0.19695562,-0.19743502,0.23814356,-0.15479742,0.19011414,0.22755831,0.2027298,0.25072873,0.21398482,-0.2423304,-0.12854089,0.23224376,-0.33833954,-0.1767945,0.21844137,0.22540608,-0.45111665,-0.32625085,-0.1564821,0.20395195,-0.22680128,0.2755922,-0.57047653,0.22008204,-0.16111283,-0.40962958,-0.3258554,0.22649321,0.17823322,-0.4457453,-0.13901733,-0.110108234,-0.12153961,-0.40310714,-0.19638485,-0.39884084,0.23483714,-0.132347,-0.31064987,0.075156406,0.21730798,-0.29008144,-0.2866217,-0.33516195,-0.2553685,0.028505977,-0.1471706,0.22956783,-0.32378116,-0.350461,-0.013590566,0.23003107,0.26689303,-0.32325453,0.12138,0.22531228,-0.12032564,-0.48718727,-0.16002913,-0.14937255,-0.1998286,-0.23448962,-0.45155492,0.22594842,-0.18163624,0.24274117,-0.2629292,0.2360781,-0.22382131,0.21321255,-0.44150096,0.20842701,0.21156962,-0.2581006,0.26285836,0.2521603,0.22009696,-0.17838599,-0.14222997,0.23656286,-0.19774085,0.2169199,-0.34307685,-0.035436645,-0.113131054,0.23773682,-0.21218918,-0.20517156,0.2294277,0.21717998,0.20195176,-0.23800024,0.2623402,0.20881572,-0.32099783,-0.0009688791,-0.22477436,0.24949087,-0.20338866,0.2164461,0.21786217,0.27917272,-0.1635007,0.02444171,0.2701131,0.22440222,-0.0115248,-0.08895585,0.21625853,-0.3456953,-0.35074985,-0.12056086,-0.15955803,0.18837889,-0.20943215,0.21043637,-0.035250798,-0.19336818,0.19355425,-0.20878181,-0.16891813,-0.18121782,0.0022979267,0.20375064,0.23424461,0.25719324,-0.43952894,0.23128481,-0.305322,0.22701421,-0.27900678,-0.3113893,-0.30793047,0.23754126,-0.39850202,0.21546659,-0.21337712,0.22187462,-0.3366432,-0.17153504,-0.159246,0.2204499,0.21916078,-0.1835312,0.22341287,0.2691279,0.22472559,0.20647964,-0.2508682,0.22350273,0.286864,-0.027863637,-0.2959293,-0.20392048,-0.13098028,0.20728192,-0.5494685,-0.38714898,-0.353578,-0.35960716,0.24207382,0.22255006,-0.093773596,-0.22854188,-0.16921592,-0.19345751,-0.27884325,-0.37896094,0.21740645,-0.12974516,-0.13971347,0.23359263,0.21985252,0.004880685,0.23951386,-0.3023687,0.19415024,-0.23594157,0.23034185,-0.12420562,-0.38506734,0.22348765,0.21490395,0.22898333,-0.4408035,0.23851632,-0.21742874,-0.31717214,-0.17633325,0.2131973,0.2654633,0.15838735,0.22861302,-0.016768683,-0.14585316,0.22383787,-0.24999973,0.2252259,0.24857008,0.24259421,-0.14965016,0.24658912,0.23760812,0.20062476,-0.13138795,0.23147845,-0.36150578,0.18195869,0.23061854,0.2641648,-0.022933636,-0.33723444,0.22183664,0.12820983,0.20391747,-0.13307734,0.21731767,0.2370514,0.16856927,0.26191425,-0.15541977,0.24508572,-0.43944505,0.2045037,-0.20791686,-0.22022212,-0.35371044,0.19088507,-0.34390455,-0.3178993,-0.25779256,0.23768641,-0.18347102,0.18810835,0.17445967,0.21910112,-0.29761866,0.25616756,0.27801,0.015624374,-0.271856,0.20404181,0.21750459,0.19351164,0.25388247,-0.29172742,-0.142481,0.21415353,0.2534703,-0.21987133,-0.2779378,-0.15329704,-0.12565538,0.2560638,-0.24833995,-0.16458732,0.21333545,0.21850318,-0.104582965,0.23471794,-0.047719896,-0.10074914,-0.252132,0.2789831,-0.38676792,0.23634937,0.24886528,0.22435576,0.21678676,-0.23855087,0.22653124,0.2307897,-0.034019046,-0.087213755,-0.33691245,-0.22687119,0.28080153,0.21097827,-0.16633612,-0.17934756,0.20593849,-0.36560997,-0.054712407,0.25718164,0.20710069,-0.13589084,-0.24476555,0.23499961,0.23979902,0.24838814,0.19951446,0.2165984,-0.26088938,0.26751766,0.21203119,0.2194995,0.20813209,0.21921107,0.20159748,-0.36418536,0.25143185,-0.13641444,-0.4241081,0.22922836,0.2520717,0.2798199,-0.2737945,-0.30382493,-0.20786633,0.23582813,0.20633776,0.23415974,0.24900113,-0.29063177,0.16416958,-0.20068501,-0.06404301,-0.026966043,-0.19188035,-0.482224,-0.2708973,-0.16568893,0.2373645,-0.14981215,0.012038004,-0.049745057,-0.028353838,-0.13641334,-0.21575704,0.24703091,0.20449546,0.20673639,-0.060378224,0.25149077,0.20977974,-0.20675698,0.25077623,0.210841,-0.30711928,-0.03957422,-0.4471984,0.25306374,0.21273735,-0.116007134,0.2018216,0.18892768,0.23912463,0.21912698,-0.38761985,-0.37552515,0.2405574,-0.113770545,0.14636427,-0.093299314,0.20903853,-0.050637502,-0.5494685,-0.3478282,-0.025434347,-0.28925744,-0.19675694,0.2557488,0.21912232,0.23066176,-0.2470099,-0.40936273,-0.11191751,0.14762415,-0.36074793,-0.18862733,0.2181579,-0.049312733,-0.2954638,-0.16321911,0.24390057,0.18870065,0.22830313,0.26845932,-0.4340148,0.24268216,0.24665087,-0.13294946,-0.1365175,-0.40961504,0.19828819,0.2206152,0.2006613,-0.37543344,-0.11963088,-0.110140905,0.21564983,-0.11393074,-0.43525124,0.25085562,-0.47102463,0.2275774,-0.36065602,-0.17051426,-0.20933343,-0.1613133,-0.00051150285,-0.27920422,0.1530881,0.16723545,-0.13695773,-0.13925304,-0.2458376,0.18082412,-0.012374921,-0.4430625,-0.22989413,-0.45513374,0.23168573,-0.13717602,0.19221276,-0.10931367,0.22887577,-0.20548454,0.23836862,0.07044816,0.20728433,0.22009371,0.22343197,-0.13603063,-0.2632588,-0.102536276,-0.1536104,0.24967587,0.24824423,-0.20527214,0.2619329,0.2428838,-0.144267,0.22646843,0.22105283,0.1290195,-0.13579156,0.23331626,-0.2942105,-0.04282881,-0.16774026,-0.35611182,-0.20077066,0.19983017,0.20546234,-0.22212225,0.23206165,-0.14948551,-0.27786458,0.20761062,0.070599325,0.26286203,-0.2864958,-0.13836196,-0.3172886,0.23361078,0.23387083,-0.057741944,-0.33921412,0.21983498,-0.21620154,0.20223984,0.21861768,-0.22849286,-0.3163867,-0.34884685,0.11276745,-0.28183752,-0.18035825,-0.29527748,0.22467881,0.24306667,0.21193735,0.21849915,-0.25152257,0.24670514,0.2149459,-0.09264563,-0.35259026,0.23153804,-0.17019609,-0.19048181,-0.26294473,-0.084432155,0.25073004,0.20631117,-0.102079056,0.15364392,-0.16459452,0.20657754,-0.21885112,0.23088658,-0.13314284,-0.19427289,0.21468453,-0.4623329,0.24458843,0.2995823,0.24298713,-0.1988261,0.1336678,-0.5320882,0.21118903,0.21962301,-0.35778582,-0.3006183,0.2264868,-0.13281837,-0.29286772,0.23419179,0.11712148,-0.09361704,0.003500998,-0.20262542,-0.109157644,0.2676165,0.219641,0.23644136,0.19846983,-0.3655402,0.22959113,-0.27514008,-0.19770378,-0.014832202,-0.3811808,0.26354453,0.17653461,0.19301347,0.21931866,0.21945253,-0.44109896,-0.17931472,0.2054918,0.22926453,-0.27190962,0.18246631,0.2542687,-0.38199753,-0.11121479,0.2125732,-0.16459107,-0.06643421,-0.4490869,-0.054272145,-0.28970888,0.21547845,0.1676682,0.23316285,0.22413863,0.25147328,0.22085716,-0.22234784,-0.20465761,0.22195119,0.25264177,0.22872686,0.26239905,0.2080748,0.05701888,-0.14187583,0.26661935,-0.44436172,-0.38571203,-0.26712233,0.21924345,-0.31726098,0.22973427,-0.23685136,-0.35376048,-0.19640245,0.22529364,0.229806,-0.43092918,-0.22925009,0.15506469,-0.22592738,0.18283476,0.24586219,0.22467592,0.22817326,0.23626557,-0.17359115,0.25469863,-0.22699386,-0.11201076,-0.20002241,-0.35005593,0.2238158,-0.2371108,0.21503863,0.18070452,-0.25957537,0.21826816,-0.25047702,-0.34840584,-0.19021599,-0.07187795,-0.1637613,0.24989715,0.20958158,0.2175911,0.22094168,0.20870742,-0.15038036,-0.3231781,-0.060611397,0.19709052,0.2204436,0.17415318,0.17930064,-0.13035145,-0.13025708,0.23863944,-0.35546613,-0.16854367,0.24876037,-0.1867665,0.19476745,0.21252261,0.21285859,-0.30644798,0.21776691,0.24142686,0.2419639,0.2562009,-0.31897593,0.19680023,-0.1477193,-0.15843001,0.18045987,-0.274221,-0.27755332,-0.23239702,0.24151504,-0.22200088,-0.16022226,0.25461328,-0.29350773,-0.17413595,-0.428397,-0.46293855,0.22881407,0.2577078,-0.24193504,0.22092232,0.23488212,-0.40258938,-0.2543952,-0.30286992,-0.17264752,0.27039987,0.17077255,-0.031236866,-0.27681047,0.22198832,-0.09473919,0.25381678,-0.18553814,-0.25814056,-0.34701484,-0.3600107,0.23139633,0.20899427,-0.2978418,-0.18054418,-0.29712778,-0.03435424,-0.55528903,-0.33303353,-0.3656284,0.23613667,0.22491598,-0.12541771,-0.11581918,-0.08029463,-0.3184547,-0.25064728,-0.29846737,0.23347835,0.22908247,-0.30205506,-0.36618614,-0.28589028,-0.22125128,-0.11388575,0.2077142,0.21045905,-0.00285149,-0.31355605,0.18488622,0.22899145,-0.12036208,-0.49687013,0.2250889,-0.18377192,-0.35405958,-0.15965222,0.22826001,0.21024054,0.2638045,-0.21850863,0.23287022,-0.08269643,-0.21779281,-0.17720842,0.12659654,-0.12723055,-0.049317382,0.22150153,-0.32914037,-0.12013072,-0.14172226,-0.3225741],\"xaxis\":\"x\",\"y\":[0.0879112,0.04334418,-0.013137177,0.22252268,-0.1061102,-0.052385807,0.021277927,0.097963125,-0.25644216,0.01308566,0.073378414,0.14135058,-0.06778389,0.0954116,-0.009611864,0.0636781,-0.38491547,0.23423973,-0.030288756,0.026124246,-0.023844715,0.1560597,-0.040680915,0.009257816,0.092468046,0.08593391,0.017548002,-0.074779525,0.12986337,-0.41986412,-0.0006265901,-0.08102404,0.024166064,0.008204091,-0.036318414,-0.10841538,-0.38595587,-0.020556374,-0.022888115,0.16468546,-0.3541757,0.033648603,0.068599194,-0.0073061436,0.0027169697,0.035616625,0.015770892,0.123006016,-0.022112705,0.003438659,0.02740211,0.023334317,-0.048750035,-0.0050643757,-0.000055648386,-0.021016663,-0.16475709,0.027545754,0.047546774,0.12463587,-0.20240995,0.07580434,0.10985492,-0.0026296936,0.14790198,0.015095666,0.10532223,-0.5275563,-0.11275591,0.1730487,-0.054496337,0.01686972,-0.08201552,-0.09190264,0.08722104,0.1468606,-0.059269056,0.0031398982,-0.32395858,-0.04017638,0.03505478,-0.12022706,0.001928322,-0.05347685,0.10168211,0.026326492,-0.02967775,-0.17856894,0.15540135,-0.049430672,-0.10311401,-0.048296962,0.04553404,-0.08598493,0.18596235,0.16877994,0.22384995,0.031782463,0.043027785,-0.025034852,-0.04656846,0.053060673,0.048972137,0.028792894,-0.09546905,-0.13241678,-0.050462432,0.0032100305,0.03404414,0.121014446,0.014555428,0.008637449,0.013205767,-0.01905316,-0.052884594,0.011092212,-0.009095674,0.073087156,0.07190056,0.05068842,-0.2254251,0.019146599,-0.051631603,0.10153443,0.15344626,-0.010833577,-0.02922695,-0.25917813,0.001692526,-0.00080705807,0.02585955,-0.055432856,0.024400234,0.042358596,0.041023217,0.37891158,-0.048825033,0.21180397,0.016822673,0.12721099,-0.0009658374,0.102029845,0.04827611,0.2156209,0.043109458,0.09447988,0.09046144,0.119263925,-0.27549836,-0.029034384,0.014052808,-0.075299114,0.055824406,0.040072486,0.16288304,0.10666412,0.15340646,-0.068346195,0.032047402,0.08250151,0.007276818,-0.028387386,-0.08380577,-0.39245614,0.09608365,-0.13556185,0.12759797,-0.1752854,0.08180902,0.041977342,0.05163511,0.12958208,-0.004449902,0.08580666,-0.033645067,0.15512294,0.014458407,0.0024332646,0.041143905,-0.2716681,0.012029789,-0.13901749,0.004330395,0.048382565,0.06150454,0.042939823,-0.059843495,-0.4120338,0.006540846,0.15116951,-0.029959619,-0.014427479,0.15771663,0.16569427,0.12537284,-0.008729542,-0.035754215,0.07594762,0.18693075,0.015987463,0.024400715,0.031186704,-0.29760236,0.17981435,-0.05033148,-0.07071615,0.031025771,0.118325055,-0.130698,-0.22732516,0.121419005,-0.025146645,-0.11031033,-0.09886092,0.25050133,-0.27250588,0.1337663,-0.06786792,-0.0029357597,0.052622747,0.088538066,0.015703648,0.014422532,-0.3129402,0.043897152,-0.22796021,-0.0028704815,0.009376552,0.043275695,-0.033085994,-0.026911592,0.018292226,-0.24403578,0.16527452,0.103356645,-0.1695165,-0.020957474,0.09758103,0.013268702,0.25534636,-0.002275743,0.036417544,0.020125665,0.019262359,0.0017593727,-0.12632498,-0.013602577,0.023214832,0.023285558,0.020954043,0.09718079,-0.054609828,-0.12115503,-0.076900706,0.051936492,-0.0012358911,0.041825168,0.11928134,-0.106052846,-0.061305877,-0.0107533885,-0.06608147,-0.057712287,-0.34329093,-0.028007,-0.07094021,0.15767355,-0.19625767,-0.11062443,0.015652025,0.0070898663,0.0018951576,0.084687375,0.21913865,0.15889597,0.06108853,-0.04560507,-0.06312901,0.11626029,0.013020251,0.13213715,-0.0050649876,0.0879357,-0.037864875,0.0919161,0.026828114,0.13226478,0.10355814,-0.09014918,-0.04599548,-0.05498228,-0.21805239,0.07014668,0.03405942,-0.23920481,0.0023524445,0.006432399,-0.06413544,0.026295269,0.02386817,0.12668335,-0.003144823,0.12673777,-0.1306234,0.018685192,0.136971,0.083066076,-0.526607,-0.041410908,-0.04223503,-0.28229016,0.22702262,-0.0029325578,0.02496308,-0.0016963482,0.031081691,-0.0025975332,0.041475303,-0.06231599,0.015496898,0.13752091,0.01207526,0.043192416,0.009103453,0.11523835,0.10265802,0.106907934,-0.016971499,0.033901364,-0.050495926,0.080714114,-0.018720945,0.12001467,-0.027279137,0.0002931878,0.060938433,0.002839934,-0.0065715406,0.010797553,-0.014373921,0.030935507,0.092565835,-0.0035144202,0.14455421,0.030902695,-0.13359553,-0.11041548,-0.32413906,-0.026242282,-0.10126415,0.018646533,-0.016174387,0.032890104,0.03695837,0.081732206,-0.14818338,0.18341726,0.15337496,-0.010673007,-0.20610121,-0.039458707,0.12648499,0.02324229,-0.1249597,-0.03565965,0.028679114,0.024158075,0.0094799455,0.16765606,0.100423574,0.038727656,-0.0020077787,0.012400275,0.114072956,0.21126133,0.032419313,0.15454742,-0.13593316,-0.013795054,0.046220522,0.115173385,0.0024277866,-0.029627703,-0.17036976,-0.047540717,-0.03299517,-0.029532842,0.13623524,0.0060909726,0.14984564,0.06202966,-0.01278333,0.019137053,-0.1233768,0.008694755,-0.09545852,0.056772582,-0.062660076,-0.13624585,-0.36569053,0.2609098,0.034378964,0.012337547,-0.13067637,0.014346028,0.009274118,-0.08094295,0.22755852,-0.19849285,0.070732936,-0.06325163,0.20340982,-0.046749193,0.15109254,0.042555302,-0.055587478,0.022459641,-0.24601671,-0.1148478,0.0123852715,0.16285673,0.19891506,-0.207903,-0.041310903,-0.15588231,-0.17235743,-0.5519352,0.186494,0.00791309,0.049008336,0.20645782,0.14164685,0.16458488,0.0004929807,0.021497346,-0.08946379,-0.16671133,0.0882313,-0.053612493,-0.015652359,-0.07375689,0.024536397,-0.005168192,-0.05887242,0.070286326,-0.23967773,0.06785334,0.06623089,0.16246782,-0.012944708,0.028799685,-0.11940375,0.012469612,-0.17392604,0.1737224,-0.1187834,-0.18585128,0.0031937584,-0.108160734,0.015198883,0.03977824,0.05765938,0.011533178,-0.0047142655,-0.05181005,0.13663623,0.17282821,0.025846206,0.045495607,0.022035867,-0.04791786,0.23111413,0.012080427,-0.03307207,-0.2309839,-0.1781415,0.21631739,-0.039401308,-0.020541018,-0.067941785,0.051168576,0.015415924,0.12835273,-0.11830563,0.13104063,0.149656,0.032866586,-0.3119707,0.070932314,0.13598105,0.03134295,-0.32978562,0.06256917,-0.07687901,0.036149748,0.009416033,0.06103789,0.07903697,0.10478647,0.113599166,-0.047088798,0.021062281,0.03636813,-0.009897448,0.07014407,0.11716731,0.020859987,0.10753943,0.02244101,-0.04126507,0.08681819,-0.14616902,0.045710623,-0.030191844,-0.15187307,0.034284748,-0.37704077,0.009088436,0.18576682,-0.006229682,-0.065304905,0.059940957,-0.0684298,-0.068479136,0.030025609,-0.012746792,-0.00177183,0.13713829,0.05590598,-0.23754549,-0.029164512,0.024366766,0.06769132,-0.07784495,0.006876191,-0.05223251,-0.112786315,0.006817936,-0.008922627,-0.3246122,-0.024838643,0.22517782,-0.028907917,-0.3032628,0.027745299,0.0052016154,-0.31724817,0.06884841,0.037401896,-0.00656699,0.065842345,-0.009113511,0.038949944,-0.49140006,0.13795209,-0.34028536,0.027930988,-0.19484767,-0.0076759662,-0.009276992,-0.011877204,-0.023044314,0.019754961,0.073464274,0.00802125,0.0762702,-0.009547263,0.014096774,-0.1586781,0.16820869,0.05616293,-0.049620785,0.029344473,-0.3310802,-0.01690162,-0.018900579,-0.076608166,-0.016044423,0.047785737,-0.1662396,0.05745686,0.1576173,-0.03329669,0.005143767,0.03992198,0.023619682,0.037381805,0.17511137,0.030364383,-0.069929525,0.14898252,-0.086589575,-0.053195868,-0.083728395,0.0013939328,0.0072357804,0.030996244,-0.28739345,-0.058574155,0.11697001,-0.06335813,0.007076796,-0.21583042,0.030468447,0.08393381,0.09862774,-0.39595395,-0.007989935,0.19239584,-0.31674263,-0.14785792,0.029076036,0.017844938,-0.20999397,0.03115657,-0.3067994,-0.0019162148,-0.0721896,-0.080773205,0.0042502917,0.07975724,0.18919507,0.16243967,-0.03294177,0.013926627,0.05619552,-0.01675342,-0.23671117,0.03667897,-0.0048619956,-0.29310796,-0.2162939,0.047558583,-0.089864165,-0.069630794,0.20796838,-0.13823068,0.019586682,0.059137866,-0.37707236,-0.40208906,0.028896984,-0.024164751,0.0030501708,-0.06891927,-0.034685194,0.09132391,-0.12228009,0.16423723,0.16497447,-0.32327342,0.20031193,0.092045024,0.0055616647,-0.15585528,0.04891326,-0.02493833,0.0044123325,0.0074813515,-0.024099072,-0.009814264,0.10244607,0.09465931,-0.02654713,-0.009061744,-0.18664888,0.023231015,-0.032182354,-0.013937915,-0.14784959,0.19770448,0.17407066,-0.36573833,-0.023774855,0.04933586,0.01588268,-0.06307307,0.0077887094,-0.034550387,0.035052173,0.12034629,0.08952028,-0.38412577,0.1376966,0.0379093,0.08252586,-0.019066997,-0.03812737,0.04753046,0.01419156,0.250507,-0.01403169,-0.13885224,0.14714259,0.016784064,0.021659661,0.12500188,0.02759641,0.035224617,0.16123196,0.16916424,0.08437278,0.05983203,0.09655648,0.15351433,0.09289858,0.02445853,-0.22463499,0.15310122,-0.01767384,0.03137268,-0.2953773,0.23941723,0.034574293,-0.033019975,0.22824578,0.061226293,-0.0082294345,-0.033022046,-0.11811269,0.06336766,-0.08414858,0.10415648,0.031093396,-0.0011193175,0.020855423,-0.15321629,0.0048044436,-0.0062076477,0.022597764,0.01663625,0.031874415,-0.064208016,-0.036162175,0.00040457025,0.15974964,0.091002434,0.019417152,0.13178952,-0.0128202755,-0.02699859,0.030547308,0.098673426,-0.072375104,0.007033078,0.04410666,0.042037167,0.09108071,-0.20776638,0.016367305,0.18897747,-0.054792248,0.075077854,0.17879932,0.011384992,-0.13287948,0.14546913,0.18155718,0.021703208,0.046188604,0.05646274,0.00830216,0.15558098,0.01766835,0.040297568,-0.30163863,0.003512755,0.031731818,0.23399343,-0.11534104,0.14925806,-0.093969285,-0.011610449,-0.401573,-0.2372415,-0.034161974,0.034367092,-0.1580436,0.07587802,0.006747542,0.18771018,-0.0005698055,0.038295228,0.047557652,-0.06990933,-0.035118267,0.22464007,0.10980217,0.0034966953,0.055051155,-0.007231962,0.027315851,0.13994068,0.07110746,-0.10685965,-0.17097236,-0.13211823,0.034317754,0.011362005,-0.24515124,-0.044761326,0.03536221,0.107794285,0.013897061,0.010253459,-0.036965758,0.28898388,0.10449454,0.014021333,0.016516346,0.10096097,-0.31424075,0.053595398,0.033737287,0.1374841,0.045544844,0.047084957,-0.12479852,0.16556457,-0.036538284,-0.30298212,-0.050603062,0.05550216,0.050474916,0.17196082,-0.10698591,-0.31993207,-0.104406156,0.03644076,-0.17856556,0.13358864,-0.111268,-0.21010655,-0.008210132,-0.10742,-0.17863688,-0.014389204,0.008334715,0.010725601,-0.054194517,0.0032076389,-0.15570879,0.02277127,-0.09677413,-0.12406936,0.02345018,-0.07870886,-0.096977614,-0.36432055,-0.025919752,-0.19106075,0.12539463,0.054874882,0.1722094,-0.023224758,-0.36448675,0.12829208,0.095862776,0.023334883,-0.1201961,0.16412088,-0.03832931,-0.012468874,0.03605191,0.018284705,-0.08209577,0.0000640098,0.14856862,0.13650924,-0.07195615,0.04794628,0.02290775,0.06245313,0.01614465,-0.015936803,0.15696554,0.18684934,-0.000014552847,-0.049265623,0.017997606,0.033996053,-0.32896346,-0.032072153,-0.0007770434,0.024794936,0.11166139,-0.0066945814,-0.0530794,0.03503169,0.11950392,-0.08324433,0.013895066,0.055488538,-0.11207766,0.07802736,-0.0540287,0.030462243,0.05312808,-0.018109873,0.07856925,0.035110466,0.17242634,0.10392769,0.031725425,0.053266946,0.123196624,-0.019911753,-0.3259979,-0.047299787,0.012905708,-0.06490375,-0.17222834,-0.0341106,0.03943394,0.20324644,-0.025346972,0.061295148,-0.10957831,-0.06513536,-0.029842928,-0.0051399153,-0.008440331,-0.023644388,-0.010165182,0.10200673,0.06508128,0.10249448,-0.009476747,-0.0017081932,-0.08829034,0.1604001,-0.3170941,-0.03584166,-0.13829139,0.108269855,-0.1817203,0.015702192,-0.0018894579,-0.017066991,-0.3444181,-0.029745571,-0.16996062,-0.0424366,-0.01615309,0.007920653,-0.023055661,0.1753435,0.0069143586,-0.080431126,0.037299134,0.0012080595,-0.0032693092,0.07997052,0.051921904,-0.13504346,-0.012672684,-0.010865983,0.034504995,0.013342034,0.10738005,0.25078413,-0.00011743605,0.041793577,-0.009460361,-0.047975905,0.010586573,-0.2775188,0.017001556,-0.18492897,-0.11256421,0.18254112,0.1315925,0.043465354,-0.03675988,-0.039248396,0.026129747,-0.11852567,0.01647021,-0.015676716,-0.07552772,-0.09063796,0.0037205238,-0.0011996776,-0.03037386,0.15894085,0.01189878,0.10694182,-0.034140922,0.08020033,-0.053143486,-0.09931657,0.007826269,-0.035155553,0.011467412,0.12116232,-0.109768264,0.008280579,0.07362929,0.21326768,0.048369817,-0.056497343,0.122043304,-0.0034241322,0.027115397,0.023281578,0.009145545,0.03852209,-0.121441595,-0.013294795,-0.29366815,0.06363284,0.12941557,0.025929525,0.1500105,0.00959849,-0.11479822,0.17899308,0.19769831,-0.17075749,-0.0895944,0.09668125,0.2614256,0.037235945,0.12117914,0.033028066,0.0034355968,-0.038844004,0.029048616,-0.0031778999,0.2718587,0.21866085,0.09985052,-0.041882455,-0.05148404,-0.1545623,0.1619632,-0.12067789,-0.12206857,-0.024054797,0.023061456,0.12030648,-0.058863096,0.017272212,0.048056033,-0.053627923,0.224092,-0.090706035,0.053217404,0.1536794,0.091561764,-0.28814608,-0.13433307,0.017354151,0.012020156,0.17126173,0.014400404,-0.022451712,0.087551236,-0.118116155,0.18694511,0.029041555,0.00508162,0.036639836,0.044040896,0.008034624,0.016128689,-0.18822037,0.04227271,-0.25200883,-0.013993944,0.009403676,-0.116286844,0.09799195,-0.43808717,-0.0559391,0.034041088,-0.40773034,-0.5203072,-0.056161825,-0.141374,-0.16453321,0.0015086532,-0.058203667,0.011378314,-0.19695286,-0.087561,0.08036265,-0.00779004,0.033691075,-0.0036484525,0.010842118,0.07197726,-0.003362367,0.08736342,0.1615049,0.014107324,-0.048462406,0.054532744,0.17839418,0.17461506,0.08238037,0.055949837,0.08437745,-0.20525974,0.03621281,0.018070098,0.22329149,-0.114642814,0.021705825,-0.009179281,0.1329434,0.17973724,0.032642305,0.016884528,-0.0035670698,0.0029564872,0.17653358,-0.010995618,-0.15536618,0.036837447,0.1468132,0.022844719,0.23357794,0.19180882,-0.27401122,0.05705455,-0.008576816,-0.08807891,0.3705163,-0.0073798746,0.007304389,0.119914845,0.10804421,-0.017125688,0.11696413,0.025600752,0.022423754,0.17552373,0.06764172,0.0024781171,0.0071227346,-0.30667752,0.15697514,0.07259651,0.08428592,-0.3186004,0.0955143,-0.0017461479,0.039618243,-0.05184652,-0.052386776,0.008125588,-0.0052972334,-0.02038049,0.056147713,0.13985796,-0.26731113,-0.008004345,0.13491261,-0.3614862,0.0005956888,-0.14217092,0.0037771165,0.044561055,0.0210126,0.10639255,-0.0061034504,0.19292955,-0.31468853,0.01726288,-0.008727757,0.019536104,0.06754212,-0.027145639,-0.037244692,0.064516805,-0.06101549,0.17227748,-0.023805775,0.032957647,0.06144976,0.003531348,-0.083176985,0.03137649,0.10769677,0.06424239,-0.057172853,0.1386733,-0.03395203,0.02853258,0.16716228,-0.025910443,0.17559998,0.018493464,-0.10967225,0.009784987,-0.022052214,0.058768056,0.09514737,0.075720385,-0.21098703,-0.2299927,-0.1714876,0.029430263,0.040087502,0.0884637,-0.15545245,0.038615614,0.10752201,-0.05597578,0.035102136,0.18331543,0.024830712,-0.01232099,-0.08724998,-0.15221147,0.09312655,-0.047503155,0.10693012,-0.054998472,-0.10964751,0.04977516,-0.016939994,-0.16689087,0.03576733,0.13258488,0.08739625,0.03713157,0.07312764,-0.13646808,-0.31451726,-0.009744685,0.18991639,0.12319213,0.024997387,0.124456815,-0.06594041,-0.079581864,-0.076610014,0.012905614,-0.009055226,-0.170501,-0.008269755,0.0061488114,-0.27226838,-0.12828767,-0.07493598,0.027032923,0.16096836,-0.035143837,-0.028162157,-0.014687607,0.06648758,-0.0070831906,0.0066396613,0.028894883,0.013893187,0.04544116,0.011913918,0.036562655,0.100673415,-0.036349103,0.22804865,-0.303976,0.048117153,-0.011745563,0.012591153,-0.38371748,0.020526953,0.085652575,-0.29779232,-0.14887723,0.10016137,0.011369968,0.14805934,0.019007087,-0.027660117,0.013917591,-0.026108665,0.028946657,0.021762226,0.02494375,-0.04186319,0.022631992,0.04033638,0.018096494,0.118845,0.17173721,0.1946957,0.09502763,-0.1348104,-0.07264469,-0.24930154,0.026739517,0.055016648,0.20175043,-0.0073061436,0.01095603,0.0016851947,0.05063826,-0.000014865771,0.17150253,-0.014628405,0.18314555,-0.0113397725,-0.021439828,-0.27340087,0.04957049,-0.012052111,0.041269302,0.04117526,-0.3755644,-0.052417677,-0.09819933,0.018536061,-0.07224852,-0.0025869086,0.09117882,0.019052494,0.11603547,0.0046653915,0.061923902,-0.11847344,0.035427734,0.122369185,0.14261629,0.028520182,-0.051336516,0.10726822,-0.031466793,0.010050371,-0.09842455,0.061209813,-0.20940243,-0.045364514,0.026238848,0.04009704,0.12137878,-0.01858383,0.06948461,0.1369583,0.008299094,-0.013963923,0.043567277,0.12794207,0.024446588,-0.027361672,0.025239758,0.02765321,-0.051943332,0.17363527,-0.05044972,0.0010032766,0.079270884,0.016777663,-0.14125662,0.030853435,-0.09855798,0.011776503,-0.075169995,-0.0034073256,0.093638666,-0.0583127,-0.07650248,0.06114266,0.01956228,0.15012194,-0.04758996,-0.028681593,0.15811229,0.030171359,0.029591467,0.15036966,0.02056424,0.0050324406,0.0051059183,0.11640523,-0.17146531,-0.08793319,0.0131737925,0.046546195,-0.06609045,-0.02122287,-0.2227842,-0.016557172,0.026289163,0.083472826,-0.012824841,0.016847162,0.18672255,0.07426804,-0.109403364,-0.10719411,-0.06992777,0.041740306,0.03264289,-0.16827217,-0.07712221,-0.13677946,0.14025891,0.07501492,-0.08804288,0.03134962,0.12826672,-0.025656458,0.030231215,0.023062207,-0.10306538,0.16688904,-0.24187204,0.09294365,0.26531655,0.0074978545,-0.0073425677,-0.10771193,0.21097708,0.04747003,0.078465655,-0.18889745,-0.0013770089,-0.17964056,0.057227507,0.038395233,0.032509916,0.045002226,-0.013911861,0.1056529,0.023043081,-0.10032807,-0.0037258295,0.14721161,0.0068096835,0.00660873,0.19466513,0.04985628,-0.005701921,0.013994057,0.007249324,-0.02513729,-0.031216662,-0.054270864,-0.08327247,-0.41719037,-0.010735938,0.22881387,-0.020668868,0.0019986369,-0.08128892,-0.054276615,-0.47636384,0.047418933,0.045309138,-0.056037303,-0.114883885,-0.067028314,-0.014864139,0.15486029,0.120043874,0.07198737,0.075598195,0.14852126,-0.06402582,-0.026383094,0.072050944,0.05009421,0.058257893,0.23647699,-0.02295653,0.016074644,0.07392363,-0.28621706,-0.025625983,0.10807012,-0.022899332,-0.3640582,0.040597826,-0.0014738087,0.0612976,-0.12589116,-0.033855088,-0.05452168,0.025249042,-0.27388608,0.13543026,-0.16988373,0.03931206,0.04202825,0.11669161,0.020715723,-0.30247527,0.093667164,-0.059702553,0.04732492,0.00028380752,-0.0024221502,0.107739866,0.015433768,0.011716036,-0.023571603,0.021673411,-0.005231077,0.06656992,-0.09238127,0.03401571,-0.05272916,0.14409298,-0.013876075,0.045134634,0.16587858,0.029785223,-0.17550886,-0.025377419,-0.0960691,0.050139572,0.014982799,-0.18855384,0.005092522,0.010996534,0.010132266,-0.008695003,-0.014165532,0.02687283,-0.08486809,0.009839306,0.0011977628,0.10570377,-0.05839573,0.0054203924,0.09051729,-0.054515198,0.012302348,0.023869086,-0.5581819,0.014901036,-0.06253652,-0.0061195586,0.081421874,0.008282812,0.013409929,0.06971363,0.052394934,0.22721368,-0.21430635,-0.08802548,0.0017024428,-0.021719981,0.20578901,0.0038708951,-0.009878084,-0.025770925,-0.22139174,0.011468094,0.1616179,-0.46461242,-0.28197205,-0.070008256,0.033357274,0.07917878,-0.087272614,0.0451508,0.032311812,-0.018072613,0.021676145,-0.26228,0.03582956,-0.011753567,0.12811922,0.02880868,0.23476793,-0.10201785,-0.05004289,0.15109588,0.15841818,0.021717306,0.00089467317,0.12889433,-0.15903932,0.06984416,0.031020174,-0.05379158,0.005947765,0.016460959,0.038903356,-0.033859745,-0.010685511,0.07639274,-0.25366995,-0.0011959895,0.07081136,0.016972942,-0.21621054,-0.07069853,-0.07601211,0.032217693,0.15741171,-0.097273186,-0.068951264,-0.029454555,-0.033570968,0.062185876,0.026817637,-0.06305459,0.01845651,0.094956964,-0.04399835,0.048080597,0.03892117,-0.31332785,-0.34726,-0.11742005,0.26246402,-0.003099542,0.045721207,-0.15054366,-0.0037298491,-0.06776089,0.07258387,-0.0069012195,0.052051462,0.10685006,0.078478076,-0.01292887,-0.02821057,0.036647208,-0.07824373,-0.17447765,0.04306182,-0.024142455,0.11513208,0.15832014,-0.070744514,0.10788457,0.09357908,0.08557266,-0.024059344,-0.033711437,0.0033236053,0.11488526,0.20033695,0.010689734,-0.18666102,0.08446647,-0.004211869,0.0054922644,0.10430436,0.11514142,0.16647156,0.19010845,0.031109665,-0.14812946,0.13082303,-0.12745976,0.11093981,0.16232327,-0.35718882,0.1750327,0.10897314,-0.015169935,-0.00895589,0.030211061,0.037541486,0.025436262,0.1889866,0.03339447,0.15857378,0.07463834,-0.031019231,0.08922725,0.02795052,-0.3806172,0.11336834,0.13740206,-0.16203615,0.0488611,0.057323933,0.022023361,0.04051339,-0.05320549,-0.18372482,-0.036533196,-0.14315814,0.0027928445,-0.0073061436,0.011242149,0.025553582,-0.07422887,0.075564,0.034356747,-0.048535123,0.120201826,0.16634917,0.028593166,0.1401803,0.09598759,0.025458053,-0.26562786,-0.024730625,-0.0076310923,-0.16883859,-0.01702324,0.14471069,0.045325533,0.09073123,0.16227756,0.059879377,0.06501863,0.0093014,0.08576582,0.0095804185,-0.19891702,0.13443385,-0.010465458,-0.0811383,-0.0049756914,-0.030663876,-0.0017379988,0.021293724,0.09560831,-0.0287406,0.028701484,-0.0039787516,0.07762474,0.070991814,0.08005138,-0.038713694,-0.02024185,-0.0042633656,-0.100662634,-0.00031894073,0.119289905,-0.21634498,-0.16175312,0.18774182,0.13734493,-0.013628352,-0.27805132,0.044810735,-0.004040174,0.14716771,0.027723826,-0.08555034,0.02337837,0.1547779,0.041556768,0.040731788,0.08995785,0.17267686,0.024338968,-0.028022623,0.030137591,-0.05428382,0.012287252,0.048857838,-0.05696354,-0.03612211,-0.013809923,-0.15247159,0.09051709,-0.14496072,0.054213423,0.03881733,0.114048846,-0.041319497,0.17528264,0.19249654,-0.02484889,0.07668893,0.050987378,0.099419884,-0.16841862,0.011025321,0.040871933,0.032025233,0.1665466,0.0067563895,0.19024554,0.032036554,0.10676277,-0.13576545,0.23070526,-0.045250986,-0.119176894,0.06531334,-0.15790015,0.12719429,0.04875886,0.12388253,0.08835747,0.031319376,-0.0026605912,0.03530497,0.0074209906,-0.030982953,-0.03419418,-0.06277597,0.15731752,-0.13485736,-0.13119008,-0.008067224,-0.13097882,-0.045032777,0.033929154,-0.12894218,-0.2530787,0.24764216,0.10126045,-0.044015385,-0.14778274,0.19362582,-0.12016163,0.16298623,0.04862352,0.02653126,-0.1323097,-0.012286432,0.24294852,0.056612417,0.09715934,0.019390717,0.019132301,0.021545246,0.034438256,0.17275228,-0.19003138,0.014795138,-0.07672557,0.004030172,-0.0020034043,0.0861928,-0.27408993,0.10547346,0.016180925,-0.060784355,0.04125479,-0.29475802,-0.050687432,-0.03645833,-0.021087281,0.0020114295,0.12622006,0.018239819,0.17519143,0.03219264,-0.035103053,0.18156655,-0.041218467,-0.01329679,0.049464863,-0.28944677,0.11493106,0.0043324158,-0.017953109,0.0068447664,0.042809144,0.02127901,0.04608207,-0.093244866,0.03341523,0.010978058,-0.03602758,0.22306466,0.18925914,0.1908413,-0.020060237,0.013206273,0.22814214,-0.072316036,0.02740377,0.01645461,0.0155356955,0.14293705,-0.080757596,0.19483636,0.059596702,0.066685416,-0.10051886,0.011407368,-0.008040769,0.004225854,0.054029807,0.032368235,-0.03406295,0.009489508,0.14103031,0.03535889,-0.10011871,-0.059889268,0.047098674,-0.18689293,-0.23524556,0.12517157,0.04625356,-0.07714386,0.1805218,0.03285029,0.0048622265,-0.020463727,-0.06698632,0.027618404,0.15562615,0.15275955,0.10995576,0.004441494,-0.0775387,-0.08661748,-0.13668919,0.2594899,0.040376257,-0.0042501427,-0.41947806,-0.015308924,-0.19696319,-0.09972888,0.09002367,-0.049214017,-0.03600662,0.028137911,0.08711296,-0.05533691,-0.0014802124,-0.023624174,0.14242116,0.18243982,-0.08747894,0.09908008,0.03282997,0.094590895,-0.023707127,0.033979997,-0.13431142,0.13385738,0.09736771,-0.009479307,0.08210306,0.009307247,-0.27813455,-0.13869181,-0.4310152,0.12524942,0.10921043,-0.044381127,0.12691559,-0.22836268,-0.004613219,0.02886789,-0.10084754,0.03028953,0.01132413,0.014127215,-0.029734181,0.03573744,0.021334803,0.042746462,0.02854218,0.17408295,0.015311658,-0.12295015,-0.0061172787,-0.11308658,-0.029678047,0.0791775,0.03266452,-0.010388009,0.11767736,0.07611496,0.034419928,-0.018707471,-0.033603225,-0.4359458,-0.061170205,0.15667048,-0.23840523,0.10000894,-0.20724693,0.044242296,-0.030608239,0.14206177,-0.45495993,0.2671711,-0.020382846,0.0057337526,-0.019933838,-0.15265775,0.0060965046,0.054910716,-0.059337832,0.031328287,-0.023542695,-0.031064603,0.04247804,0.011192141,-0.026194584,0.079217836,0.013660405,0.24344103,0.13265519,0.0056541525,-0.06864682,-0.005924478,-0.0116577335,-0.01052997,-0.0010880195,0.021911545,-0.016696606,0.049101155,-0.04650337,-0.3271237,0.057937235,0.034554876,0.028386708,0.16731094,-0.10789879,0.026144724,-0.05748891,-0.1157372,-0.00203784,-0.030784886,0.031126728,-0.024492208,0.1655466,0.066130534,-0.013352305,0.117023855,0.020860247,0.09873025,-0.11468125,0.02466499,0.018764209,0.093058296,-0.057541877,0.06459194,0.0017887093,-0.023205891,-0.1958077,0.044599857,0.10311771,0.12296109,0.009187505,-0.00007237494,0.18795429,-0.028103933,-0.021782726,0.018483602,-0.0015829392,0.057293154,0.030108728,-0.30090678,0.09887282,-0.04677853,-0.2967387,0.013822481,-0.21723968,-0.22991328,-0.08052304,0.003758885,-0.030633954,0.037708312,0.006320767,-0.26002902,0.14704067,-0.04345139,0.043988846,-0.38110003,-0.03238702,-0.17093596,0.05949437,0.019398084,0.11548284,0.17676012,0.0040782616,0.039227415,-0.0054185987,-0.32550943,-0.22868423,-0.01951688,-0.04907004,-0.008823942,0.13681468,-0.12599,0.010377053,0.066387765,-0.30536425,0.124844715,-0.23720536,0.059263058,0.005458582,-0.0040636323,0.12159493,0.0027469862,0.11278905,-0.14377367,-0.016582508,-0.007098004,-0.12153133,-0.012991645,0.017153451,0.37891158,-0.012088021,0.17739938,0.110210806,-0.0010057087,0.044108257,0.2009338,0.016232274,-0.21888857,-0.042115733,-0.19395912,0.04941111,0.061002407,0.012179332,-0.23923054,0.13818198,0.12684174,0.11629706,0.1270792,-0.28041962,-0.05251712,-0.1811763,0.122587815,0.05022889,0.097134165,-0.323929,0.033057846,0.05562315,-0.10689209,0.02439123,-0.21613838,0.16014528,0.08192895,0.1139239,0.036079742,0.10857813,-0.028199859,0.036360417,-0.1254293,0.008539107,0.090890996,0.116418086,-0.3068287,-0.06727282,0.107282266,0.19427834,0.06305215,0.16065924,-0.14458051,0.17442776,0.042951927,-0.081910856,0.052163452,0.16374707,-0.041647423,-0.27342016,0.11635564,0.07176276,-0.046596956,-0.0139432885,0.033545516,0.112625584,-0.1675764,0.0127383135,-0.10643908,-0.03222249,0.09459422,0.016865114,0.026862087,0.1560264,0.028753925,0.050413385,0.117767185,0.043542337,0.058140654,0.08472654,-0.01177322,0.063035995,0.013435446,0.06706889,0.010733558,0.104378335,0.021064825,-0.0012693852,0.1950737,0.00880167,-0.14589779,0.024555042,0.011054035,-0.012491297,0.014230186,-0.028099079,-0.027962374,0.22052974,0.1081054,-0.050135814,0.14395697,0.03394119,-0.017073143,-0.32421878,0.014793374,-0.029411254,0.25849235,0.09915516,0.050149824,0.08307756,0.019822717,-0.024734627,0.058256708,-0.107968286,0.025937889,0.14483395,-0.05621074,0.08893091,0.0054225884,0.11355486,0.0065624192,0.008541597,0.018900488,0.031052407,0.11991644,0.00069989637,-0.23372385,-0.07284121,0.12774292,-0.11245537,0.04528612,0.04862017,0.16002429,-0.05054515,-0.06487337,0.12045945,0.045089554,0.098904125,0.14537703,0.011647757,0.026734818,0.00846301,0.06617086,0.017390728,0.14516431,0.0741849,0.00345584,-0.13208777,-0.0381836,0.08682927,0.12651683,0.09458887,0.03677924,-0.015149999,0.10709071,-0.0052301595,0.028993256,0.10005446,0.062456094,0.10473517,0.18330872,0.017209176,0.08584468,-0.0141466595,-0.04926771,-0.07991347,0.0059202462,0.12343465,0.04413365,-0.0020370334,-0.01863856,0.008194504,0.022545999,-0.102700196,0.17823114,0.11832744,-0.22254443,-0.02959538,0.0028525386,0.111419864,0.010940224,-0.06504644,-0.047910437,-0.014744085,-0.053025246,0.038533375,0.035329107,-0.12624848,-0.2407046,0.17964752,0.015102491,0.06618471,0.19639644,0.117712446,-0.001987489,0.018631078,0.016924795,0.020649035,-0.06369704,0.034906544,-0.07796463,0.0070306137,-0.33191824,0.0007702736,-0.056896795,0.029125387,-0.025591718,-0.017656188,-0.010612957,0.049230672,-0.007222425,0.04743547,-0.17753085,0.0269573,-0.14808261,0.014861934,0.025720283,0.02569735,0.019608535,0.031655632,-0.022196343,-0.0055567175,0.16483937,0.031320333,-0.0053614303,-0.04556622,0.09741078,-0.07298952,0.03306014,0.17903464,0.035481013,0.02134437,0.038306408,-0.08485313,0.035618547,0.011543617,-0.12586483,0.0054848418,0.1594547,-0.1620974,-0.015818318,0.014261207,0.16752604,0.20318705,-0.05886461,0.118915334,-0.27708733,0.034648925,-0.2203972,0.006426275,-0.07018348,0.08071023,0.146146,0.024826027,-0.16168845,0.01863749,-0.14302811,0.13832243,-0.020260166,0.011783853,-0.048383243,0.1701064,-0.028624302,0.10093048,-0.016838796,0.0045960117,-0.058470953,0.13606419,0.09706086,0.0022211224,-0.08133548,0.029317122,-0.5005846,0.06693081,0.2146516,-0.14597091,0.048670582,0.05476226,0.13698295,-0.016101263,-0.42325988,0.17450951,0.03031509,-0.009095523,0.045592636,-0.09957985,-0.015418954,0.08868195,0.15852743,-0.02365855,0.23625891,-0.09768519,0.21748403,-0.057341244,0.029478367,0.057788014,-0.2587902,-0.1902923,0.20149392,0.0014422648,0.0020775162,0.020368269,0.00956157,0.012914544,0.032872707,-0.00470531,0.11735002,0.04334821,-0.25572693,0.11350714,0.120072976,0.011506291,0.037782356,-0.031607367,0.004069047,0.1290916,0.020803347,-0.05302243,-0.1298858,0.038263187,0.049294755,0.0003559366,0.102844045,0.0014302507,-0.031231724,-0.16168316,0.1748319,0.0074944496,0.030898727,0.1736486,0.15125512,-0.010893822,0.016899465,-0.038332023,-0.04746735,0.01899423,0.010699151,0.0038524754,0.034542117,0.024076708,-0.0004903842,0.08012962,-0.07083779,-0.17960681,0.08920711,-0.10946533,0.014821831,0.009605458,-0.4308759,-0.047767695,0.09242306,0.010617398,-0.026452245,0.040719885,-0.07529582,-0.1878292,0.18237397,0.020269755,0.053358145,0.02071314,-0.25100848,0.036168665,-0.015055358,0.08325457,0.025597192,-0.004154839,0.17766753,-0.1603201,0.019871846,0.019928455,0.04354596,0.10613321,-0.00359378,-0.033551313,-0.14998351,0.05216642,0.02980667,-0.04911838,0.10488853,0.13280371,0.15089233,-0.03388758,0.04189195,-0.0073061436,0.04201279,-0.14754957,0.18947431,0.19529724,-0.027439749,0.02630476,0.12428305,0.05997903,-0.051846523,0.09185769,-0.1370268,0.17258719,0.13603105,0.16306213,0.16864605,0.015896928,-0.012080156,0.021846034,0.041284963,-0.41791636,-0.17056866,0.0819294,0.022712957,0.18911992,0.12625277,0.01497525,-0.19426635,0.017075881,0.07787122,-0.2456493,0.1420004,0.038823023,0.13358167,0.0033353474,-0.012622228,0.0634044,0.026028413,-0.019792475,-0.09204647,-0.015604295,-0.11702578,-0.029335098,-0.049676858,-0.09323109,0.0006860029,-0.0073058903,-0.10437004,0.08866621,0.12629612,0.07671984,0.04202026,0.12804961,0.122266635,0.0072283894,0.014644504,-0.032478675,0.0383055,0.060140364,-0.005132526,0.025605606,0.077760905,0.019984378,0.011875944,0.105730124,0.06334874,0.04763505,0.013075899,0.022875171,0.0056767687,0.0098480955,-0.062571414,-0.06946978,-0.08851442,0.08346732,-0.08234138,-0.032290496,-0.040856153,0.026743077,-0.02399344,0.1170857,0.093558095,0.010432005,0.14797859,0.00896853,0.09396179,-0.021605462,0.024793208,-0.010488389,0.0062964354,0.077573314,-0.2408087,0.17452256,0.05879605,0.12976456,-0.19396257,-0.0072842278,-0.11950349,0.18840581,-0.057489883,-0.09147136,-0.23144278,0.0652888,0.04207588,0.055804428,0.092769176,-0.36990255,0.18476288,-0.057970755,0.12641953,0.030163355,-0.14387003,-0.0881797,0.060461227,0.12087694,0.08847163,0.048978116,0.01698063,0.17544955,-0.048674963,0.065864496,-0.22620842,-0.19674061,-0.013740253,0.0900874,0.07869221,-0.27812546,-0.052350476,0.024687788,-0.26707482,-0.009999948,-0.23396868,0.033735976,0.059952144,-0.36812395,0.06251407,0.06328087,0.0054661483,0.086189166,-0.017221875,0.018275961,-0.045099247,0.027505001,0.17495057,-0.11689163,0.13390455,-0.058678083,-0.122282505,0.01045651,-0.025143676,0.03215243,-0.00056507066,-0.037163723,0.049123775,0.103070155,-0.00047011487,-0.10735524,0.026973363,-0.04751453,0.0067254454,0.14214036,-0.10179972,-0.015792582,0.076751344,0.14130315,0.013740998,0.10643253,-0.2876203,-0.056619294,0.02072642,-0.03997446,-0.014601951,0.14138137,0.060021937,-0.14164847,0.08350915,0.21613617,-0.07640515,-0.3069759,0.0034346916,-0.030048365,0.032607235,0.1283547,0.14742938,-0.0700839,0.14945531,0.08189766,0.2499305,0.010900557,0.034624144,-0.10822734,0.026820209,0.013796963,0.11666356,0.068453744,0.0067627076,-0.5022068,0.03211121,-0.0023968094,0.04273306,-0.014656302,0.13623063,-0.07090757,-0.009228778,0.0774826,-0.01881477,-0.0932872,-0.11575724,0.015913647,0.13393049,-0.16768461,-0.041124716,-0.50041234,0.018082902,-0.060199592,-0.053311642,0.013310377,0.11021795,0.0926325,0.004031401,-0.066287555,0.012336869,-0.22225654,0.0061840564,-0.14062513,0.12662585,0.025106657,0.13014965,-0.049351625,-0.10687044,0.18314439,0.032128632,0.16149022,0.079656,-0.123697914,-0.12925273,0.054617524,0.06498672,-0.0072814263,0.01683183,-0.046739444,0.00006767362,-0.08297479,0.13332877,0.054027624,-0.07005288,0.097841434,0.08839485,-0.22433268,0.019073412,0.031935588,0.040534817,0.06715053,-0.007891126,0.07262754,0.24388056,-0.06488067,0.04878644,0.004392715,-0.04317522,0.027680488,-0.013664689,0.09523438,-0.016359467,-0.04066142,0.04591951,0.14476131,0.14778993,0.115119636,-0.09871937,-0.049643673,0.0222371,0.047310732,0.09900848,-0.31895807,-0.020611607,-0.029235192,0.0021547358,-0.16237277,0.14955983,0.12970132,0.0041709132,-0.23204142,-0.090065196,-0.0047167996,0.001688499,-0.028558489,0.05351223,0.060217723,0.1152609,0.04982789,0.121272966,-0.45959583,0.000494767,-0.0021114089,0.23184192,-0.40030923,-0.12859255,-0.102002226,-0.28835756,-0.18810141,0.14933212,0.10535471,0.024644945,0.06385331,-0.0021401364,-0.018263994,-0.028976817,-0.12463601,-0.013693675,0.12732999,0.024808029,0.018839184,-0.014737867,0.026081974,0.24889883,0.1082421,0.025959797,-0.007714538,-0.13982058,0.07072906,0.03462623,0.007830063,-0.009185493,0.099064454,-0.17611901,0.009138016,0.0992147,-0.05552295,0.11781558,0.03615275,-0.0038366765,-0.3607736,-0.09540002,-0.05292599,0.051756017,-0.39002824,0.07256208,0.03007156,0.1918323,0.034959298,0.005308505,0.11329706,-0.17178646,0.13628021,-0.005672179,-0.06956492,0.015106378,0.14732398,0.09930802,0.15835068,0.16042167,0.027869076,-0.08125344,0.021700941,-0.09402637,0.15365846,0.010168143,-0.011743762,0.020282965,-0.33458292,0.08803462,-0.038581323,0.086469084,-0.05478712,-0.21787636,-0.018041635,0.023965541,0.11891039,-0.016428247,0.121736385,-0.004124162,0.024159085,0.08909804,0.084754154,0.038861137,0.13463536,0.058761284,-0.21450047,0.03432444,-0.253125,0.07493508,0.022804875,-0.29384577,0.24362199,0.09640044,0.02628015,-0.084069,0.0120140165,-0.018020447,0.073564574,-0.09913245,0.0063787885,-0.037543003,0.02657261,0.03528755,0.0071874037,0.036830965,-0.03815692,-0.04091098,-0.11881699,0.11180147,-0.018900264,-0.06326255,0.012703834,0.017462017,0.021638732,-0.011200064,-0.061856553,0.07249469,0.022239216,0.11988964,0.024773136,-0.4239651,0.04533743,-0.039204977,0.07031244,0.19158235,-0.00013718195,0.02691985,0.031106595,-0.14526802,-0.022274444,-0.0628088,-0.2479516,-0.011039436,0.022495743,0.02322226,0.005828351,0.09761662,0.0037088674,0.00407161,-0.033602156,0.090345256,-0.022903312,-0.07712513,-0.14460073,0.18505412,0.064932555,0.027191825,-0.004245078,0.12719984,0.19377619,0.051651984,-0.016809667,-0.0075591234,0.1665937,-0.21102631,-0.02800852,0.056461938,-0.38079974,0.10777101,0.12357861,-0.023519136,-0.2510277,-0.029079137,0.1317233,-0.0936111,-0.008043094,-0.028854627,0.018303817,-0.009034298,0.16836533,0.05237093,0.028713461,0.049659945,0.13023251,0.17581666,0.05677651,0.026631594,0.05638244,-0.0048073083,0.2923055,0.2047413,-0.020658232,-0.067530066,0.045590837,-0.070182584,0.1279467,-0.062811196,-0.24703625,0.044262413,0.027912416,0.0697521,-0.015255589,0.021689868,0.19141138,0.0104780365,0.0071012843,-0.036574196,-0.025202597,0.010997761,0.22102848,0.19119705,0.13703328,0.03781043,0.019061437,0.22520913,0.07111134,0.03191466,-0.027300864,-0.24283938,0.051251788,0.024064912,0.15917905,-0.050441355,0.025138125,0.011238787,0.051898103,-0.03005508,-0.02893139,0.09236695,0.17779052,0.097057626,0.22761017,-0.043097857,0.123061426,-0.00379215,-0.15563172,0.04519679,-0.28089648,-0.28650436,-0.33189976,0.14657377,-0.27872288,-0.11852249,0.0057763252,0.020172838,0.018185578,0.049664162,0.09285667,-0.11013176,0.021291278,-0.023406224,-0.13649753,0.020923512,0.18150651,0.058040798,0.14843002,0.005283537,-0.04788926,0.07863557,-0.013455208,-0.09410016,-0.037648015,-0.03359176,-0.055355866,0.05533539,0.057184905,-0.21166213,-0.093505785,-0.029221542,0.07824486,0.15572649,0.028998984,0.04322974,0.20851493,0.045469206,0.17137003,0.06157147,0.07972892,-0.46265116,-0.034640618,0.004150929,0.010956116,0.10745859,-0.18194604,-0.08945516,-0.03857114,-0.029900365,-0.01234771,0.010130269,-0.12370654,-0.07616026,-0.1576891,0.043682184,-0.061758105,-0.010109596,0.00023166835,0.048913922,-0.30162406,0.0059466623,-0.027571801,0.13136637,0.0386002,0.3289205,0.095409796,0.16801935,0.016908048,0.0038583297,0.08631442,0.028618595,0.13244341,0.032202907,-0.04544994,-0.0034486484,-0.18385953,0.14415039,0.014369581,-0.041339103,0.04329523,0.17133924,0.10794933,0.0034287348,0.10424923,0.0011151247,0.026377233,-0.040228672,0.06251321,-0.044095982,0.02246143,0.011537757,-0.09291036,0.028675672,-0.0581801,0.029808166,-0.10466927,0.010403939,-0.2904764,-0.027921533,0.03213464,-0.33409855,-0.0005372092,0.09924759,0.013229921,0.028192643,0.017405905,0.01303965,0.104944855,0.03134774,0.14902319,0.14556573,0.006991798,0.11062993,-0.32610437,-0.06123772,0.09940752,-0.034679554,-0.089676015,0.017502122,0.03963351,0.06327058,-0.07065501,-0.53296375,-0.07300131,0.12064809,-0.06109892,-0.45404935,-0.006896589,-0.01483579,-0.011402121,0.116496176,0.03220619,-0.03171996,0.026132978,0.14199507,-0.2389181,0.17214598,-0.008915167,-0.048002742,0.14557754,0.10732633,-0.017605694,0.06890479,-0.27261606,0.043229725,0.0148996655,0.2271522,0.11351988,0.0063820854,-0.17556357,-0.034068152,-0.006033917,-0.053862,-0.15270486,0.030381508,0.021061502,0.004094556,0.010755785,0.07776752,0.03977166,0.014972003,-0.12537289,0.02940034,-0.15239494,-0.07567288,0.059862208,-0.046626285,-0.0006079469,-0.013599089,-0.009131551,-0.24654242,0.07466552,0.0043961387,0.18166919,0.16227944,0.015538018,-0.027249068,0.08748296,0.07637046,-0.35779423,0.048110474,-0.22848547,0.0057164766,0.045648143,0.06759257,-0.07100561,0.020340199,0.26351446,-0.18974689,0.13313957,0.20578302,-0.030203704,-0.20477751,-0.019531496,-0.0062300637,0.24613331,0.0019970108,0.026469339,-0.024745332,-0.013948299,0.06521695,0.048773963,0.08235648,-0.275305,0.12549637,0.052085903,0.0049636737,-0.012288917,0.037036106,-0.0283635,0.014258431,0.0895138,0.030046716,-0.15657641,-0.1845088,0.11973114,-0.06807279,0.0067050196,-0.06499417,-0.05991761,-0.12511861,0.060636606,0.00015134737,-0.0985231,0.22125906,0.0048452,0.25143367,0.18005696,-0.1208424,0.009764887,0.07884678,-0.021976808,-0.09114396,0.10887867,0.08677477,0.023823269,-0.0146908,-0.0114673395,0.018596001,0.028874606,0.021552406,-0.2004765,0.08077669,0.017675387,-0.020735603,-0.12134899,0.025889747,-0.03856384,0.20213287,-0.054099064,-0.18871586,-0.06549162,-0.18303876,0.07592772,0.025515243,0.004524067,0.2575621,0.032705143,-0.028059568,0.04508291,0.037923414,-0.030507738,-0.038730994,0.2190946,0.0084308125,-0.008152343,-0.009637512,-0.05793551,0.020004813,-0.029349118,-0.18798691,-0.117335014,0.047571685,0.035851203,0.036009584,0.04665743,-0.259777,0.02165369,-0.1251646,0.11906538,0.09575716,0.09109605,-0.081855215,0.011195527,-0.20261723,0.02269616,0.069914915,0.09764822,0.0065524615,-0.29449937,0.05841004,0.13115895,-0.09909284,0.010869905,0.05379266,0.12956373,0.015066385,0.12081453,-0.088052265,0.10690347,-0.06854002,-0.067648135,0.12625885,0.20341206,0.08630246,-0.013149053,0.18020554,0.017541144,0.08145515,0.03857432,0.19775994,-0.03761575,-0.01551792,-0.010480273,-0.014405118,0.15850835,0.112118766,0.06097211,0.060702097,0.09045099,0.09100399,-0.06177176,0.036092076,0.18050277,0.03366546,0.031802338,0.017049043,-0.06203808,0.11540567,0.26824605,0.09460146,-0.018200293,0.14167137,0.22719525,-0.03222148,-0.13397892,0.06782521,0.0031873398,-0.35774082,0.13157839,0.0049767476,-0.047727913,-0.060904905,0.00009569526,0.2066403,0.00061454996,0.104228385,0.18112484,-0.20137759,0.009231694,0.06446212,0.007987687,-0.08057816,-0.009218803,-0.015432391,0.18897739,0.22487326,0.0125219375,-0.008399647,0.18551247,0.029506953,0.00005658157,0.07647072,-0.0040062126,0.025317825,0.19338197,0.0072881505,0.029527241,0.22632182,0.005144866,0.022962283,0.103771,-0.03351654,0.17131221,-0.03513369,-0.04896345,-0.060807463,-0.11299278,0.005738696,0.047387443,0.14564303,-0.006760724,0.20445779,0.032999646,0.0020127445,0.07823978,-0.103883706,0.008344691,-0.058703393,0.044408157,-0.07621758,0.0490073,0.14199388,-0.13474561,-0.066071376,-0.3125374,0.10902964,0.051175974,0.0072048698,-0.14451359,-0.10200922,-0.020340249,0.02846869,0.05299218,-0.024465466,0.009561811,-0.005454924,0.054169178,0.03957623,-0.29821607,0.015334196,0.18541709,0.13585728,-0.028680246,0.17050679,0.023572098,-0.05072426,-0.04393354,0.03943907,-0.3589983,-0.014448106,0.019134788,0.032203667,-0.0032623615,0.021716733,0.021806216,-0.14578868,0.030337743,0.1160822,0.16129655,0.12505816,0.02387025,0.04345494,0.11014089,0.052843384,0.09720419,0.093069136,-0.3047754,0.10059902,-0.36609256,-0.053728607,0.025162602,0.04148991,-0.20302132,-0.011393314,0.011601951,-0.0037484057,-0.047083452,0.057155937,0.025502048,-0.017828241,0.0084245,-0.3134783,0.05251858,0.0530303,-0.13881446,-0.17311153,0.1829663,0.014857309,-0.060212113,-0.010606663,-0.031266667,0.027850078,0.013362102,0.13116644,0.0019920673,0.02842233,0.05248418,0.06981718,0.12786755,0.022922698,-0.024290789,0.024302598,0.06059087,-0.06587552,-0.035626754,-0.09060334,0.0034166481,0.045701895,-0.10401699,0.09862387,0.06163819,-0.051387645,0.04471604,-0.3640263,-0.044113122,-0.080746,0.15540954,-0.4328663,0.028068885,0.09116474,-0.0024557486,-0.024425164,0.041128516,0.049752846,0.19537626,0.08091988,0.018449062,0.11432671,0.020604333,0.116287135,-0.028337274,-0.057879366,0.018403241,-0.006840067,-0.021777824,0.053727493,0.015780538,-0.13995326,-0.022240888,-0.10846717,0.15484357,-0.21967185,-0.023051523,-0.06106982,-0.019403128,0.14623319,0.038986728,0.047171965,-0.010998379,-0.2058841,-0.003433669,0.03291536,0.045423057,-0.38890317,0.19327013,0.06258964,-0.0991703,0.15016815,0.06433283,0.0429898,0.0427538,-0.049813107,0.20345646,0.036890104,0.034296505,-0.23147406,0.15483719,0.0031864792,-0.4558546,0.14697315,0.004974358,-0.044978317,-0.03510383,-0.005119525,-0.18695766,0.020864204,0.18507099,0.073602855,-0.010386713,0.049024504,0.0473725,-0.109147035,-0.013128322,0.014196588,-0.008719711,0.1571673,0.029246848,0.10519887,0.030389108,0.026130361,-0.10929909,-0.13040362,0.10058143,0.06023471,0.033289928,0.08607802,0.02566984,-0.14506128,0.025674423,-0.29139084,0.02224919,0.04197137,-0.00434817,-0.01250935,-0.11129047,0.16899443,0.03300926,-0.39234877,-0.016983975,-0.3041779,0.18536143,0.056618936,0.0467487,-0.13608819,-0.017514486,-0.081277095,-0.019130327,-0.035929814,-0.0066043995,0.11190273,0.031904466,-0.030921433,0.02411952,-0.050626982,0.03049989,-0.0024831519,-0.09595771,-0.00398078,0.1968433,0.024747118,0.15213895,0.04263133,0.031524524,0.032197446,0.021237466,0.030780438,-0.011340186,-0.023869283,-0.4018444,-0.27786875,-0.045252074,0.16192818,0.10532932,-0.0077108275,0.051162463,-0.0660036,0.188841,0.017928839,-0.48122507,-0.1710068,0.15490223,0.019961255,0.094672546,0.0720532,0.1461044,0.11415624,-0.14891544,0.011269234,-0.11686447,0.0034625214,-0.14548627,0.28891733,0.023593917,0.14474803,0.21179458,-0.026334498,0.14726368,-0.011268258,0.050269432,0.25888953,0.07754162,0.13813458,0.026290108,0.0077869687,-0.061009623,0.1964274,0.05728123,-0.030798912,0.018318519,0.042410694,0.041628763,0.06934225,-0.084989905,0.13165861,-0.08821885,-0.03360968,0.020212052,0.027765147,0.08930761,0.15608135,-0.27715275,0.04702005,-0.29529113,0.16057631,-0.10297036,-0.048240047,-0.016528336,0.19388257,-0.058045894,-0.23010851,0.08687959,0.04092876,0.20021564,0.08338909,0.040500842,-0.45208845,0.11441173,0.1967423,-0.21599856,0.16670734,0.0011370033,-0.034629174,0.17927957,0.040628172,0.23093471,-0.03574487,0.011072965,-0.07389187,-0.013216099,-0.013663158,-0.041785754,0.0012318995,-0.13306081,-0.03284438,0.13902065,0.011549018,-0.28226697,-0.120341524,0.005033022,-0.206007,-0.06506356,0.033030473,-0.0016282648,0.05354725,0.14144236,0.09089899,-0.042518523,0.10676049,-0.10310118,0.092924595,0.063959375,0.058947276,-0.0590192,0.0034961645,0.03600168,-0.013941167,0.11192902,-0.10825832,-0.024550326,0.05606189,0.042099416,-0.18562841,-0.06705662,0.051731825,0.11070542,0.039992414,0.02169666,0.03282181,0.118751764,0.015639083,0.038496364,0.002129335,-0.056332752,-0.05885293,-0.036301065,0.13388066,-0.010305757,-0.07330069,0.021054924,0.087495446,-0.013737556,0.018046897,-0.1350331,-0.13892256,0.15782982,0.056713447,0.110120036,-0.04011795,-0.2514511,-0.33743834,-0.33047998,-0.09636164,-0.0387512,0.031528216,-0.05020319,0.0013346076,0.024111105,0.017155696,0.028980106,0.11268576,0.035590313,0.12985209,-0.09097595,0.045006517,-0.029805012,-0.028418098,-0.11708779,-0.06080305,0.05477205,0.04380304,0.20548898,-0.116195686,0.0037908424,-0.21813668,0.028322369,-0.13408531,0.06240098,0.003406532,-0.08902745,-0.013735481,0.08055531,0.010527648,0.010525128,-0.19701648,0.12943314,-0.25596398,-0.093616456,0.15010495,-0.10750544,-0.019985417,0.016830351,0.105412886,-0.023210783,-0.019208997,-0.6216632,-0.011567256,0.110713735,0.070838615,0.042116947,0.010994233,0.03061975,0.05743574,-0.004414199,-0.18816504,0.027031604,-0.04311142,0.008273222,-0.021948421,-0.037957367,0.0078014676,0.030853614,0.0075316606,0.13061945,0.028150419,-0.055339888,-0.19683519,0.025817413,0.016104283,-0.31734496,0.03188616,0.062040683,-0.29287738,-0.005115643,0.102171175,0.025677968,0.26517043,-0.009216639,0.027682098,0.012063662,0.10459606,-0.16574553,-0.021082815,-0.034768112,-0.0073061436,0.05676835,0.0317912,0.114272885,0.01200676,-0.10360797,0.05043783,-0.07132964,-0.025761362,0.0027024858,-0.23687357,-0.079676785,-0.07763108,0.025688767,0.054589167,-0.122188166,-0.00084915385,0.17399167,-0.07474162,-0.022670716,-0.003282683,0.005328253,-0.071544565,0.028973076,0.020894045,0.16841048,0.08504461,0.029560303,0.017808627,0.065202035,0.16593392,-0.20975786,0.03329979,0.15183291,0.027584787,-0.24711844,0.08789854,-0.15985286,0.016268482,0.07426596,-0.067345574,0.030272491,-0.12471292,0.037531123,-0.102589175,0.018523883,0.24596596,0.038733106,-0.31480324,0.10341713,-0.4435863,-0.08151902,0.08740868,0.04831742,0.00006800238,-0.2595428,0.2137132,0.019866033,0.107442535,-0.11603744,0.0865832,0.042236377,0.058162965,0.09018625,-0.020864839,0.050223384,0.0105508175,-0.017729402,0.16903111,0.0035733692,-0.35699373,0.11332983,-0.19341207,-0.1478393,0.18171987,0.008702457,-0.14777884,-0.28323466,-0.0891923,-0.019196752,-0.06285428,-0.0012825951,-0.06670418,0.066082686,0.068486124,0.06733903,-0.06264212,0.06009785,-0.0034677424,-0.058194276,-0.24451058,-0.34361005,0.1354214,-0.018034577,0.1306985,-0.034284584,0.11366303,0.007839106,0.09278865,-0.29722226,0.06743307,0.027265597,0.007324027,-0.020980852,0.03669253,0.04211989,-0.04079239,0.102278955,-0.11652929,0.23352271,-0.38647348,0.024580233,-0.0136580095,0.008545015,0.006857224,-0.0031285267,-0.062102966,-0.0076639876,-0.055007145,-0.027372168,0.071625225,0.010980705,-0.0033821277,0.11688994,0.05935697,-0.12151039,-0.17628899,0.14489129,0.18162495,-0.29316646,0.010232311,0.09317997,0.117544174,0.09204545,0.17947261,0.25393045,0.018105768,0.1251749,0.050198648,0.06724964,0.056045163,0.06834773,-0.037307784,-0.008763257,-0.38538462,-0.0012410954,-0.29852444,0.001527451,-0.030479614,0.029402204,0.10767934,-0.023400676,0.21071488,-0.24115747,-0.009645522,0.03874616,-0.056486808,0.05917273,-0.29648542,0.010981801,-0.149477,0.053660523,0.041041955,-0.03455105,-0.05865869,0.028036375,-0.060455874,0.017908735,0.094029486,0.24943238,-0.0196859,-0.03297302,-0.117627114,-0.18571469,0.060299736,0.016256034,0.018845078,0.041028343,-0.044530813,-0.069431454,0.046050467,0.070868924,-0.4155293,0.024389617,0.11526992,-0.014387164,-0.26204664,0.013384145,0.010473199,0.0882637,0.11415668,0.06694741,0.19404852,-0.22737324,-0.06200407,0.07703168,0.069208056,-0.04817204,-0.22205956,0.06583614,-0.016662339,0.010364309,0.030698864,0.08545621,0.1467035,0.0011916235,0.047396787,-0.0488934,-0.000875514,-0.05249417,-0.13378204,0.047298472,0.092017144,0.0028985105,-0.05953391,0.14825366,0.044794522,0.112981305,0.043687694,0.015105052,-0.25046346,-0.18187678,-0.021097291,0.0046518315,0.0051625436,0.22492725,-0.023426171,0.09617582,-0.0031871423,0.1477687,-0.07756844,0.011268439,-0.11400993,-0.04280195,-0.0073061436,-0.273296,-0.0025830623,0.055161435,0.014354525,-0.21130016,-0.14726275,-0.11061703,-0.42756164,0.15850009,0.18033189,-0.0625298,-0.011154922,-0.0078096706,0.019267071,0.11928945,-0.08046983,-0.012414549,0.1303587,0.006205924,0.066719554,0.03501023,-0.04227843,0.07753983,0.01350867,0.015933365,-0.07759054,0.017480487,-0.1806773,0.016239088,-0.17083883,0.19152862,-0.013752438,0.037338395,-0.099585064,0.17928617,-0.031084668,0.10503817,0.10527658,0.010485813,0.0101386905,-0.37220842,0.026898578,0.12395547,-0.2813481,-0.0028941743,0.08622565,-0.034938343,-0.05578524,0.03911362,-0.062208436,0.03658095,-0.08762136,0.044164203,-0.21420676,0.12054093,-0.12883806,0.009859795,0.03703647,-0.024546077,0.034048736,-0.0057194605,-0.3314492,0.010394221,0.069631755,-0.02890849,0.024798445,-0.20314139,-0.2759647,0.010614954,-0.0075516757,0.08285938,0.13514394,0.024105117,0.2124081,-0.0004229024,0.012956575,0.035855882,-0.24483874,0.12190255,0.09801331,0.00042714458,0.09062441,-0.3523488,-0.28158027,0.008491959,0.023671165,-0.0035053901,-0.0291287,0.1529598,-0.13580073,-0.4071808,0.14144836,0.11658793,0.26727968,0.066952094,-0.05255903,-0.14689307,-0.008926377,0.04214988,-0.02372618,-0.20550922,-0.0884611,0.046548873,-0.36711633,0.21815538,-0.05112765,-0.026942726,-0.2621976,-0.020971604,0.033607744,-0.0750674,0.008911658,0.096331984,-0.006682655,0.013881046,0.026970517,-0.041336235,-0.07590683,0.050160483,0.02259313,0.0006941054,-0.012298189,0.085741475,0.0054962635,-0.060956955,0.034914713,0.024402168,0.033729594,-0.084189646,0.04125849,0.027136188,0.005212553,0.05090523,0.008287923,0.15951887,0.041568823,0.0035336819,-0.015155872,-0.005539911,0.15558656,0.038058046,-0.053778704,-0.038268305,0.008584516,-0.015316235,-0.031910688,-0.01661544,-0.11353301,0.033491086,0.13880488,-0.56948125,-0.10293042,-0.11671994,0.01963367,0.070714496,-0.08860919,-0.021683443,0.03356483,0.032334477,-0.119722955,-0.0043243878,-0.30457962,0.001093315,-0.0010606721,0.18282011,0.15508926,-0.10281707,-0.025510028,0.07611364,0.016400555,0.0039850883,0.07971502,0.023865424,0.14161533,0.015734464,0.06896876,0.0438852,0.1652512,0.016451238,0.16379829,0.0420147,0.05668968,-0.099615574,0.18338887,0.026754238,0.16198805,0.015639206,0.009404816,0.015755247,0.032421883,-0.02806703,0.05045188,-0.0322518,0.066799544,0.04600121,-0.008073997,-0.11160478,-0.16845585,-0.016691534,-0.21627818,-0.051234946,0.02801698,-0.12869354,0.016842183,-0.0060142297,0.1457626,0.082507804,0.01772928,0.19527924,-0.016945157,0.005123496,-0.03610625,0.053368527,0.007574601,0.095656835,0.22533894,-0.027407087,0.2409012,0.1044142,0.18213359,0.019658964,0.07726177,-0.0551314,-0.0071687326,0.01239052,-0.2942828,0.0030464604,0.17702124,-0.05422065,-0.07475345,0.01800278,-0.24494384,0.028840378,0.122182086,0.013601109,0.031455703,0.26365414,-0.02897354,0.036363065,-0.29538324,-0.1843737,0.034420438,-0.10445151,-0.18303171,-0.22999577,0.08430732,0.06892593,-0.041713685,0.19722235,0.21803544,0.007990122,0.17284831,-0.020292405,0.047820684,0.089988455,-0.28990346,0.009941334,0.22079396,0.14805219,-0.26633942,-0.17857713,-0.27508366,0.01758748,-0.11720041,-0.46636534,-0.0059077144,0.19598132,0.005759785,-0.06707278,0.00881006,-0.069217294,0.107391834,0.023502393,-0.015836034,-0.39838684,-0.06911238,-0.0014925562,-0.032308567,0.15646154,-0.04645138,-0.03187294,-0.041658603,-0.0245504,-0.12958106,0.028165055,0.06757161,-0.01987058,0.2130385,0.039079294,0.029775307,-0.044494685,0.06127164,0.024696622,-0.05646074,0.03324338,0.00007977337,0.0154592935,0.0121095255,0.056895617,0.012173062,0.06404579,0.027981762,0.01221215,0.031779572,0.053811945,-0.09478977,-0.0073011927,-0.10966794,0.111745104,0.14813076,-0.14271519,0.0043402463,0.19263035,0.06301223,0.107655086,0.05859823,-0.4377323,0.031205084,0.07416998,0.11696839,0.035126988,-0.060507774,-0.027814753,0.14199057,-0.31174386,0.16948357,0.025871512,0.014524579,-0.02625161,-0.12268017,-0.00042724982,0.12325221,-0.053953134,-0.035262838,0.10497318,0.20403758,0.04243442,0.12255211,0.050352257,0.0015459694,0.19326063,-0.028516198,-0.3384621,0.005605085,0.10984999,0.09366151,0.042449024,0.021183984,-0.17687769,-0.12807992,-0.08386271,0.0873189,0.026866559,0.010514358,0.18609366,-0.14881766,-0.18322676,0.0064085126,0.07658667,-0.043405026,0.035510994,0.11703591,-0.06727253,0.12852362,-0.026202463,0.06269441,-0.00069971196,0.000011458993,0.111185506,0.008232726,0.14171332,0.022340328,-0.13026349,0.0406581,-0.023524392,0.16582122,0.24075225,0.015069833,-0.058573708,0.01620094,0.04214802,-0.003645938,0.16891424,0.034456503,0.037356175,0.0073769493,0.01921851,0.08859543,0.06609847,-0.048121292,0.03531764,0.1392739,-0.0066997614,-0.022007603,-0.04148251,-0.029654773,0.108418286,0.17041487,0.012349175,0.02353296,0.016258966,0.019610642,0.16865112,-0.049699463,-0.011693116,-0.04379846,0.0055703595,0.045554902,-0.02104276,0.14301388,0.11246133,0.0016747564,-0.0145998,-0.13082281,0.1288008,0.013267098,-0.012801305,0.047091577,0.02452676,0.13749687,-0.010265008,0.021869935,-0.011898304,0.041521654,0.0015114583,0.086587936,-0.035450317,-0.0041751377,0.065500125,0.07200798,-0.02188769,0.029451516,0.16700284,0.1935998,0.011897577,0.13254242,-0.05907249,0.10837856,-0.43142065,0.16898996,0.027263895,0.09462937,0.25387022,0.1311644,-0.092276424,0.13251016,-0.0016837604,-0.43693,-0.051450886,0.10717376,-0.01940331,0.1086972,0.031343374,-0.01609062,0.017449219,0.16388126,0.015096765,0.18967351,0.07784051,0.12556028,0.1648137,-0.41817984,-0.026486717,0.031113781,-0.12878929,0.15999709,0.12461847,0.033995427,0.019038426,-0.011437431,-0.02278578,0.022243477,0.10166867,-0.057541814,0.06684502,0.07625273,-0.056127444,-0.008862826,-0.0010591727,-0.017402008,0.16947094,0.005700145,0.03314391,-0.102057934,-0.08312602,0.086286,0.16217723,-0.31879145,-0.009353325,0.10814683,0.08831108,-0.07823127,0.0071223807,0.16521955,-0.050155528,-0.14894238,0.14338595,0.0013855472,0.10590841,-0.20874085,-0.3088447,-0.008400116,0.37267706,-0.09369458,-0.2518471,0.069767654,0.07690946,-0.06759427,-0.065680385,0.04728748,0.00310928,0.10980364,0.023045711,0.028376449,0.15474567,0.032485053,-0.031369954,-0.010237183,0.023949437,0.072758354,-0.005976692,0.12157615,0.05773397,0.10203077,-0.09937022,-0.235377,-0.29422122,0.0038020741,0.04024683,0.0323615,0.010921566,0.0029550996,-0.05232612,-0.21958138,0.027162796,0.020148285,0.02378815,0.11991619,-0.11669746,0.09793088,-0.045214407,0.09256828,-0.1498971,-0.007715828,0.11551227,0.03183291,-0.06139411,0.03167763,-0.21329293,-0.1658713,0.037348114,0.05249141,-0.083078794,-0.1895064,0.23573023,-0.16442095,-0.0556237,0.17340878,0.0010776985,0.03531587,-0.07191999,0.07654601,-0.005008869,0.1661318,0.020069294,0.091009766,-0.0484113,-0.062409677,0.012654314,-0.2316041,0.041207843,0.14494058,-0.013136651,-0.019847903,0.031586707,0.11235061,-0.0073061436,-0.1361399,0.087453775,-0.038575258,0.00074231625,0.0046899095,0.17900607,0.018768195,0.15516807,0.15252963,-0.13919443,0.07883136,-0.37383106,-0.061044864,-0.32331324,-0.04931028,0.17417663,-0.07240264,-0.058119744,-0.064348534,0.10865618,-0.02000953,0.017664915,-0.024967346,-0.0107871,0.15488225,-0.016555008,-0.041970953,0.11111654,-0.3594262,0.015599966,0.120649956,-0.020419423,-0.024690554,0.02407119,0.19281814,-0.078559294,-0.020701861,0.11616096,0.008165518,0.018334378,0.21236235,0.02634351,0.002407765,-0.026614513,-0.04753206,-0.070903674,-0.0156404,-0.098122396,-0.03731919,0.08674909,0.0060689915,0.04737687,-0.10693331,0.12103157,-0.07419161,-0.14030918,0.16458611,0.02936902,-0.61752695,0.015980452,0.10681553,0.10996173,0.23159167,-0.01751259,0.11752298,-0.022132248,-0.004136903,0.019778807,-0.11108423,0.029589243,-0.0037567168,0.11192451,-0.016522892,-0.053870343,-0.012546465,-0.26339597,0.062685944,0.056902565,0.045703012,0.035093844,0.037145577,0.14355725,-0.34261128,0.03333255,0.022715084,0.037097517,0.063354515,0.16988574,0.046360493,0.13994133,-0.037830643,-0.028537631,0.006831413,-0.031050218,-0.058307644,0.05998439,0.00171105,0.046365328,-0.21763855,0.02081462,-0.019421566,-0.035921693,0.0012188274,0.0123593565,-0.047750123,0.15487966,-0.24668562,-0.005305726,-0.023237824,0.10772488,0.0050387383,-0.018152088,0.029036567,0.05878431,0.038090676,0.076969005,0.20588389,-0.0073810034,-0.08053553,0.012839375,-0.012682093,-0.02586079,-0.023439009,0.012757532,0.12934285,0.12042269,-0.3214016,0.019953147,0.019374546,0.031117372,-0.012388013,-0.058745034,0.015854735,0.11286573,0.21237881,-0.21369654,0.02007078,0.06046083,-0.18165635,-0.0024166983,-0.27885932,-0.029451868,0.07970906,0.00021289289,0.020796286,0.065623656,-0.004560072,-0.11142777,0.0000574328,0.0075478293,0.04593507,0.010374226,-0.02575197,0.000962073,0.18140194,-0.0027956478,-0.010476571,0.00382635,-0.05568612,-0.08970518,0.13874921,0.15581441,-0.00932551,-0.05280099,-0.076339066,0.0032917392,-0.41963887,-0.0800725,0.026240714,0.014410585,-0.03923356,-0.035853997,0.052471735,-0.12187719,0.008858703,0.07538049,0.05277449,-0.3511169,0.05364283,-0.63195705,0.014710596,-0.12649581,0.14402929,0.037749186,-0.0017711613,0.030450752,0.011162329,0.031168956,0.04905796,0.098493055,-0.0077460147,-0.023784492,0.028368413,0.10683756,-0.02904426,0.23494133,0.041570492,0.17811412,0.055224825,-0.03889355,0.076711535,0.12902218,-0.1558893,-0.0009361147,0.11642398,-0.09474726,-0.016680045,-0.01869308,-0.04629171,0.107764214,0.11426228,-0.07816242,0.022793148,0.109405175,-0.06625727,-0.04612591,0.044134974,-0.035178028,0.022846354,-0.10795809,0.024302335,-0.021185305,-0.25218815,0.09728394,-0.034756258,0.007023476,0.115860075,0.07620318,-0.07615636,-0.17148183,0.16911465,0.024751993,-0.25994837,0.030188207,0.015432684,-0.25094834,0.094568335,0.0021703932,-0.0046712896,-0.14412257,0.17719753,-0.07089806,0.011497606,0.024282943,0.007848617,0.06897643,-0.028107524,0.022890095,-0.29571593,0.05970082,0.14648293,0.0032646433,-0.018888133,0.03510307,0.058969587,0.1698694,0.009369459,0.13946913,-0.026066469,0.015300546,0.22582369,0.017519325,0.10060547,0.12253234,-0.026968643,-0.31362423,0.133723,0.02935512,0.064601004,0.053065218,0.032575235,0.010280559,0.14155929,0.04010134,0.22498475,-0.0012174547,0.022406783,-0.049941707,-0.042579927,-0.26982248,0.15314506,-0.013790367,0.048498556,-0.005540654,-0.29175234,0.013687311,-0.08480288,-0.2422238,0.17025949,0.0040705204,-0.054215685,-0.03326955,-0.026623223,0.03990501,0.017706076,0.06779642,-0.35677826,0.07973358,-0.0872081,-0.26973915,-0.19610997,-0.045772467,0.20806035,-0.061907537,-0.33230016,0.16068786,0.015564792,0.18255591,0.14290194,0.121455036,-0.024073035,0.017887205,0.006522564,0.20342362,-0.096735954,-0.13606858,0.050255228,-0.11224155,-0.2029508,-0.04998763,-0.17724343,-0.2066831,0.106114,-0.4203794,0.010195255,-0.025602523,-0.011305524,0.018529648,-0.1481936,-0.49637425,-0.0073061436,-0.022455659,0.018708318,-0.051159218,0.044724427,0.2271324,-0.017310832,-0.28357434,-0.28017628,-0.1493124,-0.29294825,-0.0063276514,0.05596627,0.0606657,0.32553238,0.022480372,-0.2143861,-0.15039527,0.040707916,0.055138413,0.014725657,-0.11146156,-0.5404524,-0.23352769,-0.061431512,-0.078487076,-0.024373373,-0.0016607158,-0.009417575,-0.03768271,0.028075889,0.0010714531,0.011101373,0.15667748,0.030340917,-0.083049655,0.02744484,-0.09360018,-0.016508063,-0.026662461,-0.30695003,0.018825673,-0.0960457,-0.0053702053,-0.09962836,-0.38268262,0.00083650276,0.015740566,-0.040027604,0.060592245,0.007060811,0.12106237,0.027334025,0.14844851,-0.0070248507,-0.081069626,-0.067835554,0.027757429,0.014528824,0.0032742023,-0.16078147,0.01723558,-0.0040267166,-0.04226918,0.09423089,0.12507166,0.28652084,0.05468796,0.1439475,0.010200713,-0.052598756,-0.020398052,0.044397872,-0.02772737,-0.0029064007,-0.019842137,-0.045215964,0.01598293,-0.06714098,0.084134504,0.020157032,0.09080267,-0.014996754,0.11313844,0.16400445,-0.0024933275,0.14238678,0.0185056,0.16364358,0.17664334,0.13081491,-0.26521897,0.01519011,0.019039739,-0.057951156,0.20567721,-0.4483505,0.053265255,0.15098579,0.017549597,0.08203282,0.14465113,-0.037386402,-0.263754,-0.035521872,0.023525737,-0.0132947285,0.09241666,-0.004846517,0.14239866,-0.07776447,0.013790272,0.0060428046,0.0033802725,0.013123613,-0.020243106,-0.029796237,0.007768836,0.11290188,-0.43673995,0.1093243,0.23386723,0.00006389804,0.03526964,0.24785307,-0.033540003,0.12767573,0.10634577,0.031149603,0.00016622618,0.07317777,-0.030531242,0.014840731,0.04123192,0.08709751,-0.05709976,0.0508164,0.038134832,0.10433978,0.043826833,0.10725824,-0.2288948,0.094941154,-0.073816285,0.02130803,-0.14412487,0.035098676,0.12627962,0.015488084,-0.03398211,-0.42345852,0.0048945397,0.0015078485,-0.090805344,-0.020045755,0.016520955,-0.025456876,-0.04948419,0.11780505,0.091175646,0.21767604,-0.016141167,0.024237584,0.097021304,0.024396613,0.025817664,-0.33813393,0.17967416,0.118316926,-0.024278216,-0.11219884,0.07140856,0.15715298,0.22620864,-0.0032109423,-0.026478652,0.21201527,0.0011813305,0.17775041,0.11437836,0.033436444,-0.11290423,-0.00094101205,-0.004192335,-0.11169098,0.25930843,0.045992367,0.019629046,0.07573906,0.0011141449,0.039153066,0.04612906,-0.0030766148,-0.22826067,-0.046795815,-0.01971097,-0.2617695,-0.029597556,-0.008033004,-0.052010562,0.06284402,-0.033293813,-0.18567833,-0.099293366,0.011214849,0.03345821,-0.18143551,0.017698761,0.14094529,-0.011118406,-0.0041955966,0.10793404,0.048431713,0.042615067,0.017208224,0.038298894,-0.06755462,-0.05487617,0.017146692,0.027140532,0.07172168,0.1567021,0.1853966,0.06897423,0.014175676,0.11392748,-0.015926413,0.037981454,0.20745924,-0.0073061436,0.020237634,0.027245285,-0.047083378,0.017188866,0.16794765,-0.104135886,-0.0042627957,-0.0036416352,0.06396539,0.01136734,0.02584121,-0.0562246,0.0434642,-0.19911242,0.015783556,0.1600554,0.158692,0.04633317,0.0007081628,0.1918025,0.020125432,0.04200875,0.08349766,0.022614913,0.013496857,0.04491676,0.22002947,-0.050444104,-0.07256744,0.045974296,0.024000766,0.04752119,0.030138524,0.015849251,0.0029871743,0.043477897,-0.00072058383,0.039297193,-0.42084438,-0.01383169,0.033062406,0.08297867,-0.019158602,-0.048261918,-0.13516614,0.10011957,-0.53739655,0.013876574,-0.06961428,-0.018978186,0.006463281,0.13191703,0.042881303,-0.017162906,-0.078025356,-0.09816255,-0.014607668,0.03044079,0.045982216,-0.011178479,0.06733943,-0.026700199,0.006389031,-0.07010824,0.10486966,0.026408544,0.112894714,0.068971984,0.20314725,0.0013390174,-0.0014393553,-0.29723352,0.010329526,0.06263408,-0.08830915,-0.0072611272,0.09619201,0.044271346,0.09404539,0.045941927,0.008352429,0.21428217,0.0034998115,0.16001028,-0.2846883,-0.19433674,0.12517287,-0.111212954,0.114016995,0.04258439,0.10581976,-0.0031882226,0.04345169,0.20253918,-0.047222994,0.04548938,0.012935996,-0.02069521,0.005988069,0.028742097,0.01138434,-0.031221015,-0.1478459,-0.03536507,-0.112628326,-0.013828524,-0.29215285,-0.2973182,-0.049029067,-0.121908456,0.11183869,-0.21075788,-0.019797217,0.054461986,-0.27434883,-0.017084554,-0.019642115,0.14253485,-0.022247296,0.04514784,-0.022924647,-0.0022578835,-0.056164183,0.017489066,0.012588351,-0.10654181,0.12748246,0.16726263,-0.002328368,0.00015913136,0.051693186,0.00909806,0.10271991,0.02121804,-0.116453536,0.011184752,0.019336035,0.036153324,-0.03843946,-0.14372247,0.087703206,0.17103599,0.04916088,0.019718438,-0.023503106,0.022723347,-0.04698451,-0.022599733,-0.013018809,0.042012516,0.010240672,0.020015491,-0.0120188,0.107703105,0.010204941,0.12564372,0.117167555,-0.032774374,0.028036652,0.016250417,-0.0056759194,0.19347012,0.12905811,0.1072642,0.020693878,-0.009251174,-0.04636737,0.021054387,-0.067132376,0.1686734,0.09915565,0.03875349,-0.11516215,-0.007451482,0.12830529,0.07171525,0.087402984,-0.15932634,0.028947724,0.031540316,-0.017245438,-0.056941874,0.048003234,0.01610047,0.045846682,0.09594648,-0.059970584,-0.00619372,0.015368363,0.023719948,0.024632344,0.1341971,0.030471869,0.14818302,-0.025834836,-0.028087154,-0.03885825,-0.021542251,0.04184682,-0.12406878,-0.040232114,-0.010876505,-0.044377647,-0.0016543865,0.1855504,-0.025526531,0.17455332,0.146835,-0.13944066,0.04830116,-0.06125897,-0.09173983,-0.2600254,0.19220196,-0.046333123,-0.03569339,-0.15040001,0.23034066,0.023230482,0.06396867,0.07782943,0.067266025,0.03353176,-0.04607846,0.047782414,0.038770784,-0.06544747,0.012807108,0.014072996,0.0128249405,-0.00057201646,0.017830336,-0.3315994,0.19937468,0.010842852,-0.07004571,-0.030928839,0.13285407,-0.019075185,0.05748555,0.026715979,-0.4594984,-0.0030851923,-0.22206807,-0.3256886,-0.44119126,0.09704225,0.013104901,-0.03976646,0.004509572,-0.009547681,-0.011823666,0.18851644,-0.2445071,0.007033836,0.021131117,-0.049107928,0.07531924,-0.054392822,-0.3334092,0.1684222,0.060382143,-0.015678417,0.15442225,0.01608866,0.118630305,0.022858473,0.19114071,-0.029027004,0.17954938,-0.056879766,0.17690758,0.002922006,-0.021084141,0.008321254,0.1691715,-0.0083649885,0.0067850836,0.0019479021,0.0418518,0.16757415,-0.032954715,0.08050461,-0.22391668,0.034377642,0.018454527,-0.004606001,-0.090332985,-0.02389998,0.0067339875,-0.040992446,0.2300204,0.08786016,0.23449822,-0.31095004,0.0149406865,0.021262877,-0.037634775,-0.21788022,0.06751969,0.020317204,0.06698676,0.16790071,0.05553881,-0.061408993,-0.10659674,0.008111792,0.057685602,-0.27940482,0.14712685,-0.02521779,0.093015954,0.009019364,0.13188225,-0.3356083,0.18276507,-0.08711325,0.017821684,-0.35033166,-0.008349901,-0.048743848,0.12174589,-0.08515327,0.004726408,-0.0066492874,-0.25099424,0.008228902,-0.17422721,-0.39580625,0.033649646,-0.26347277,-0.05059565,0.002964355,0.004669994,-0.34011462,-0.041097064,0.04733471,-0.014417347,0.08222026,0.027061574,0.22698557,0.040578194,-0.10446324,0.012473308,0.15602742,-0.045121957,-0.022901297,0.13183735,0.0071269963,0.017814724,0.07931492,0.038141254,0.04408267,0.020285264,0.16653302,0.0033777775,-0.06666277,-0.01880711,-0.00732119,0.023928534,0.030895013,-0.01788621,-0.013210615,0.062402394,0.04427529,-0.059981722,-0.024400432,-0.37341416,0.13119026,-0.0043088943,-0.15632042,0.19079478,-0.06937617,0.06142711,-0.36426762,0.023434006,-0.19185501,0.2402108,0.17059314,-0.07801708,0.0006622374,0.0059947576,-0.111332536,0.19332358,0.012985839,0.08654823,0.19024132,-0.1702901,-0.47373474,-0.00142253,0.10194973,-0.25896323,-0.034898445,-0.07451922,0.15160584,-0.1657387,0.02384828,-0.009170702,0.018671967,0.017505556,-0.14853428,0.25894022,0.029073343,0.0028542485,-0.13388409,0.027352795,-0.02541049,-0.037709247,0.010050541,0.06435067,0.20474859,0.22704884,0.0030905213,-0.23319662,-0.039760254,0.002111815,0.16031256,-0.010315785,0.100525886,0.118974686,-0.06194999,0.17048603,-0.08176872,0.008009307,0.043828726,0.08700524,-0.015869167,-0.21003681,0.017109118,-0.042571846,-0.3230692,0.19678727,-0.1264251,-0.34030306,0.034183346,-0.00093475357,-0.1993137,-0.035978027,-0.06646092,0.033101123,0.1870515,-0.00607189,0.0042692274,0.11348769,0.1092094,-0.010187189,0.026716404,0.035016447,0.02850734,0.00016890094,0.0015001036,0.00042147562,0.0425638,-0.024677156,-0.13139053,0.056291692,0.1858177,0.12906992,0.16771963,-0.0056029093,-0.024559809,-0.08042751,0.07065283,-0.0108649,0.01650336,0.03099606,0.009721702,-0.07870036,0.07303999,-0.33832943,0.027678654,0.033415694,0.06131933,-0.32474113,-0.13291454,-0.44285345,0.003706228,-0.032993816,-0.036176477,0.034687594,0.0494574,0.027381763,-0.023621045,0.07961683,-0.0856077,-0.007427126,-0.07115492,0.016796796,-0.1483241,-0.058392975,0.14505404,0.05456049,0.03333494,-0.016086996,-0.20708817,0.036562793,-0.18402779,-0.027042648,-0.334858,0.15799552,0.10247603,0.04522654,-0.124870315,-0.19389957,0.07173115,0.18437375,-0.13979757,0.08011976,-0.0066075753,-0.0022496749,-0.18988699,-0.18484059,-0.23808347,0.04656541,0.020367973,0.022151677,0.12890108,0.14358896,-0.21006906,0.16933534,0.029849287,-0.09869112,-0.009604171,0.067236975,-0.036105722,-0.06624872,0.047681272,-0.029455505,0.11503692,0.024493907,-0.2032706,0.03723526,0.028538488,-0.042149395,0.010659177,-0.018582558,0.18370542,-0.07657113,-0.24966556,0.06589496,0.024137093,-0.14990892,-0.03997234,-0.003018994,-0.12830181,-0.012577954,0.07080104,-0.13923681,-0.012799357,-0.21117273,-0.05829335,0.09214562,-0.105232544,0.1634478,0.010556346,-0.06948403,0.1401972,0.041344564,0.026281917,0.21212888,0.023205647,-0.081508964,-0.009949379,0.019620163,0.09169448,0.025087167,-0.10344074,0.07808132,0.100136355,0.05709193,-0.014111143,-0.05006996,-0.13094486,0.01687968,-0.068822235,0.22672908,-0.36703894,0.01104877,-0.053155445,0.18071972,0.08921991,-0.322814,0.038111318,-0.32437935,-0.0042268224,0.025620783,-0.27855235,-0.39002323,0.08999955,-0.12612984,0.035684183,-0.041640252,0.045001917,0.06168674,-0.0062355828,-0.0018626936,0.15539171,0.023273528,0.032169618,0.1784961,0.11791071,0.19173187,0.12175007,-0.3270018,-0.0018251445,0.0693035,-0.074241996,0.09260282,0.021228332,-0.2281324,-0.044957917,-0.037855413,0.09246602,0.034267936,-0.00068625435,0.16295189,0.04212481,-0.10486674,-0.036799397,0.035825174,0.006446868,0.009407679,-0.020542279,-0.005611077,-0.005202355,-0.18111011,0.019777518,-0.0004682932,0.021862194,-0.25784484,0.0029411167,-0.004889098,-0.20009601,0.029810444,-0.23181924,0.0019748472,-0.072469965,0.017389476,-0.10521537,-0.11414229,0.18357447,0.07851677,0.00455462,0.12934144,-0.043022525,0.027935266,0.14039923,0.044877212,0.026856758,0.104040064,0.12492566,0.03411205,0.015005313,0.14294307,-0.009409407,0.21151474,-0.16264474,-0.021816628,-0.38930503,-0.06856508,0.0007525068,0.028987985,0.0001601465,0.1056185,-0.12298629,0.2177737,0.13603526,-0.0096589215,0.15639928,-0.07719715,-0.008266677,0.008748071,0.023345696,0.18481378,0.0065573826,0.08999339,0.09521058,0.0016499292,0.13274814,0.03020976,0.109213784,-0.01877412,0.017816918,0.009950755,0.007074237,0.040567897,-0.028447533,-0.017982172,-0.16866106,0.006139435,0.04253452,0.027301114,-0.25847924,-0.08798563,0.00024754368,0.12659143,0.01840388,0.007183885,-0.012544725,0.115201145,0.021161273,-0.096759394,-0.33860686,-0.22389445,0.16169392,0.02441638,0.0069640484,0.035954487,0.08048807,0.0026496314,0.05160834,-0.0027220491,0.011849515,-0.002062263,-0.13195047,0.097041644,0.018796314,-0.04272525,-0.027663449,0.20972729,0.10727123,-0.12728646,0.12145095,0.00043091178,-0.27632505,-0.050727047,0.056659702,0.105745934,0.051863514,-0.0027684793,0.0076120924,0.018770203,-0.17414322,-0.08422752,0.01772689,0.020837732,0.21958852,0.09507447,-0.03945232,-0.25878614,0.14082134,-0.27129322,0.121062845,0.05343084,-0.3036338,0.07144964,0.038173787,-0.015859,0.17708993,0.12270476,0.022475474,-0.10557645,-0.005024601,0.05513358,0.011115657,-0.44254804,-0.010063924,0.114023626,-0.14422157,0.060578376,-0.11248602,0.013242424,0.056536302,0.03105605,-0.0192983,0.11317903,0.0009852648,-0.023969881,0.039734147,0.09471233,0.0070827827,-0.074474,-0.090052694,0.21658765,0.016796768,0.14256616,-0.0464425,-0.012980529,0.019790528,-0.1882084,0.21965879,0.03524559,-0.047176503,0.035307545,0.031060107,-0.04953669,0.047434118,-0.033230446,-0.15202254,0.028109249,0.1813099,-0.51322854,0.13357164,0.033267435,0.002725741,0.001015801,0.04226522,0.21836129,0.10327862,0.21692282,0.018977337,0.12492566,-0.018181138,0.17796288,0.0025922097,0.12704384,-0.020686053,-0.002143519,-0.28021628,0.014945671,0.050952572,0.17315146,0.0046706125,0.097992264,-0.41053843,0.11173591,-0.28415534,0.09576201,0.00029543787,-0.009857316,0.06189406,-0.0010116547,-0.04433036,0.17608231,-0.076842405,0.20569783,0.009607324,0.016703168,0.06352186,0.12732932,0.031183641,-0.0051837824,-0.09134733,-0.29210657,-0.06542908,-0.3551065,0.11775756,-0.035608146,0.023961417,-0.07634819,-0.094756946,0.100700125,-0.17006695,0.23485756,0.008125203,-0.04233385,-0.033941552,0.076586686,0.04361129,0.15736836,-0.0022170823,-0.012267606,0.02360332,0.17145044,-0.21154428,-0.0034287479,0.05784663,0.24064937,0.0062808804,-0.06904197,0.020209745,0.11922613,-0.09612885,0.117513925,0.04342494,-0.10304125,-0.0055046193,0.063287765,-0.3270741,0.15396664,-0.4073155,0.004271021,0.08781083,0.065726504,-0.12058912,0.23903793,-0.25841105,0.16037744,0.2382248,0.0516629,0.021617785,-0.0008684918,-0.3172508,0.028677477,0.013401959,0.1878626,-0.09012645,-0.0065901456,0.14151502,-0.48241162,-0.06314291,0.06947426,0.00075924397,0.09761898,0.13386981,-0.15010819,-0.0017561,-0.17937426,0.02451697,0.02893839,0.0721922,0.06635107,0.19598864,0.13647406,-0.0008201115,0.1916403,-0.0077850297,0.17039154,-0.113691494,0.12820332,-0.019151501,0.03439898,0.01875167,0.014758442,-0.008768614,0.04906463,0.008578379,-0.28742442,0.052321415,0.17386122,-0.098948054,-0.049539372,-0.26390246,-0.17703772,0.15958723,0.060716096,0.028641481,0.10786896,-0.0580172,-0.11953512,-0.34484112,0.042832937,-0.31872582,0.065130085,-0.0063406415,-0.036545,0.11508346,-0.3620809,0.17052594,0.059925046,-0.004539784,-0.07240199,-0.22395176,-0.0104204565,0.053449713,0.020754851,0.15031685,0.009007275,-0.047133453,0.059886355,0.025745038,-0.034902744,-0.025884565,0.025397776,0.037528805,0.016988741,0.06767443,-0.033140633,-0.005362943,0.04543559,0.0007450916,0.036494236,-0.0088724755,0.014165327,-0.098794594,-0.045410927,0.16608778,-0.21306314,-0.018945627,0.13960668,0.002266869,-0.02577322,0.07301544,-0.039861232,0.058749374,0.17107639,-0.040523298,0.003038792,-0.017098464,0.11203193,0.16561797,0.19935954,-0.045746226,0.059022367,-0.0013377406,-0.035850525,0.18679866,-0.17035753,0.035093125,-0.0059261527,-0.0032334067,0.11220389,0.0424823,0.12802257,0.03838362,-0.3075028,0.020700123,0.07949959,0.027378142,0.22565609,-0.28037512,0.17718118,-0.04258013,-0.0016983226,-0.5259315,0.017255358,0.046669647,0.018944513,-0.29484278,-0.008614976,0.042279635,-0.04920495,-0.010250838,0.008912928,-0.26479137,-0.017971795,0.00019275583,0.0615929,-0.36190385,-0.013246708,0.055512346,-0.018779662,0.0062344186,0.17894267,-0.08092526,0.06964974,0.038956262,0.09521338,-0.09242779,0.025975207,0.048140977,0.12893595,-0.25632316,0.032649852,-0.038383257,0.045897633,-0.13791394,0.08417092,0.18414435,0.048784837,0.16493979,0.1285192,-0.016307501,-0.010526106,-0.057826303,0.013183812,0.13513361,0.10660024,-0.0029454548,0.013943501,-0.028321724,-0.0115267765,0.11494985,0.16294286,0.18170086,-0.016994275,0.08626506,-0.038463958,0.039693642,-0.18686035,0.0060625095,0.22720143,0.14605755,0.03256293,0.013073586,-0.06544176,0.18791911,0.009797081,-0.024187531,-0.27404588,-0.06214424,0.060778264,0.16858585,-0.025431331,0.13614315,-0.08391642,0.029086376,0.09112801,-0.018240398,-0.16239145,0.19994621,-0.027910545,-0.012855295,0.05912242,-0.122824475,-0.22380263,0.034449257,0.045099095,-0.004425874,0.17271584,0.14086233,-0.005360758,-0.04557586,0.06967156,0.114898674,0.027106099,0.11229702,-0.002242608,0.105085716,0.05825593,0.021293366,-0.0047348626,0.01169667,0.14318778,0.13879904,0.035619978,0.09656301,-0.20643157,-0.12932242,0.13680848,-0.19630595,0.016698327,0.10129339,0.1230939,-0.05361446,-0.015538849,-0.032920346,0.0017623566,-0.054448057,0.13976547,0.0038225986,0.07349635,-0.038139082,0.11028888,0.07397761,-0.048512496,-0.023182739,0.17617273,-0.0073061436,-0.061329044,-0.013977471,0.068639934,0.023809608,-0.31885225,-0.0051514283,0.13578951,-0.043417245,0.027768997,0.0018021502,0.0084613,0.033819146,-0.044194914,0.012763223,0.029858124,-0.09025161,0.11454251,-0.012857659,-0.035484903,-0.31912076,0.022398857,-0.35157505,-0.120784745,0.115792334,-0.24915515,-0.12237325,0.1042251,-0.014228687,0.14281787,-0.005085895,-0.16028115,-0.40377575,-0.034662813,-0.0039954893,0.06134973,0.020326776,0.01548362,0.0350517,0.033008054,0.044805214,0.047429092,-0.3261065,-0.19692978,-0.10565412,0.055873543,0.08364324,0.22319795,-0.3538267,0.024336264,0.18833055,0.12291543,0.010527831,0.0691435,0.2725348,-0.023128822,0.03757131,0.111191764,0.013384735,0.24094087,0.032896765,-0.19736686,-0.008783393,0.1395536,0.060618713,-0.31983536,0.021248912,0.06260935,0.0474992,-0.1238796,-0.034982987,0.01113872,0.007841058,-0.4336647,-0.31933767,0.046856467,-0.03625808,0.034427032,-0.044098884,-0.09328728,0.050396413,0.019805647,0.028453145,0.0052663684,0.113715604,0.026006892,0.014617927,-0.029502377,0.03534439,-0.053926364,0.05805137,0.02473296,0.0063632634,-0.06259971,0.027971208,-0.0406832,-0.053125165,-0.11988111,0.19645904,0.023341551,0.15183963,-0.045694694,0.16035944,0.031307865,-0.28619468,-0.068928346,0.012697207,-0.15135425,-0.13710082,-0.05604319,0.11033738,-0.011280041,-0.11957274,0.08042215,0.17013255,-0.39443824,-0.23102984,0.12318625,0.063075945,-0.032829348,0.045457453,-0.0022261515,0.12133829,0.028755343,-0.016769042,0.004545603,0.08395299,0.03496702,-0.24257123,-0.021821056,0.17564389,0.103304975,-0.11390267,0.15864334,-0.16572197,0.19423269,-0.08108272,0.0053910427,-0.009640157,0.19065589,-0.020146333,0.17373863,0.0069577415,0.2103001,-0.17372191,0.03083495,0.06477235,0.0076087266,0.13771075,0.25285846,0.024883581,-0.07669532,0.1298364,0.04073109,0.11043556,-0.23232219,-0.12677886,-0.035058837,-0.013991572,-0.12638517,0.11155186,0.16537115,0.113572635,-0.011013966,0.09184316,0.21262424,-0.049335733,-0.026142813,0.004565999,0.06614579,-0.0013370886,-0.002460841,0.030375522,-0.07014928,-0.30846447,-0.45880497,0.068394974,-0.05867283,0.031144388,0.038672984,-0.009425732,-0.005285168,-0.06014884,0.06504202,-0.040471636,0.19214177,-0.022164155,0.027310979,-0.026932523,0.14145246,0.19539124,0.054248117,-0.06314977,0.01195382,0.0367816,0.02386573,0.1197329,-0.35046983,0.050994005,0.078674115,0.013667377,-0.015465591,0.1984141,0.16341141,-0.0073061436,-0.028171703,-0.016117055,-0.1784409,0.005935531,0.120339796,-0.12431155,-0.3083921,0.023104914,0.12805331,-0.003774383,0.02860691,0.108682044,-0.28585747,0.11439397,0.016223006,-0.069262326,-0.1894755,-0.060921375,-0.031708926,0.20213646,0.03874159,0.105514474,-0.008487187,-0.15645078,0.042232595,-0.016085206,0.011273621,0.1591278,0.039024387,0.030044798,0.02817058,0.004920887,0.039823048,-0.3333032,0.012775164,-0.036187965,0.2567068,0.0398994,0.07863229,-0.06327219,0.014972873,0.032643765,0.15841497,0.087166786,0.08383905,0.009351848,0.028694373,0.0039120764,0.06752135,-0.18561663,0.0361667,0.0359568,0.046883885,0.009657785,-0.43592033,0.14207247,0.13865912,0.00817445,-0.14178091,0.09943344,-0.0932199,0.0000074245036,0.0026334152,0.02778101,0.10849963,-0.11288817,-0.04025366,-0.149912,0.021031456,0.0066222884,0.044809982,-0.0046080817,0.13956624,-0.12802629,0.04330043,-0.030157428,0.19618425,-0.06292102,0.040934645,-0.0048652664,0.11865357,-0.066904604,-0.044905998,0.10626392,-0.093684986,-0.30296615,0.006094817,0.2329955,-0.12518007,-0.029749073,-0.3291465,0.19270544,-0.04986663,-0.0030895714,0.011958439,0.11754771,-0.07340473,-0.013441451,0.115835786,-0.12514994,0.0717555,-0.031271026,-0.15644729,0.016818486,0.030922424,0.019422514,-0.013354253,-0.047372565,-0.040588852,-0.15456618,0.041118324,0.052372266,-0.00047625974,0.07777418,0.0023505893,-0.058723412,0.047745984,0.12575209,0.014162328,-0.29803905,0.029299146,0.026695218,0.1431053,0.051055886,0.081447095,-0.20865378,0.14776663,-0.015475586,-0.35996127,0.022097193,0.0041148867,0.06362885,0.15144698,0.047811277,0.017097833,0.091095045,-0.022276271,-0.014294327,-0.05879699,-0.060790822,-0.18639237,0.00014204532,-0.008806005,0.15624422,0.09352988,-0.037107684,0.174146,0.01650613,-0.0030828267,0.0747162,-0.07111414,-0.036049873,-0.020209132,-0.08565038,0.05353225,0.054034244,0.007731648,0.010805635,-0.06896931,0.17185648,0.060493555,0.047822848,0.08506107,0.16797754,0.10647645,-0.2991623,0.010028692,0.14843233,0.20420718,-0.055530433,0.042698093,-0.10285545,-0.08753833,0.10428592,-0.13366835,0.002060514,-0.18531269,-0.10135274,-0.063883744,0.04379507,0.12070486,-0.023508523,-0.011381814,-0.096619755,0.03232366,-0.02401189,-0.19952378,0.1003648,0.029900614,0.114393175,0.17913097,0.06326626,0.010403896,-0.26001728,-0.023270778,-0.23560128,-0.2984648,-0.29552433,0.14643931,0.052072946,0.043601114,0.018603258,0.15924774,-0.14593771,-0.0050547644,-0.0056237206,0.008548103,-0.00063835457,0.12392691,-0.001845263,0.10793266,-0.3070464,0.021096043,0.017791692,0.13536923,0.09478536,-0.10801965,0.18973383,0.06240143,-0.0894385,-0.07708198,-0.016997507,-0.0073061436,-0.14592999,0.11929737,-0.044482037,-0.024029862,0.009129975,0.21213701,-0.32949573,-0.42271614,-0.01873472,-0.057410978,0.055381283,-0.0801343,0.064402685,0.07695919,0.010996249,0.020405188,0.029275332,-0.088450864,0.10313665,-0.008097326,-0.01009942,-0.2502759,0.13685752,-0.06230688,0.09774295,0.030447636,-0.1197287,0.21709779,-0.0450847,0.14966573,0.0064266734,0.09622511,0.0055922214,0.13460885,-0.012071656,0.07058507,0.12713328,-0.00051709544,-0.08376546,-0.12595385,-0.045505024,-0.28388512,0.043193564,-0.036158085,0.0322123,0.11226323,0.01122481,-0.15659884,-0.08997737,-0.0021591745,-0.014596352,0.01594456,-0.022078784,0.0055623427,0.16404498,0.01406233,-0.0743465,0.044609684,0.062673934,0.09941015,0.07316495,-0.025180684,0.11889404,0.2448557,0.10705626,-0.27697355,-0.05672174,0.020050408,0.15156473,-0.16684012,-0.020872295,0.044149127,0.05931312,0.025285404,-0.1080823,-0.22177543,-0.020736724,0.06891845,-0.02159964,-0.013221658,-0.06090761,0.10037399,0.13597174,0.0022218898,0.033529196,0.14565104,0.08575775,0.13627154,0.10865957,0.1044955,0.005229749,-0.022541907,-0.004225116,-0.37465334,-0.11940471,0.052404083,0.08110216,0.00004118681,-0.27039245,0.0520553,-0.00072903186,0.09740324,0.033698197,-0.012157547,-0.27601042,0.18254425,-0.31746298,0.019953448,-0.078123145,-0.009948328,-0.023556711,0.124467105,-0.05120854,-0.005619703,0.0124283135,-0.11413459,-0.024760215,0.040975623,0.06795622,-0.2550966,0.05067678,0.09496918,-0.17539091,0.0459052,0.0143600125,0.10071069,-0.11213976,-0.0025663208,0.13396701,0.03779255,-0.42054975,0.027485318,-0.020465828,-0.008886017,-0.120983906,-0.03512663,-0.13461274,0.095390275,0.01782908,0.022059787,-0.038421325,0.04525968,-0.3720387,0.003340099,0.11682246,-0.24698646,0.1319802,-0.049015604,0.011764742,0.0746076,0.26068306,-0.18954451,0.14578925,0.009781715,0.052400593,0.15529154,-0.054667898,0.055245005,-0.0075128563,-0.22684689,0.0017845593,0.10650149,0.123772785,-0.013602879,0.031206567,-0.14924444,0.006233655,-0.10120664,0.0360676,0.03592456,0.03845244,-0.119173236,0.103718296,0.03960841,0.015446831,-0.28270012,0.04535161,0.0019945204,0.051631518,-0.013115937,0.12685412,0.021982238,0.02823225,0.19340388,-0.011363968,0.014400195,-0.009254649,0.14761803,-0.0599851,0.11761686,0.08422679,-0.022714948,0.09545439,-0.22747207,-0.04788835,0.08993843,0.06670983,0.0585446,0.18720928,0.069341,-0.010729661,-0.000018965453,0.0059227217,0.044950172,-0.6340614,0.083988264,-0.036652796,0.05403296,-0.029377852,-0.027579904,0.16303903,0.054749705,-0.10823248,0.11431891,0.15623912,-0.0023854524,-0.032809213,0.011336599,-0.052888334,-0.01213121,0.05879549,-0.029663846,-0.48241162,-0.036204435,-0.059276775,-0.023189487,-0.019120686,-0.0073061436,-0.1610725,0.020005342,0.017460426,0.047599174,0.12749206,0.025774725,0.054580573,-0.036201913,-0.051838182,0.2964622,-0.041960403,0.025414746,0.054209366,0.15616547,-0.18382174,0.19614777,0.19664952,-0.08249815,-0.0064674653,-0.12961838,0.018394109,-0.09971126,-0.007218428,0.034846883,0.12961861,0.016942803,0.12467451,0.0039372966,-0.0439494,-0.04887645,-0.019745477,0.024976721,-0.03745991,0.05618564,0.097190574,0.024516452,0.012008343,0.114717394,-0.120158106,0.05944356,-0.045361325,-0.23130935,0.04246803,-0.013141939,0.011707645,0.12607542,0.048742305,-0.19778202,-0.270813,0.0046265647,0.0046814047,-0.011112306,0.11582279,-0.031958245,0.009637646,0.12033756,0.14054883,-0.027189193,0.03656901,0.020870904,0.1497705,0.0037655681,0.004250372,0.11472432,-0.029270507,0.007084584,-0.46796906,-0.043481123,-0.040115405,-0.1506038,-0.0039879717,0.14194047,0.09924736,-0.42068097,-0.07866185,0.017613646,0.07496137,-0.078430794,-0.04479294,0.17228301,0.13640247,-0.0073061436,0.0058761314,0.16837236,0.03404753,-0.002973266,0.25053185,0.024544809,-0.094082385,0.015457317,0.03975784,0.16735531,-0.09108028,-0.1848507,-0.042069264,0.1953038,0.04257223,-0.17623335,0.024774197,-0.30394822,0.03737504,0.021713227,-0.003061965,0.14065045,0.058287524,-0.035929326,0.056103915,-0.24340583,0.00027908757,0.15126993,-0.04164393,0.08827245,0.057990704,-0.110578224,0.004914712,0.019691955,0.0037388243,-0.03952988,-0.006591169,-0.03384108,0.1683104,0.109437466,-0.31533584,0.004735347,0.14042857,-0.041758157,-0.44707733,-0.0037104283,-0.024597432,-0.08365394,-0.087859675,-0.095612526,-0.034709323,0.0969059,0.021886785,0.22786897,0.027722336,0.14329633,-0.013039421,-0.07421689,-0.2279591,0.114393964,-0.017455861,-0.028709084,-0.19745678,0.0018420592,0.027524427,0.13598216,-0.020592147,0.15594877,0.079215676,0.037255473,-0.09159251,-0.6237903,0.01837087,-0.17517507,0.030778568,-0.04134822,0.046576843,-0.034037575,0.11535454,-0.007353388,0.05399564,0.11284916,0.08454855,-0.11425742,-0.472638,0.023747507,0.055568457,-0.41449142,0.013099525,0.078485504,-0.12041919,0.015232086,-0.08598061,-0.15019871,0.15381287,-0.033270486,0.02232337,-0.20901473,0.20039344,-0.097477496,0.12798735,0.044528317,-0.044428356,0.03059199,0.20104402,0.023358282,-0.054792892,0.03505596,0.02438305,-0.06871376,-0.009116568,-0.23530862,0.031403586,0.19696856,-0.044811808,0.03988581,-0.057688385,0.007055506,0.07220191,-0.082660764,0.032908887,-0.015541691,0.0812409,0.12683383,0.21696587,0.0038381442,0.019386321,0.067111604,-0.044817217,0.20983253,0.025871795,0.036453933,-0.11628553,-0.16791774,-0.044907995,-0.030551786,0.018527038,0.17304316,-0.08969335,-0.006172048,0.10187362,0.034351293,0.013077385,-0.31963745,0.0065485425,0.20380428,0.26113814,0.026293937,0.11049635,0.07665649,-0.038063034,-0.026210152,0.010705922,0.08243016,-0.11950857,-0.055008043,0.0039947554,-0.037914243,-0.37446496,0.016133703,0.21262424,0.040331237,0.09748423,-0.026966503,-0.020749021,-0.004901724,0.04897611,0.0024420265,-0.067796566,-0.16548443,0.12756227,0.03114178,-0.15009718,-0.120568484,0.06877049,0.05692219,-0.005954397,0.013138639,-0.07714058,-0.1387257,-0.0777569,0.0088324845,-0.0053363293,0.19209057,0.0012138654,0.08885372,0.09932136,0.0011233091,0.041020636,0.0769035,0.04455249,-0.013830742,0.031416986,-0.076366864,0.028395854,-0.006024573,0.024448289,0.15139423,-0.012897537,-0.00095625594,0.16291785,0.09835194,0.01806558,-0.11261181,-0.10203995,-0.23202705,-0.15110627,-0.0228054,0.010135587,-0.031908847,0.05519892,-0.093661495,-0.03189198,0.03340463,-0.061762404,0.0031788386,0.036292788,0.024473969,0.018209448,-0.051690858,-0.08245733,0.15001786,-0.0072112903,-0.11100733,0.109270155,-0.19433102,0.14115813,-0.03707823,-0.0011146432,0.10548611,-0.033507634,-0.01386914,0.034415,-0.033452608,-0.17644385,0.04332646,0.09983437,-0.12206532,-0.03883422,-0.050783616,0.058403082,0.04447838,-0.11719,-0.04867991,-0.03508359,0.13302445,0.0369868,0.25932673,-0.06965405,0.022040807,0.03233897,-0.15711427,0.009725032,-0.027132122,-0.00396093,0.009948008,-0.25752676,-0.0029827878,-0.06756525,0.14754386,-0.14631337,-0.48176777,-0.044003163,-0.32829362,0.14361098,-0.10374929,0.005773958,0.0068276394,-0.002658246,0.12202988,0.025945764,0.031447604,-0.26026425,-0.16379829,0.15915418,0.08029519,-0.08511113,0.10334661,-0.105940595,0.039840654,-0.006723013,0.09445413,0.028365694,0.060075074,0.11015646,0.060099587,-0.062362976,-0.042839218,0.082993805,-0.057703726,-0.0044494737,-0.02020869,0.023175132,0.06836826,0.03817976,0.030576603,-0.3603391,0.090746745,-0.051127464,-0.013149,0.04356224,0.036484756,0.009806378,0.026887856,0.038155038,0.0062192045,0.037172027,0.020772072,-0.0053751543,-0.02047784,-0.026113149,-0.17865103,0.0060313577,0.11821971,-0.20424405,0.03672944,0.16580445,-0.0014314977,0.21930486,0.021358859,0.16336587,0.0591303,-0.07321666,0.04764384,0.049912456,0.073418826,0.044771943,0.025590837,-0.2671608,0.045573875,0.002759098,0.050383676,-0.0026558302,-0.004380341,0.021490477,-0.051553935,-0.047582485,0.028408483,0.024829803,-0.10626972,0.16581522,-0.047233768,-0.022961358,0.020319864,0.023318075,0.0027538612,0.016821062,-0.13779241,0.03838664,-0.1342916,0.02593866,-0.011179896,0.0026232246,-0.012332186,-0.5601068,-0.22786234,-0.0026300661,-0.39977843,0.03880738,-0.040605653,-0.23470442,-0.026297241,0.10044409,0.015047995,-0.049818564,0.10872927,0.012726961,-0.06353802,-0.3691806,-0.1065232,0.016911887,-0.13331106,-0.29069838,-0.084645964,-0.01519393,0.0806277,-0.12681755,0.08761275,-0.10074872,-0.2165989,0.029089298,0.19621012,0.053647988,-0.012711212,0.097332105,-0.0039689727,0.025236461,0.008978929,0.16469029,0.1113037,0.16598214,-0.072647676,0.20777608,-0.5987562,0.22231486,0.011694897,0.05235619,0.2728935,0.17152748,0.0074770227,-0.0714709,0.13451184,0.15249304,-0.07959427,-0.026557785,-0.2630655,0.02718325,0.031068504,-0.41336027,0.16496891,0.0018074997,0.0031169802,0.10353056,0.047768086,0.005370535,-0.26027942,0.118766636,0.11020725,-0.14373302,0.07440999,-0.1789569,0.24528924,-0.0072254892,-0.11477001,0.032813836,0.20790716,0.017402757,-0.04652961,0.019054068,0.020600408,0.024418833,-0.03274367,0.09978286,0.03501433,0.04446607,-0.006699864,0.1211776,0.17315948,0.0156327,-0.08517865,0.040604882,0.17337573,0.08660557,-0.32401627,-0.00567051,0.12516074,-0.29941347,-0.04413483,-0.020890526,-0.11039056,-0.08783588,0.004713718,0.034997225,0.13724859,0.12843119,-0.03650424,-0.00040392205,-0.104876235,-0.036665104,-0.006759802,0.027474739,-0.010609273,0.17532404,-0.002150556,-0.050412856,0.027241684,-0.33286113,-0.031716805,0.0764887,0.15065202,-0.062296554,-0.11679132,-0.05087574,0.10424433,-0.023102507,0.16009516,0.037562996,-0.0051395316,0.055594224,0.09023529,0.06252737,-0.04204391,-0.05497443,-0.014994799,0.024719115,0.038780414,-0.052386153,-0.14248152,0.028046165,-0.10385649,0.06270507,0.073538214,0.027032524,0.17795183,0.0076452475,0.10984346,0.030266348,-0.12321744,-0.14939386,-0.27173102,0.037221104,0.02412343,0.04751441,0.02005992,-0.059808206,-0.06091793,-0.10117011,-0.2672864,-0.008954119,-0.05350303,0.116134584,0.08598419,-0.13284352,-0.044992495,-0.008821672,0.24060541,-0.2692915,0.18797801,0.08178699,0.00019510835,0.011514217,-0.27837852,-0.11166762,0.17728013,0.040149644,0.14508417,0.11122171,-0.010214521,-0.077587664,0.077273816,0.028757218,-0.018487338,0.008767806,0.01946611,-0.12774059,-0.09345105,0.09257801,0.0253737,0.063060164,-0.4490324,-0.05164064,-0.075819366,-0.03521179,0.036224097,-0.03666366,0.07014422,0.023897626,-0.096845254,-0.1346702,0.043662306,-0.037917085,0.031408444,0.07296251,0.0457067,-0.08002712,0.16005181,0.032224316,-0.030106807,0.020671735,-0.041024737,0.022389006,-0.1610838,-0.018009795,0.12546776,-0.019883666,-0.22443634,0.080678776,-0.007424622,-0.007342335,-0.41106337,0.17137325,-0.1388917,-0.007307766,-0.049663298,0.13329227,-0.040290114,0.009068269,-0.03860756,0.058346383,0.016084163,0.025990594,0.016309422,-0.021788316,-0.50383955,0.037446532,-0.16385126,-0.034989033,0.1519538,0.1705719,0.2691488,0.016203742,0.12183925,-0.0021275692,-0.030053468,0.04459007,-0.117651,-0.036251724,0.040641483,0.15578249,0.123398125,0.0075946506,-0.038026653,0.032686062,-0.020388048,0.1711497,0.1375086,0.047271848,0.023892445,0.124254584,-0.1984476,-0.13968226,0.09670025,-0.06951788,-0.19936875,-0.30354992,0.008722061,-0.0046412107,-0.0015853941,-0.008671582,0.08563085,0.115324676,-0.30501628,-0.012827945,0.10286966,0.012311846,-0.016551878,0.027933862,0.002464829,0.20994723,0.07497206,-0.023761507,-0.029769743,-0.045640454,-0.050946366,-0.2971936,0.015421599,0.005370194,0.068387106,0.13805044,0.015398409,0.073193915,0.08847808,0.021783568,-0.041496493,-0.19895288,0.11281288,-0.13362397,-0.029235002,0.019013206,0.024521284,0.035143346,0.09526569,0.051808044,0.10082486,0.023169648,0.05231921,-0.0065477705,0.01573474,0.14705305,-0.07345676,0.19453005,0.20573989,0.034909777,0.019938705,-0.004489798,-0.26731384,0.08887876,-0.04887836,-0.033436883,-0.090827994,0.030938845,0.04635594,-0.031127747,0.005733013,-0.061856963,0.058308326,0.1678577,0.0022392087,-0.3152157,-0.10039102,0.0017951131,0.0015962515,0.19374041,0.18238683,0.089835905,-0.19088522,0.07888488,0.05779122,0.09027851,0.0113571435,0.07355704,-0.039178077,0.00401254,-0.004052788,0.11761241,0.021007821,0.0027279407,0.18682703,-0.2072119,-0.25087124,0.039415378,-0.20689075,-0.13344944,-0.002414994,-0.013811598,0.015685892,-0.024799174,0.106654435,0.12291921,-0.008849386,0.016659837,0.010102814,0.0068012793,0.029959522,0.09605931,0.24060541,0.21302575,0.086839415,0.13242787,-0.24378389,0.016718984,-0.058090523,0.02816914,0.25389108,0.038547732,0.08673982,0.062712334,-0.028702479,0.023599649,-0.03288577,0.07571345,0.12951699,-0.08849895,0.037708912,0.12661351,-0.016600702,0.00596305,-0.10848024,0.04229851,-0.04234255,0.18914637,-0.17159438,-0.31528667,-0.02169063,-0.0036164932,0.023123626,-0.41973883,-0.00981195,0.08680624,0.012241973,0.09602444,-0.14410415,-0.011996714,0.012318201,0.04981923,0.06375242,0.11350331,-0.37820193,0.09665887,0.01767362,-0.17356871,-0.010237001,-0.02496693,0.073576555,0.026759917,0.20273784,0.008435659,0.06729067,0.18648736,0.14452112,0.04595603,0.02582356,-0.32318404,0.0045600142,0.010619455,-0.043082256,0.10563682,0.025874149,-0.0073061436,-0.08378014,0.08867676,0.015103186,-0.12512442,-0.20932047,0.10548372,-0.30499202,0.010280179,0.02574475,0.02301909,0.031075008,-0.02778254,-0.05968697,0.07460955,-0.069556296,0.04116947,0.21537691,0.028280824,0.14530995,-0.12944265,0.08304019,-0.12725617,-0.16222352,-0.06202969,0.019309362,-0.024162596,0.048799496,0.1038063,0.0970821,-0.024580035,0.013298925,0.03326145,0.0402283,-0.12695435,0.19776782,-0.022304783,-0.016532045,0.10811337,0.1380338,-0.051531333,-0.11947564,-0.03663556,0.05552699,0.005195085,0.22483705,-0.23600832,0.008194778,-0.050170638,0.022211254,0.19368128,0.02841669,-0.12565954,-0.037066303,0.011470061,0.045936946,-0.034561582,-0.08050509,-0.042219937,0.16109824,0.03531751,-0.008033447,0.13054287,-0.076891795,0.12833846,-0.010753967,-0.0050600227,0.1297234,-0.0039297733,0.23791477,0.018583123,0.09084,-0.05666195,-0.1385498,0.06802731,-0.06278458,-0.19233266,0.026294228,-0.0007670708,-0.054331142,0.028816506,0.045303624,-0.1278274,-0.11370428,-0.03887539,0.13094084,0.0141777545,-0.029925905,0.16153236,0.083359554,-0.02130171,-0.023438832,0.08342622,0.15175605,-0.11349223,0.09342057,-0.0016530007,-0.0017668083,-0.037944313,0.12792566,-0.19955666,0.014192633,0.104520865,-0.32925785,0.18483885,0.15602276,0.038236775,0.014989411,0.14417341,0.0021679886,-0.05242405,-0.17147177,0.13082044,-0.0032549798,0.017787948,-0.21527998,-0.053385366,-0.09626622,-0.4697265,0.13978982,-0.045541663,-0.25054315,0.13922235,-0.030586697,0.018917453,0.19959478,0.042881764,-0.047875296,0.017224606,-0.015547524,-0.002782464,-0.007878516,0.10024339,0.017271943,-0.013828192,0.019820753,0.009588579,0.037742253,0.075705245,-0.112651825,0.16712104,-0.052757427,0.20025,0.030541964,-0.11149004,-0.03718596,-0.35951024,0.003077995,0.18631189,0.16481978,-0.000007644296,0.017612215,0.011596682,-0.03779523,0.21343026,0.035745077,0.16385539,-0.050652485,0.0034172144,0.012232032,-0.05538792,-0.030204758,-0.11037315,0.01633656,-0.0645065,-0.40100193,-0.18264636,-0.25688726,-0.023963284,0.037687443,0.043598693,-0.039570287,0.017483361,0.014761493,0.23273303,0.13856485,0.12622002,0.066853434,-0.0066257007,0.061717845,0.06995965,-0.024410103,-0.039403208,0.0027673542,0.14420341,0.11851659,0.17415297,0.08568548,-0.08735217,0.01350653,0.032003753,-0.06984395,0.057076056,0.026952721,0.14213225,-0.01738688,0.08635941,0.06677011,0.038493227,0.052720442,-0.010946156,0.18769026,0.0053276382,0.06468864,0.031149086,0.020041348,-0.25409386,-0.013938099,-0.38399765,-0.14575896,0.012334794,-0.16223526,0.16063854,-0.064333215,0.024585644,0.050033458,-0.12419501,0.0038006082,0.090448014,0.03372529,-0.21173728,0.15020302,-0.050970774,0.0100254975,0.053723846,-0.00030202605,-0.0091081,0.22539476,-0.071413055,0.116015546,0.14302675,-0.0054919887,0.005115507,-0.23752561,-0.15249671,-0.0114873685,-0.23116775,0.038587213,0.1074289,0.11359511,-0.06883897,-0.2254126,0.015012538,-0.1614128,0.13311523,0.14200054,0.13573986,-0.08964393,0.13436851,0.16050921,0.13668352,0.026420133,0.005410515,0.12133458,-0.24888206,-0.3558269,0.1298018,0.033391416,0.053147696,0.042639803,0.009543113,-0.0785127,0.048740156,-0.35779914,0.13228416,0.17754656,0.00854468,-0.07011151,0.051481765,-0.01881352,-0.008725615,0.020730006,0.015255136,-0.07067041,0.027901579,0.054497935,-0.27883965,0.11165273,0.116416425,0.02203811,0.03909083,-0.05621852,0.044260845,0.005887693,-0.12718429,-0.011955708,-0.0066930037,0.1622933,-0.19244084,0.012648217,0.09238319,0.12656744,0.051428873,0.21751529],\"yaxis\":\"y\",\"type\":\"scattergl\"},{\"hovertemplate\":\"Тип=Центр кластера\\u003cbr\\u003eКомпонента 1=%{x}\\u003cbr\\u003eКомпонента 2=%{y}\\u003cextra\\u003e\\u003c\\u002fextra\\u003e\",\"legendgroup\":\"Центр кластера\",\"marker\":{\"color\":\"#EF553B\",\"opacity\":0.7,\"symbol\":\"diamond\"},\"mode\":\"markers\",\"name\":\"Центр кластера\",\"showlegend\":true,\"x\":[0.15933031,-0.2052065],\"xaxis\":\"x\",\"y\":[0.0011610985,-0.00265304],\"yaxis\":\"y\",\"type\":\"scattergl\"}],                        {\"template\":{\"data\":{\"histogram2dcontour\":[{\"type\":\"histogram2dcontour\",\"colorbar\":{\"outlinewidth\":0,\"ticks\":\"\"},\"colorscale\":[[0.0,\"#0d0887\"],[0.1111111111111111,\"#46039f\"],[0.2222222222222222,\"#7201a8\"],[0.3333333333333333,\"#9c179e\"],[0.4444444444444444,\"#bd3786\"],[0.5555555555555556,\"#d8576b\"],[0.6666666666666666,\"#ed7953\"],[0.7777777777777778,\"#fb9f3a\"],[0.8888888888888888,\"#fdca26\"],[1.0,\"#f0f921\"]]}],\"choropleth\":[{\"type\":\"choropleth\",\"colorbar\":{\"outlinewidth\":0,\"ticks\":\"\"}}],\"histogram2d\":[{\"type\":\"histogram2d\",\"colorbar\":{\"outlinewidth\":0,\"ticks\":\"\"},\"colorscale\":[[0.0,\"#0d0887\"],[0.1111111111111111,\"#46039f\"],[0.2222222222222222,\"#7201a8\"],[0.3333333333333333,\"#9c179e\"],[0.4444444444444444,\"#bd3786\"],[0.5555555555555556,\"#d8576b\"],[0.6666666666666666,\"#ed7953\"],[0.7777777777777778,\"#fb9f3a\"],[0.8888888888888888,\"#fdca26\"],[1.0,\"#f0f921\"]]}],\"heatmap\":[{\"type\":\"heatmap\",\"colorbar\":{\"outlinewidth\":0,\"ticks\":\"\"},\"colorscale\":[[0.0,\"#0d0887\"],[0.1111111111111111,\"#46039f\"],[0.2222222222222222,\"#7201a8\"],[0.3333333333333333,\"#9c179e\"],[0.4444444444444444,\"#bd3786\"],[0.5555555555555556,\"#d8576b\"],[0.6666666666666666,\"#ed7953\"],[0.7777777777777778,\"#fb9f3a\"],[0.8888888888888888,\"#fdca26\"],[1.0,\"#f0f921\"]]}],\"heatmapgl\":[{\"type\":\"heatmapgl\",\"colorbar\":{\"outlinewidth\":0,\"ticks\":\"\"},\"colorscale\":[[0.0,\"#0d0887\"],[0.1111111111111111,\"#46039f\"],[0.2222222222222222,\"#7201a8\"],[0.3333333333333333,\"#9c179e\"],[0.4444444444444444,\"#bd3786\"],[0.5555555555555556,\"#d8576b\"],[0.6666666666666666,\"#ed7953\"],[0.7777777777777778,\"#fb9f3a\"],[0.8888888888888888,\"#fdca26\"],[1.0,\"#f0f921\"]]}],\"contourcarpet\":[{\"type\":\"contourcarpet\",\"colorbar\":{\"outlinewidth\":0,\"ticks\":\"\"}}],\"contour\":[{\"type\":\"contour\",\"colorbar\":{\"outlinewidth\":0,\"ticks\":\"\"},\"colorscale\":[[0.0,\"#0d0887\"],[0.1111111111111111,\"#46039f\"],[0.2222222222222222,\"#7201a8\"],[0.3333333333333333,\"#9c179e\"],[0.4444444444444444,\"#bd3786\"],[0.5555555555555556,\"#d8576b\"],[0.6666666666666666,\"#ed7953\"],[0.7777777777777778,\"#fb9f3a\"],[0.8888888888888888,\"#fdca26\"],[1.0,\"#f0f921\"]]}],\"surface\":[{\"type\":\"surface\",\"colorbar\":{\"outlinewidth\":0,\"ticks\":\"\"},\"colorscale\":[[0.0,\"#0d0887\"],[0.1111111111111111,\"#46039f\"],[0.2222222222222222,\"#7201a8\"],[0.3333333333333333,\"#9c179e\"],[0.4444444444444444,\"#bd3786\"],[0.5555555555555556,\"#d8576b\"],[0.6666666666666666,\"#ed7953\"],[0.7777777777777778,\"#fb9f3a\"],[0.8888888888888888,\"#fdca26\"],[1.0,\"#f0f921\"]]}],\"mesh3d\":[{\"type\":\"mesh3d\",\"colorbar\":{\"outlinewidth\":0,\"ticks\":\"\"}}],\"scatter\":[{\"fillpattern\":{\"fillmode\":\"overlay\",\"size\":10,\"solidity\":0.2},\"type\":\"scatter\"}],\"parcoords\":[{\"type\":\"parcoords\",\"line\":{\"colorbar\":{\"outlinewidth\":0,\"ticks\":\"\"}}}],\"scatterpolargl\":[{\"type\":\"scatterpolargl\",\"marker\":{\"colorbar\":{\"outlinewidth\":0,\"ticks\":\"\"}}}],\"bar\":[{\"error_x\":{\"color\":\"#2a3f5f\"},\"error_y\":{\"color\":\"#2a3f5f\"},\"marker\":{\"line\":{\"color\":\"#E5ECF6\",\"width\":0.5},\"pattern\":{\"fillmode\":\"overlay\",\"size\":10,\"solidity\":0.2}},\"type\":\"bar\"}],\"scattergeo\":[{\"type\":\"scattergeo\",\"marker\":{\"colorbar\":{\"outlinewidth\":0,\"ticks\":\"\"}}}],\"scatterpolar\":[{\"type\":\"scatterpolar\",\"marker\":{\"colorbar\":{\"outlinewidth\":0,\"ticks\":\"\"}}}],\"histogram\":[{\"marker\":{\"pattern\":{\"fillmode\":\"overlay\",\"size\":10,\"solidity\":0.2}},\"type\":\"histogram\"}],\"scattergl\":[{\"type\":\"scattergl\",\"marker\":{\"colorbar\":{\"outlinewidth\":0,\"ticks\":\"\"}}}],\"scatter3d\":[{\"type\":\"scatter3d\",\"line\":{\"colorbar\":{\"outlinewidth\":0,\"ticks\":\"\"}},\"marker\":{\"colorbar\":{\"outlinewidth\":0,\"ticks\":\"\"}}}],\"scattermapbox\":[{\"type\":\"scattermapbox\",\"marker\":{\"colorbar\":{\"outlinewidth\":0,\"ticks\":\"\"}}}],\"scatterternary\":[{\"type\":\"scatterternary\",\"marker\":{\"colorbar\":{\"outlinewidth\":0,\"ticks\":\"\"}}}],\"scattercarpet\":[{\"type\":\"scattercarpet\",\"marker\":{\"colorbar\":{\"outlinewidth\":0,\"ticks\":\"\"}}}],\"carpet\":[{\"aaxis\":{\"endlinecolor\":\"#2a3f5f\",\"gridcolor\":\"white\",\"linecolor\":\"white\",\"minorgridcolor\":\"white\",\"startlinecolor\":\"#2a3f5f\"},\"baxis\":{\"endlinecolor\":\"#2a3f5f\",\"gridcolor\":\"white\",\"linecolor\":\"white\",\"minorgridcolor\":\"white\",\"startlinecolor\":\"#2a3f5f\"},\"type\":\"carpet\"}],\"table\":[{\"cells\":{\"fill\":{\"color\":\"#EBF0F8\"},\"line\":{\"color\":\"white\"}},\"header\":{\"fill\":{\"color\":\"#C8D4E3\"},\"line\":{\"color\":\"white\"}},\"type\":\"table\"}],\"barpolar\":[{\"marker\":{\"line\":{\"color\":\"#E5ECF6\",\"width\":0.5},\"pattern\":{\"fillmode\":\"overlay\",\"size\":10,\"solidity\":0.2}},\"type\":\"barpolar\"}],\"pie\":[{\"automargin\":true,\"type\":\"pie\"}]},\"layout\":{\"autotypenumbers\":\"strict\",\"colorway\":[\"#636efa\",\"#EF553B\",\"#00cc96\",\"#ab63fa\",\"#FFA15A\",\"#19d3f3\",\"#FF6692\",\"#B6E880\",\"#FF97FF\",\"#FECB52\"],\"font\":{\"color\":\"#2a3f5f\"},\"hovermode\":\"closest\",\"hoverlabel\":{\"align\":\"left\"},\"paper_bgcolor\":\"white\",\"plot_bgcolor\":\"#E5ECF6\",\"polar\":{\"bgcolor\":\"#E5ECF6\",\"angularaxis\":{\"gridcolor\":\"white\",\"linecolor\":\"white\",\"ticks\":\"\"},\"radialaxis\":{\"gridcolor\":\"white\",\"linecolor\":\"white\",\"ticks\":\"\"}},\"ternary\":{\"bgcolor\":\"#E5ECF6\",\"aaxis\":{\"gridcolor\":\"white\",\"linecolor\":\"white\",\"ticks\":\"\"},\"baxis\":{\"gridcolor\":\"white\",\"linecolor\":\"white\",\"ticks\":\"\"},\"caxis\":{\"gridcolor\":\"white\",\"linecolor\":\"white\",\"ticks\":\"\"}},\"coloraxis\":{\"colorbar\":{\"outlinewidth\":0,\"ticks\":\"\"}},\"colorscale\":{\"sequential\":[[0.0,\"#0d0887\"],[0.1111111111111111,\"#46039f\"],[0.2222222222222222,\"#7201a8\"],[0.3333333333333333,\"#9c179e\"],[0.4444444444444444,\"#bd3786\"],[0.5555555555555556,\"#d8576b\"],[0.6666666666666666,\"#ed7953\"],[0.7777777777777778,\"#fb9f3a\"],[0.8888888888888888,\"#fdca26\"],[1.0,\"#f0f921\"]],\"sequentialminus\":[[0.0,\"#0d0887\"],[0.1111111111111111,\"#46039f\"],[0.2222222222222222,\"#7201a8\"],[0.3333333333333333,\"#9c179e\"],[0.4444444444444444,\"#bd3786\"],[0.5555555555555556,\"#d8576b\"],[0.6666666666666666,\"#ed7953\"],[0.7777777777777778,\"#fb9f3a\"],[0.8888888888888888,\"#fdca26\"],[1.0,\"#f0f921\"]],\"diverging\":[[0,\"#8e0152\"],[0.1,\"#c51b7d\"],[0.2,\"#de77ae\"],[0.3,\"#f1b6da\"],[0.4,\"#fde0ef\"],[0.5,\"#f7f7f7\"],[0.6,\"#e6f5d0\"],[0.7,\"#b8e186\"],[0.8,\"#7fbc41\"],[0.9,\"#4d9221\"],[1,\"#276419\"]]},\"xaxis\":{\"gridcolor\":\"white\",\"linecolor\":\"white\",\"ticks\":\"\",\"title\":{\"standoff\":15},\"zerolinecolor\":\"white\",\"automargin\":true,\"zerolinewidth\":2},\"yaxis\":{\"gridcolor\":\"white\",\"linecolor\":\"white\",\"ticks\":\"\",\"title\":{\"standoff\":15},\"zerolinecolor\":\"white\",\"automargin\":true,\"zerolinewidth\":2},\"scene\":{\"xaxis\":{\"backgroundcolor\":\"#E5ECF6\",\"gridcolor\":\"white\",\"linecolor\":\"white\",\"showbackground\":true,\"ticks\":\"\",\"zerolinecolor\":\"white\",\"gridwidth\":2},\"yaxis\":{\"backgroundcolor\":\"#E5ECF6\",\"gridcolor\":\"white\",\"linecolor\":\"white\",\"showbackground\":true,\"ticks\":\"\",\"zerolinecolor\":\"white\",\"gridwidth\":2},\"zaxis\":{\"backgroundcolor\":\"#E5ECF6\",\"gridcolor\":\"white\",\"linecolor\":\"white\",\"showbackground\":true,\"ticks\":\"\",\"zerolinecolor\":\"white\",\"gridwidth\":2}},\"shapedefaults\":{\"line\":{\"color\":\"#2a3f5f\"}},\"annotationdefaults\":{\"arrowcolor\":\"#2a3f5f\",\"arrowhead\":0,\"arrowwidth\":1},\"geo\":{\"bgcolor\":\"white\",\"landcolor\":\"#E5ECF6\",\"subunitcolor\":\"white\",\"showland\":true,\"showlakes\":true,\"lakecolor\":\"white\"},\"title\":{\"x\":0.05},\"mapbox\":{\"style\":\"light\"}}},\"xaxis\":{\"anchor\":\"y\",\"domain\":[0.0,1.0],\"title\":{\"text\":\"Компонента 1\"}},\"yaxis\":{\"anchor\":\"x\",\"domain\":[0.0,1.0],\"title\":{\"text\":\"Компонента 2\"}},\"legend\":{\"title\":{\"text\":\"Тип\"},\"tracegroupgap\":0},\"title\":{\"text\":\"Кластеризация KMeans на классе настоящих отзывов\"}},                        {\"responsive\": true}                    ).then(function(){\n",
       "                            \n",
       "var gd = document.getElementById('b8d27ff0-331d-4b9d-af02-7d8aaaa3b6ce');\n",
       "var x = new MutationObserver(function (mutations, observer) {{\n",
       "        var display = window.getComputedStyle(gd).display;\n",
       "        if (!display || display === 'none') {{\n",
       "            console.log([gd, 'removed!']);\n",
       "            Plotly.purge(gd);\n",
       "            observer.disconnect();\n",
       "        }}\n",
       "}});\n",
       "\n",
       "// Listen for the removal of the full notebook cells\n",
       "var notebookContainer = gd.closest('#notebook-container');\n",
       "if (notebookContainer) {{\n",
       "    x.observe(notebookContainer, {childList: true});\n",
       "}}\n",
       "\n",
       "// Listen for the clearing of the current output cell\n",
       "var outputEl = gd.closest('.output');\n",
       "if (outputEl) {{\n",
       "    x.observe(outputEl, {childList: true});\n",
       "}}\n",
       "\n",
       "                        })                };                            </script>        </div>\n",
       "</body>\n",
       "</html>"
      ]
     },
     "metadata": {},
     "output_type": "display_data"
    }
   ],
   "source": [
    "from cuml.decomposition import PCA\n",
    "import plotly.express as px\n",
    "n_components = 2\n",
    "pca = PCA(n_components=n_components)\n",
    "\n",
    "x_majority_balanced_reduced = pca.fit_transform(x_majority_resampled)\n",
    "x_majority_balanced_reduced.columns = ['Компонента 1', 'Компонента 2']\n",
    "x_majority_balanced_reduced['Тип'] = 'Точка'\n",
    "\n",
    "centroids_reduced = pca.transform(centroids)\n",
    "df_centroids = cudf.DataFrame(centroids_reduced, columns=['Компонента 1', 'Компонента 2'])\n",
    "df_centroids['Тип'] = 'Центр кластера'  # Тип - центроид\n",
    "\n",
    "df_vis = cudf.concat([x_majority_balanced_reduced, df_centroids])\n",
    "\n",
    "df_vis_pandas = df_vis.to_pandas()\n",
    "\n",
    "# print(type(x_majority_balanced_reduced), type(centroids_reduced))\n",
    "# x_majority_balanced_reduced\n",
    "\n",
    "fig = px.scatter(df_vis_pandas, x=\"Компонента 1\", y=\"Компонента 2\", color=\"Тип\",\n",
    "                 title=\"Кластеризация KMeans на классе настоящих отзывов\",\n",
    "                 labels={\"Компонента 1\": \"Компонента 1\", \"Компонента 2\": \"Компонента 2\"},\n",
    "                 opacity=0.7, symbol=\"Тип\")\n",
    "\n",
    "fig.show()\n",
    "# fig.write_image('Результат выборки с помощью Kmeans YelpNYC.png')\n"
   ]
  },
  {
   "cell_type": "code",
   "execution_count": 30,
   "id": "92838f75",
   "metadata": {
    "execution": {
     "iopub.execute_input": "2025-05-14T11:39:30.156951Z",
     "iopub.status.busy": "2025-05-14T11:39:30.156472Z",
     "iopub.status.idle": "2025-05-14T11:39:30.164313Z",
     "shell.execute_reply": "2025-05-14T11:39:30.163773Z"
    },
    "papermill": {
     "duration": 0.024407,
     "end_time": "2025-05-14T11:39:30.165330",
     "exception": false,
     "start_time": "2025-05-14T11:39:30.140923",
     "status": "completed"
    },
    "tags": []
   },
   "outputs": [
    {
     "data": {
      "text/plain": [
       "(<cupyx.scipy.sparse._csr.csr_matrix at 0x7f4f3152d510>,\n",
       " 53272   -1\n",
       " 53273   -1\n",
       " 53274   -1\n",
       " 53275   -1\n",
       " 53276   -1\n",
       "         ..\n",
       " 61408   -1\n",
       " 61409   -1\n",
       " 61410   -1\n",
       " 61411   -1\n",
       " 61412   -1\n",
       " Name: label, Length: 8141, dtype: int64)"
      ]
     },
     "execution_count": 30,
     "metadata": {},
     "output_type": "execute_result"
    }
   ],
   "source": [
    "X_minority_tfidf, y_minority"
   ]
  },
  {
   "cell_type": "code",
   "execution_count": 31,
   "id": "f632d3f4",
   "metadata": {
    "execution": {
     "iopub.execute_input": "2025-05-14T11:39:30.196049Z",
     "iopub.status.busy": "2025-05-14T11:39:30.195867Z",
     "iopub.status.idle": "2025-05-14T11:39:30.308040Z",
     "shell.execute_reply": "2025-05-14T11:39:30.307498Z"
    },
    "papermill": {
     "duration": 0.128305,
     "end_time": "2025-05-14T11:39:30.309065",
     "exception": false,
     "start_time": "2025-05-14T11:39:30.180760",
     "status": "completed"
    },
    "tags": []
   },
   "outputs": [
    {
     "data": {
      "text/plain": [
       "(            0         1    2    3    4    5    6         7    8         9    \\\n",
       " 42888  0.000000  0.000000  0.0  0.0  0.0  0.0  0.0  0.000000  0.0  0.000000   \n",
       " 50187  0.000000  0.000000  0.0  0.0  0.0  0.0  0.0  0.091975  0.0  0.090957   \n",
       " 27251  0.000000  0.000000  0.0  0.0  0.0  0.0  0.0  0.000000  0.0  0.000000   \n",
       " 9986   0.000000  0.000000  0.0  0.0  0.0  0.0  0.0  0.000000  0.0  0.000000   \n",
       " 27486  0.051053  0.057922  0.0  0.0  0.0  0.0  0.0  0.000000  0.0  0.000000   \n",
       " ...         ...       ...  ...  ...  ...  ...  ...       ...  ...       ...   \n",
       " 47712  0.063817  0.000000  0.0  0.0  0.0  0.0  0.0  0.000000  0.0  0.000000   \n",
       " 41953  0.000000  0.000000  0.0  0.0  0.0  0.0  0.0  0.000000  0.0  0.000000   \n",
       " 7848   0.000000  0.000000  0.0  0.0  0.0  0.0  0.0  0.000000  0.0  0.000000   \n",
       " 28728  0.000000  0.000000  0.0  0.0  0.0  0.0  0.0  0.000000  0.0  0.000000   \n",
       " 11043  0.000000  0.000000  0.0  0.0  0.0  0.0  0.0  0.000000  0.0  0.000000   \n",
       " \n",
       "        ...       990  991  992  993  994       995  996  997  998  999  \n",
       " 42888  ...  0.000000  0.0  0.0  0.0  0.0  0.000000  0.0  0.0  0.0  0.0  \n",
       " 50187  ...  0.000000  0.0  0.0  0.0  0.0  0.137554  0.0  0.0  0.0  0.0  \n",
       " 27251  ...  0.000000  0.0  0.0  0.0  0.0  0.000000  0.0  0.0  0.0  0.0  \n",
       " 9986   ...  0.086077  0.0  0.0  0.0  0.0  0.000000  0.0  0.0  0.0  0.0  \n",
       " 27486  ...  0.000000  0.0  0.0  0.0  0.0  0.000000  0.0  0.0  0.0  0.0  \n",
       " ...    ...       ...  ...  ...  ...  ...       ...  ...  ...  ...  ...  \n",
       " 47712  ...  0.000000  0.0  0.0  0.0  0.0  0.000000  0.0  0.0  0.0  0.0  \n",
       " 41953  ...  0.000000  0.0  0.0  0.0  0.0  0.000000  0.0  0.0  0.0  0.0  \n",
       " 7848   ...  0.000000  0.0  0.0  0.0  0.0  0.000000  0.0  0.0  0.0  0.0  \n",
       " 28728  ...  0.000000  0.0  0.0  0.0  0.0  0.000000  0.0  0.0  0.0  0.0  \n",
       " 11043  ...  0.000000  0.0  0.0  0.0  0.0  0.000000  0.0  0.0  0.0  0.0  \n",
       " \n",
       " [8140 rows x 1000 columns],\n",
       " 42888    1\n",
       " 50187    1\n",
       " 27251    1\n",
       " 9986     1\n",
       " 27486    1\n",
       "         ..\n",
       " 47712    1\n",
       " 41953    1\n",
       " 7848     1\n",
       " 28728    1\n",
       " 11043    1\n",
       " Name: label, Length: 8140, dtype: int64)"
      ]
     },
     "execution_count": 31,
     "metadata": {},
     "output_type": "execute_result"
    }
   ],
   "source": [
    "x_majority_resampled, y_majority_resampled"
   ]
  },
  {
   "cell_type": "code",
   "execution_count": 32,
   "id": "e611677e",
   "metadata": {
    "execution": {
     "iopub.execute_input": "2025-05-14T11:39:30.339378Z",
     "iopub.status.busy": "2025-05-14T11:39:30.339200Z",
     "iopub.status.idle": "2025-05-14T11:39:30.343287Z",
     "shell.execute_reply": "2025-05-14T11:39:30.342783Z"
    },
    "papermill": {
     "duration": 0.020182,
     "end_time": "2025-05-14T11:39:30.344335",
     "exception": false,
     "start_time": "2025-05-14T11:39:30.324153",
     "status": "completed"
    },
    "tags": []
   },
   "outputs": [
    {
     "data": {
      "text/plain": [
       "(cudf.core.dataframe.DataFrame, cupyx.scipy.sparse._csr.csr_matrix)"
      ]
     },
     "execution_count": 32,
     "metadata": {},
     "output_type": "execute_result"
    }
   ],
   "source": [
    "type(x_majority_resampled), type(X_minority_tfidf), "
   ]
  },
  {
   "cell_type": "code",
   "execution_count": 33,
   "id": "ddfb3be0",
   "metadata": {
    "execution": {
     "iopub.execute_input": "2025-05-14T11:39:30.375513Z",
     "iopub.status.busy": "2025-05-14T11:39:30.375340Z",
     "iopub.status.idle": "2025-05-14T11:39:31.110153Z",
     "shell.execute_reply": "2025-05-14T11:39:31.109453Z"
    },
    "papermill": {
     "duration": 0.751934,
     "end_time": "2025-05-14T11:39:31.111553",
     "exception": false,
     "start_time": "2025-05-14T11:39:30.359619",
     "status": "completed"
    },
    "tags": []
   },
   "outputs": [
    {
     "data": {
      "text/html": [
       "<div>\n",
       "<style scoped>\n",
       "    .dataframe tbody tr th:only-of-type {\n",
       "        vertical-align: middle;\n",
       "    }\n",
       "\n",
       "    .dataframe tbody tr th {\n",
       "        vertical-align: top;\n",
       "    }\n",
       "\n",
       "    .dataframe thead th {\n",
       "        text-align: right;\n",
       "    }\n",
       "</style>\n",
       "<table border=\"1\" class=\"dataframe\">\n",
       "  <thead>\n",
       "    <tr style=\"text-align: right;\">\n",
       "      <th></th>\n",
       "      <th>0</th>\n",
       "      <th>1</th>\n",
       "      <th>2</th>\n",
       "      <th>3</th>\n",
       "      <th>4</th>\n",
       "      <th>5</th>\n",
       "      <th>6</th>\n",
       "      <th>7</th>\n",
       "      <th>8</th>\n",
       "      <th>9</th>\n",
       "      <th>...</th>\n",
       "      <th>990</th>\n",
       "      <th>991</th>\n",
       "      <th>992</th>\n",
       "      <th>993</th>\n",
       "      <th>994</th>\n",
       "      <th>995</th>\n",
       "      <th>996</th>\n",
       "      <th>997</th>\n",
       "      <th>998</th>\n",
       "      <th>999</th>\n",
       "    </tr>\n",
       "  </thead>\n",
       "  <tbody>\n",
       "    <tr>\n",
       "      <th>0</th>\n",
       "      <td>0.000000</td>\n",
       "      <td>0.000000</td>\n",
       "      <td>0.0</td>\n",
       "      <td>0.0</td>\n",
       "      <td>0.0</td>\n",
       "      <td>0.0</td>\n",
       "      <td>0.0</td>\n",
       "      <td>0.000000</td>\n",
       "      <td>0.0</td>\n",
       "      <td>0.000000</td>\n",
       "      <td>...</td>\n",
       "      <td>0.000000</td>\n",
       "      <td>0.0</td>\n",
       "      <td>0.0</td>\n",
       "      <td>0.0</td>\n",
       "      <td>0.0</td>\n",
       "      <td>0.000000</td>\n",
       "      <td>0.0</td>\n",
       "      <td>0.0</td>\n",
       "      <td>0.0</td>\n",
       "      <td>0.0</td>\n",
       "    </tr>\n",
       "    <tr>\n",
       "      <th>1</th>\n",
       "      <td>0.000000</td>\n",
       "      <td>0.000000</td>\n",
       "      <td>0.0</td>\n",
       "      <td>0.0</td>\n",
       "      <td>0.0</td>\n",
       "      <td>0.0</td>\n",
       "      <td>0.0</td>\n",
       "      <td>0.091975</td>\n",
       "      <td>0.0</td>\n",
       "      <td>0.090957</td>\n",
       "      <td>...</td>\n",
       "      <td>0.000000</td>\n",
       "      <td>0.0</td>\n",
       "      <td>0.0</td>\n",
       "      <td>0.0</td>\n",
       "      <td>0.0</td>\n",
       "      <td>0.137554</td>\n",
       "      <td>0.0</td>\n",
       "      <td>0.0</td>\n",
       "      <td>0.0</td>\n",
       "      <td>0.0</td>\n",
       "    </tr>\n",
       "    <tr>\n",
       "      <th>2</th>\n",
       "      <td>0.000000</td>\n",
       "      <td>0.000000</td>\n",
       "      <td>0.0</td>\n",
       "      <td>0.0</td>\n",
       "      <td>0.0</td>\n",
       "      <td>0.0</td>\n",
       "      <td>0.0</td>\n",
       "      <td>0.000000</td>\n",
       "      <td>0.0</td>\n",
       "      <td>0.000000</td>\n",
       "      <td>...</td>\n",
       "      <td>0.000000</td>\n",
       "      <td>0.0</td>\n",
       "      <td>0.0</td>\n",
       "      <td>0.0</td>\n",
       "      <td>0.0</td>\n",
       "      <td>0.000000</td>\n",
       "      <td>0.0</td>\n",
       "      <td>0.0</td>\n",
       "      <td>0.0</td>\n",
       "      <td>0.0</td>\n",
       "    </tr>\n",
       "    <tr>\n",
       "      <th>3</th>\n",
       "      <td>0.000000</td>\n",
       "      <td>0.000000</td>\n",
       "      <td>0.0</td>\n",
       "      <td>0.0</td>\n",
       "      <td>0.0</td>\n",
       "      <td>0.0</td>\n",
       "      <td>0.0</td>\n",
       "      <td>0.000000</td>\n",
       "      <td>0.0</td>\n",
       "      <td>0.000000</td>\n",
       "      <td>...</td>\n",
       "      <td>0.086077</td>\n",
       "      <td>0.0</td>\n",
       "      <td>0.0</td>\n",
       "      <td>0.0</td>\n",
       "      <td>0.0</td>\n",
       "      <td>0.000000</td>\n",
       "      <td>0.0</td>\n",
       "      <td>0.0</td>\n",
       "      <td>0.0</td>\n",
       "      <td>0.0</td>\n",
       "    </tr>\n",
       "    <tr>\n",
       "      <th>4</th>\n",
       "      <td>0.051053</td>\n",
       "      <td>0.057922</td>\n",
       "      <td>0.0</td>\n",
       "      <td>0.0</td>\n",
       "      <td>0.0</td>\n",
       "      <td>0.0</td>\n",
       "      <td>0.0</td>\n",
       "      <td>0.000000</td>\n",
       "      <td>0.0</td>\n",
       "      <td>0.000000</td>\n",
       "      <td>...</td>\n",
       "      <td>0.000000</td>\n",
       "      <td>0.0</td>\n",
       "      <td>0.0</td>\n",
       "      <td>0.0</td>\n",
       "      <td>0.0</td>\n",
       "      <td>0.000000</td>\n",
       "      <td>0.0</td>\n",
       "      <td>0.0</td>\n",
       "      <td>0.0</td>\n",
       "      <td>0.0</td>\n",
       "    </tr>\n",
       "    <tr>\n",
       "      <th>...</th>\n",
       "      <td>...</td>\n",
       "      <td>...</td>\n",
       "      <td>...</td>\n",
       "      <td>...</td>\n",
       "      <td>...</td>\n",
       "      <td>...</td>\n",
       "      <td>...</td>\n",
       "      <td>...</td>\n",
       "      <td>...</td>\n",
       "      <td>...</td>\n",
       "      <td>...</td>\n",
       "      <td>...</td>\n",
       "      <td>...</td>\n",
       "      <td>...</td>\n",
       "      <td>...</td>\n",
       "      <td>...</td>\n",
       "      <td>...</td>\n",
       "      <td>...</td>\n",
       "      <td>...</td>\n",
       "      <td>...</td>\n",
       "      <td>...</td>\n",
       "    </tr>\n",
       "    <tr>\n",
       "      <th>16276</th>\n",
       "      <td>0.000000</td>\n",
       "      <td>0.000000</td>\n",
       "      <td>0.0</td>\n",
       "      <td>0.0</td>\n",
       "      <td>0.0</td>\n",
       "      <td>0.0</td>\n",
       "      <td>0.0</td>\n",
       "      <td>0.000000</td>\n",
       "      <td>0.0</td>\n",
       "      <td>0.000000</td>\n",
       "      <td>...</td>\n",
       "      <td>0.000000</td>\n",
       "      <td>0.0</td>\n",
       "      <td>0.0</td>\n",
       "      <td>0.0</td>\n",
       "      <td>0.0</td>\n",
       "      <td>0.000000</td>\n",
       "      <td>0.0</td>\n",
       "      <td>0.0</td>\n",
       "      <td>0.0</td>\n",
       "      <td>0.0</td>\n",
       "    </tr>\n",
       "    <tr>\n",
       "      <th>16277</th>\n",
       "      <td>0.000000</td>\n",
       "      <td>0.000000</td>\n",
       "      <td>0.0</td>\n",
       "      <td>0.0</td>\n",
       "      <td>0.0</td>\n",
       "      <td>0.0</td>\n",
       "      <td>0.0</td>\n",
       "      <td>0.000000</td>\n",
       "      <td>0.0</td>\n",
       "      <td>0.000000</td>\n",
       "      <td>...</td>\n",
       "      <td>0.000000</td>\n",
       "      <td>0.0</td>\n",
       "      <td>0.0</td>\n",
       "      <td>0.0</td>\n",
       "      <td>0.0</td>\n",
       "      <td>0.000000</td>\n",
       "      <td>0.0</td>\n",
       "      <td>0.0</td>\n",
       "      <td>0.0</td>\n",
       "      <td>0.0</td>\n",
       "    </tr>\n",
       "    <tr>\n",
       "      <th>16278</th>\n",
       "      <td>0.000000</td>\n",
       "      <td>0.000000</td>\n",
       "      <td>0.0</td>\n",
       "      <td>0.0</td>\n",
       "      <td>0.0</td>\n",
       "      <td>0.0</td>\n",
       "      <td>0.0</td>\n",
       "      <td>0.000000</td>\n",
       "      <td>0.0</td>\n",
       "      <td>0.000000</td>\n",
       "      <td>...</td>\n",
       "      <td>0.000000</td>\n",
       "      <td>0.0</td>\n",
       "      <td>0.0</td>\n",
       "      <td>0.0</td>\n",
       "      <td>0.0</td>\n",
       "      <td>0.000000</td>\n",
       "      <td>0.0</td>\n",
       "      <td>0.0</td>\n",
       "      <td>0.0</td>\n",
       "      <td>0.0</td>\n",
       "    </tr>\n",
       "    <tr>\n",
       "      <th>16279</th>\n",
       "      <td>0.000000</td>\n",
       "      <td>0.000000</td>\n",
       "      <td>0.0</td>\n",
       "      <td>0.0</td>\n",
       "      <td>0.0</td>\n",
       "      <td>0.0</td>\n",
       "      <td>0.0</td>\n",
       "      <td>0.000000</td>\n",
       "      <td>0.0</td>\n",
       "      <td>0.000000</td>\n",
       "      <td>...</td>\n",
       "      <td>0.000000</td>\n",
       "      <td>0.0</td>\n",
       "      <td>0.0</td>\n",
       "      <td>0.0</td>\n",
       "      <td>0.0</td>\n",
       "      <td>0.000000</td>\n",
       "      <td>0.0</td>\n",
       "      <td>0.0</td>\n",
       "      <td>0.0</td>\n",
       "      <td>0.0</td>\n",
       "    </tr>\n",
       "    <tr>\n",
       "      <th>16280</th>\n",
       "      <td>0.000000</td>\n",
       "      <td>0.000000</td>\n",
       "      <td>0.0</td>\n",
       "      <td>0.0</td>\n",
       "      <td>0.0</td>\n",
       "      <td>0.0</td>\n",
       "      <td>0.0</td>\n",
       "      <td>0.000000</td>\n",
       "      <td>0.0</td>\n",
       "      <td>0.000000</td>\n",
       "      <td>...</td>\n",
       "      <td>0.000000</td>\n",
       "      <td>0.0</td>\n",
       "      <td>0.0</td>\n",
       "      <td>0.0</td>\n",
       "      <td>0.0</td>\n",
       "      <td>0.000000</td>\n",
       "      <td>0.0</td>\n",
       "      <td>0.0</td>\n",
       "      <td>0.0</td>\n",
       "      <td>0.0</td>\n",
       "    </tr>\n",
       "  </tbody>\n",
       "</table>\n",
       "<p>16281 rows × 1000 columns</p>\n",
       "</div>"
      ],
      "text/plain": [
       "            0         1    2    3    4    5    6         7    8         9    \\\n",
       "0      0.000000  0.000000  0.0  0.0  0.0  0.0  0.0  0.000000  0.0  0.000000   \n",
       "1      0.000000  0.000000  0.0  0.0  0.0  0.0  0.0  0.091975  0.0  0.090957   \n",
       "2      0.000000  0.000000  0.0  0.0  0.0  0.0  0.0  0.000000  0.0  0.000000   \n",
       "3      0.000000  0.000000  0.0  0.0  0.0  0.0  0.0  0.000000  0.0  0.000000   \n",
       "4      0.051053  0.057922  0.0  0.0  0.0  0.0  0.0  0.000000  0.0  0.000000   \n",
       "...         ...       ...  ...  ...  ...  ...  ...       ...  ...       ...   \n",
       "16276  0.000000  0.000000  0.0  0.0  0.0  0.0  0.0  0.000000  0.0  0.000000   \n",
       "16277  0.000000  0.000000  0.0  0.0  0.0  0.0  0.0  0.000000  0.0  0.000000   \n",
       "16278  0.000000  0.000000  0.0  0.0  0.0  0.0  0.0  0.000000  0.0  0.000000   \n",
       "16279  0.000000  0.000000  0.0  0.0  0.0  0.0  0.0  0.000000  0.0  0.000000   \n",
       "16280  0.000000  0.000000  0.0  0.0  0.0  0.0  0.0  0.000000  0.0  0.000000   \n",
       "\n",
       "       ...       990  991  992  993  994       995  996  997  998  999  \n",
       "0      ...  0.000000  0.0  0.0  0.0  0.0  0.000000  0.0  0.0  0.0  0.0  \n",
       "1      ...  0.000000  0.0  0.0  0.0  0.0  0.137554  0.0  0.0  0.0  0.0  \n",
       "2      ...  0.000000  0.0  0.0  0.0  0.0  0.000000  0.0  0.0  0.0  0.0  \n",
       "3      ...  0.086077  0.0  0.0  0.0  0.0  0.000000  0.0  0.0  0.0  0.0  \n",
       "4      ...  0.000000  0.0  0.0  0.0  0.0  0.000000  0.0  0.0  0.0  0.0  \n",
       "...    ...       ...  ...  ...  ...  ...       ...  ...  ...  ...  ...  \n",
       "16276  ...  0.000000  0.0  0.0  0.0  0.0  0.000000  0.0  0.0  0.0  0.0  \n",
       "16277  ...  0.000000  0.0  0.0  0.0  0.0  0.000000  0.0  0.0  0.0  0.0  \n",
       "16278  ...  0.000000  0.0  0.0  0.0  0.0  0.000000  0.0  0.0  0.0  0.0  \n",
       "16279  ...  0.000000  0.0  0.0  0.0  0.0  0.000000  0.0  0.0  0.0  0.0  \n",
       "16280  ...  0.000000  0.0  0.0  0.0  0.0  0.000000  0.0  0.0  0.0  0.0  \n",
       "\n",
       "[16281 rows x 1000 columns]"
      ]
     },
     "execution_count": 33,
     "metadata": {},
     "output_type": "execute_result"
    }
   ],
   "source": [
    "\n",
    "x_minority_df = cudf.DataFrame(X_minority_tfidf.todense())\n",
    "# x_minority_df\n",
    "x_balanced = cudf.concat([x_majority_resampled, x_minority_df], axis=0).reset_index().drop(['index'], axis=1)\n",
    "x_balanced"
   ]
  },
  {
   "cell_type": "code",
   "execution_count": 34,
   "id": "5b82c8af",
   "metadata": {
    "execution": {
     "iopub.execute_input": "2025-05-14T11:39:31.148143Z",
     "iopub.status.busy": "2025-05-14T11:39:31.147914Z",
     "iopub.status.idle": "2025-05-14T11:39:31.171629Z",
     "shell.execute_reply": "2025-05-14T11:39:31.170958Z"
    },
    "papermill": {
     "duration": 0.040697,
     "end_time": "2025-05-14T11:39:31.172794",
     "exception": false,
     "start_time": "2025-05-14T11:39:31.132097",
     "status": "completed"
    },
    "tags": []
   },
   "outputs": [
    {
     "name": "stdout",
     "output_type": "stream",
     "text": [
      "<class 'cudf.core.series.Series'> <class 'cudf.core.series.Series'>\n"
     ]
    },
    {
     "data": {
      "text/plain": [
       "42888    1\n",
       "50187    1\n",
       "27251    1\n",
       "9986     1\n",
       "27486    1\n",
       "        ..\n",
       "61408    0\n",
       "61409    0\n",
       "61410    0\n",
       "61411    0\n",
       "61412    0\n",
       "Name: label, Length: 16281, dtype: int64"
      ]
     },
     "execution_count": 34,
     "metadata": {},
     "output_type": "execute_result"
    }
   ],
   "source": [
    "print(type(y_majority_resampled), type(y_minority))\n",
    "len(y_majority_resampled), len(y_minority)\n",
    "\n",
    "y_balanced = cudf.concat([y_majority_resampled, y_minority])\n",
    "y_balanced = y_balanced.replace(-1, 0)\n",
    "y_balanced"
   ]
  },
  {
   "cell_type": "code",
   "execution_count": 35,
   "id": "3aeabfc0",
   "metadata": {
    "execution": {
     "iopub.execute_input": "2025-05-14T11:39:31.205278Z",
     "iopub.status.busy": "2025-05-14T11:39:31.205079Z",
     "iopub.status.idle": "2025-05-14T11:39:31.208157Z",
     "shell.execute_reply": "2025-05-14T11:39:31.207466Z"
    },
    "papermill": {
     "duration": 0.020623,
     "end_time": "2025-05-14T11:39:31.209193",
     "exception": false,
     "start_time": "2025-05-14T11:39:31.188570",
     "status": "completed"
    },
    "tags": []
   },
   "outputs": [],
   "source": [
    "# # Создаем случайные индексы\n",
    "# shuffled_indices = cp.random.permutation(len(x_train_balanced))\n",
    "\n",
    "# # Перемешиваем X и y\n",
    "# x_train_balanced = x_train_balanced.iloc[shuffled_indices.get()].reset_index(drop=True)\n",
    "# y_train_balanced = y_train_balanced.iloc[shuffled_indices.get()].reset_index(drop=True)"
   ]
  },
  {
   "cell_type": "code",
   "execution_count": 36,
   "id": "0e174f6b",
   "metadata": {
    "execution": {
     "iopub.execute_input": "2025-05-14T11:39:31.241433Z",
     "iopub.status.busy": "2025-05-14T11:39:31.241231Z",
     "iopub.status.idle": "2025-05-14T11:39:31.908944Z",
     "shell.execute_reply": "2025-05-14T11:39:31.908178Z"
    },
    "papermill": {
     "duration": 0.685321,
     "end_time": "2025-05-14T11:39:31.910383",
     "exception": false,
     "start_time": "2025-05-14T11:39:31.225062",
     "status": "completed"
    },
    "tags": []
   },
   "outputs": [],
   "source": [
    "from cuml.model_selection import train_test_split\n",
    "\n",
    "x_train_balanced, x_test_balanced, y_train_balanced, y_test_balanced = train_test_split(x_balanced, \n",
    "                                                                                        y_balanced, \n",
    "                                                                                        test_size=0.25,\n",
    "                                                                                       random_state=42)"
   ]
  },
  {
   "cell_type": "code",
   "execution_count": null,
   "id": "17c40a9f",
   "metadata": {
    "papermill": {
     "duration": 0.017093,
     "end_time": "2025-05-14T11:39:31.944115",
     "exception": false,
     "start_time": "2025-05-14T11:39:31.927022",
     "status": "completed"
    },
    "tags": []
   },
   "outputs": [],
   "source": []
  },
  {
   "cell_type": "code",
   "execution_count": 37,
   "id": "8b6b4236",
   "metadata": {
    "execution": {
     "iopub.execute_input": "2025-05-14T11:39:31.975970Z",
     "iopub.status.busy": "2025-05-14T11:39:31.975706Z",
     "iopub.status.idle": "2025-05-14T11:39:31.979757Z",
     "shell.execute_reply": "2025-05-14T11:39:31.979200Z"
    },
    "papermill": {
     "duration": 0.02116,
     "end_time": "2025-05-14T11:39:31.980773",
     "exception": false,
     "start_time": "2025-05-14T11:39:31.959613",
     "status": "completed"
    },
    "tags": []
   },
   "outputs": [
    {
     "name": "stdout",
     "output_type": "stream",
     "text": [
      "размерность тренировочного набора:  (12211, 1000) (12211,)\n",
      "размерность тестового набора:  (4070, 1000) (4070,)\n"
     ]
    }
   ],
   "source": [
    "print('размерность тренировочного набора: ', x_train_balanced.shape, y_train_balanced.shape)\n",
    "print('размерность тестового набора: ', x_test_balanced.shape, y_test_balanced.shape)\n"
   ]
  },
  {
   "cell_type": "code",
   "execution_count": 38,
   "id": "972c5bdd",
   "metadata": {
    "execution": {
     "iopub.execute_input": "2025-05-14T11:39:32.013289Z",
     "iopub.status.busy": "2025-05-14T11:39:32.013107Z",
     "iopub.status.idle": "2025-05-14T11:39:32.021486Z",
     "shell.execute_reply": "2025-05-14T11:39:32.020846Z"
    },
    "papermill": {
     "duration": 0.025814,
     "end_time": "2025-05-14T11:39:32.022485",
     "exception": false,
     "start_time": "2025-05-14T11:39:31.996671",
     "status": "completed"
    },
    "tags": []
   },
   "outputs": [
    {
     "data": {
      "text/plain": [
       "label\n",
       "0    6140\n",
       "1    6071\n",
       "Name: count, dtype: int64"
      ]
     },
     "execution_count": 38,
     "metadata": {},
     "output_type": "execute_result"
    }
   ],
   "source": [
    "y_train_balanced.value_counts()"
   ]
  },
  {
   "cell_type": "code",
   "execution_count": 39,
   "id": "0be17168",
   "metadata": {
    "execution": {
     "iopub.execute_input": "2025-05-14T11:39:32.055168Z",
     "iopub.status.busy": "2025-05-14T11:39:32.054558Z",
     "iopub.status.idle": "2025-05-14T11:39:32.062592Z",
     "shell.execute_reply": "2025-05-14T11:39:32.062081Z"
    },
    "papermill": {
     "duration": 0.025,
     "end_time": "2025-05-14T11:39:32.063636",
     "exception": false,
     "start_time": "2025-05-14T11:39:32.038636",
     "status": "completed"
    },
    "tags": []
   },
   "outputs": [
    {
     "data": {
      "text/plain": [
       "label\n",
       "1    2069\n",
       "0    2001\n",
       "Name: count, dtype: int64"
      ]
     },
     "execution_count": 39,
     "metadata": {},
     "output_type": "execute_result"
    }
   ],
   "source": [
    "y_test_balanced.value_counts()"
   ]
  },
  {
   "cell_type": "code",
   "execution_count": 40,
   "id": "88c78031",
   "metadata": {
    "execution": {
     "iopub.execute_input": "2025-05-14T11:39:32.097012Z",
     "iopub.status.busy": "2025-05-14T11:39:32.096586Z",
     "iopub.status.idle": "2025-05-14T11:39:32.100668Z",
     "shell.execute_reply": "2025-05-14T11:39:32.100173Z"
    },
    "papermill": {
     "duration": 0.022412,
     "end_time": "2025-05-14T11:39:32.101807",
     "exception": false,
     "start_time": "2025-05-14T11:39:32.079395",
     "status": "completed"
    },
    "tags": []
   },
   "outputs": [
    {
     "data": {
      "text/plain": [
       "(cudf.core.dataframe.DataFrame, cudf.core.series.Series)"
      ]
     },
     "execution_count": 40,
     "metadata": {},
     "output_type": "execute_result"
    }
   ],
   "source": [
    "type(x_test_balanced), type(y_test_balanced)"
   ]
  },
  {
   "cell_type": "markdown",
   "id": "b202d89b",
   "metadata": {
    "papermill": {
     "duration": 0.015648,
     "end_time": "2025-05-14T11:39:32.133336",
     "exception": false,
     "start_time": "2025-05-14T11:39:32.117688",
     "status": "completed"
    },
    "tags": []
   },
   "source": [
    "# Модели"
   ]
  },
  {
   "cell_type": "code",
   "execution_count": null,
   "id": "72705cd9",
   "metadata": {
    "papermill": {
     "duration": 0.015672,
     "end_time": "2025-05-14T11:39:32.164716",
     "exception": false,
     "start_time": "2025-05-14T11:39:32.149044",
     "status": "completed"
    },
    "tags": []
   },
   "outputs": [],
   "source": []
  },
  {
   "cell_type": "code",
   "execution_count": 41,
   "id": "755568c8",
   "metadata": {
    "execution": {
     "iopub.execute_input": "2025-05-14T11:39:32.197031Z",
     "iopub.status.busy": "2025-05-14T11:39:32.196637Z",
     "iopub.status.idle": "2025-05-14T11:39:32.201924Z",
     "shell.execute_reply": "2025-05-14T11:39:32.201380Z"
    },
    "papermill": {
     "duration": 0.022472,
     "end_time": "2025-05-14T11:39:32.202953",
     "exception": false,
     "start_time": "2025-05-14T11:39:32.180481",
     "status": "completed"
    },
    "tags": []
   },
   "outputs": [],
   "source": [
    "from cuml import LogisticRegression\n",
    "from cuml.ensemble import RandomForestClassifier\n",
    "from sklearn.model_selection import GridSearchCV\n",
    "import seaborn as sns\n",
    "import matplotlib.pyplot as plt\n",
    "\n",
    "def classification_report(y_test, y_pred):\n",
    "    from sklearn.metrics import classification_report, roc_auc_score\n",
    "    y_test_numpy, y_pred_numpy = cupy.asnumpy(y_test), cupy.asnumpy(y_pred)\n",
    "    print(classification_report(y_test_numpy, y_pred_numpy))\n",
    "    print(f\"AUC: {roc_auc_score(y_test_numpy, y_pred_numpy)}\")\n",
    "\n",
    "def show_confusion_matrix(y_true, y_pred, title_string):\n",
    "    y_true_numpy, y_pred_numpy = cupy.asnumpy(y_true), cupy.asnumpy(y_pred)\n",
    "    conf = confusion_matrix(y_true_numpy, y_pred_numpy)\n",
    "    plt.figure(figsize=(12,12))\n",
    "    plt.title(title_string)\n",
    "    plt.xlabel('Фактические значения')\n",
    "    plt.ylabel('Предсказанные моделью значения')\n",
    "    sns.heatmap(conf, annot=True, fmt='d', linewidths=1)\n",
    "    plt.savefig(title_string+'_confusion_matrix.png')\n",
    "    plt.show()\n",
    "    "
   ]
  },
  {
   "cell_type": "markdown",
   "id": "5280eeca",
   "metadata": {
    "papermill": {
     "duration": 0.015661,
     "end_time": "2025-05-14T11:39:32.234602",
     "exception": false,
     "start_time": "2025-05-14T11:39:32.218941",
     "status": "completed"
    },
    "tags": []
   },
   "source": [
    "## Логистическая регрессия"
   ]
  },
  {
   "cell_type": "code",
   "execution_count": 42,
   "id": "477e8658",
   "metadata": {
    "execution": {
     "iopub.execute_input": "2025-05-14T11:39:32.266600Z",
     "iopub.status.busy": "2025-05-14T11:39:32.266425Z",
     "iopub.status.idle": "2025-05-14T11:39:33.734620Z",
     "shell.execute_reply": "2025-05-14T11:39:33.734008Z"
    },
    "papermill": {
     "duration": 1.485505,
     "end_time": "2025-05-14T11:39:33.735792",
     "exception": false,
     "start_time": "2025-05-14T11:39:32.250287",
     "status": "completed"
    },
    "tags": []
   },
   "outputs": [
    {
     "name": "stdout",
     "output_type": "stream",
     "text": [
      "              precision    recall  f1-score   support\n",
      "\n",
      "           0       0.92      0.89      0.91      2001\n",
      "           1       0.90      0.93      0.91      2069\n",
      "\n",
      "    accuracy                           0.91      4070\n",
      "   macro avg       0.91      0.91      0.91      4070\n",
      "weighted avg       0.91      0.91      0.91      4070\n",
      "\n",
      "AUC: 0.910752453642681\n"
     ]
    },
    {
     "data": {
      "image/png": "[encoded data removed]",
      "text/plain": [
       "<Figure size 1200x1200 with 2 Axes>"
      ]
     },
     "metadata": {},
     "output_type": "display_data"
    }
   ],
   "source": [
    "\n",
    "lr = LogisticRegression()\n",
    "lr.fit(x_train_balanced, y_train_balanced)\n",
    "\n",
    "y_pred = lr.predict(x_test_balanced)\n",
    "classification_report(y_test_balanced, y_pred)\n",
    "show_confusion_matrix(y_test_balanced, y_pred, 'Логистическая регрессия')"
   ]
  },
  {
   "cell_type": "code",
   "execution_count": null,
   "id": "08119022",
   "metadata": {
    "papermill": {
     "duration": 0.015959,
     "end_time": "2025-05-14T11:39:33.769218",
     "exception": false,
     "start_time": "2025-05-14T11:39:33.753259",
     "status": "completed"
    },
    "tags": []
   },
   "outputs": [],
   "source": []
  },
  {
   "cell_type": "code",
   "execution_count": 43,
   "id": "a07ec55d",
   "metadata": {
    "execution": {
     "iopub.execute_input": "2025-05-14T11:39:33.802863Z",
     "iopub.status.busy": "2025-05-14T11:39:33.802471Z",
     "iopub.status.idle": "2025-05-14T11:39:33.806029Z",
     "shell.execute_reply": "2025-05-14T11:39:33.805358Z"
    },
    "papermill": {
     "duration": 0.021395,
     "end_time": "2025-05-14T11:39:33.807050",
     "exception": false,
     "start_time": "2025-05-14T11:39:33.785655",
     "status": "completed"
    },
    "tags": []
   },
   "outputs": [],
   "source": [
    "# param_grid = {\n",
    "#     'C': [0.01, 0.1, 1.0, 10.0, 20.0, 30.0],  \n",
    "#     'tol':[0.0001, 0.001, 0.01, 0.1],\n",
    "#     'penalty': ['l1', 'l2'],                    \n",
    "# }\n",
    "\n",
    "# grid_search = GridSearchCV(\n",
    "#     estimator=cuml.LogisticRegression(),\n",
    "#     param_grid=param_grid,\n",
    "#     scoring='accuracy',           # Метрика для оценки\n",
    "#     cv=5,                         # Количество фолдов для кросс-валидации\n",
    "#     verbose=2,                    # Уровень детализации вывода\n",
    "#     n_jobs=-1                     # Использование всех доступных ядер CPU\n",
    "# )\n",
    "\n",
    "# grid_search.fit(x_train_balanced.to_cupy().get(), y_train_balanced.to_cupy().get())\n",
    "\n",
    "# # Вывод лучших параметров и соответствующей точности\n",
    "# print(\"Лучшие параметры:\", grid_search.best_params_)\n",
    "# print(\"Лучшая точность на кросс-валидации:\", grid_search.best_score_)\n",
    "# best_model = grid_search.best_estimator_\n"
   ]
  },
  {
   "cell_type": "code",
   "execution_count": 44,
   "id": "ac95c8ba",
   "metadata": {
    "execution": {
     "iopub.execute_input": "2025-05-14T11:39:33.841115Z",
     "iopub.status.busy": "2025-05-14T11:39:33.840335Z",
     "iopub.status.idle": "2025-05-14T11:39:33.843862Z",
     "shell.execute_reply": "2025-05-14T11:39:33.843289Z"
    },
    "papermill": {
     "duration": 0.021253,
     "end_time": "2025-05-14T11:39:33.844825",
     "exception": false,
     "start_time": "2025-05-14T11:39:33.823572",
     "status": "completed"
    },
    "tags": []
   },
   "outputs": [],
   "source": [
    "# y_pred = best_model.predict(x_test_balanced)"
   ]
  },
  {
   "cell_type": "code",
   "execution_count": 45,
   "id": "a0582301",
   "metadata": {
    "execution": {
     "iopub.execute_input": "2025-05-14T11:39:33.878022Z",
     "iopub.status.busy": "2025-05-14T11:39:33.877849Z",
     "iopub.status.idle": "2025-05-14T11:39:33.880443Z",
     "shell.execute_reply": "2025-05-14T11:39:33.879943Z"
    },
    "papermill": {
     "duration": 0.020377,
     "end_time": "2025-05-14T11:39:33.881439",
     "exception": false,
     "start_time": "2025-05-14T11:39:33.861062",
     "status": "completed"
    },
    "tags": []
   },
   "outputs": [],
   "source": [
    "# classification_report(y_test_balanced, y_pred)\n",
    "# show_confusion_matrix(y_test_balanced, y_pred, 'LogisticRegression с подбором параметров')"
   ]
  },
  {
   "cell_type": "code",
   "execution_count": 46,
   "id": "41813473",
   "metadata": {
    "execution": {
     "iopub.execute_input": "2025-05-14T11:39:33.915840Z",
     "iopub.status.busy": "2025-05-14T11:39:33.915496Z",
     "iopub.status.idle": "2025-05-14T11:39:33.926034Z",
     "shell.execute_reply": "2025-05-14T11:39:33.925200Z"
    },
    "papermill": {
     "duration": 0.028231,
     "end_time": "2025-05-14T11:39:33.927077",
     "exception": false,
     "start_time": "2025-05-14T11:39:33.898846",
     "status": "completed"
    },
    "tags": []
   },
   "outputs": [
    {
     "name": "stdout",
     "output_type": "stream",
     "text": [
      "\n",
      "    Accuracy:0.9111 \n",
      "    Precision:0.8994\n",
      "    Recall:0.9290\n",
      "    F1: 0.9139\n",
      "    AUC: 0.9108\n",
      "    \n",
      "    \n"
     ]
    }
   ],
   "source": [
    "show_classification_report(y_test_balanced, y_pred)"
   ]
  },
  {
   "cell_type": "markdown",
   "id": "78028927",
   "metadata": {
    "papermill": {
     "duration": 0.016206,
     "end_time": "2025-05-14T11:39:33.959792",
     "exception": false,
     "start_time": "2025-05-14T11:39:33.943586",
     "status": "completed"
    },
    "tags": []
   },
   "source": [
    "## Random Forest"
   ]
  },
  {
   "cell_type": "code",
   "execution_count": null,
   "id": "7e0735e2",
   "metadata": {
    "papermill": {
     "duration": 0.016769,
     "end_time": "2025-05-14T11:39:33.992948",
     "exception": false,
     "start_time": "2025-05-14T11:39:33.976179",
     "status": "completed"
    },
    "tags": []
   },
   "outputs": [],
   "source": []
  },
  {
   "cell_type": "code",
   "execution_count": 47,
   "id": "001c3af7",
   "metadata": {
    "execution": {
     "iopub.execute_input": "2025-05-14T11:39:34.026368Z",
     "iopub.status.busy": "2025-05-14T11:39:34.026158Z",
     "iopub.status.idle": "2025-05-14T11:39:36.025537Z",
     "shell.execute_reply": "2025-05-14T11:39:36.024940Z"
    },
    "papermill": {
     "duration": 2.01751,
     "end_time": "2025-05-14T11:39:36.026709",
     "exception": false,
     "start_time": "2025-05-14T11:39:34.009199",
     "status": "completed"
    },
    "tags": []
   },
   "outputs": [
    {
     "name": "stdout",
     "output_type": "stream",
     "text": [
      "              precision    recall  f1-score   support\n",
      "\n",
      "           0       0.91      0.86      0.88      2001\n",
      "           1       0.87      0.92      0.89      2069\n",
      "\n",
      "    accuracy                           0.89      4070\n",
      "   macro avg       0.89      0.89      0.89      4070\n",
      "weighted avg       0.89      0.89      0.89      4070\n",
      "\n",
      "AUC: 0.8869861830805236\n"
     ]
    },
    {
     "data": {
      "image/png": "[encoded data removed]",
      "text/plain": [
       "<Figure size 1200x1200 with 2 Axes>"
      ]
     },
     "metadata": {},
     "output_type": "display_data"
    }
   ],
   "source": [
    "from cuml.ensemble import RandomForestClassifier \n",
    "\n",
    "rf = RandomForestClassifier()\n",
    "\n",
    "rf.fit(x_train_balanced, y_train_balanced)\n",
    "\n",
    "y_pred = rf.predict(x_test_balanced)\n",
    "classification_report(y_test_balanced, y_pred)\n",
    "show_confusion_matrix(y_test_balanced, y_pred, 'Случайный лес')\n"
   ]
  },
  {
   "cell_type": "code",
   "execution_count": 48,
   "id": "082e0e3a",
   "metadata": {
    "execution": {
     "iopub.execute_input": "2025-05-14T11:39:36.062090Z",
     "iopub.status.busy": "2025-05-14T11:39:36.061856Z",
     "iopub.status.idle": "2025-05-14T11:39:36.072572Z",
     "shell.execute_reply": "2025-05-14T11:39:36.071794Z"
    },
    "papermill": {
     "duration": 0.028989,
     "end_time": "2025-05-14T11:39:36.073592",
     "exception": false,
     "start_time": "2025-05-14T11:39:36.044603",
     "status": "completed"
    },
    "tags": []
   },
   "outputs": [
    {
     "name": "stdout",
     "output_type": "stream",
     "text": [
      "\n",
      "    Accuracy:0.8875 \n",
      "    Precision:0.8697\n",
      "    Recall:0.9159\n",
      "    F1: 0.8922\n",
      "    AUC: 0.8870\n",
      "    \n",
      "    \n"
     ]
    }
   ],
   "source": [
    "show_classification_report(y_test_balanced, y_pred)"
   ]
  },
  {
   "cell_type": "code",
   "execution_count": 49,
   "id": "453790ca",
   "metadata": {
    "execution": {
     "iopub.execute_input": "2025-05-14T11:39:36.108370Z",
     "iopub.status.busy": "2025-05-14T11:39:36.108173Z",
     "iopub.status.idle": "2025-05-14T11:39:36.111293Z",
     "shell.execute_reply": "2025-05-14T11:39:36.110785Z"
    },
    "papermill": {
     "duration": 0.021448,
     "end_time": "2025-05-14T11:39:36.112243",
     "exception": false,
     "start_time": "2025-05-14T11:39:36.090795",
     "status": "completed"
    },
    "tags": []
   },
   "outputs": [],
   "source": [
    "# param_grid = {\n",
    "#     'n_estimators': [100, 150, 250, 300],  \n",
    "#     'split_criterion':[0,1],\n",
    "#     'max_depth': [16, 32, 64],\n",
    "#     'max_leaves':[2,4,8,16,32]\n",
    "# }\n",
    "\n",
    "# grid_search = GridSearchCV(\n",
    "#     estimator=cuml.RandomForestClassifier(),\n",
    "#     param_grid=param_grid,\n",
    "#     scoring='accuracy',           # Метрика для оценки\n",
    "#     cv=3,                         # Количество фолдов для кросс-валидации\n",
    "#     verbose=1,                    # Уровень детализации вывода\n",
    "#     n_jobs=-1                     # Использование всех доступных ядер CPU\n",
    "# )\n",
    "\n",
    "# grid_search.fit(x_train_balanced.to_cupy().get(), y_train_balanced.to_cupy().get())\n",
    "\n",
    "# # Вывод лучших параметров и соответствующей точности\n",
    "# print(\"Лучшие параметры:\", grid_search.best_params_)\n",
    "# print(\"Лучшая точность на кросс-валидации:\", grid_search.best_score_)\n",
    "# best_model = grid_search.best_estimator_"
   ]
  },
  {
   "cell_type": "code",
   "execution_count": 50,
   "id": "7f9716bc",
   "metadata": {
    "execution": {
     "iopub.execute_input": "2025-05-14T11:39:36.149273Z",
     "iopub.status.busy": "2025-05-14T11:39:36.148771Z",
     "iopub.status.idle": "2025-05-14T11:39:36.151752Z",
     "shell.execute_reply": "2025-05-14T11:39:36.151067Z"
    },
    "papermill": {
     "duration": 0.021768,
     "end_time": "2025-05-14T11:39:36.152762",
     "exception": false,
     "start_time": "2025-05-14T11:39:36.130994",
     "status": "completed"
    },
    "tags": []
   },
   "outputs": [],
   "source": [
    "# y_pred = best_model.predict(x_test_balanced)\n",
    "# classification_report(y_test_balanced, y_pred)\n",
    "# show_confusion_matrix(y_test_balanced, y_pred, 'RandomForest')"
   ]
  },
  {
   "cell_type": "markdown",
   "id": "21061acd",
   "metadata": {
    "papermill": {
     "duration": 0.016698,
     "end_time": "2025-05-14T11:39:36.186241",
     "exception": false,
     "start_time": "2025-05-14T11:39:36.169543",
     "status": "completed"
    },
    "tags": []
   },
   "source": [
    "## SVM"
   ]
  },
  {
   "cell_type": "code",
   "execution_count": 51,
   "id": "c09ed881",
   "metadata": {
    "execution": {
     "iopub.execute_input": "2025-05-14T11:39:36.220916Z",
     "iopub.status.busy": "2025-05-14T11:39:36.220591Z",
     "iopub.status.idle": "2025-05-14T11:39:36.766536Z",
     "shell.execute_reply": "2025-05-14T11:39:36.765836Z"
    },
    "papermill": {
     "duration": 0.564449,
     "end_time": "2025-05-14T11:39:36.767648",
     "exception": false,
     "start_time": "2025-05-14T11:39:36.203199",
     "status": "completed"
    },
    "tags": []
   },
   "outputs": [
    {
     "name": "stdout",
     "output_type": "stream",
     "text": [
      "SVM:\n",
      "              precision    recall  f1-score   support\n",
      "\n",
      "           0       0.92      0.90      0.91      2001\n",
      "           1       0.90      0.93      0.92      2069\n",
      "\n",
      "    accuracy                           0.91      4070\n",
      "   macro avg       0.91      0.91      0.91      4070\n",
      "weighted avg       0.91      0.91      0.91      4070\n",
      "\n",
      "AUC: 0.91350929175335\n"
     ]
    },
    {
     "data": {
      "image/png": "[encoded data removed]",
      "text/plain": [
       "<Figure size 1200x1200 with 2 Axes>"
      ]
     },
     "metadata": {},
     "output_type": "display_data"
    }
   ],
   "source": [
    "from cuml.svm import LinearSVC\n",
    "\n",
    "svc = LinearSVC()\n",
    "\n",
    "svc.fit(x_train_balanced.to_cupy(), y_train_balanced.to_cupy())\n",
    "\n",
    "y_pred = svc.predict(x_test_balanced)\n",
    "print('SVM:')\n",
    "classification_report(y_test_balanced, y_pred)\n",
    "show_confusion_matrix(y_test_balanced, y_pred, 'Машина опорных векторов')\n"
   ]
  },
  {
   "cell_type": "code",
   "execution_count": 52,
   "id": "eb264d3e",
   "metadata": {
    "execution": {
     "iopub.execute_input": "2025-05-14T11:39:36.804949Z",
     "iopub.status.busy": "2025-05-14T11:39:36.804446Z",
     "iopub.status.idle": "2025-05-14T11:39:36.815136Z",
     "shell.execute_reply": "2025-05-14T11:39:36.814420Z"
    },
    "papermill": {
     "duration": 0.029678,
     "end_time": "2025-05-14T11:39:36.816205",
     "exception": false,
     "start_time": "2025-05-14T11:39:36.786527",
     "status": "completed"
    },
    "tags": []
   },
   "outputs": [
    {
     "name": "stdout",
     "output_type": "stream",
     "text": [
      "\n",
      "    Accuracy:0.9138 \n",
      "    Precision:0.9044\n",
      "    Recall:0.9285\n",
      "    F1: 0.9163\n",
      "    AUC: 0.9135\n",
      "    \n",
      "    \n"
     ]
    }
   ],
   "source": [
    "show_classification_report(y_test_balanced, y_pred)"
   ]
  },
  {
   "cell_type": "markdown",
   "id": "65f41fb7",
   "metadata": {
    "papermill": {
     "duration": 0.017054,
     "end_time": "2025-05-14T11:39:36.850376",
     "exception": false,
     "start_time": "2025-05-14T11:39:36.833322",
     "status": "completed"
    },
    "tags": []
   },
   "source": [
    "## MBSGDClassifier"
   ]
  },
  {
   "cell_type": "code",
   "execution_count": 53,
   "id": "26ff629d",
   "metadata": {
    "execution": {
     "iopub.execute_input": "2025-05-14T11:39:36.884474Z",
     "iopub.status.busy": "2025-05-14T11:39:36.884287Z",
     "iopub.status.idle": "2025-05-14T11:40:07.920208Z",
     "shell.execute_reply": "2025-05-14T11:40:07.919464Z"
    },
    "papermill": {
     "duration": 31.071221,
     "end_time": "2025-05-14T11:40:07.938262",
     "exception": false,
     "start_time": "2025-05-14T11:39:36.867041",
     "status": "completed"
    },
    "tags": []
   },
   "outputs": [
    {
     "data": {
      "text/html": [
       "<style>#sk-container-id-1 {color: black;background-color: white;}#sk-container-id-1 pre{padding: 0;}#sk-container-id-1 div.sk-toggleable {background-color: white;}#sk-container-id-1 label.sk-toggleable__label {cursor: pointer;display: block;width: 100%;margin-bottom: 0;padding: 0.3em;box-sizing: border-box;text-align: center;}#sk-container-id-1 label.sk-toggleable__label-arrow:before {content: \"▸\";float: left;margin-right: 0.25em;color: #696969;}#sk-container-id-1 label.sk-toggleable__label-arrow:hover:before {color: black;}#sk-container-id-1 div.sk-estimator:hover label.sk-toggleable__label-arrow:before {color: black;}#sk-container-id-1 div.sk-toggleable__content {max-height: 0;max-width: 0;overflow: hidden;text-align: left;background-color: #f0f8ff;}#sk-container-id-1 div.sk-toggleable__content pre {margin: 0.2em;color: black;border-radius: 0.25em;background-color: #f0f8ff;}#sk-container-id-1 input.sk-toggleable__control:checked~div.sk-toggleable__content {max-height: 200px;max-width: 100%;overflow: auto;}#sk-container-id-1 input.sk-toggleable__control:checked~label.sk-toggleable__label-arrow:before {content: \"▾\";}#sk-container-id-1 div.sk-estimator input.sk-toggleable__control:checked~label.sk-toggleable__label {background-color: #d4ebff;}#sk-container-id-1 div.sk-label input.sk-toggleable__control:checked~label.sk-toggleable__label {background-color: #d4ebff;}#sk-container-id-1 input.sk-hidden--visually {border: 0;clip: rect(1px 1px 1px 1px);clip: rect(1px, 1px, 1px, 1px);height: 1px;margin: -1px;overflow: hidden;padding: 0;position: absolute;width: 1px;}#sk-container-id-1 div.sk-estimator {font-family: monospace;background-color: #f0f8ff;border: 1px dotted black;border-radius: 0.25em;box-sizing: border-box;margin-bottom: 0.5em;}#sk-container-id-1 div.sk-estimator:hover {background-color: #d4ebff;}#sk-container-id-1 div.sk-parallel-item::after {content: \"\";width: 100%;border-bottom: 1px solid gray;flex-grow: 1;}#sk-container-id-1 div.sk-label:hover label.sk-toggleable__label {background-color: #d4ebff;}#sk-container-id-1 div.sk-serial::before {content: \"\";position: absolute;border-left: 1px solid gray;box-sizing: border-box;top: 0;bottom: 0;left: 50%;z-index: 0;}#sk-container-id-1 div.sk-serial {display: flex;flex-direction: column;align-items: center;background-color: white;padding-right: 0.2em;padding-left: 0.2em;position: relative;}#sk-container-id-1 div.sk-item {position: relative;z-index: 1;}#sk-container-id-1 div.sk-parallel {display: flex;align-items: stretch;justify-content: center;background-color: white;position: relative;}#sk-container-id-1 div.sk-item::before, #sk-container-id-1 div.sk-parallel-item::before {content: \"\";position: absolute;border-left: 1px solid gray;box-sizing: border-box;top: 0;bottom: 0;left: 50%;z-index: -1;}#sk-container-id-1 div.sk-parallel-item {display: flex;flex-direction: column;z-index: 1;position: relative;background-color: white;}#sk-container-id-1 div.sk-parallel-item:first-child::after {align-self: flex-end;width: 50%;}#sk-container-id-1 div.sk-parallel-item:last-child::after {align-self: flex-start;width: 50%;}#sk-container-id-1 div.sk-parallel-item:only-child::after {width: 0;}#sk-container-id-1 div.sk-dashed-wrapped {border: 1px dashed gray;margin: 0 0.4em 0.5em 0.4em;box-sizing: border-box;padding-bottom: 0.4em;background-color: white;}#sk-container-id-1 div.sk-label label {font-family: monospace;font-weight: bold;display: inline-block;line-height: 1.2em;}#sk-container-id-1 div.sk-label-container {text-align: center;}#sk-container-id-1 div.sk-container {/* jupyter's `normalize.less` sets `[hidden] { display: none; }` but bootstrap.min.css set `[hidden] { display: none !important; }` so we also need the `!important` here to be able to override the default hidden behavior on the sphinx rendered scikit-learn.org. See: https://github.com/scikit-learn/scikit-learn/issues/21755 */display: inline-block !important;position: relative;}#sk-container-id-1 div.sk-text-repr-fallback {display: none;}</style><div id=\"sk-container-id-1\" class=\"sk-top-container\"><div class=\"sk-text-repr-fallback\"><pre>MBSGDClassifier()</pre><b>In a Jupyter environment, please rerun this cell to show the HTML representation or trust the notebook. <br />On GitHub, the HTML representation is unable to render, please try loading this page with nbviewer.org.</b></div><div class=\"sk-container\" hidden><div class=\"sk-item\"><div class=\"sk-estimator sk-toggleable\"><input class=\"sk-toggleable__control sk-hidden--visually\" id=\"sk-estimator-id-1\" type=\"checkbox\" checked><label for=\"sk-estimator-id-1\" class=\"sk-toggleable__label sk-toggleable__label-arrow\">MBSGDClassifier</label><div class=\"sk-toggleable__content\"><pre>MBSGDClassifier()</pre></div></div></div></div></div>"
      ],
      "text/plain": [
       "MBSGDClassifier()"
      ]
     },
     "execution_count": 53,
     "metadata": {},
     "output_type": "execute_result"
    }
   ],
   "source": [
    "from cuml import MBSGDClassifier\n",
    "\n",
    "mbsgd = MBSGDClassifier()\n",
    "\n",
    "mbsgd.fit(x_train_balanced.to_cupy(), y_train_balanced.to_cupy())"
   ]
  },
  {
   "cell_type": "code",
   "execution_count": 54,
   "id": "67ebb503",
   "metadata": {
    "execution": {
     "iopub.execute_input": "2025-05-14T11:40:07.975168Z",
     "iopub.status.busy": "2025-05-14T11:40:07.974940Z",
     "iopub.status.idle": "2025-05-14T11:40:08.375375Z",
     "shell.execute_reply": "2025-05-14T11:40:08.374789Z"
    },
    "papermill": {
     "duration": 0.420381,
     "end_time": "2025-05-14T11:40:08.376519",
     "exception": false,
     "start_time": "2025-05-14T11:40:07.956138",
     "status": "completed"
    },
    "tags": []
   },
   "outputs": [
    {
     "name": "stdout",
     "output_type": "stream",
     "text": [
      "MBSGDClassifier:\n",
      "              precision    recall  f1-score   support\n",
      "\n",
      "           0       0.94      0.86      0.89      2001\n",
      "           1       0.87      0.94      0.91      2069\n",
      "\n",
      "    accuracy                           0.90      4070\n",
      "   macro avg       0.90      0.90      0.90      4070\n",
      "weighted avg       0.90      0.90      0.90      4070\n",
      "\n",
      "AUC: 0.9002694157995917\n"
     ]
    },
    {
     "data": {
      "image/png": "[encoded data removed]",
      "text/plain": [
       "<Figure size 1200x1200 with 2 Axes>"
      ]
     },
     "metadata": {},
     "output_type": "display_data"
    }
   ],
   "source": [
    "y_pred = mbsgd.predict(x_test_balanced)\n",
    "print('MBSGDClassifier:')\n",
    "\n",
    "classification_report(y_test_balanced, y_pred)\n",
    "show_confusion_matrix(y_test_balanced, y_pred, 'Мини-пакетный метод стохастического градиентного спуска')"
   ]
  },
  {
   "cell_type": "code",
   "execution_count": 55,
   "id": "d698adbd",
   "metadata": {
    "execution": {
     "iopub.execute_input": "2025-05-14T11:40:08.412815Z",
     "iopub.status.busy": "2025-05-14T11:40:08.412586Z",
     "iopub.status.idle": "2025-05-14T11:40:08.422371Z",
     "shell.execute_reply": "2025-05-14T11:40:08.421682Z"
    },
    "papermill": {
     "duration": 0.028693,
     "end_time": "2025-05-14T11:40:08.423361",
     "exception": false,
     "start_time": "2025-05-14T11:40:08.394668",
     "status": "completed"
    },
    "tags": []
   },
   "outputs": [
    {
     "name": "stdout",
     "output_type": "stream",
     "text": [
      "\n",
      "    Accuracy:0.9010 \n",
      "    Precision:0.8725\n",
      "    Recall:0.9430\n",
      "    F1: 0.9064\n",
      "    AUC: 0.9003\n",
      "    \n",
      "    \n"
     ]
    }
   ],
   "source": [
    "show_classification_report(y_test_balanced, y_pred)"
   ]
  },
  {
   "cell_type": "markdown",
   "id": "d27b441b",
   "metadata": {
    "papermill": {
     "duration": 0.017178,
     "end_time": "2025-05-14T11:40:08.458166",
     "exception": false,
     "start_time": "2025-05-14T11:40:08.440988",
     "status": "completed"
    },
    "tags": []
   },
   "source": [
    "## Naive Bayes"
   ]
  },
  {
   "cell_type": "code",
   "execution_count": 56,
   "id": "5e51cc3a",
   "metadata": {
    "execution": {
     "iopub.execute_input": "2025-05-14T11:40:08.494264Z",
     "iopub.status.busy": "2025-05-14T11:40:08.494070Z",
     "iopub.status.idle": "2025-05-14T11:40:11.352200Z",
     "shell.execute_reply": "2025-05-14T11:40:11.351476Z"
    },
    "papermill": {
     "duration": 2.877386,
     "end_time": "2025-05-14T11:40:11.353281",
     "exception": false,
     "start_time": "2025-05-14T11:40:08.475895",
     "status": "completed"
    },
    "tags": []
   },
   "outputs": [
    {
     "name": "stdout",
     "output_type": "stream",
     "text": [
      "              precision    recall  f1-score   support\n",
      "\n",
      "           0       0.78      0.82      0.80      2001\n",
      "           1       0.81      0.77      0.79      2069\n",
      "\n",
      "    accuracy                           0.79      4070\n",
      "   macro avg       0.80      0.80      0.79      4070\n",
      "weighted avg       0.80      0.79      0.79      4070\n",
      "\n",
      "AUC: 0.7952223743130851\n"
     ]
    },
    {
     "data": {
      "image/png": "[encoded data removed]",
      "text/plain": [
       "<Figure size 1200x1200 with 2 Axes>"
      ]
     },
     "metadata": {},
     "output_type": "display_data"
    }
   ],
   "source": [
    "from cuml.naive_bayes import ComplementNB\n",
    "\n",
    "nb = ComplementNB()\n",
    "\n",
    "nb.fit(x_train_balanced.to_cupy(), y_train_balanced.to_cupy())\n",
    "y_pred = nb.predict(x_test_balanced.to_cupy())\n",
    "\n",
    "classification_report(y_test_balanced.to_cupy(), y_pred)\n",
    "show_confusion_matrix(y_test_balanced.to_cupy(), y_pred, 'Наивный Байес')"
   ]
  },
  {
   "cell_type": "markdown",
   "id": "9ef948e1",
   "metadata": {
    "papermill": {
     "duration": 0.018209,
     "end_time": "2025-05-14T11:40:11.390706",
     "exception": false,
     "start_time": "2025-05-14T11:40:11.372497",
     "status": "completed"
    },
    "tags": []
   },
   "source": [
    "## KNeighborsClassifier"
   ]
  },
  {
   "cell_type": "code",
   "execution_count": 57,
   "id": "12628d30",
   "metadata": {
    "execution": {
     "iopub.execute_input": "2025-05-14T11:40:11.428514Z",
     "iopub.status.busy": "2025-05-14T11:40:11.427889Z",
     "iopub.status.idle": "2025-05-14T11:40:12.557832Z",
     "shell.execute_reply": "2025-05-14T11:40:12.557094Z"
    },
    "papermill": {
     "duration": 1.149865,
     "end_time": "2025-05-14T11:40:12.558852",
     "exception": false,
     "start_time": "2025-05-14T11:40:11.408987",
     "status": "completed"
    },
    "tags": []
   },
   "outputs": [
    {
     "name": "stdout",
     "output_type": "stream",
     "text": [
      "KNN:\n",
      "              precision    recall  f1-score   support\n",
      "\n",
      "           0       0.75      0.08      0.14      2001\n",
      "           1       0.52      0.97      0.68      2069\n",
      "\n",
      "    accuracy                           0.53      4070\n",
      "   macro avg       0.64      0.53      0.41      4070\n",
      "weighted avg       0.63      0.53      0.42      4070\n",
      "\n",
      "AUC: 0.5269220150678648\n"
     ]
    },
    {
     "data": {
      "image/png": "[encoded data removed]",
      "text/plain": [
       "<Figure size 1200x1200 with 2 Axes>"
      ]
     },
     "metadata": {},
     "output_type": "display_data"
    }
   ],
   "source": [
    "from cuml.neighbors import KNeighborsClassifier\n",
    "\n",
    "knn = KNeighborsClassifier()\n",
    "knn.fit(x_train_balanced.to_cupy(), y_train_balanced.to_cupy())\n",
    "y_pred = knn.predict(x_test_balanced)\n",
    "print('KNN:')\n",
    "\n",
    "classification_report(y_test_balanced, y_pred)\n",
    "show_confusion_matrix(y_test_balanced, y_pred, 'Метод ближайших соседей')"
   ]
  },
  {
   "cell_type": "code",
   "execution_count": 58,
   "id": "3961ef8b",
   "metadata": {
    "execution": {
     "iopub.execute_input": "2025-05-14T11:40:12.598369Z",
     "iopub.status.busy": "2025-05-14T11:40:12.598163Z",
     "iopub.status.idle": "2025-05-14T11:40:12.608132Z",
     "shell.execute_reply": "2025-05-14T11:40:12.607468Z"
    },
    "papermill": {
     "duration": 0.030602,
     "end_time": "2025-05-14T11:40:12.609241",
     "exception": false,
     "start_time": "2025-05-14T11:40:12.578639",
     "status": "completed"
    },
    "tags": []
   },
   "outputs": [
    {
     "name": "stdout",
     "output_type": "stream",
     "text": [
      "\n",
      "    Accuracy:0.5344 \n",
      "    Precision:0.5226\n",
      "    Recall:0.9744\n",
      "    F1: 0.6803\n",
      "    AUC: 0.5269\n",
      "    \n",
      "    \n"
     ]
    }
   ],
   "source": [
    "show_classification_report(y_test_balanced, y_pred)"
   ]
  },
  {
   "cell_type": "markdown",
   "id": "5dbf2523",
   "metadata": {
    "papermill": {
     "duration": 0.020039,
     "end_time": "2025-05-14T11:40:12.649421",
     "exception": false,
     "start_time": "2025-05-14T11:40:12.629382",
     "status": "completed"
    },
    "tags": []
   },
   "source": [
    "## Voting классификатор"
   ]
  },
  {
   "cell_type": "code",
   "execution_count": 59,
   "id": "e5044386",
   "metadata": {
    "execution": {
     "iopub.execute_input": "2025-05-14T11:40:12.689900Z",
     "iopub.status.busy": "2025-05-14T11:40:12.689548Z",
     "iopub.status.idle": "2025-05-14T11:40:12.693249Z",
     "shell.execute_reply": "2025-05-14T11:40:12.692564Z"
    },
    "papermill": {
     "duration": 0.025215,
     "end_time": "2025-05-14T11:40:12.694366",
     "exception": false,
     "start_time": "2025-05-14T11:40:12.669151",
     "status": "completed"
    },
    "tags": []
   },
   "outputs": [],
   "source": [
    "from sklearn.ensemble import VotingClassifier\n",
    "voting_clf = VotingClassifier(\n",
    "    estimators=[\n",
    "        ('lr', lr),\n",
    "        ('rf', rf),\n",
    "        # ('svc', svc),\n",
    "        ('mbsdg', mbsgd),\n",
    "        ('nb', nb),\n",
    "        # ('knn', knn)\n",
    "    ],\n",
    "    voting='hard' \n",
    ")"
   ]
  },
  {
   "cell_type": "code",
   "execution_count": 60,
   "id": "4a6f49e6",
   "metadata": {
    "execution": {
     "iopub.execute_input": "2025-05-14T11:40:12.735538Z",
     "iopub.status.busy": "2025-05-14T11:40:12.734907Z",
     "iopub.status.idle": "2025-05-14T11:40:44.152976Z",
     "shell.execute_reply": "2025-05-14T11:40:44.152279Z"
    },
    "papermill": {
     "duration": 31.460515,
     "end_time": "2025-05-14T11:40:44.175037",
     "exception": false,
     "start_time": "2025-05-14T11:40:12.714522",
     "status": "completed"
    },
    "tags": []
   },
   "outputs": [
    {
     "data": {
      "text/html": [
       "<style>#sk-container-id-2 {color: black;background-color: white;}#sk-container-id-2 pre{padding: 0;}#sk-container-id-2 div.sk-toggleable {background-color: white;}#sk-container-id-2 label.sk-toggleable__label {cursor: pointer;display: block;width: 100%;margin-bottom: 0;padding: 0.3em;box-sizing: border-box;text-align: center;}#sk-container-id-2 label.sk-toggleable__label-arrow:before {content: \"▸\";float: left;margin-right: 0.25em;color: #696969;}#sk-container-id-2 label.sk-toggleable__label-arrow:hover:before {color: black;}#sk-container-id-2 div.sk-estimator:hover label.sk-toggleable__label-arrow:before {color: black;}#sk-container-id-2 div.sk-toggleable__content {max-height: 0;max-width: 0;overflow: hidden;text-align: left;background-color: #f0f8ff;}#sk-container-id-2 div.sk-toggleable__content pre {margin: 0.2em;color: black;border-radius: 0.25em;background-color: #f0f8ff;}#sk-container-id-2 input.sk-toggleable__control:checked~div.sk-toggleable__content {max-height: 200px;max-width: 100%;overflow: auto;}#sk-container-id-2 input.sk-toggleable__control:checked~label.sk-toggleable__label-arrow:before {content: \"▾\";}#sk-container-id-2 div.sk-estimator input.sk-toggleable__control:checked~label.sk-toggleable__label {background-color: #d4ebff;}#sk-container-id-2 div.sk-label input.sk-toggleable__control:checked~label.sk-toggleable__label {background-color: #d4ebff;}#sk-container-id-2 input.sk-hidden--visually {border: 0;clip: rect(1px 1px 1px 1px);clip: rect(1px, 1px, 1px, 1px);height: 1px;margin: -1px;overflow: hidden;padding: 0;position: absolute;width: 1px;}#sk-container-id-2 div.sk-estimator {font-family: monospace;background-color: #f0f8ff;border: 1px dotted black;border-radius: 0.25em;box-sizing: border-box;margin-bottom: 0.5em;}#sk-container-id-2 div.sk-estimator:hover {background-color: #d4ebff;}#sk-container-id-2 div.sk-parallel-item::after {content: \"\";width: 100%;border-bottom: 1px solid gray;flex-grow: 1;}#sk-container-id-2 div.sk-label:hover label.sk-toggleable__label {background-color: #d4ebff;}#sk-container-id-2 div.sk-serial::before {content: \"\";position: absolute;border-left: 1px solid gray;box-sizing: border-box;top: 0;bottom: 0;left: 50%;z-index: 0;}#sk-container-id-2 div.sk-serial {display: flex;flex-direction: column;align-items: center;background-color: white;padding-right: 0.2em;padding-left: 0.2em;position: relative;}#sk-container-id-2 div.sk-item {position: relative;z-index: 1;}#sk-container-id-2 div.sk-parallel {display: flex;align-items: stretch;justify-content: center;background-color: white;position: relative;}#sk-container-id-2 div.sk-item::before, #sk-container-id-2 div.sk-parallel-item::before {content: \"\";position: absolute;border-left: 1px solid gray;box-sizing: border-box;top: 0;bottom: 0;left: 50%;z-index: -1;}#sk-container-id-2 div.sk-parallel-item {display: flex;flex-direction: column;z-index: 1;position: relative;background-color: white;}#sk-container-id-2 div.sk-parallel-item:first-child::after {align-self: flex-end;width: 50%;}#sk-container-id-2 div.sk-parallel-item:last-child::after {align-self: flex-start;width: 50%;}#sk-container-id-2 div.sk-parallel-item:only-child::after {width: 0;}#sk-container-id-2 div.sk-dashed-wrapped {border: 1px dashed gray;margin: 0 0.4em 0.5em 0.4em;box-sizing: border-box;padding-bottom: 0.4em;background-color: white;}#sk-container-id-2 div.sk-label label {font-family: monospace;font-weight: bold;display: inline-block;line-height: 1.2em;}#sk-container-id-2 div.sk-label-container {text-align: center;}#sk-container-id-2 div.sk-container {/* jupyter's `normalize.less` sets `[hidden] { display: none; }` but bootstrap.min.css set `[hidden] { display: none !important; }` so we also need the `!important` here to be able to override the default hidden behavior on the sphinx rendered scikit-learn.org. See: https://github.com/scikit-learn/scikit-learn/issues/21755 */display: inline-block !important;position: relative;}#sk-container-id-2 div.sk-text-repr-fallback {display: none;}</style><div id=\"sk-container-id-2\" class=\"sk-top-container\"><div class=\"sk-text-repr-fallback\"><pre>VotingClassifier(estimators=[(&#x27;lr&#x27;, LogisticRegression()),\n",
       "                             (&#x27;rf&#x27;, RandomForestClassifier()),\n",
       "                             (&#x27;mbsdg&#x27;, MBSGDClassifier()),\n",
       "                             (&#x27;nb&#x27;, ComplementNB())])</pre><b>In a Jupyter environment, please rerun this cell to show the HTML representation or trust the notebook. <br />On GitHub, the HTML representation is unable to render, please try loading this page with nbviewer.org.</b></div><div class=\"sk-container\" hidden><div class=\"sk-item sk-dashed-wrapped\"><div class=\"sk-label-container\"><div class=\"sk-label sk-toggleable\"><input class=\"sk-toggleable__control sk-hidden--visually\" id=\"sk-estimator-id-2\" type=\"checkbox\" ><label for=\"sk-estimator-id-2\" class=\"sk-toggleable__label sk-toggleable__label-arrow\">VotingClassifier</label><div class=\"sk-toggleable__content\"><pre>VotingClassifier(estimators=[(&#x27;lr&#x27;, LogisticRegression()),\n",
       "                             (&#x27;rf&#x27;, RandomForestClassifier()),\n",
       "                             (&#x27;mbsdg&#x27;, MBSGDClassifier()),\n",
       "                             (&#x27;nb&#x27;, ComplementNB())])</pre></div></div></div><div class=\"sk-parallel\"><div class=\"sk-parallel-item\"><div class=\"sk-item\"><div class=\"sk-label-container\"><div class=\"sk-label sk-toggleable\"><label>lr</label></div></div><div class=\"sk-serial\"><div class=\"sk-item\"><div class=\"sk-estimator sk-toggleable\"><input class=\"sk-toggleable__control sk-hidden--visually\" id=\"sk-estimator-id-3\" type=\"checkbox\" ><label for=\"sk-estimator-id-3\" class=\"sk-toggleable__label sk-toggleable__label-arrow\">LogisticRegression</label><div class=\"sk-toggleable__content\"><pre>LogisticRegression()</pre></div></div></div></div></div></div><div class=\"sk-parallel-item\"><div class=\"sk-item\"><div class=\"sk-label-container\"><div class=\"sk-label sk-toggleable\"><label>rf</label></div></div><div class=\"sk-serial\"><div class=\"sk-item\"><div class=\"sk-estimator sk-toggleable\"><input class=\"sk-toggleable__control sk-hidden--visually\" id=\"sk-estimator-id-4\" type=\"checkbox\" ><label for=\"sk-estimator-id-4\" class=\"sk-toggleable__label sk-toggleable__label-arrow\">RandomForestClassifier</label><div class=\"sk-toggleable__content\"><pre>RandomForestClassifier()</pre></div></div></div></div></div></div><div class=\"sk-parallel-item\"><div class=\"sk-item\"><div class=\"sk-label-container\"><div class=\"sk-label sk-toggleable\"><label>mbsdg</label></div></div><div class=\"sk-serial\"><div class=\"sk-item\"><div class=\"sk-estimator sk-toggleable\"><input class=\"sk-toggleable__control sk-hidden--visually\" id=\"sk-estimator-id-5\" type=\"checkbox\" ><label for=\"sk-estimator-id-5\" class=\"sk-toggleable__label sk-toggleable__label-arrow\">MBSGDClassifier</label><div class=\"sk-toggleable__content\"><pre>MBSGDClassifier()</pre></div></div></div></div></div></div><div class=\"sk-parallel-item\"><div class=\"sk-item\"><div class=\"sk-label-container\"><div class=\"sk-label sk-toggleable\"><label>nb</label></div></div><div class=\"sk-serial\"><div class=\"sk-item\"><div class=\"sk-estimator sk-toggleable\"><input class=\"sk-toggleable__control sk-hidden--visually\" id=\"sk-estimator-id-6\" type=\"checkbox\" ><label for=\"sk-estimator-id-6\" class=\"sk-toggleable__label sk-toggleable__label-arrow\">ComplementNB</label><div class=\"sk-toggleable__content\"><pre>ComplementNB()</pre></div></div></div></div></div></div></div></div></div></div>"
      ],
      "text/plain": [
       "VotingClassifier(estimators=[('lr', LogisticRegression()),\n",
       "                             ('rf', RandomForestClassifier()),\n",
       "                             ('mbsdg', MBSGDClassifier()),\n",
       "                             ('nb', ComplementNB())])"
      ]
     },
     "execution_count": 60,
     "metadata": {},
     "output_type": "execute_result"
    }
   ],
   "source": [
    "voting_clf.fit(x_train_balanced.to_cupy().get(), y_train_balanced.to_cupy().get())"
   ]
  },
  {
   "cell_type": "code",
   "execution_count": 61,
   "id": "6a13ad14",
   "metadata": {
    "execution": {
     "iopub.execute_input": "2025-05-14T11:40:44.217264Z",
     "iopub.status.busy": "2025-05-14T11:40:44.216569Z",
     "iopub.status.idle": "2025-05-14T11:40:44.220078Z",
     "shell.execute_reply": "2025-05-14T11:40:44.219517Z"
    },
    "papermill": {
     "duration": 0.025976,
     "end_time": "2025-05-14T11:40:44.221084",
     "exception": false,
     "start_time": "2025-05-14T11:40:44.195108",
     "status": "completed"
    },
    "tags": []
   },
   "outputs": [],
   "source": [
    "# print(\"Тип данных для LR:\", lr.predict(review_vector_test.todense().get()).dtype)\n",
    "# print(\"Тип данных для RF:\", rf.predict(review_vector_test.todense().get()).dtype)\n",
    "# print(\"Тип данных для SVC:\", svc.predict(review_vector_test.todense().get()).dtype)\n",
    "# print(\"Тип данных для MBSGD:\", mbsgd.predict(review_vector_test.todense().get()).dtype)\n",
    "# print(\"Тип данных для NB:\", nb.predict(review_vector_test.todense().get()).dtype)\n",
    "# print(\"Тип данных для KNN:\", knn.predict(review_vector_test.todense().get()).dtype)"
   ]
  },
  {
   "cell_type": "code",
   "execution_count": 62,
   "id": "7a85ef57",
   "metadata": {
    "execution": {
     "iopub.execute_input": "2025-05-14T11:40:44.263318Z",
     "iopub.status.busy": "2025-05-14T11:40:44.262637Z",
     "iopub.status.idle": "2025-05-14T11:40:45.203407Z",
     "shell.execute_reply": "2025-05-14T11:40:45.202761Z"
    },
    "papermill": {
     "duration": 0.963094,
     "end_time": "2025-05-14T11:40:45.204560",
     "exception": false,
     "start_time": "2025-05-14T11:40:44.241466",
     "status": "completed"
    },
    "tags": []
   },
   "outputs": [
    {
     "name": "stdout",
     "output_type": "stream",
     "text": [
      "Voting classifier:\n",
      "              precision    recall  f1-score   support\n",
      "\n",
      "           0       0.91      0.90      0.90      2001\n",
      "           1       0.90      0.92      0.91      2069\n",
      "\n",
      "    accuracy                           0.91      4070\n",
      "   macro avg       0.91      0.91      0.91      4070\n",
      "weighted avg       0.91      0.91      0.91      4070\n",
      "\n",
      "AUC: 0.9057350251891937\n"
     ]
    },
    {
     "data": {
      "image/png": "[encoded data removed]",
      "text/plain": [
       "<Figure size 1200x1200 with 2 Axes>"
      ]
     },
     "metadata": {},
     "output_type": "display_data"
    }
   ],
   "source": [
    "y_pred = voting_clf.predict(x_test_balanced.to_cupy().get())\n",
    "print('Voting classifier:')\n",
    "classification_report(y_test_balanced, y_pred)\n",
    "show_confusion_matrix(y_test_balanced, y_pred, 'Voting-классификатор')"
   ]
  },
  {
   "cell_type": "code",
   "execution_count": 63,
   "id": "167a773c",
   "metadata": {
    "execution": {
     "iopub.execute_input": "2025-05-14T11:40:45.249038Z",
     "iopub.status.busy": "2025-05-14T11:40:45.248798Z",
     "iopub.status.idle": "2025-05-14T11:40:45.259236Z",
     "shell.execute_reply": "2025-05-14T11:40:45.258488Z"
    },
    "papermill": {
     "duration": 0.033089,
     "end_time": "2025-05-14T11:40:45.260269",
     "exception": false,
     "start_time": "2025-05-14T11:40:45.227180",
     "status": "completed"
    },
    "tags": []
   },
   "outputs": [
    {
     "name": "stdout",
     "output_type": "stream",
     "text": [
      "\n",
      "    Accuracy:0.9059 \n",
      "    Precision:0.9010\n",
      "    Recall:0.9154\n",
      "    F1: 0.9082\n",
      "    AUC: 0.9057\n",
      "    \n",
      "    \n"
     ]
    }
   ],
   "source": [
    "show_classification_report(y_test_balanced, y_pred)"
   ]
  },
  {
   "cell_type": "markdown",
   "id": "18d07f03",
   "metadata": {
    "papermill": {
     "duration": 0.020511,
     "end_time": "2025-05-14T11:40:45.302375",
     "exception": false,
     "start_time": "2025-05-14T11:40:45.281864",
     "status": "completed"
    },
    "tags": []
   },
   "source": [
    "# Сохранение сбалансированного датасета в файл"
   ]
  },
  {
   "cell_type": "markdown",
   "id": "c2dd5d88",
   "metadata": {
    "papermill": {
     "duration": 0.020423,
     "end_time": "2025-05-14T11:40:45.343511",
     "exception": false,
     "start_time": "2025-05-14T11:40:45.323088",
     "status": "completed"
    },
    "tags": []
   },
   "source": [
    "## TF-IDF векторы "
   ]
  },
  {
   "cell_type": "code",
   "execution_count": 64,
   "id": "16eb2bda",
   "metadata": {
    "execution": {
     "iopub.execute_input": "2025-05-14T11:40:45.386010Z",
     "iopub.status.busy": "2025-05-14T11:40:45.385595Z",
     "iopub.status.idle": "2025-05-14T11:40:45.390194Z",
     "shell.execute_reply": "2025-05-14T11:40:45.389498Z"
    },
    "papermill": {
     "duration": 0.027354,
     "end_time": "2025-05-14T11:40:45.391404",
     "exception": false,
     "start_time": "2025-05-14T11:40:45.364050",
     "status": "completed"
    },
    "tags": []
   },
   "outputs": [
    {
     "data": {
      "text/plain": [
       "((16281, 1000), (16281,))"
      ]
     },
     "execution_count": 64,
     "metadata": {},
     "output_type": "execute_result"
    }
   ],
   "source": [
    "x_balanced.shape, y_balanced.shape"
   ]
  },
  {
   "cell_type": "code",
   "execution_count": 65,
   "id": "82548d53",
   "metadata": {
    "execution": {
     "iopub.execute_input": "2025-05-14T11:40:45.434086Z",
     "iopub.status.busy": "2025-05-14T11:40:45.433884Z",
     "iopub.status.idle": "2025-05-14T11:40:45.441890Z",
     "shell.execute_reply": "2025-05-14T11:40:45.441334Z"
    },
    "papermill": {
     "duration": 0.030357,
     "end_time": "2025-05-14T11:40:45.442838",
     "exception": false,
     "start_time": "2025-05-14T11:40:45.412481",
     "status": "completed"
    },
    "tags": []
   },
   "outputs": [
    {
     "data": {
      "text/plain": [
       "label\n",
       "0    8141\n",
       "1    8140\n",
       "Name: count, dtype: int64"
      ]
     },
     "execution_count": 65,
     "metadata": {},
     "output_type": "execute_result"
    }
   ],
   "source": [
    "y_balanced.value_counts()"
   ]
  },
  {
   "cell_type": "code",
   "execution_count": 66,
   "id": "465980e0",
   "metadata": {
    "execution": {
     "iopub.execute_input": "2025-05-14T11:40:45.486070Z",
     "iopub.status.busy": "2025-05-14T11:40:45.485865Z",
     "iopub.status.idle": "2025-05-14T11:40:45.740037Z",
     "shell.execute_reply": "2025-05-14T11:40:45.739227Z"
    },
    "papermill": {
     "duration": 0.27789,
     "end_time": "2025-05-14T11:40:45.742070",
     "exception": false,
     "start_time": "2025-05-14T11:40:45.464180",
     "status": "completed"
    },
    "tags": []
   },
   "outputs": [],
   "source": [
    "x_balanced.to_csv('yelp_chi_X_tf_idf_balanced.csv')"
   ]
  },
  {
   "cell_type": "code",
   "execution_count": 67,
   "id": "d93350b0",
   "metadata": {
    "execution": {
     "iopub.execute_input": "2025-05-14T11:40:45.786928Z",
     "iopub.status.busy": "2025-05-14T11:40:45.786666Z",
     "iopub.status.idle": "2025-05-14T11:40:45.815014Z",
     "shell.execute_reply": "2025-05-14T11:40:45.814452Z"
    },
    "papermill": {
     "duration": 0.051707,
     "end_time": "2025-05-14T11:40:45.816065",
     "exception": false,
     "start_time": "2025-05-14T11:40:45.764358",
     "status": "completed"
    },
    "tags": []
   },
   "outputs": [
    {
     "data": {
      "text/html": [
       "<div>\n",
       "<style scoped>\n",
       "    .dataframe tbody tr th:only-of-type {\n",
       "        vertical-align: middle;\n",
       "    }\n",
       "\n",
       "    .dataframe tbody tr th {\n",
       "        vertical-align: top;\n",
       "    }\n",
       "\n",
       "    .dataframe thead th {\n",
       "        text-align: right;\n",
       "    }\n",
       "</style>\n",
       "<table border=\"1\" class=\"dataframe\">\n",
       "  <thead>\n",
       "    <tr style=\"text-align: right;\">\n",
       "      <th></th>\n",
       "      <th>label</th>\n",
       "    </tr>\n",
       "  </thead>\n",
       "  <tbody>\n",
       "    <tr>\n",
       "      <th>42888</th>\n",
       "      <td>1</td>\n",
       "    </tr>\n",
       "    <tr>\n",
       "      <th>50187</th>\n",
       "      <td>1</td>\n",
       "    </tr>\n",
       "    <tr>\n",
       "      <th>27251</th>\n",
       "      <td>1</td>\n",
       "    </tr>\n",
       "    <tr>\n",
       "      <th>9986</th>\n",
       "      <td>1</td>\n",
       "    </tr>\n",
       "    <tr>\n",
       "      <th>27486</th>\n",
       "      <td>1</td>\n",
       "    </tr>\n",
       "    <tr>\n",
       "      <th>...</th>\n",
       "      <td>...</td>\n",
       "    </tr>\n",
       "    <tr>\n",
       "      <th>61408</th>\n",
       "      <td>0</td>\n",
       "    </tr>\n",
       "    <tr>\n",
       "      <th>61409</th>\n",
       "      <td>0</td>\n",
       "    </tr>\n",
       "    <tr>\n",
       "      <th>61410</th>\n",
       "      <td>0</td>\n",
       "    </tr>\n",
       "    <tr>\n",
       "      <th>61411</th>\n",
       "      <td>0</td>\n",
       "    </tr>\n",
       "    <tr>\n",
       "      <th>61412</th>\n",
       "      <td>0</td>\n",
       "    </tr>\n",
       "  </tbody>\n",
       "</table>\n",
       "<p>16281 rows × 1 columns</p>\n",
       "</div>"
      ],
      "text/plain": [
       "       label\n",
       "42888      1\n",
       "50187      1\n",
       "27251      1\n",
       "9986       1\n",
       "27486      1\n",
       "...      ...\n",
       "61408      0\n",
       "61409      0\n",
       "61410      0\n",
       "61411      0\n",
       "61412      0\n",
       "\n",
       "[16281 rows x 1 columns]"
      ]
     },
     "execution_count": 67,
     "metadata": {},
     "output_type": "execute_result"
    }
   ],
   "source": [
    "cudf.DataFrame(y_balanced)"
   ]
  },
  {
   "cell_type": "code",
   "execution_count": 68,
   "id": "18ae34ae",
   "metadata": {
    "execution": {
     "iopub.execute_input": "2025-05-14T11:40:45.859028Z",
     "iopub.status.busy": "2025-05-14T11:40:45.858810Z",
     "iopub.status.idle": "2025-05-14T11:40:45.864366Z",
     "shell.execute_reply": "2025-05-14T11:40:45.863886Z"
    },
    "papermill": {
     "duration": 0.028428,
     "end_time": "2025-05-14T11:40:45.865446",
     "exception": false,
     "start_time": "2025-05-14T11:40:45.837018",
     "status": "completed"
    },
    "tags": []
   },
   "outputs": [],
   "source": [
    "cudf.DataFrame(y_balanced).to_csv('yelp_chi_y_labels_balanced.csv')"
   ]
  },
  {
   "cell_type": "markdown",
   "id": "b2d56074",
   "metadata": {
    "papermill": {
     "duration": 0.021188,
     "end_time": "2025-05-14T11:40:45.908466",
     "exception": false,
     "start_time": "2025-05-14T11:40:45.887278",
     "status": "completed"
    },
    "tags": []
   },
   "source": [
    "## Выборка из исходного датафрейма"
   ]
  },
  {
   "cell_type": "code",
   "execution_count": 69,
   "id": "ff703fd0",
   "metadata": {
    "execution": {
     "iopub.execute_input": "2025-05-14T11:40:45.951984Z",
     "iopub.status.busy": "2025-05-14T11:40:45.951723Z",
     "iopub.status.idle": "2025-05-14T11:40:46.008882Z",
     "shell.execute_reply": "2025-05-14T11:40:46.008254Z"
    },
    "papermill": {
     "duration": 0.080001,
     "end_time": "2025-05-14T11:40:46.010051",
     "exception": false,
     "start_time": "2025-05-14T11:40:45.930050",
     "status": "completed"
    },
    "tags": []
   },
   "outputs": [
    {
     "data": {
      "text/html": [
       "<div>\n",
       "<style scoped>\n",
       "    .dataframe tbody tr th:only-of-type {\n",
       "        vertical-align: middle;\n",
       "    }\n",
       "\n",
       "    .dataframe tbody tr th {\n",
       "        vertical-align: top;\n",
       "    }\n",
       "\n",
       "    .dataframe thead th {\n",
       "        text-align: right;\n",
       "    }\n",
       "</style>\n",
       "<table border=\"1\" class=\"dataframe\">\n",
       "  <thead>\n",
       "    <tr style=\"text-align: right;\">\n",
       "      <th></th>\n",
       "      <th>Unnamed: 0</th>\n",
       "      <th>date</th>\n",
       "      <th>review_id</th>\n",
       "      <th>user_id</th>\n",
       "      <th>prod_id</th>\n",
       "      <th>label</th>\n",
       "      <th>useful</th>\n",
       "      <th>funny</th>\n",
       "      <th>cool</th>\n",
       "      <th>rating</th>\n",
       "      <th>review</th>\n",
       "    </tr>\n",
       "  </thead>\n",
       "  <tbody>\n",
       "    <tr>\n",
       "      <th>42888</th>\n",
       "      <td>42888</td>\n",
       "      <td>3/20/2011</td>\n",
       "      <td>VKnFAcl6qJiFIc-lDX-dIA</td>\n",
       "      <td>i7E48NFYrYduLu3x0baHVw</td>\n",
       "      <td>sDYjKyI_67eUhFAqVneYjA</td>\n",
       "      <td>1</td>\n",
       "      <td>2</td>\n",
       "      <td>0</td>\n",
       "      <td>1</td>\n",
       "      <td>4</td>\n",
       "      <td>fogo 2 go is a pretty solid pizza choice- and ...</td>\n",
       "    </tr>\n",
       "    <tr>\n",
       "      <th>50187</th>\n",
       "      <td>50187</td>\n",
       "      <td>8/8/2009</td>\n",
       "      <td>5FXsuSuRMNuA</td>\n",
       "      <td>xRJDiwMl_mlTgykx6gEARw</td>\n",
       "      <td>6gZTET0y7ARZMrbJRmI2mw</td>\n",
       "      <td>1</td>\n",
       "      <td>0</td>\n",
       "      <td>0</td>\n",
       "      <td>0</td>\n",
       "      <td>4</td>\n",
       "      <td>I sat in a bar and drank a Mickey's Grenade. I...</td>\n",
       "    </tr>\n",
       "    <tr>\n",
       "      <th>27251</th>\n",
       "      <td>27251</td>\n",
       "      <td>6/4/2009</td>\n",
       "      <td>qX5XcNpCsrkTp4U5r9Vt</td>\n",
       "      <td>3MpDvy5gEdsbZh9-p92dHg</td>\n",
       "      <td>cQnY_VneZisfUAqcbuEuKg</td>\n",
       "      <td>1</td>\n",
       "      <td>1</td>\n",
       "      <td>0</td>\n",
       "      <td>1</td>\n",
       "      <td>4</td>\n",
       "      <td>I have mixed feelings about Pequods. Every now...</td>\n",
       "    </tr>\n",
       "    <tr>\n",
       "      <th>9986</th>\n",
       "      <td>9986</td>\n",
       "      <td>3/25/2012</td>\n",
       "      <td>IElm86QnE9atMKCcnGHD3w</td>\n",
       "      <td>wWNRGu_q7Sien8SgoabE4g</td>\n",
       "      <td>JMa9cTNQA5mm4GbR2W8Oiw</td>\n",
       "      <td>1</td>\n",
       "      <td>0</td>\n",
       "      <td>0</td>\n",
       "      <td>1</td>\n",
       "      <td>5</td>\n",
       "      <td>Pizza? Craft Beer? Hipsters? Check, check, aaa...</td>\n",
       "    </tr>\n",
       "    <tr>\n",
       "      <th>27486</th>\n",
       "      <td>27486</td>\n",
       "      <td>9/19/2010</td>\n",
       "      <td>MHlH2ub5tWnyAmbuIKvA5g</td>\n",
       "      <td>ZHcDBcelF2HobBBhHGxEHQ</td>\n",
       "      <td>cQnY_VneZisfUAqcbuEuKg</td>\n",
       "      <td>1</td>\n",
       "      <td>2</td>\n",
       "      <td>0</td>\n",
       "      <td>2</td>\n",
       "      <td>1</td>\n",
       "      <td>Since I've relocated from upstate New York to ...</td>\n",
       "    </tr>\n",
       "    <tr>\n",
       "      <th>...</th>\n",
       "      <td>...</td>\n",
       "      <td>...</td>\n",
       "      <td>...</td>\n",
       "      <td>...</td>\n",
       "      <td>...</td>\n",
       "      <td>...</td>\n",
       "      <td>...</td>\n",
       "      <td>...</td>\n",
       "      <td>...</td>\n",
       "      <td>...</td>\n",
       "      <td>...</td>\n",
       "    </tr>\n",
       "    <tr>\n",
       "      <th>47712</th>\n",
       "      <td>47712</td>\n",
       "      <td>8/25/2010</td>\n",
       "      <td>jGbgfF3DauuS0UHuOPHhsA</td>\n",
       "      <td>uZmTu3k96zztq0KYIenZXQ</td>\n",
       "      <td>d6UbRb9W5eA1yL-DuVZ8ug</td>\n",
       "      <td>1</td>\n",
       "      <td>0</td>\n",
       "      <td>0</td>\n",
       "      <td>1</td>\n",
       "      <td>5</td>\n",
       "      <td>My husband and I got married on July 10, 2011 ...</td>\n",
       "    </tr>\n",
       "    <tr>\n",
       "      <th>41953</th>\n",
       "      <td>41953</td>\n",
       "      <td>8/20/2012</td>\n",
       "      <td>FD2i</td>\n",
       "      <td>6VKK6L4BP4rQqKYZSkL1eg</td>\n",
       "      <td>tW2jfL-qMccAYZSghPBbHA</td>\n",
       "      <td>1</td>\n",
       "      <td>0</td>\n",
       "      <td>0</td>\n",
       "      <td>1</td>\n",
       "      <td>5</td>\n",
       "      <td>The best Chicago style pizza I ever had! This ...</td>\n",
       "    </tr>\n",
       "    <tr>\n",
       "      <th>7848</th>\n",
       "      <td>7848</td>\n",
       "      <td>6/5/2011</td>\n",
       "      <td>l9iwr6BlN-X4XbV</td>\n",
       "      <td>fJu2zEi0_5vhXqOtUK6wdA</td>\n",
       "      <td>43rd1LKcZRIunySzbMsyLQ</td>\n",
       "      <td>1</td>\n",
       "      <td>0</td>\n",
       "      <td>0</td>\n",
       "      <td>0</td>\n",
       "      <td>5</td>\n",
       "      <td>Spacca Napoli is my go-to neighborhood restaur...</td>\n",
       "    </tr>\n",
       "    <tr>\n",
       "      <th>28728</th>\n",
       "      <td>28728</td>\n",
       "      <td>9/13/2009</td>\n",
       "      <td>G61zWTnE6EwXSctWOGhcWA</td>\n",
       "      <td>bQxvdzxQGFgTfp-kYznOfA</td>\n",
       "      <td>AqgG-1aD6JYj9D6OmBWO3w</td>\n",
       "      <td>1</td>\n",
       "      <td>0</td>\n",
       "      <td>0</td>\n",
       "      <td>0</td>\n",
       "      <td>5</td>\n",
       "      <td>Best pizza I have ever had. I had to start tal...</td>\n",
       "    </tr>\n",
       "    <tr>\n",
       "      <th>11043</th>\n",
       "      <td>11043</td>\n",
       "      <td>2/10/2008</td>\n",
       "      <td>S39SVbcd020pC53F6WMWSg</td>\n",
       "      <td>yMASuktrWfWq7MLdLD1VjA</td>\n",
       "      <td>_b69OdBNLhysN1jFlYNQiA</td>\n",
       "      <td>1</td>\n",
       "      <td>1</td>\n",
       "      <td>0</td>\n",
       "      <td>2</td>\n",
       "      <td>4</td>\n",
       "      <td>The chocolate pizza. That is all I can remembe...</td>\n",
       "    </tr>\n",
       "  </tbody>\n",
       "</table>\n",
       "<p>8140 rows × 11 columns</p>\n",
       "</div>"
      ],
      "text/plain": [
       "       Unnamed: 0       date               review_id                 user_id  \\\n",
       "42888       42888  3/20/2011  VKnFAcl6qJiFIc-lDX-dIA  i7E48NFYrYduLu3x0baHVw   \n",
       "50187       50187   8/8/2009            5FXsuSuRMNuA  xRJDiwMl_mlTgykx6gEARw   \n",
       "27251       27251   6/4/2009    qX5XcNpCsrkTp4U5r9Vt  3MpDvy5gEdsbZh9-p92dHg   \n",
       "9986         9986  3/25/2012  IElm86QnE9atMKCcnGHD3w  wWNRGu_q7Sien8SgoabE4g   \n",
       "27486       27486  9/19/2010  MHlH2ub5tWnyAmbuIKvA5g  ZHcDBcelF2HobBBhHGxEHQ   \n",
       "...           ...        ...                     ...                     ...   \n",
       "47712       47712  8/25/2010  jGbgfF3DauuS0UHuOPHhsA  uZmTu3k96zztq0KYIenZXQ   \n",
       "41953       41953  8/20/2012                    FD2i  6VKK6L4BP4rQqKYZSkL1eg   \n",
       "7848         7848   6/5/2011         l9iwr6BlN-X4XbV  fJu2zEi0_5vhXqOtUK6wdA   \n",
       "28728       28728  9/13/2009  G61zWTnE6EwXSctWOGhcWA  bQxvdzxQGFgTfp-kYznOfA   \n",
       "11043       11043  2/10/2008  S39SVbcd020pC53F6WMWSg  yMASuktrWfWq7MLdLD1VjA   \n",
       "\n",
       "                      prod_id  label  useful  funny  cool  rating  \\\n",
       "42888  sDYjKyI_67eUhFAqVneYjA      1       2      0     1       4   \n",
       "50187  6gZTET0y7ARZMrbJRmI2mw      1       0      0     0       4   \n",
       "27251  cQnY_VneZisfUAqcbuEuKg      1       1      0     1       4   \n",
       "9986   JMa9cTNQA5mm4GbR2W8Oiw      1       0      0     1       5   \n",
       "27486  cQnY_VneZisfUAqcbuEuKg      1       2      0     2       1   \n",
       "...                       ...    ...     ...    ...   ...     ...   \n",
       "47712  d6UbRb9W5eA1yL-DuVZ8ug      1       0      0     1       5   \n",
       "41953  tW2jfL-qMccAYZSghPBbHA      1       0      0     1       5   \n",
       "7848   43rd1LKcZRIunySzbMsyLQ      1       0      0     0       5   \n",
       "28728  AqgG-1aD6JYj9D6OmBWO3w      1       0      0     0       5   \n",
       "11043  _b69OdBNLhysN1jFlYNQiA      1       1      0     2       4   \n",
       "\n",
       "                                                  review  \n",
       "42888  fogo 2 go is a pretty solid pizza choice- and ...  \n",
       "50187  I sat in a bar and drank a Mickey's Grenade. I...  \n",
       "27251  I have mixed feelings about Pequods. Every now...  \n",
       "9986   Pizza? Craft Beer? Hipsters? Check, check, aaa...  \n",
       "27486  Since I've relocated from upstate New York to ...  \n",
       "...                                                  ...  \n",
       "47712  My husband and I got married on July 10, 2011 ...  \n",
       "41953  The best Chicago style pizza I ever had! This ...  \n",
       "7848   Spacca Napoli is my go-to neighborhood restaur...  \n",
       "28728  Best pizza I have ever had. I had to start tal...  \n",
       "11043  The chocolate pizza. That is all I can remembe...  \n",
       "\n",
       "[8140 rows x 11 columns]"
      ]
     },
     "execution_count": 69,
     "metadata": {},
     "output_type": "execute_result"
    }
   ],
   "source": [
    "balanced_origin_df = df_origin.loc[df_indices]\n",
    "balanced_origin_df"
   ]
  },
  {
   "cell_type": "code",
   "execution_count": 70,
   "id": "7398918f",
   "metadata": {
    "execution": {
     "iopub.execute_input": "2025-05-14T11:40:46.053148Z",
     "iopub.status.busy": "2025-05-14T11:40:46.052943Z",
     "iopub.status.idle": "2025-05-14T11:40:46.061474Z",
     "shell.execute_reply": "2025-05-14T11:40:46.060964Z"
    },
    "papermill": {
     "duration": 0.030619,
     "end_time": "2025-05-14T11:40:46.062432",
     "exception": false,
     "start_time": "2025-05-14T11:40:46.031813",
     "status": "completed"
    },
    "tags": []
   },
   "outputs": [
    {
     "data": {
      "text/plain": [
       "label\n",
       "1    8140\n",
       "Name: count, dtype: int64"
      ]
     },
     "execution_count": 70,
     "metadata": {},
     "output_type": "execute_result"
    }
   ],
   "source": [
    "balanced_origin_df['label'].value_counts()"
   ]
  },
  {
   "cell_type": "code",
   "execution_count": 71,
   "id": "a5cd5727",
   "metadata": {
    "execution": {
     "iopub.execute_input": "2025-05-14T11:40:46.107339Z",
     "iopub.status.busy": "2025-05-14T11:40:46.107139Z",
     "iopub.status.idle": "2025-05-14T11:40:46.113831Z",
     "shell.execute_reply": "2025-05-14T11:40:46.113134Z"
    },
    "papermill": {
     "duration": 0.029592,
     "end_time": "2025-05-14T11:40:46.114985",
     "exception": false,
     "start_time": "2025-05-14T11:40:46.085393",
     "status": "completed"
    },
    "tags": []
   },
   "outputs": [],
   "source": [
    "origin_fake = df_origin[df_origin['label'] == -1]"
   ]
  },
  {
   "cell_type": "code",
   "execution_count": 72,
   "id": "8f5221f4",
   "metadata": {
    "execution": {
     "iopub.execute_input": "2025-05-14T11:40:46.156059Z",
     "iopub.status.busy": "2025-05-14T11:40:46.155631Z",
     "iopub.status.idle": "2025-05-14T11:40:46.206765Z",
     "shell.execute_reply": "2025-05-14T11:40:46.206216Z"
    },
    "papermill": {
     "duration": 0.072915,
     "end_time": "2025-05-14T11:40:46.207782",
     "exception": false,
     "start_time": "2025-05-14T11:40:46.134867",
     "status": "completed"
    },
    "tags": []
   },
   "outputs": [
    {
     "data": {
      "text/html": [
       "<div>\n",
       "<style scoped>\n",
       "    .dataframe tbody tr th:only-of-type {\n",
       "        vertical-align: middle;\n",
       "    }\n",
       "\n",
       "    .dataframe tbody tr th {\n",
       "        vertical-align: top;\n",
       "    }\n",
       "\n",
       "    .dataframe thead th {\n",
       "        text-align: right;\n",
       "    }\n",
       "</style>\n",
       "<table border=\"1\" class=\"dataframe\">\n",
       "  <thead>\n",
       "    <tr style=\"text-align: right;\">\n",
       "      <th></th>\n",
       "      <th>Unnamed: 0</th>\n",
       "      <th>date</th>\n",
       "      <th>review_id</th>\n",
       "      <th>user_id</th>\n",
       "      <th>prod_id</th>\n",
       "      <th>label</th>\n",
       "      <th>useful</th>\n",
       "      <th>funny</th>\n",
       "      <th>cool</th>\n",
       "      <th>rating</th>\n",
       "      <th>review</th>\n",
       "    </tr>\n",
       "  </thead>\n",
       "  <tbody>\n",
       "    <tr>\n",
       "      <th>42888</th>\n",
       "      <td>42888</td>\n",
       "      <td>3/20/2011</td>\n",
       "      <td>VKnFAcl6qJiFIc-lDX-dIA</td>\n",
       "      <td>i7E48NFYrYduLu3x0baHVw</td>\n",
       "      <td>sDYjKyI_67eUhFAqVneYjA</td>\n",
       "      <td>1</td>\n",
       "      <td>2</td>\n",
       "      <td>0</td>\n",
       "      <td>1</td>\n",
       "      <td>4</td>\n",
       "      <td>fogo 2 go is a pretty solid pizza choice- and ...</td>\n",
       "    </tr>\n",
       "    <tr>\n",
       "      <th>50187</th>\n",
       "      <td>50187</td>\n",
       "      <td>8/8/2009</td>\n",
       "      <td>5FXsuSuRMNuA</td>\n",
       "      <td>xRJDiwMl_mlTgykx6gEARw</td>\n",
       "      <td>6gZTET0y7ARZMrbJRmI2mw</td>\n",
       "      <td>1</td>\n",
       "      <td>0</td>\n",
       "      <td>0</td>\n",
       "      <td>0</td>\n",
       "      <td>4</td>\n",
       "      <td>I sat in a bar and drank a Mickey's Grenade. I...</td>\n",
       "    </tr>\n",
       "    <tr>\n",
       "      <th>27251</th>\n",
       "      <td>27251</td>\n",
       "      <td>6/4/2009</td>\n",
       "      <td>qX5XcNpCsrkTp4U5r9Vt</td>\n",
       "      <td>3MpDvy5gEdsbZh9-p92dHg</td>\n",
       "      <td>cQnY_VneZisfUAqcbuEuKg</td>\n",
       "      <td>1</td>\n",
       "      <td>1</td>\n",
       "      <td>0</td>\n",
       "      <td>1</td>\n",
       "      <td>4</td>\n",
       "      <td>I have mixed feelings about Pequods. Every now...</td>\n",
       "    </tr>\n",
       "    <tr>\n",
       "      <th>9986</th>\n",
       "      <td>9986</td>\n",
       "      <td>3/25/2012</td>\n",
       "      <td>IElm86QnE9atMKCcnGHD3w</td>\n",
       "      <td>wWNRGu_q7Sien8SgoabE4g</td>\n",
       "      <td>JMa9cTNQA5mm4GbR2W8Oiw</td>\n",
       "      <td>1</td>\n",
       "      <td>0</td>\n",
       "      <td>0</td>\n",
       "      <td>1</td>\n",
       "      <td>5</td>\n",
       "      <td>Pizza? Craft Beer? Hipsters? Check, check, aaa...</td>\n",
       "    </tr>\n",
       "    <tr>\n",
       "      <th>27486</th>\n",
       "      <td>27486</td>\n",
       "      <td>9/19/2010</td>\n",
       "      <td>MHlH2ub5tWnyAmbuIKvA5g</td>\n",
       "      <td>ZHcDBcelF2HobBBhHGxEHQ</td>\n",
       "      <td>cQnY_VneZisfUAqcbuEuKg</td>\n",
       "      <td>1</td>\n",
       "      <td>2</td>\n",
       "      <td>0</td>\n",
       "      <td>2</td>\n",
       "      <td>1</td>\n",
       "      <td>Since I've relocated from upstate New York to ...</td>\n",
       "    </tr>\n",
       "    <tr>\n",
       "      <th>...</th>\n",
       "      <td>...</td>\n",
       "      <td>...</td>\n",
       "      <td>...</td>\n",
       "      <td>...</td>\n",
       "      <td>...</td>\n",
       "      <td>...</td>\n",
       "      <td>...</td>\n",
       "      <td>...</td>\n",
       "      <td>...</td>\n",
       "      <td>...</td>\n",
       "      <td>...</td>\n",
       "    </tr>\n",
       "    <tr>\n",
       "      <th>61408</th>\n",
       "      <td>61408</td>\n",
       "      <td>3/2/2012</td>\n",
       "      <td>Hr0bENBZzznWhYGKSSEEJA</td>\n",
       "      <td>i2Th0Zskb4Ry_aVZQMIR_Q</td>\n",
       "      <td>mCHto10PBQOKnefm7gholg</td>\n",
       "      <td>-1</td>\n",
       "      <td>0</td>\n",
       "      <td>0</td>\n",
       "      <td>0</td>\n",
       "      <td>5</td>\n",
       "      <td>Great food and good service. It's BYOB, so bri...</td>\n",
       "    </tr>\n",
       "    <tr>\n",
       "      <th>61409</th>\n",
       "      <td>61409</td>\n",
       "      <td>2/18/2012</td>\n",
       "      <td>qGvPCsS3krxl5O5fo9Qasw</td>\n",
       "      <td>UqTtumV5SGzzW2gtJc-fNg</td>\n",
       "      <td>mCHto10PBQOKnefm7gholg</td>\n",
       "      <td>-1</td>\n",
       "      <td>0</td>\n",
       "      <td>0</td>\n",
       "      <td>0</td>\n",
       "      <td>1</td>\n",
       "      <td>This is a must dine restaurant. After we saw t...</td>\n",
       "    </tr>\n",
       "    <tr>\n",
       "      <th>61410</th>\n",
       "      <td>61410</td>\n",
       "      <td>12/31/2011</td>\n",
       "      <td>znZdvMF_Q-rCT3ih3-AQAg</td>\n",
       "      <td>Y-yZy5TWmWrC6mlY_BaseQ</td>\n",
       "      <td>mCHto10PBQOKnefm7gholg</td>\n",
       "      <td>-1</td>\n",
       "      <td>0</td>\n",
       "      <td>0</td>\n",
       "      <td>0</td>\n",
       "      <td>5</td>\n",
       "      <td>I came here about 5 times and the food is alwa...</td>\n",
       "    </tr>\n",
       "    <tr>\n",
       "      <th>61411</th>\n",
       "      <td>61411</td>\n",
       "      <td>12/17/2011</td>\n",
       "      <td>tgbjSaEGOGyV6q1y13Mi8Q</td>\n",
       "      <td>Yva1UlQvZ-MGfJEQMWrk8Q</td>\n",
       "      <td>mCHto10PBQOKnefm7gholg</td>\n",
       "      <td>-1</td>\n",
       "      <td>0</td>\n",
       "      <td>0</td>\n",
       "      <td>0</td>\n",
       "      <td>5</td>\n",
       "      <td>So delicious! Ordered this in and got yellow c...</td>\n",
       "    </tr>\n",
       "    <tr>\n",
       "      <th>61412</th>\n",
       "      <td>61412</td>\n",
       "      <td>9/2/2011</td>\n",
       "      <td>InWZPBG72GkTXlffEIRM6A</td>\n",
       "      <td>JxRoSYDX_18vTEPnyLaupw</td>\n",
       "      <td>mCHto10PBQOKnefm7gholg</td>\n",
       "      <td>-1</td>\n",
       "      <td>0</td>\n",
       "      <td>0</td>\n",
       "      <td>0</td>\n",
       "      <td>4</td>\n",
       "      <td>this popped up in my old neighborhood so we ch...</td>\n",
       "    </tr>\n",
       "  </tbody>\n",
       "</table>\n",
       "<p>16281 rows × 11 columns</p>\n",
       "</div>"
      ],
      "text/plain": [
       "       Unnamed: 0        date               review_id                 user_id  \\\n",
       "42888       42888   3/20/2011  VKnFAcl6qJiFIc-lDX-dIA  i7E48NFYrYduLu3x0baHVw   \n",
       "50187       50187    8/8/2009            5FXsuSuRMNuA  xRJDiwMl_mlTgykx6gEARw   \n",
       "27251       27251    6/4/2009    qX5XcNpCsrkTp4U5r9Vt  3MpDvy5gEdsbZh9-p92dHg   \n",
       "9986         9986   3/25/2012  IElm86QnE9atMKCcnGHD3w  wWNRGu_q7Sien8SgoabE4g   \n",
       "27486       27486   9/19/2010  MHlH2ub5tWnyAmbuIKvA5g  ZHcDBcelF2HobBBhHGxEHQ   \n",
       "...           ...         ...                     ...                     ...   \n",
       "61408       61408    3/2/2012  Hr0bENBZzznWhYGKSSEEJA  i2Th0Zskb4Ry_aVZQMIR_Q   \n",
       "61409       61409   2/18/2012  qGvPCsS3krxl5O5fo9Qasw  UqTtumV5SGzzW2gtJc-fNg   \n",
       "61410       61410  12/31/2011  znZdvMF_Q-rCT3ih3-AQAg  Y-yZy5TWmWrC6mlY_BaseQ   \n",
       "61411       61411  12/17/2011  tgbjSaEGOGyV6q1y13Mi8Q  Yva1UlQvZ-MGfJEQMWrk8Q   \n",
       "61412       61412    9/2/2011  InWZPBG72GkTXlffEIRM6A  JxRoSYDX_18vTEPnyLaupw   \n",
       "\n",
       "                      prod_id  label  useful  funny  cool  rating  \\\n",
       "42888  sDYjKyI_67eUhFAqVneYjA      1       2      0     1       4   \n",
       "50187  6gZTET0y7ARZMrbJRmI2mw      1       0      0     0       4   \n",
       "27251  cQnY_VneZisfUAqcbuEuKg      1       1      0     1       4   \n",
       "9986   JMa9cTNQA5mm4GbR2W8Oiw      1       0      0     1       5   \n",
       "27486  cQnY_VneZisfUAqcbuEuKg      1       2      0     2       1   \n",
       "...                       ...    ...     ...    ...   ...     ...   \n",
       "61408  mCHto10PBQOKnefm7gholg     -1       0      0     0       5   \n",
       "61409  mCHto10PBQOKnefm7gholg     -1       0      0     0       1   \n",
       "61410  mCHto10PBQOKnefm7gholg     -1       0      0     0       5   \n",
       "61411  mCHto10PBQOKnefm7gholg     -1       0      0     0       5   \n",
       "61412  mCHto10PBQOKnefm7gholg     -1       0      0     0       4   \n",
       "\n",
       "                                                  review  \n",
       "42888  fogo 2 go is a pretty solid pizza choice- and ...  \n",
       "50187  I sat in a bar and drank a Mickey's Grenade. I...  \n",
       "27251  I have mixed feelings about Pequods. Every now...  \n",
       "9986   Pizza? Craft Beer? Hipsters? Check, check, aaa...  \n",
       "27486  Since I've relocated from upstate New York to ...  \n",
       "...                                                  ...  \n",
       "61408  Great food and good service. It's BYOB, so bri...  \n",
       "61409  This is a must dine restaurant. After we saw t...  \n",
       "61410  I came here about 5 times and the food is alwa...  \n",
       "61411  So delicious! Ordered this in and got yellow c...  \n",
       "61412  this popped up in my old neighborhood so we ch...  \n",
       "\n",
       "[16281 rows x 11 columns]"
      ]
     },
     "execution_count": 72,
     "metadata": {},
     "output_type": "execute_result"
    }
   ],
   "source": [
    "balanced_origin_df=  cudf.concat([balanced_origin_df, origin_fake], axis=0)\n",
    "balanced_origin_df"
   ]
  },
  {
   "cell_type": "code",
   "execution_count": 73,
   "id": "ce69ad53",
   "metadata": {
    "execution": {
     "iopub.execute_input": "2025-05-14T11:40:46.249246Z",
     "iopub.status.busy": "2025-05-14T11:40:46.249042Z",
     "iopub.status.idle": "2025-05-14T11:40:46.290462Z",
     "shell.execute_reply": "2025-05-14T11:40:46.289775Z"
    },
    "papermill": {
     "duration": 0.06424,
     "end_time": "2025-05-14T11:40:46.292178",
     "exception": false,
     "start_time": "2025-05-14T11:40:46.227938",
     "status": "completed"
    },
    "tags": []
   },
   "outputs": [],
   "source": [
    "balanced_origin_df.to_csv('yelp_chi_kmeans_balancing.csv')"
   ]
  }
 ],
 "metadata": {
  "kaggle": {
   "accelerator": "nvidiaTeslaT4",
   "dataSources": [
    {
     "datasetId": 7104493,
     "sourceId": 11353180,
     "sourceType": "datasetVersion"
    }
   ],
   "isGpuEnabled": true,
   "isInternetEnabled": true,
   "language": "python",
   "sourceType": "notebook"
  },
  "kernelspec": {
   "display_name": "Python 3",
   "language": "python",
   "name": "python3"
  },
  "language_info": {
   "codemirror_mode": {
    "name": "ipython",
    "version": 3
   },
   "file_extension": ".py",
   "mimetype": "text/x-python",
   "name": "python",
   "nbconvert_exporter": "python",
   "pygments_lexer": "ipython3",
   "version": "3.11.11"
  },
  "papermill": {
   "default_parameters": {},
   "duration": 164.352273,
   "end_time": "2025-05-14T11:40:49.257154",
   "environment_variables": {},
   "exception": null,
   "input_path": "__notebook__.ipynb",
   "output_path": "__notebook__.ipynb",
   "parameters": {},
   "start_time": "2025-05-14T11:38:04.904881",
   "version": "2.6.0"
  }
 },
 "nbformat": 4,
 "nbformat_minor": 5
}
